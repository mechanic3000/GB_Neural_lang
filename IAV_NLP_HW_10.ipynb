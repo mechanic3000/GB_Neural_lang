{
  "nbformat": 4,
  "nbformat_minor": 0,
  "metadata": {
    "accelerator": "GPU",
    "colab": {
      "provenance": []
    },
    "kernelspec": {
      "display_name": "Python 3",
      "name": "python3"
    }
  },
  "cells": [
    {
      "cell_type": "markdown",
      "metadata": {
        "id": "J0Qjg6vuaHNt"
      },
      "source": [
        "# Neural machine translation"
      ]
    },
    {
      "cell_type": "code",
      "metadata": {
        "id": "tnxXKDjq3jEL"
      },
      "source": [
        "import tensorflow as tf\n",
        "\n",
        "import matplotlib.pyplot as plt\n",
        "import matplotlib.ticker as ticker\n",
        "from sklearn.model_selection import train_test_split\n",
        "\n",
        "import unicodedata\n",
        "import re\n",
        "import numpy as np\n",
        "import os\n",
        "import io\n",
        "import time"
      ],
      "execution_count": 1,
      "outputs": []
    },
    {
      "cell_type": "markdown",
      "metadata": {
        "id": "wfodePkj3jEa"
      },
      "source": [
        "## Download and prepare the dataset\n",
        "\n",
        "We'll use a language dataset provided by http://www.manythings.org/anki/"
      ]
    },
    {
      "cell_type": "code",
      "metadata": {
        "id": "CNvjhDyAKk3U",
        "colab": {
          "base_uri": "https://localhost:8080/"
        },
        "outputId": "ed364a49-f6df-4eac-f1bb-6a5754109659"
      },
      "source": [
        "!wget http://www.manythings.org/anki/rus-eng.zip"
      ],
      "execution_count": 2,
      "outputs": [
        {
          "output_type": "stream",
          "name": "stdout",
          "text": [
            "--2023-05-28 10:46:56--  http://www.manythings.org/anki/rus-eng.zip\n",
            "Resolving www.manythings.org (www.manythings.org)... 173.254.30.110\n",
            "Connecting to www.manythings.org (www.manythings.org)|173.254.30.110|:80... connected.\n",
            "HTTP request sent, awaiting response... 200 OK\n",
            "Length: 15460248 (15M) [application/zip]\n",
            "Saving to: ‘rus-eng.zip’\n",
            "\n",
            "rus-eng.zip         100%[===================>]  14.74M  9.87MB/s    in 1.5s    \n",
            "\n",
            "2023-05-28 10:46:58 (9.87 MB/s) - ‘rus-eng.zip’ saved [15460248/15460248]\n",
            "\n"
          ]
        }
      ]
    },
    {
      "cell_type": "code",
      "metadata": {
        "id": "83bg17Lr-7XK",
        "colab": {
          "base_uri": "https://localhost:8080/"
        },
        "outputId": "ba062be7-1f5b-4240-d992-1d5ae9f99675"
      },
      "source": [
        "!mkdir rus-eng\n",
        "!unzip rus-eng.zip -d rus-eng/"
      ],
      "execution_count": 3,
      "outputs": [
        {
          "output_type": "stream",
          "name": "stdout",
          "text": [
            "Archive:  rus-eng.zip\n",
            "  inflating: rus-eng/rus.txt         \n",
            "  inflating: rus-eng/_about.txt      \n"
          ]
        }
      ]
    },
    {
      "cell_type": "code",
      "metadata": {
        "id": "7o5L92efMMhf",
        "colab": {
          "base_uri": "https://localhost:8080/"
        },
        "outputId": "8d8c4b33-e7d4-4943-eca0-d345bc6d09f2"
      },
      "source": [
        "!ls /content/rus-eng/ -lah"
      ],
      "execution_count": 4,
      "outputs": [
        {
          "output_type": "stream",
          "name": "stdout",
          "text": [
            "total 74M\n",
            "drwxr-xr-x 2 root root 4.0K May 28 10:47 .\n",
            "drwxr-xr-x 1 root root 4.0K May 28 10:47 ..\n",
            "-rw-r--r-- 1 root root 1.5K Apr  2 03:16 _about.txt\n",
            "-rw-r--r-- 1 root root  74M Apr  2 03:16 rus.txt\n"
          ]
        }
      ]
    },
    {
      "cell_type": "code",
      "metadata": {
        "id": "kRVATYOgJs1b"
      },
      "source": [
        "# Download the file\n",
        "path_to_file = \"/content/rus-eng/rus.txt\""
      ],
      "execution_count": 5,
      "outputs": []
    },
    {
      "cell_type": "code",
      "metadata": {
        "id": "rd0jw-eC3jEh"
      },
      "source": [
        "def preprocess_sentence(w):\n",
        "  w = w.lower().strip()\n",
        "\n",
        "  # creating a space between a word and the punctuation following it\n",
        "  # eg: \"he is a boy.\" => \"he is a boy .\"\n",
        "  # Reference:- https://stackoverflow.com/questions/3645931/python-padding-punctuation-with-white-spaces-keeping-punctuation\n",
        "  w = re.sub(r\"([?.!,])\", r\" \\1 \", w)\n",
        "  w = re.sub(r'[\" \"]+', \" \", w)\n",
        "\n",
        "  # replacing everything with space except (a-z, A-Z, \".\", \"?\", \"!\", \",\")\n",
        "  w = re.sub(r\"[^a-zA-Zа-яА-Я?.!,']+\", \" \", w)\n",
        "\n",
        "  w = w.strip()\n",
        "\n",
        "  # adding a start and an end token to the sentence\n",
        "  # so that the model know when to start and stop predicting.\n",
        "  w = '<start> ' + w + ' <end>'\n",
        "  return w"
      ],
      "execution_count": 6,
      "outputs": []
    },
    {
      "cell_type": "code",
      "metadata": {
        "id": "yV9lZXQXNbnH",
        "colab": {
          "base_uri": "https://localhost:8080/",
          "height": 36
        },
        "outputId": "07c5ffdb-679e-48a0-b192-b508fca42449"
      },
      "source": [
        "preprocess_sentence(\"I can't go.\")"
      ],
      "execution_count": 7,
      "outputs": [
        {
          "output_type": "execute_result",
          "data": {
            "text/plain": [
              "\"<start> i can't go . <end>\""
            ],
            "application/vnd.google.colaboratory.intrinsic+json": {
              "type": "string"
            }
          },
          "metadata": {},
          "execution_count": 7
        }
      ]
    },
    {
      "cell_type": "code",
      "metadata": {
        "id": "OHn4Dct23jEm"
      },
      "source": [
        "# 1. Remove the accents\n",
        "# 2. Clean the sentences\n",
        "# 3. Return word pairs in the format: [ENG, RUS]\n",
        "def create_dataset(path, num_examples):\n",
        "  lines = io.open(path, encoding='UTF-8').read().strip().split('\\n')\n",
        "\n",
        "  word_pairs = [[preprocess_sentence(w) for w in l.split('\\t')[:2]]  for l in lines[:num_examples]]\n",
        "\n",
        "  return zip(*word_pairs)"
      ],
      "execution_count": 8,
      "outputs": []
    },
    {
      "cell_type": "code",
      "metadata": {
        "id": "cTbSbBz55QtF",
        "colab": {
          "base_uri": "https://localhost:8080/"
        },
        "outputId": "c504c299-76c2-448e-d5ba-c217884bb07c"
      },
      "source": [
        "en, ru = create_dataset(path_to_file, None)\n",
        "print(en[0])\n",
        "print(ru[0])"
      ],
      "execution_count": 9,
      "outputs": [
        {
          "output_type": "stream",
          "name": "stdout",
          "text": [
            "<start> go . <end>\n",
            "<start> марш ! <end>\n"
          ]
        }
      ]
    },
    {
      "cell_type": "code",
      "metadata": {
        "id": "bIOn8RCNDJXG"
      },
      "source": [
        "def tokenize(lang):\n",
        "  lang_tokenizer = tf.keras.preprocessing.text.Tokenizer(\n",
        "      filters='')\n",
        "  lang_tokenizer.fit_on_texts(lang)\n",
        "\n",
        "  tensor = lang_tokenizer.texts_to_sequences(lang)\n",
        "\n",
        "  tensor = tf.keras.preprocessing.sequence.pad_sequences(tensor,\n",
        "                                                         padding='post')\n",
        "\n",
        "  return tensor, lang_tokenizer"
      ],
      "execution_count": 10,
      "outputs": []
    },
    {
      "cell_type": "code",
      "metadata": {
        "id": "eAY9k49G3jE_"
      },
      "source": [
        "def load_dataset(path, num_examples=None):\n",
        "  # creating cleaned input, output pairs\n",
        "  targ_lang, inp_lang = create_dataset(path, num_examples)\n",
        "\n",
        "  input_tensor, inp_lang_tokenizer = tokenize(inp_lang)\n",
        "  target_tensor, targ_lang_tokenizer = tokenize(targ_lang)\n",
        "\n",
        "  return input_tensor, target_tensor, inp_lang_tokenizer, targ_lang_tokenizer"
      ],
      "execution_count": 11,
      "outputs": []
    },
    {
      "cell_type": "markdown",
      "metadata": {
        "id": "GOi42V79Ydlr"
      },
      "source": [
        "### Limit the size of the dataset to experiment faster (optional)\n"
      ]
    },
    {
      "cell_type": "code",
      "metadata": {
        "id": "C8j9g9AnIeZV",
        "colab": {
          "base_uri": "https://localhost:8080/"
        },
        "outputId": "8e5f7c9c-3f77-4eed-8eb6-134e77bfe166"
      },
      "source": [
        "len(en), len(ru)"
      ],
      "execution_count": 12,
      "outputs": [
        {
          "output_type": "execute_result",
          "data": {
            "text/plain": [
              "(467119, 467119)"
            ]
          },
          "metadata": {},
          "execution_count": 12
        }
      ]
    },
    {
      "cell_type": "code",
      "metadata": {
        "id": "cnxC7q-j3jFD"
      },
      "source": [
        "# Try experimenting with the size of that dataset\n",
        "num_examples = 100000\n",
        "input_tensor, target_tensor, inp_lang, targ_lang = load_dataset(path_to_file, num_examples)\n",
        "\n",
        "# Calculate max_length of the target tensors\n",
        "max_length_targ, max_length_inp = target_tensor.shape[1], input_tensor.shape[1]"
      ],
      "execution_count": 13,
      "outputs": []
    },
    {
      "cell_type": "code",
      "metadata": {
        "id": "4QILQkOs3jFG",
        "colab": {
          "base_uri": "https://localhost:8080/"
        },
        "outputId": "3f681c62-551d-41d2-c31f-e96bb5c957ce"
      },
      "source": [
        "# Creating training and validation sets using an 80-20 split\n",
        "input_tensor_train, input_tensor_val, target_tensor_train, target_tensor_val = train_test_split(input_tensor, target_tensor, test_size=0.2)\n",
        "\n",
        "# Show length\n",
        "print(len(input_tensor_train), len(target_tensor_train), len(input_tensor_val), len(target_tensor_val))"
      ],
      "execution_count": 14,
      "outputs": [
        {
          "output_type": "stream",
          "name": "stdout",
          "text": [
            "80000 80000 20000 20000\n"
          ]
        }
      ]
    },
    {
      "cell_type": "code",
      "metadata": {
        "id": "lJPmLZGMeD5q"
      },
      "source": [
        "def convert(lang, tensor):\n",
        "  for t in tensor:\n",
        "    if t!=0:\n",
        "      print (\"%d ----> %s\" % (t, lang.index_word[t]))"
      ],
      "execution_count": 15,
      "outputs": []
    },
    {
      "cell_type": "code",
      "metadata": {
        "id": "VXukARTDd7MT",
        "colab": {
          "base_uri": "https://localhost:8080/"
        },
        "outputId": "e49f59a3-f251-482b-d011-d8caab4dd23a"
      },
      "source": [
        "print (\"Input Language; index to word mapping\")\n",
        "convert(inp_lang, input_tensor_train[0])\n",
        "print ()\n",
        "print (\"Target Language; index to word mapping\")\n",
        "convert(targ_lang, target_tensor_train[0])"
      ],
      "execution_count": 16,
      "outputs": [
        {
          "output_type": "stream",
          "name": "stdout",
          "text": [
            "Input Language; index to word mapping\n",
            "1 ----> <start>\n",
            "4 ----> я\n",
            "100 ----> должен\n",
            "21 ----> был\n",
            "193 ----> уйти\n",
            "3 ----> .\n",
            "2 ----> <end>\n",
            "\n",
            "Target Language; index to word mapping\n",
            "1 ----> <start>\n",
            "4 ----> i\n",
            "106 ----> had\n",
            "11 ----> to\n",
            "27 ----> go\n",
            "3 ----> .\n",
            "2 ----> <end>\n"
          ]
        }
      ]
    },
    {
      "cell_type": "markdown",
      "metadata": {
        "id": "rgCLkfv5uO3d"
      },
      "source": [
        "### Create a tf.data dataset"
      ]
    },
    {
      "cell_type": "code",
      "metadata": {
        "id": "TqHsArVZ3jFS"
      },
      "source": [
        "BUFFER_SIZE = len(input_tensor_train)\n",
        "BATCH_SIZE = 64\n",
        "steps_per_epoch = len(input_tensor_train)//BATCH_SIZE\n",
        "embedding_dim = 300\n",
        "units = 1024\n",
        "vocab_inp_size = len(inp_lang.word_index)+1\n",
        "vocab_tar_size = len(targ_lang.word_index)+1\n",
        "\n",
        "dataset = tf.data.Dataset.from_tensor_slices((input_tensor_train, target_tensor_train)).shuffle(BUFFER_SIZE)\n",
        "dataset = dataset.batch(BATCH_SIZE, drop_remainder=True)"
      ],
      "execution_count": 17,
      "outputs": []
    },
    {
      "cell_type": "code",
      "metadata": {
        "id": "qc6-NK1GtWQt",
        "colab": {
          "base_uri": "https://localhost:8080/"
        },
        "outputId": "169eff5f-bbc5-43e4-c4a1-3fae8b2969cb"
      },
      "source": [
        "example_input_batch, example_target_batch = next(iter(dataset))\n",
        "example_input_batch.shape, example_target_batch.shape"
      ],
      "execution_count": 18,
      "outputs": [
        {
          "output_type": "execute_result",
          "data": {
            "text/plain": [
              "(TensorShape([64, 15]), TensorShape([64, 11]))"
            ]
          },
          "metadata": {},
          "execution_count": 18
        }
      ]
    },
    {
      "cell_type": "code",
      "metadata": {
        "id": "nZ2rI24i3jFg"
      },
      "source": [
        "class Encoder(tf.keras.Model):\n",
        "  def __init__(self, vocab_size, embedding_dim, enc_units, batch_sz):\n",
        "    super(Encoder, self).__init__()\n",
        "    self.batch_sz = batch_sz\n",
        "    self.enc_units = enc_units\n",
        "    self.embedding = tf.keras.layers.Embedding(vocab_size, embedding_dim)\n",
        "    self.gru = tf.keras.layers.GRU(self.enc_units,\n",
        "                                   return_sequences=False,\n",
        "                                   return_state=True,\n",
        "                                   recurrent_initializer='glorot_uniform')\n",
        "    \n",
        "\n",
        "  def call(self, x, hidden):\n",
        "    x = self.embedding(x)\n",
        "    output, state = self.gru(x, initial_state = hidden)\n",
        "    return state\n",
        "\n",
        "  def initialize_hidden_state(self):\n",
        "    return tf.zeros((self.batch_sz, self.enc_units))"
      ],
      "execution_count": 19,
      "outputs": []
    },
    {
      "cell_type": "code",
      "metadata": {
        "id": "60gSVh05Jl6l",
        "colab": {
          "base_uri": "https://localhost:8080/"
        },
        "outputId": "84eea528-f57c-4d00-b208-d202975a08a5"
      },
      "source": [
        "encoder = Encoder(vocab_inp_size, embedding_dim, units, BATCH_SIZE)\n",
        "\n",
        "# sample input\n",
        "sample_hidden = encoder.initialize_hidden_state()\n",
        "sample_hidden = encoder(example_input_batch, sample_hidden)\n",
        "# print ('Encoder output shape: (batch size, sequence length, units) {}'.format(sample_output.shape))\n",
        "print ('Encoder Hidden state shape: (batch size, units) {}'.format(sample_hidden.shape))"
      ],
      "execution_count": 20,
      "outputs": [
        {
          "output_type": "stream",
          "name": "stdout",
          "text": [
            "Encoder Hidden state shape: (batch size, units) (64, 1024)\n"
          ]
        }
      ]
    },
    {
      "cell_type": "code",
      "metadata": {
        "id": "yJ_B3mhW3jFk"
      },
      "source": [
        "class Decoder(tf.keras.Model):\n",
        "  def __init__(self, vocab_size, embedding_dim, dec_units, batch_sz):\n",
        "    super(Decoder, self).__init__()\n",
        "    self.batch_sz = batch_sz\n",
        "    self.dec_units = dec_units\n",
        "    self.embedding = tf.keras.layers.Embedding(vocab_size, embedding_dim)\n",
        "    self.gru = tf.keras.layers.GRU(self.dec_units,\n",
        "                                   return_sequences=True,\n",
        "                                   return_state=True,\n",
        "                                   recurrent_initializer='glorot_uniform')\n",
        "    self.fc = tf.keras.layers.Dense(vocab_size)\n",
        "\n",
        "  def call(self, x, hidden):\n",
        "    # enc_output shape == (batch_size, max_length, hidden_size)\n",
        "\n",
        "    # x shape after passing through embedding == (batch_size, 1, embedding_dim)\n",
        "    x = self.embedding(x)\n",
        "\n",
        "    # x shape after concatenation == (batch_size, 1, embedding_dim + hidden_size)\n",
        "\n",
        "    # passing the concatenated vector to the GRU\n",
        "    output, state = self.gru(x, initial_state=hidden)\n",
        "\n",
        "    # output shape == (batch_size * 1, hidden_size)\n",
        "    output = tf.reshape(output, (-1, output.shape[2]))\n",
        "\n",
        "    # output shape == (batch_size, vocab)\n",
        "    x = self.fc(output)\n",
        "\n",
        "    return x, state"
      ],
      "execution_count": 21,
      "outputs": []
    },
    {
      "cell_type": "code",
      "metadata": {
        "id": "P5UY8wko3jFp"
      },
      "source": [
        "decoder = Decoder(vocab_tar_size, embedding_dim, units, BATCH_SIZE)\n",
        "\n",
        "decoder_sample_x, decoder_sample_h = decoder(tf.random.uniform((BATCH_SIZE, 1)),\n",
        "                                      sample_hidden)\n",
        "\n"
      ],
      "execution_count": 22,
      "outputs": []
    },
    {
      "cell_type": "code",
      "metadata": {
        "colab": {
          "base_uri": "https://localhost:8080/"
        },
        "id": "XKcypC0AGeLR",
        "outputId": "7d5c58e3-f181-44f1-dbc3-f371b55704f5"
      },
      "source": [
        "decoder_sample_x.shape"
      ],
      "execution_count": 23,
      "outputs": [
        {
          "output_type": "execute_result",
          "data": {
            "text/plain": [
              "TensorShape([64, 7362])"
            ]
          },
          "metadata": {},
          "execution_count": 23
        }
      ]
    },
    {
      "cell_type": "code",
      "metadata": {
        "id": "6y0HF-zMF_vp",
        "colab": {
          "base_uri": "https://localhost:8080/"
        },
        "outputId": "a5225491-6350-441a-f8b8-af88a72f7219"
      },
      "source": [
        "decoder_sample_h.shape"
      ],
      "execution_count": 24,
      "outputs": [
        {
          "output_type": "execute_result",
          "data": {
            "text/plain": [
              "TensorShape([64, 1024])"
            ]
          },
          "metadata": {},
          "execution_count": 24
        }
      ]
    },
    {
      "cell_type": "markdown",
      "metadata": {
        "id": "_ch_71VbIRfK"
      },
      "source": [
        "## Define the optimizer and the loss function"
      ]
    },
    {
      "cell_type": "code",
      "metadata": {
        "id": "WmTHr5iV3jFr"
      },
      "source": [
        "optimizer = tf.keras.optimizers.Adam()\n",
        "\n",
        "loss_object = tf.keras.losses.SparseCategoricalCrossentropy(\n",
        "    from_logits=True, reduction='none')\n",
        "\n",
        "def loss_function(real, pred):\n",
        "  mask = tf.math.logical_not(tf.math.equal(real, 0))\n",
        "  loss_ = loss_object(real, pred)\n",
        "\n",
        "  mask = tf.cast(mask, dtype=loss_.dtype)\n",
        "  loss_ *= mask\n",
        "\n",
        "  return tf.reduce_mean(loss_)"
      ],
      "execution_count": 25,
      "outputs": []
    },
    {
      "cell_type": "markdown",
      "metadata": {
        "id": "DMVWzzsfNl4e"
      },
      "source": [
        "## Checkpoints (Object-based saving)"
      ]
    },
    {
      "cell_type": "code",
      "metadata": {
        "id": "Zj8bXQTgNwrF"
      },
      "source": [
        "checkpoint_dir = './training_nmt_checkpoints'\n",
        "\n",
        "checkpoint_prefix = os.path.join(checkpoint_dir, \"ckpt\")\n",
        "\n",
        "checkpoint = tf.train.Checkpoint(optimizer=optimizer,\n",
        "                                 encoder=encoder,\n",
        "                                 decoder=decoder)"
      ],
      "execution_count": 26,
      "outputs": []
    },
    {
      "cell_type": "code",
      "metadata": {
        "id": "sC9ArXSsVfqn"
      },
      "source": [
        "@tf.function\n",
        "def train_step(inp, targ, enc_hidden):\n",
        "  loss = 0\n",
        "\n",
        "  with tf.GradientTape() as tape:\n",
        "    enc_hidden = encoder(inp, enc_hidden)\n",
        "\n",
        "    dec_hidden = enc_hidden\n",
        "\n",
        "    dec_input = tf.expand_dims([targ_lang.word_index['<start>']] * BATCH_SIZE, 1)\n",
        "\n",
        "    # Teacher forcing - feeding the target as the next input\n",
        "    for t in range(1, targ.shape[1]):\n",
        "      # passing enc_output to the decoder\n",
        "      predictions, dec_hidden = decoder(dec_input, dec_hidden)\n",
        "\n",
        "      loss += loss_function(targ[:, t], predictions)\n",
        "\n",
        "      # using teacher forcing\n",
        "      dec_input = tf.expand_dims(targ[:, t], 1)\n",
        "\n",
        "  batch_loss = (loss / int(targ.shape[1]))\n",
        "\n",
        "  variables = encoder.trainable_variables + decoder.trainable_variables\n",
        "\n",
        "  gradients = tape.gradient(loss, variables)\n",
        "\n",
        "  optimizer.apply_gradients(zip(gradients, variables))\n",
        "\n",
        "  return batch_loss"
      ],
      "execution_count": 27,
      "outputs": []
    },
    {
      "cell_type": "code",
      "metadata": {
        "id": "ddefjBMa3jF0",
        "colab": {
          "base_uri": "https://localhost:8080/"
        },
        "outputId": "3e6d01eb-6700-4672-de2a-8b82fda49bf3"
      },
      "source": [
        "EPOCHS = 50\n",
        "\n",
        "for epoch in range(EPOCHS):\n",
        "  start = time.time()\n",
        "\n",
        "  enc_hidden = encoder.initialize_hidden_state()\n",
        "  total_loss = 0\n",
        "\n",
        "  for (batch, (inp, targ)) in enumerate(dataset.take(steps_per_epoch)):\n",
        "    batch_loss = train_step(inp, targ, enc_hidden)\n",
        "    total_loss += batch_loss\n",
        "\n",
        "    if batch % 100 == 0:\n",
        "      print('Epoch {} Batch {} Loss {:.4f}'.format(epoch + 1,\n",
        "                                                   batch,\n",
        "                                                   batch_loss.numpy()))\n",
        "  # saving (checkpoint) the model every 2 epochs\n",
        "  if (epoch + 1) % 2 == 0:\n",
        "    checkpoint.save(file_prefix = checkpoint_prefix)\n",
        "\n",
        "  print('Epoch {} Loss {:.4f}'.format(epoch + 1,\n",
        "                                      total_loss / steps_per_epoch))\n",
        "  print('Time taken for 1 epoch {} sec\\n'.format(time.time() - start))"
      ],
      "execution_count": 28,
      "outputs": [
        {
          "output_type": "stream",
          "name": "stdout",
          "text": [
            "Epoch 1 Batch 0 Loss 4.7556\n",
            "Epoch 1 Batch 100 Loss 1.9870\n",
            "Epoch 1 Batch 200 Loss 1.8614\n",
            "Epoch 1 Batch 300 Loss 1.5112\n",
            "Epoch 1 Batch 400 Loss 1.6259\n",
            "Epoch 1 Batch 500 Loss 1.4370\n",
            "Epoch 1 Batch 600 Loss 1.3771\n",
            "Epoch 1 Batch 700 Loss 1.3247\n",
            "Epoch 1 Batch 800 Loss 1.1754\n",
            "Epoch 1 Batch 900 Loss 1.1254\n",
            "Epoch 1 Batch 1000 Loss 1.1732\n",
            "Epoch 1 Batch 1100 Loss 1.0547\n",
            "Epoch 1 Batch 1200 Loss 0.9655\n",
            "Epoch 1 Loss 1.4311\n",
            "Time taken for 1 epoch 79.38402915000916 sec\n",
            "\n",
            "Epoch 2 Batch 0 Loss 0.9072\n",
            "Epoch 2 Batch 100 Loss 0.7821\n",
            "Epoch 2 Batch 200 Loss 0.8181\n",
            "Epoch 2 Batch 300 Loss 0.7961\n",
            "Epoch 2 Batch 400 Loss 0.7478\n",
            "Epoch 2 Batch 500 Loss 0.7745\n",
            "Epoch 2 Batch 600 Loss 0.6599\n",
            "Epoch 2 Batch 700 Loss 0.6329\n",
            "Epoch 2 Batch 800 Loss 0.6711\n",
            "Epoch 2 Batch 900 Loss 0.6132\n",
            "Epoch 2 Batch 1000 Loss 0.6197\n",
            "Epoch 2 Batch 1100 Loss 0.5893\n",
            "Epoch 2 Batch 1200 Loss 0.5929\n",
            "Epoch 2 Loss 0.7114\n",
            "Time taken for 1 epoch 53.625826835632324 sec\n",
            "\n",
            "Epoch 3 Batch 0 Loss 0.4149\n",
            "Epoch 3 Batch 100 Loss 0.3490\n",
            "Epoch 3 Batch 200 Loss 0.4092\n",
            "Epoch 3 Batch 300 Loss 0.4308\n",
            "Epoch 3 Batch 400 Loss 0.4402\n",
            "Epoch 3 Batch 500 Loss 0.3923\n",
            "Epoch 3 Batch 600 Loss 0.3932\n",
            "Epoch 3 Batch 700 Loss 0.3832\n",
            "Epoch 3 Batch 800 Loss 0.3172\n",
            "Epoch 3 Batch 900 Loss 0.3535\n",
            "Epoch 3 Batch 1000 Loss 0.3842\n",
            "Epoch 3 Batch 1100 Loss 0.3838\n",
            "Epoch 3 Batch 1200 Loss 0.3494\n",
            "Epoch 3 Loss 0.3867\n",
            "Time taken for 1 epoch 53.47263979911804 sec\n",
            "\n",
            "Epoch 4 Batch 0 Loss 0.2286\n",
            "Epoch 4 Batch 100 Loss 0.2230\n",
            "Epoch 4 Batch 200 Loss 0.2349\n",
            "Epoch 4 Batch 300 Loss 0.2567\n",
            "Epoch 4 Batch 400 Loss 0.2353\n",
            "Epoch 4 Batch 500 Loss 0.2484\n",
            "Epoch 4 Batch 600 Loss 0.1474\n",
            "Epoch 4 Batch 700 Loss 0.2322\n",
            "Epoch 4 Batch 800 Loss 0.1840\n",
            "Epoch 4 Batch 900 Loss 0.2320\n",
            "Epoch 4 Batch 1000 Loss 0.2548\n",
            "Epoch 4 Batch 1100 Loss 0.1958\n",
            "Epoch 4 Batch 1200 Loss 0.2277\n",
            "Epoch 4 Loss 0.2315\n",
            "Time taken for 1 epoch 56.01989030838013 sec\n",
            "\n",
            "Epoch 5 Batch 0 Loss 0.1422\n",
            "Epoch 5 Batch 100 Loss 0.1072\n",
            "Epoch 5 Batch 200 Loss 0.1094\n",
            "Epoch 5 Batch 300 Loss 0.1264\n",
            "Epoch 5 Batch 400 Loss 0.1560\n",
            "Epoch 5 Batch 500 Loss 0.1378\n",
            "Epoch 5 Batch 600 Loss 0.1574\n",
            "Epoch 5 Batch 700 Loss 0.1711\n",
            "Epoch 5 Batch 800 Loss 0.1917\n",
            "Epoch 5 Batch 900 Loss 0.1722\n",
            "Epoch 5 Batch 1000 Loss 0.1685\n",
            "Epoch 5 Batch 1100 Loss 0.1411\n",
            "Epoch 5 Batch 1200 Loss 0.1275\n",
            "Epoch 5 Loss 0.1568\n",
            "Time taken for 1 epoch 53.811192989349365 sec\n",
            "\n",
            "Epoch 6 Batch 0 Loss 0.0877\n",
            "Epoch 6 Batch 100 Loss 0.1133\n",
            "Epoch 6 Batch 200 Loss 0.0960\n",
            "Epoch 6 Batch 300 Loss 0.0855\n",
            "Epoch 6 Batch 400 Loss 0.1384\n",
            "Epoch 6 Batch 500 Loss 0.1214\n",
            "Epoch 6 Batch 600 Loss 0.1651\n",
            "Epoch 6 Batch 700 Loss 0.1567\n",
            "Epoch 6 Batch 800 Loss 0.1397\n",
            "Epoch 6 Batch 900 Loss 0.1541\n",
            "Epoch 6 Batch 1000 Loss 0.1632\n",
            "Epoch 6 Batch 1100 Loss 0.1622\n",
            "Epoch 6 Batch 1200 Loss 0.1565\n",
            "Epoch 6 Loss 0.1215\n",
            "Time taken for 1 epoch 55.33473062515259 sec\n",
            "\n",
            "Epoch 7 Batch 0 Loss 0.0954\n",
            "Epoch 7 Batch 100 Loss 0.0613\n",
            "Epoch 7 Batch 200 Loss 0.0969\n",
            "Epoch 7 Batch 300 Loss 0.1012\n",
            "Epoch 7 Batch 400 Loss 0.0817\n",
            "Epoch 7 Batch 500 Loss 0.0698\n",
            "Epoch 7 Batch 600 Loss 0.1070\n",
            "Epoch 7 Batch 700 Loss 0.1444\n",
            "Epoch 7 Batch 800 Loss 0.1072\n",
            "Epoch 7 Batch 900 Loss 0.0847\n",
            "Epoch 7 Batch 1000 Loss 0.1154\n",
            "Epoch 7 Batch 1100 Loss 0.1370\n",
            "Epoch 7 Batch 1200 Loss 0.1533\n",
            "Epoch 7 Loss 0.1025\n",
            "Time taken for 1 epoch 53.85802888870239 sec\n",
            "\n",
            "Epoch 8 Batch 0 Loss 0.0748\n",
            "Epoch 8 Batch 100 Loss 0.0961\n",
            "Epoch 8 Batch 200 Loss 0.0640\n",
            "Epoch 8 Batch 300 Loss 0.0619\n",
            "Epoch 8 Batch 400 Loss 0.0787\n",
            "Epoch 8 Batch 500 Loss 0.1391\n",
            "Epoch 8 Batch 600 Loss 0.0710\n",
            "Epoch 8 Batch 700 Loss 0.0838\n",
            "Epoch 8 Batch 800 Loss 0.1281\n",
            "Epoch 8 Batch 900 Loss 0.1041\n",
            "Epoch 8 Batch 1000 Loss 0.0761\n",
            "Epoch 8 Batch 1100 Loss 0.0751\n",
            "Epoch 8 Batch 1200 Loss 0.1014\n",
            "Epoch 8 Loss 0.0928\n",
            "Time taken for 1 epoch 54.80908441543579 sec\n",
            "\n",
            "Epoch 9 Batch 0 Loss 0.0809\n",
            "Epoch 9 Batch 100 Loss 0.0716\n",
            "Epoch 9 Batch 200 Loss 0.0712\n",
            "Epoch 9 Batch 300 Loss 0.0519\n",
            "Epoch 9 Batch 400 Loss 0.0579\n",
            "Epoch 9 Batch 500 Loss 0.1018\n",
            "Epoch 9 Batch 600 Loss 0.0944\n",
            "Epoch 9 Batch 700 Loss 0.0710\n",
            "Epoch 9 Batch 800 Loss 0.1047\n",
            "Epoch 9 Batch 900 Loss 0.1209\n",
            "Epoch 9 Batch 1000 Loss 0.0704\n",
            "Epoch 9 Batch 1100 Loss 0.0862\n",
            "Epoch 9 Batch 1200 Loss 0.1354\n",
            "Epoch 9 Loss 0.0858\n",
            "Time taken for 1 epoch 53.7313187122345 sec\n",
            "\n",
            "Epoch 10 Batch 0 Loss 0.0487\n",
            "Epoch 10 Batch 100 Loss 0.0541\n",
            "Epoch 10 Batch 200 Loss 0.0622\n",
            "Epoch 10 Batch 300 Loss 0.0914\n",
            "Epoch 10 Batch 400 Loss 0.0558\n",
            "Epoch 10 Batch 500 Loss 0.0712\n",
            "Epoch 10 Batch 600 Loss 0.0696\n",
            "Epoch 10 Batch 700 Loss 0.0822\n",
            "Epoch 10 Batch 800 Loss 0.0807\n",
            "Epoch 10 Batch 900 Loss 0.1197\n",
            "Epoch 10 Batch 1000 Loss 0.0755\n",
            "Epoch 10 Batch 1100 Loss 0.1103\n",
            "Epoch 10 Batch 1200 Loss 0.0766\n",
            "Epoch 10 Loss 0.0823\n",
            "Time taken for 1 epoch 54.316526651382446 sec\n",
            "\n",
            "Epoch 11 Batch 0 Loss 0.0955\n",
            "Epoch 11 Batch 100 Loss 0.0508\n",
            "Epoch 11 Batch 200 Loss 0.0429\n",
            "Epoch 11 Batch 300 Loss 0.0869\n",
            "Epoch 11 Batch 400 Loss 0.0707\n",
            "Epoch 11 Batch 500 Loss 0.0924\n",
            "Epoch 11 Batch 600 Loss 0.0586\n",
            "Epoch 11 Batch 700 Loss 0.0922\n",
            "Epoch 11 Batch 800 Loss 0.0861\n",
            "Epoch 11 Batch 900 Loss 0.1242\n",
            "Epoch 11 Batch 1000 Loss 0.0808\n",
            "Epoch 11 Batch 1100 Loss 0.0698\n",
            "Epoch 11 Batch 1200 Loss 0.0801\n",
            "Epoch 11 Loss 0.0793\n",
            "Time taken for 1 epoch 53.58787488937378 sec\n",
            "\n",
            "Epoch 12 Batch 0 Loss 0.0509\n",
            "Epoch 12 Batch 100 Loss 0.0653\n",
            "Epoch 12 Batch 200 Loss 0.0529\n",
            "Epoch 12 Batch 300 Loss 0.0618\n",
            "Epoch 12 Batch 400 Loss 0.0600\n",
            "Epoch 12 Batch 500 Loss 0.0741\n",
            "Epoch 12 Batch 600 Loss 0.0872\n",
            "Epoch 12 Batch 700 Loss 0.0642\n",
            "Epoch 12 Batch 800 Loss 0.0479\n",
            "Epoch 12 Batch 900 Loss 0.0813\n",
            "Epoch 12 Batch 1000 Loss 0.1160\n",
            "Epoch 12 Batch 1100 Loss 0.0758\n",
            "Epoch 12 Batch 1200 Loss 0.0784\n",
            "Epoch 12 Loss 0.0766\n",
            "Time taken for 1 epoch 59.63953232765198 sec\n",
            "\n",
            "Epoch 13 Batch 0 Loss 0.0506\n",
            "Epoch 13 Batch 100 Loss 0.0448\n",
            "Epoch 13 Batch 200 Loss 0.0792\n",
            "Epoch 13 Batch 300 Loss 0.0402\n",
            "Epoch 13 Batch 400 Loss 0.0584\n",
            "Epoch 13 Batch 500 Loss 0.0873\n",
            "Epoch 13 Batch 600 Loss 0.0639\n",
            "Epoch 13 Batch 700 Loss 0.0739\n",
            "Epoch 13 Batch 800 Loss 0.0753\n",
            "Epoch 13 Batch 900 Loss 0.0662\n",
            "Epoch 13 Batch 1000 Loss 0.0698\n",
            "Epoch 13 Batch 1100 Loss 0.1128\n",
            "Epoch 13 Batch 1200 Loss 0.0877\n",
            "Epoch 13 Loss 0.0735\n",
            "Time taken for 1 epoch 54.00349473953247 sec\n",
            "\n",
            "Epoch 14 Batch 0 Loss 0.0472\n",
            "Epoch 14 Batch 100 Loss 0.0461\n",
            "Epoch 14 Batch 200 Loss 0.0597\n",
            "Epoch 14 Batch 300 Loss 0.0705\n",
            "Epoch 14 Batch 400 Loss 0.0343\n",
            "Epoch 14 Batch 500 Loss 0.0560\n",
            "Epoch 14 Batch 600 Loss 0.0941\n",
            "Epoch 14 Batch 700 Loss 0.0284\n",
            "Epoch 14 Batch 800 Loss 0.0605\n",
            "Epoch 14 Batch 900 Loss 0.0938\n",
            "Epoch 14 Batch 1000 Loss 0.0747\n",
            "Epoch 14 Batch 1100 Loss 0.0859\n",
            "Epoch 14 Batch 1200 Loss 0.0997\n",
            "Epoch 14 Loss 0.0726\n",
            "Time taken for 1 epoch 55.23314309120178 sec\n",
            "\n",
            "Epoch 15 Batch 0 Loss 0.0317\n",
            "Epoch 15 Batch 100 Loss 0.0611\n",
            "Epoch 15 Batch 200 Loss 0.0281\n",
            "Epoch 15 Batch 300 Loss 0.0378\n",
            "Epoch 15 Batch 400 Loss 0.0524\n",
            "Epoch 15 Batch 500 Loss 0.0536\n",
            "Epoch 15 Batch 600 Loss 0.0546\n",
            "Epoch 15 Batch 700 Loss 0.0728\n",
            "Epoch 15 Batch 800 Loss 0.0599\n",
            "Epoch 15 Batch 900 Loss 0.1143\n",
            "Epoch 15 Batch 1000 Loss 0.0638\n",
            "Epoch 15 Batch 1100 Loss 0.0807\n",
            "Epoch 15 Batch 1200 Loss 0.0834\n",
            "Epoch 15 Loss 0.0710\n",
            "Time taken for 1 epoch 53.61851358413696 sec\n",
            "\n",
            "Epoch 16 Batch 0 Loss 0.0489\n",
            "Epoch 16 Batch 100 Loss 0.0457\n",
            "Epoch 16 Batch 200 Loss 0.0644\n",
            "Epoch 16 Batch 300 Loss 0.0464\n",
            "Epoch 16 Batch 400 Loss 0.0456\n",
            "Epoch 16 Batch 500 Loss 0.0552\n",
            "Epoch 16 Batch 600 Loss 0.0565\n",
            "Epoch 16 Batch 700 Loss 0.0685\n",
            "Epoch 16 Batch 800 Loss 0.0726\n",
            "Epoch 16 Batch 900 Loss 0.0895\n",
            "Epoch 16 Batch 1000 Loss 0.0680\n",
            "Epoch 16 Batch 1100 Loss 0.1195\n",
            "Epoch 16 Batch 1200 Loss 0.0947\n",
            "Epoch 16 Loss 0.0690\n",
            "Time taken for 1 epoch 55.84321045875549 sec\n",
            "\n",
            "Epoch 17 Batch 0 Loss 0.0585\n",
            "Epoch 17 Batch 100 Loss 0.0562\n",
            "Epoch 17 Batch 200 Loss 0.0449\n",
            "Epoch 17 Batch 300 Loss 0.0735\n",
            "Epoch 17 Batch 400 Loss 0.0921\n",
            "Epoch 17 Batch 500 Loss 0.0485\n",
            "Epoch 17 Batch 600 Loss 0.0879\n",
            "Epoch 17 Batch 700 Loss 0.0723\n",
            "Epoch 17 Batch 800 Loss 0.1003\n",
            "Epoch 17 Batch 900 Loss 0.0717\n",
            "Epoch 17 Batch 1000 Loss 0.0589\n",
            "Epoch 17 Batch 1100 Loss 0.0858\n",
            "Epoch 17 Batch 1200 Loss 0.0797\n",
            "Epoch 17 Loss 0.0671\n",
            "Time taken for 1 epoch 53.69477915763855 sec\n",
            "\n",
            "Epoch 18 Batch 0 Loss 0.0453\n",
            "Epoch 18 Batch 100 Loss 0.0446\n",
            "Epoch 18 Batch 200 Loss 0.0456\n",
            "Epoch 18 Batch 300 Loss 0.0986\n",
            "Epoch 18 Batch 400 Loss 0.0564\n",
            "Epoch 18 Batch 500 Loss 0.0719\n",
            "Epoch 18 Batch 600 Loss 0.0402\n",
            "Epoch 18 Batch 700 Loss 0.0469\n",
            "Epoch 18 Batch 800 Loss 0.0511\n",
            "Epoch 18 Batch 900 Loss 0.0963\n",
            "Epoch 18 Batch 1000 Loss 0.0638\n",
            "Epoch 18 Batch 1100 Loss 0.0602\n",
            "Epoch 18 Batch 1200 Loss 0.0879\n",
            "Epoch 18 Loss 0.0672\n",
            "Time taken for 1 epoch 54.62131309509277 sec\n",
            "\n",
            "Epoch 19 Batch 0 Loss 0.0840\n",
            "Epoch 19 Batch 100 Loss 0.0982\n",
            "Epoch 19 Batch 200 Loss 0.0474\n",
            "Epoch 19 Batch 300 Loss 0.0834\n",
            "Epoch 19 Batch 400 Loss 0.0604\n",
            "Epoch 19 Batch 500 Loss 0.0692\n",
            "Epoch 19 Batch 600 Loss 0.0539\n",
            "Epoch 19 Batch 700 Loss 0.0495\n",
            "Epoch 19 Batch 800 Loss 0.0602\n",
            "Epoch 19 Batch 900 Loss 0.0728\n",
            "Epoch 19 Batch 1000 Loss 0.0943\n",
            "Epoch 19 Batch 1100 Loss 0.0559\n",
            "Epoch 19 Batch 1200 Loss 0.1063\n",
            "Epoch 19 Loss 0.0652\n",
            "Time taken for 1 epoch 53.777225494384766 sec\n",
            "\n",
            "Epoch 20 Batch 0 Loss 0.0579\n",
            "Epoch 20 Batch 100 Loss 0.0933\n",
            "Epoch 20 Batch 200 Loss 0.0275\n",
            "Epoch 20 Batch 300 Loss 0.0504\n",
            "Epoch 20 Batch 400 Loss 0.0524\n",
            "Epoch 20 Batch 500 Loss 0.0504\n",
            "Epoch 20 Batch 600 Loss 0.0703\n",
            "Epoch 20 Batch 700 Loss 0.0814\n",
            "Epoch 20 Batch 800 Loss 0.0617\n",
            "Epoch 20 Batch 900 Loss 0.0753\n",
            "Epoch 20 Batch 1000 Loss 0.1023\n",
            "Epoch 20 Batch 1100 Loss 0.0427\n",
            "Epoch 20 Batch 1200 Loss 0.0566\n",
            "Epoch 20 Loss 0.0655\n",
            "Time taken for 1 epoch 59.387046098709106 sec\n",
            "\n",
            "Epoch 21 Batch 0 Loss 0.0639\n",
            "Epoch 21 Batch 100 Loss 0.0601\n",
            "Epoch 21 Batch 200 Loss 0.0598\n",
            "Epoch 21 Batch 300 Loss 0.0596\n",
            "Epoch 21 Batch 400 Loss 0.0422\n",
            "Epoch 21 Batch 500 Loss 0.0850\n",
            "Epoch 21 Batch 600 Loss 0.0613\n",
            "Epoch 21 Batch 700 Loss 0.0748\n",
            "Epoch 21 Batch 800 Loss 0.0508\n",
            "Epoch 21 Batch 900 Loss 0.0450\n",
            "Epoch 21 Batch 1000 Loss 0.0605\n",
            "Epoch 21 Batch 1100 Loss 0.0892\n",
            "Epoch 21 Batch 1200 Loss 0.0739\n",
            "Epoch 21 Loss 0.0629\n",
            "Time taken for 1 epoch 53.780662536621094 sec\n",
            "\n",
            "Epoch 22 Batch 0 Loss 0.0620\n",
            "Epoch 22 Batch 100 Loss 0.0499\n",
            "Epoch 22 Batch 200 Loss 0.0577\n",
            "Epoch 22 Batch 300 Loss 0.0699\n",
            "Epoch 22 Batch 400 Loss 0.0347\n",
            "Epoch 22 Batch 500 Loss 0.0744\n",
            "Epoch 22 Batch 600 Loss 0.0537\n",
            "Epoch 22 Batch 700 Loss 0.0448\n",
            "Epoch 22 Batch 800 Loss 0.0504\n",
            "Epoch 22 Batch 900 Loss 0.1021\n",
            "Epoch 22 Batch 1000 Loss 0.0499\n",
            "Epoch 22 Batch 1100 Loss 0.0859\n",
            "Epoch 22 Batch 1200 Loss 0.0912\n",
            "Epoch 22 Loss 0.0626\n",
            "Time taken for 1 epoch 54.67064070701599 sec\n",
            "\n",
            "Epoch 23 Batch 0 Loss 0.0634\n",
            "Epoch 23 Batch 100 Loss 0.0742\n",
            "Epoch 23 Batch 200 Loss 0.0465\n",
            "Epoch 23 Batch 300 Loss 0.0902\n",
            "Epoch 23 Batch 400 Loss 0.0719\n",
            "Epoch 23 Batch 500 Loss 0.0448\n",
            "Epoch 23 Batch 600 Loss 0.0635\n",
            "Epoch 23 Batch 700 Loss 0.0391\n",
            "Epoch 23 Batch 800 Loss 0.0922\n",
            "Epoch 23 Batch 900 Loss 0.0454\n",
            "Epoch 23 Batch 1000 Loss 0.0800\n",
            "Epoch 23 Batch 1100 Loss 0.0810\n",
            "Epoch 23 Batch 1200 Loss 0.0648\n",
            "Epoch 23 Loss 0.0620\n",
            "Time taken for 1 epoch 53.65276551246643 sec\n",
            "\n",
            "Epoch 24 Batch 0 Loss 0.0571\n",
            "Epoch 24 Batch 100 Loss 0.0446\n",
            "Epoch 24 Batch 200 Loss 0.0555\n",
            "Epoch 24 Batch 300 Loss 0.0289\n",
            "Epoch 24 Batch 400 Loss 0.0478\n",
            "Epoch 24 Batch 500 Loss 0.0602\n",
            "Epoch 24 Batch 600 Loss 0.0556\n",
            "Epoch 24 Batch 700 Loss 0.0457\n",
            "Epoch 24 Batch 800 Loss 0.0667\n",
            "Epoch 24 Batch 900 Loss 0.0571\n",
            "Epoch 24 Batch 1000 Loss 0.0988\n",
            "Epoch 24 Batch 1100 Loss 0.0612\n",
            "Epoch 24 Batch 1200 Loss 0.1133\n",
            "Epoch 24 Loss 0.0617\n",
            "Time taken for 1 epoch 59.56919550895691 sec\n",
            "\n",
            "Epoch 25 Batch 0 Loss 0.0656\n",
            "Epoch 25 Batch 100 Loss 0.0316\n",
            "Epoch 25 Batch 200 Loss 0.0414\n",
            "Epoch 25 Batch 300 Loss 0.0432\n",
            "Epoch 25 Batch 400 Loss 0.0630\n",
            "Epoch 25 Batch 500 Loss 0.0385\n",
            "Epoch 25 Batch 600 Loss 0.0529\n",
            "Epoch 25 Batch 700 Loss 0.0760\n",
            "Epoch 25 Batch 800 Loss 0.0844\n",
            "Epoch 25 Batch 900 Loss 0.0899\n",
            "Epoch 25 Batch 1000 Loss 0.0715\n",
            "Epoch 25 Batch 1100 Loss 0.0521\n",
            "Epoch 25 Batch 1200 Loss 0.0858\n",
            "Epoch 25 Loss 0.0607\n",
            "Time taken for 1 epoch 53.770336627960205 sec\n",
            "\n",
            "Epoch 26 Batch 0 Loss 0.0517\n",
            "Epoch 26 Batch 100 Loss 0.0586\n",
            "Epoch 26 Batch 200 Loss 0.0410\n",
            "Epoch 26 Batch 300 Loss 0.0446\n",
            "Epoch 26 Batch 400 Loss 0.0354\n",
            "Epoch 26 Batch 500 Loss 0.0317\n",
            "Epoch 26 Batch 600 Loss 0.0257\n",
            "Epoch 26 Batch 700 Loss 0.0821\n",
            "Epoch 26 Batch 800 Loss 0.0632\n",
            "Epoch 26 Batch 900 Loss 0.0860\n",
            "Epoch 26 Batch 1000 Loss 0.0534\n",
            "Epoch 26 Batch 1100 Loss 0.0524\n",
            "Epoch 26 Batch 1200 Loss 0.0483\n",
            "Epoch 26 Loss 0.0595\n",
            "Time taken for 1 epoch 59.30557560920715 sec\n",
            "\n",
            "Epoch 27 Batch 0 Loss 0.0679\n",
            "Epoch 27 Batch 100 Loss 0.0715\n",
            "Epoch 27 Batch 200 Loss 0.0539\n",
            "Epoch 27 Batch 300 Loss 0.0553\n",
            "Epoch 27 Batch 400 Loss 0.0745\n",
            "Epoch 27 Batch 500 Loss 0.0568\n",
            "Epoch 27 Batch 600 Loss 0.0465\n",
            "Epoch 27 Batch 700 Loss 0.0803\n",
            "Epoch 27 Batch 800 Loss 0.1040\n",
            "Epoch 27 Batch 900 Loss 0.0786\n",
            "Epoch 27 Batch 1000 Loss 0.0419\n",
            "Epoch 27 Batch 1100 Loss 0.0709\n",
            "Epoch 27 Batch 1200 Loss 0.0885\n",
            "Epoch 27 Loss 0.0588\n",
            "Time taken for 1 epoch 53.964866399765015 sec\n",
            "\n",
            "Epoch 28 Batch 0 Loss 0.0283\n",
            "Epoch 28 Batch 100 Loss 0.0370\n",
            "Epoch 28 Batch 200 Loss 0.0559\n",
            "Epoch 28 Batch 300 Loss 0.0432\n",
            "Epoch 28 Batch 400 Loss 0.0593\n",
            "Epoch 28 Batch 500 Loss 0.0636\n",
            "Epoch 28 Batch 600 Loss 0.0641\n",
            "Epoch 28 Batch 700 Loss 0.0732\n",
            "Epoch 28 Batch 800 Loss 0.0585\n",
            "Epoch 28 Batch 900 Loss 0.0821\n",
            "Epoch 28 Batch 1000 Loss 0.0651\n",
            "Epoch 28 Batch 1100 Loss 0.0678\n",
            "Epoch 28 Batch 1200 Loss 0.0479\n",
            "Epoch 28 Loss 0.0580\n",
            "Time taken for 1 epoch 54.319111347198486 sec\n",
            "\n",
            "Epoch 29 Batch 0 Loss 0.0317\n",
            "Epoch 29 Batch 100 Loss 0.0437\n",
            "Epoch 29 Batch 200 Loss 0.0697\n",
            "Epoch 29 Batch 300 Loss 0.0310\n",
            "Epoch 29 Batch 400 Loss 0.0611\n",
            "Epoch 29 Batch 500 Loss 0.0353\n",
            "Epoch 29 Batch 600 Loss 0.0564\n",
            "Epoch 29 Batch 700 Loss 0.0725\n",
            "Epoch 29 Batch 800 Loss 0.0562\n",
            "Epoch 29 Batch 900 Loss 0.0807\n",
            "Epoch 29 Batch 1000 Loss 0.0536\n",
            "Epoch 29 Batch 1100 Loss 0.0513\n",
            "Epoch 29 Batch 1200 Loss 0.0610\n",
            "Epoch 29 Loss 0.0582\n",
            "Time taken for 1 epoch 53.558759927749634 sec\n",
            "\n",
            "Epoch 30 Batch 0 Loss 0.0629\n",
            "Epoch 30 Batch 100 Loss 0.0615\n",
            "Epoch 30 Batch 200 Loss 0.0580\n",
            "Epoch 30 Batch 300 Loss 0.0806\n",
            "Epoch 30 Batch 400 Loss 0.0522\n",
            "Epoch 30 Batch 500 Loss 0.0793\n",
            "Epoch 30 Batch 600 Loss 0.0447\n",
            "Epoch 30 Batch 700 Loss 0.0907\n",
            "Epoch 30 Batch 800 Loss 0.0998\n",
            "Epoch 30 Batch 900 Loss 0.0582\n",
            "Epoch 30 Batch 1000 Loss 0.0544\n",
            "Epoch 30 Batch 1100 Loss 0.0757\n",
            "Epoch 30 Batch 1200 Loss 0.0699\n",
            "Epoch 30 Loss 0.0568\n",
            "Time taken for 1 epoch 59.34651756286621 sec\n",
            "\n",
            "Epoch 31 Batch 0 Loss 0.0415\n",
            "Epoch 31 Batch 100 Loss 0.0223\n",
            "Epoch 31 Batch 200 Loss 0.0432\n",
            "Epoch 31 Batch 300 Loss 0.0554\n",
            "Epoch 31 Batch 400 Loss 0.0382\n",
            "Epoch 31 Batch 500 Loss 0.0457\n",
            "Epoch 31 Batch 600 Loss 0.0758\n",
            "Epoch 31 Batch 700 Loss 0.0440\n",
            "Epoch 31 Batch 800 Loss 0.0981\n",
            "Epoch 31 Batch 900 Loss 0.0544\n",
            "Epoch 31 Batch 1000 Loss 0.0416\n",
            "Epoch 31 Batch 1100 Loss 0.0904\n",
            "Epoch 31 Batch 1200 Loss 0.0429\n",
            "Epoch 31 Loss 0.0570\n",
            "Time taken for 1 epoch 53.835015058517456 sec\n",
            "\n",
            "Epoch 32 Batch 0 Loss 0.0622\n",
            "Epoch 32 Batch 100 Loss 0.0560\n",
            "Epoch 32 Batch 200 Loss 0.0344\n",
            "Epoch 32 Batch 300 Loss 0.0549\n",
            "Epoch 32 Batch 400 Loss 0.0647\n",
            "Epoch 32 Batch 500 Loss 0.0374\n",
            "Epoch 32 Batch 600 Loss 0.0579\n",
            "Epoch 32 Batch 700 Loss 0.0492\n",
            "Epoch 32 Batch 800 Loss 0.0985\n",
            "Epoch 32 Batch 900 Loss 0.0860\n",
            "Epoch 32 Batch 1000 Loss 0.0790\n",
            "Epoch 32 Batch 1100 Loss 0.0528\n",
            "Epoch 32 Batch 1200 Loss 0.0685\n",
            "Epoch 32 Loss 0.0556\n",
            "Time taken for 1 epoch 56.13576316833496 sec\n",
            "\n",
            "Epoch 33 Batch 0 Loss 0.0467\n",
            "Epoch 33 Batch 100 Loss 0.0447\n",
            "Epoch 33 Batch 200 Loss 0.0658\n",
            "Epoch 33 Batch 300 Loss 0.0352\n",
            "Epoch 33 Batch 400 Loss 0.0595\n",
            "Epoch 33 Batch 500 Loss 0.0354\n",
            "Epoch 33 Batch 600 Loss 0.0636\n",
            "Epoch 33 Batch 700 Loss 0.0592\n",
            "Epoch 33 Batch 800 Loss 0.0603\n",
            "Epoch 33 Batch 900 Loss 0.0433\n",
            "Epoch 33 Batch 1000 Loss 0.0354\n",
            "Epoch 33 Batch 1100 Loss 0.0645\n",
            "Epoch 33 Batch 1200 Loss 0.0680\n",
            "Epoch 33 Loss 0.0553\n",
            "Time taken for 1 epoch 53.656126976013184 sec\n",
            "\n",
            "Epoch 34 Batch 0 Loss 0.0335\n",
            "Epoch 34 Batch 100 Loss 0.0404\n",
            "Epoch 34 Batch 200 Loss 0.0220\n",
            "Epoch 34 Batch 300 Loss 0.0440\n",
            "Epoch 34 Batch 400 Loss 0.0257\n",
            "Epoch 34 Batch 500 Loss 0.0346\n",
            "Epoch 34 Batch 600 Loss 0.0501\n",
            "Epoch 34 Batch 700 Loss 0.0540\n",
            "Epoch 34 Batch 800 Loss 0.0951\n",
            "Epoch 34 Batch 900 Loss 0.0441\n",
            "Epoch 34 Batch 1000 Loss 0.0562\n",
            "Epoch 34 Batch 1100 Loss 0.0731\n",
            "Epoch 34 Batch 1200 Loss 0.0524\n",
            "Epoch 34 Loss 0.0550\n",
            "Time taken for 1 epoch 59.41797494888306 sec\n",
            "\n",
            "Epoch 35 Batch 0 Loss 0.0388\n",
            "Epoch 35 Batch 100 Loss 0.0837\n",
            "Epoch 35 Batch 200 Loss 0.0448\n",
            "Epoch 35 Batch 300 Loss 0.0256\n",
            "Epoch 35 Batch 400 Loss 0.0532\n",
            "Epoch 35 Batch 500 Loss 0.0480\n",
            "Epoch 35 Batch 600 Loss 0.0780\n",
            "Epoch 35 Batch 700 Loss 0.0924\n",
            "Epoch 35 Batch 800 Loss 0.0685\n",
            "Epoch 35 Batch 900 Loss 0.0449\n",
            "Epoch 35 Batch 1000 Loss 0.0527\n",
            "Epoch 35 Batch 1100 Loss 0.0609\n",
            "Epoch 35 Batch 1200 Loss 0.0644\n",
            "Epoch 35 Loss 0.0541\n",
            "Time taken for 1 epoch 53.78120303153992 sec\n",
            "\n",
            "Epoch 36 Batch 0 Loss 0.0331\n",
            "Epoch 36 Batch 100 Loss 0.0282\n",
            "Epoch 36 Batch 200 Loss 0.0653\n",
            "Epoch 36 Batch 300 Loss 0.0291\n",
            "Epoch 36 Batch 400 Loss 0.0485\n",
            "Epoch 36 Batch 500 Loss 0.0927\n",
            "Epoch 36 Batch 600 Loss 0.0421\n",
            "Epoch 36 Batch 700 Loss 0.0582\n",
            "Epoch 36 Batch 800 Loss 0.0426\n",
            "Epoch 36 Batch 900 Loss 0.0327\n",
            "Epoch 36 Batch 1000 Loss 0.0756\n",
            "Epoch 36 Batch 1100 Loss 0.0567\n",
            "Epoch 36 Batch 1200 Loss 0.0661\n",
            "Epoch 36 Loss 0.0543\n",
            "Time taken for 1 epoch 55.65491437911987 sec\n",
            "\n",
            "Epoch 37 Batch 0 Loss 0.0270\n",
            "Epoch 37 Batch 100 Loss 0.0185\n",
            "Epoch 37 Batch 200 Loss 0.0540\n",
            "Epoch 37 Batch 300 Loss 0.0367\n",
            "Epoch 37 Batch 400 Loss 0.0432\n",
            "Epoch 37 Batch 500 Loss 0.0316\n",
            "Epoch 37 Batch 600 Loss 0.0636\n",
            "Epoch 37 Batch 700 Loss 0.0828\n",
            "Epoch 37 Batch 800 Loss 0.0905\n",
            "Epoch 37 Batch 900 Loss 0.0510\n",
            "Epoch 37 Batch 1000 Loss 0.0616\n",
            "Epoch 37 Batch 1100 Loss 0.0676\n",
            "Epoch 37 Batch 1200 Loss 0.0884\n",
            "Epoch 37 Loss 0.0532\n",
            "Time taken for 1 epoch 54.02208495140076 sec\n",
            "\n",
            "Epoch 38 Batch 0 Loss 0.0496\n",
            "Epoch 38 Batch 100 Loss 0.0546\n",
            "Epoch 38 Batch 200 Loss 0.0245\n",
            "Epoch 38 Batch 300 Loss 0.0472\n",
            "Epoch 38 Batch 400 Loss 0.0342\n",
            "Epoch 38 Batch 500 Loss 0.0411\n",
            "Epoch 38 Batch 600 Loss 0.0600\n",
            "Epoch 38 Batch 700 Loss 0.0609\n",
            "Epoch 38 Batch 800 Loss 0.0380\n",
            "Epoch 38 Batch 900 Loss 0.0556\n",
            "Epoch 38 Batch 1000 Loss 0.0447\n",
            "Epoch 38 Batch 1100 Loss 0.0412\n",
            "Epoch 38 Batch 1200 Loss 0.0472\n",
            "Epoch 38 Loss 0.0527\n",
            "Time taken for 1 epoch 59.36489009857178 sec\n",
            "\n",
            "Epoch 39 Batch 0 Loss 0.0689\n",
            "Epoch 39 Batch 100 Loss 0.0561\n",
            "Epoch 39 Batch 200 Loss 0.0505\n",
            "Epoch 39 Batch 300 Loss 0.0332\n",
            "Epoch 39 Batch 400 Loss 0.0273\n",
            "Epoch 39 Batch 500 Loss 0.0696\n",
            "Epoch 39 Batch 600 Loss 0.0695\n",
            "Epoch 39 Batch 700 Loss 0.0687\n",
            "Epoch 39 Batch 800 Loss 0.0341\n",
            "Epoch 39 Batch 900 Loss 0.0568\n",
            "Epoch 39 Batch 1000 Loss 0.0729\n",
            "Epoch 39 Batch 1100 Loss 0.1063\n",
            "Epoch 39 Batch 1200 Loss 0.0351\n",
            "Epoch 39 Loss 0.0527\n",
            "Time taken for 1 epoch 53.8594274520874 sec\n",
            "\n",
            "Epoch 40 Batch 0 Loss 0.0508\n",
            "Epoch 40 Batch 100 Loss 0.0424\n",
            "Epoch 40 Batch 200 Loss 0.0371\n",
            "Epoch 40 Batch 300 Loss 0.0382\n",
            "Epoch 40 Batch 400 Loss 0.0618\n",
            "Epoch 40 Batch 500 Loss 0.0598\n",
            "Epoch 40 Batch 600 Loss 0.0560\n",
            "Epoch 40 Batch 700 Loss 0.0816\n",
            "Epoch 40 Batch 800 Loss 0.0742\n",
            "Epoch 40 Batch 900 Loss 0.0626\n",
            "Epoch 40 Batch 1000 Loss 0.0215\n",
            "Epoch 40 Batch 1100 Loss 0.0679\n",
            "Epoch 40 Batch 1200 Loss 0.0580\n",
            "Epoch 40 Loss 0.0521\n",
            "Time taken for 1 epoch 54.549482345581055 sec\n",
            "\n",
            "Epoch 41 Batch 0 Loss 0.0489\n",
            "Epoch 41 Batch 100 Loss 0.0294\n",
            "Epoch 41 Batch 200 Loss 0.0459\n",
            "Epoch 41 Batch 300 Loss 0.0412\n",
            "Epoch 41 Batch 400 Loss 0.0580\n",
            "Epoch 41 Batch 500 Loss 0.0426\n",
            "Epoch 41 Batch 600 Loss 0.0412\n",
            "Epoch 41 Batch 700 Loss 0.0345\n",
            "Epoch 41 Batch 800 Loss 0.0304\n",
            "Epoch 41 Batch 900 Loss 0.0659\n",
            "Epoch 41 Batch 1000 Loss 0.0725\n",
            "Epoch 41 Batch 1100 Loss 0.0423\n",
            "Epoch 41 Batch 1200 Loss 0.0328\n",
            "Epoch 41 Loss 0.0519\n",
            "Time taken for 1 epoch 53.552735567092896 sec\n",
            "\n",
            "Epoch 42 Batch 0 Loss 0.0228\n",
            "Epoch 42 Batch 100 Loss 0.0378\n",
            "Epoch 42 Batch 200 Loss 0.0204\n",
            "Epoch 42 Batch 300 Loss 0.0500\n",
            "Epoch 42 Batch 400 Loss 0.0461\n",
            "Epoch 42 Batch 500 Loss 0.0335\n",
            "Epoch 42 Batch 600 Loss 0.0677\n",
            "Epoch 42 Batch 700 Loss 0.0634\n",
            "Epoch 42 Batch 800 Loss 0.0603\n",
            "Epoch 42 Batch 900 Loss 0.0637\n",
            "Epoch 42 Batch 1000 Loss 0.0565\n",
            "Epoch 42 Batch 1100 Loss 0.0391\n",
            "Epoch 42 Batch 1200 Loss 0.0574\n",
            "Epoch 42 Loss 0.0515\n",
            "Time taken for 1 epoch 54.67985820770264 sec\n",
            "\n",
            "Epoch 43 Batch 0 Loss 0.0370\n",
            "Epoch 43 Batch 100 Loss 0.0190\n",
            "Epoch 43 Batch 200 Loss 0.0362\n",
            "Epoch 43 Batch 300 Loss 0.0363\n",
            "Epoch 43 Batch 400 Loss 0.0655\n",
            "Epoch 43 Batch 500 Loss 0.0562\n",
            "Epoch 43 Batch 600 Loss 0.0457\n",
            "Epoch 43 Batch 700 Loss 0.0437\n",
            "Epoch 43 Batch 800 Loss 0.0554\n",
            "Epoch 43 Batch 900 Loss 0.0812\n",
            "Epoch 43 Batch 1000 Loss 0.0629\n",
            "Epoch 43 Batch 1100 Loss 0.0505\n",
            "Epoch 43 Batch 1200 Loss 0.0580\n",
            "Epoch 43 Loss 0.0509\n",
            "Time taken for 1 epoch 53.556456327438354 sec\n",
            "\n",
            "Epoch 44 Batch 0 Loss 0.0565\n",
            "Epoch 44 Batch 100 Loss 0.0314\n",
            "Epoch 44 Batch 200 Loss 0.0503\n",
            "Epoch 44 Batch 300 Loss 0.0417\n",
            "Epoch 44 Batch 400 Loss 0.0546\n",
            "Epoch 44 Batch 500 Loss 0.0272\n",
            "Epoch 44 Batch 600 Loss 0.0641\n",
            "Epoch 44 Batch 700 Loss 0.0472\n",
            "Epoch 44 Batch 800 Loss 0.0203\n",
            "Epoch 44 Batch 900 Loss 0.0580\n",
            "Epoch 44 Batch 1000 Loss 0.0730\n",
            "Epoch 44 Batch 1100 Loss 0.0780\n",
            "Epoch 44 Batch 1200 Loss 0.0782\n",
            "Epoch 44 Loss 0.0506\n",
            "Time taken for 1 epoch 59.416264057159424 sec\n",
            "\n",
            "Epoch 45 Batch 0 Loss 0.0429\n",
            "Epoch 45 Batch 100 Loss 0.0635\n",
            "Epoch 45 Batch 200 Loss 0.0260\n",
            "Epoch 45 Batch 300 Loss 0.0378\n",
            "Epoch 45 Batch 400 Loss 0.0495\n",
            "Epoch 45 Batch 500 Loss 0.0316\n",
            "Epoch 45 Batch 600 Loss 0.0385\n",
            "Epoch 45 Batch 700 Loss 0.0500\n",
            "Epoch 45 Batch 800 Loss 0.0552\n",
            "Epoch 45 Batch 900 Loss 0.0558\n",
            "Epoch 45 Batch 1000 Loss 0.0375\n",
            "Epoch 45 Batch 1100 Loss 0.0579\n",
            "Epoch 45 Batch 1200 Loss 0.0454\n",
            "Epoch 45 Loss 0.0504\n",
            "Time taken for 1 epoch 53.98747706413269 sec\n",
            "\n",
            "Epoch 46 Batch 0 Loss 0.0393\n",
            "Epoch 46 Batch 100 Loss 0.0469\n",
            "Epoch 46 Batch 200 Loss 0.0302\n",
            "Epoch 46 Batch 300 Loss 0.0332\n",
            "Epoch 46 Batch 400 Loss 0.0558\n",
            "Epoch 46 Batch 500 Loss 0.0446\n",
            "Epoch 46 Batch 600 Loss 0.0779\n",
            "Epoch 46 Batch 700 Loss 0.0788\n",
            "Epoch 46 Batch 800 Loss 0.0483\n",
            "Epoch 46 Batch 900 Loss 0.0455\n",
            "Epoch 46 Batch 1000 Loss 0.0637\n",
            "Epoch 46 Batch 1100 Loss 0.1009\n",
            "Epoch 46 Batch 1200 Loss 0.0566\n",
            "Epoch 46 Loss 0.0504\n",
            "Time taken for 1 epoch 54.49065804481506 sec\n",
            "\n",
            "Epoch 47 Batch 0 Loss 0.0470\n",
            "Epoch 47 Batch 100 Loss 0.0872\n",
            "Epoch 47 Batch 200 Loss 0.0350\n",
            "Epoch 47 Batch 300 Loss 0.0435\n",
            "Epoch 47 Batch 400 Loss 0.0454\n",
            "Epoch 47 Batch 500 Loss 0.0406\n",
            "Epoch 47 Batch 600 Loss 0.0146\n",
            "Epoch 47 Batch 700 Loss 0.0455\n",
            "Epoch 47 Batch 800 Loss 0.0573\n",
            "Epoch 47 Batch 900 Loss 0.0328\n",
            "Epoch 47 Batch 1000 Loss 0.0366\n",
            "Epoch 47 Batch 1100 Loss 0.0749\n",
            "Epoch 47 Batch 1200 Loss 0.0730\n",
            "Epoch 47 Loss 0.0501\n",
            "Time taken for 1 epoch 53.59268498420715 sec\n",
            "\n",
            "Epoch 48 Batch 0 Loss 0.0405\n",
            "Epoch 48 Batch 100 Loss 0.0233\n",
            "Epoch 48 Batch 200 Loss 0.0669\n",
            "Epoch 48 Batch 300 Loss 0.0398\n",
            "Epoch 48 Batch 400 Loss 0.0335\n",
            "Epoch 48 Batch 500 Loss 0.0273\n",
            "Epoch 48 Batch 600 Loss 0.0522\n",
            "Epoch 48 Batch 700 Loss 0.0556\n",
            "Epoch 48 Batch 800 Loss 0.0571\n",
            "Epoch 48 Batch 900 Loss 0.0595\n",
            "Epoch 48 Batch 1000 Loss 0.0187\n",
            "Epoch 48 Batch 1100 Loss 0.0580\n",
            "Epoch 48 Batch 1200 Loss 0.0307\n",
            "Epoch 48 Loss 0.0491\n",
            "Time taken for 1 epoch 54.89387345314026 sec\n",
            "\n",
            "Epoch 49 Batch 0 Loss 0.0792\n",
            "Epoch 49 Batch 100 Loss 0.0293\n",
            "Epoch 49 Batch 200 Loss 0.0462\n",
            "Epoch 49 Batch 300 Loss 0.0532\n",
            "Epoch 49 Batch 400 Loss 0.0676\n",
            "Epoch 49 Batch 500 Loss 0.0568\n",
            "Epoch 49 Batch 600 Loss 0.0373\n",
            "Epoch 49 Batch 700 Loss 0.0543\n",
            "Epoch 49 Batch 800 Loss 0.0676\n",
            "Epoch 49 Batch 900 Loss 0.0460\n",
            "Epoch 49 Batch 1000 Loss 0.0583\n",
            "Epoch 49 Batch 1100 Loss 0.0859\n",
            "Epoch 49 Batch 1200 Loss 0.0458\n",
            "Epoch 49 Loss 0.0493\n",
            "Time taken for 1 epoch 53.71516561508179 sec\n",
            "\n",
            "Epoch 50 Batch 0 Loss 0.0476\n",
            "Epoch 50 Batch 100 Loss 0.0517\n",
            "Epoch 50 Batch 200 Loss 0.0432\n",
            "Epoch 50 Batch 300 Loss 0.0209\n",
            "Epoch 50 Batch 400 Loss 0.0556\n",
            "Epoch 50 Batch 500 Loss 0.0327\n",
            "Epoch 50 Batch 600 Loss 0.0414\n",
            "Epoch 50 Batch 700 Loss 0.0566\n",
            "Epoch 50 Batch 800 Loss 0.0750\n",
            "Epoch 50 Batch 900 Loss 0.0604\n",
            "Epoch 50 Batch 1000 Loss 0.0498\n",
            "Epoch 50 Batch 1100 Loss 0.0454\n",
            "Epoch 50 Batch 1200 Loss 0.0667\n",
            "Epoch 50 Loss 0.0497\n",
            "Time taken for 1 epoch 59.31230068206787 sec\n",
            "\n"
          ]
        }
      ]
    },
    {
      "cell_type": "markdown",
      "metadata": {
        "id": "mU3Ce8M6I3rz"
      },
      "source": [
        "## Translate\n",
        "\n",
        "* The evaluate function is similar to the training loop, except we don't use *teacher forcing* here. The input to the decoder at each time step is its previous predictions along with the hidden state and the encoder output.\n",
        "* Stop predicting when the model predicts the *end token*.\n",
        "* And store the *attention weights for every time step*.\n",
        "\n",
        "Note: The encoder output is calculated only once for one input."
      ]
    },
    {
      "cell_type": "code",
      "metadata": {
        "id": "EbQpyYs13jF_"
      },
      "source": [
        "def evaluate(sentence):\n",
        "  attention_plot = np.zeros((max_length_targ, max_length_inp))\n",
        "\n",
        "  sentence = preprocess_sentence(sentence)\n",
        "\n",
        "  inputs = [inp_lang.word_index[i] for i in sentence.split(' ')]\n",
        "  inputs = tf.keras.preprocessing.sequence.pad_sequences([inputs],\n",
        "                                                         maxlen=max_length_inp,\n",
        "                                                         padding='post')\n",
        "  inputs = tf.convert_to_tensor(inputs)\n",
        "\n",
        "  result = ''\n",
        "\n",
        "  hidden = [tf.zeros((1, units))]\n",
        "  enc_hidden = encoder(inputs, hidden)\n",
        "\n",
        "  dec_hidden = enc_hidden\n",
        "  dec_input = tf.expand_dims([targ_lang.word_index['<start>']], 0)\n",
        "\n",
        "  for t in range(max_length_targ):\n",
        "    predictions, dec_hidden = decoder(dec_input, dec_hidden)\n",
        "\n",
        "    # storing the attention weights to plot later on\n",
        "    predicted_id = tf.argmax(predictions[0]).numpy()\n",
        "    result += targ_lang.index_word[predicted_id] + ' '\n",
        "\n",
        "    if targ_lang.index_word[predicted_id] == '<end>':\n",
        "      return result, sentence\n",
        "\n",
        "    # the predicted ID is fed back into the model\n",
        "    dec_input = tf.expand_dims([predicted_id], 0)\n",
        "\n",
        "  return result, sentence"
      ],
      "execution_count": 29,
      "outputs": []
    },
    {
      "cell_type": "code",
      "metadata": {
        "id": "sl9zUHzg3jGI"
      },
      "source": [
        "def translate(sentence):\n",
        "  result, sentence = evaluate(sentence)\n",
        "\n",
        "  print('Input: %s' % (sentence))\n",
        "  print('Predicted translation: {}'.format(result))"
      ],
      "execution_count": 30,
      "outputs": []
    },
    {
      "cell_type": "markdown",
      "metadata": {
        "id": "n250XbnjOaqP"
      },
      "source": [
        "## Restore the latest checkpoint and test"
      ]
    },
    {
      "cell_type": "code",
      "metadata": {
        "id": "UJpT9D5_OgP6",
        "colab": {
          "base_uri": "https://localhost:8080/"
        },
        "outputId": "4efa4fb9-2083-4bc8-c750-e1097ff391cb"
      },
      "source": [
        "# restoring the latest checkpoint in checkpoint_dir\n",
        "checkpoint.restore(tf.train.latest_checkpoint(checkpoint_dir))"
      ],
      "execution_count": 31,
      "outputs": [
        {
          "output_type": "execute_result",
          "data": {
            "text/plain": [
              "<tensorflow.python.checkpoint.checkpoint.CheckpointLoadStatus at 0x7f15a8156140>"
            ]
          },
          "metadata": {},
          "execution_count": 31
        }
      ]
    },
    {
      "cell_type": "code",
      "metadata": {
        "id": "5bhFfwcIMX5i",
        "colab": {
          "base_uri": "https://localhost:8080/"
        },
        "outputId": "078c9a7d-04ff-47d7-da5c-09d639be52ad"
      },
      "source": [
        "translate('Я не смогу поехать.')"
      ],
      "execution_count": 33,
      "outputs": [
        {
          "output_type": "stream",
          "name": "stdout",
          "text": [
            "Input: <start> я не смогу поехать . <end>\n",
            "Predicted translation: i can't go . <end> \n"
          ]
        }
      ]
    },
    {
      "cell_type": "code",
      "metadata": {
        "id": "zSx2iM36EZQZ",
        "colab": {
          "base_uri": "https://localhost:8080/"
        },
        "outputId": "17d58d62-6b57-4e07-93b4-5195ce78fcc5"
      },
      "source": [
        "translate(u'Вы еще дома?')"
      ],
      "execution_count": 34,
      "outputs": [
        {
          "output_type": "stream",
          "name": "stdout",
          "text": [
            "Input: <start> вы еще дома ? <end>\n",
            "Predicted translation: are you still home ? <end> \n"
          ]
        }
      ]
    },
    {
      "cell_type": "code",
      "metadata": {
        "id": "A3LLCx3ZE0Ls",
        "colab": {
          "base_uri": "https://localhost:8080/"
        },
        "outputId": "8253529f-46dd-4b8f-b365-896be962ed7b"
      },
      "source": [
        "translate(u'Вы все еще дома?')"
      ],
      "execution_count": 35,
      "outputs": [
        {
          "output_type": "stream",
          "name": "stdout",
          "text": [
            "Input: <start> вы все еще дома ? <end>\n",
            "Predicted translation: are you still home ? <end> \n"
          ]
        }
      ]
    },
    {
      "cell_type": "code",
      "metadata": {
        "id": "DUQVLVqUE1YW",
        "colab": {
          "base_uri": "https://localhost:8080/"
        },
        "outputId": "528613cd-ba1e-4e11-a737-3148e32cd4bc"
      },
      "source": [
        "translate(u'Попробуй сделать это.')"
      ],
      "execution_count": 36,
      "outputs": [
        {
          "output_type": "stream",
          "name": "stdout",
          "text": [
            "Input: <start> попробуй сделать это . <end>\n",
            "Predicted translation: try to do that . <end> \n"
          ]
        }
      ]
    },
    {
      "cell_type": "code",
      "metadata": {
        "id": "f09_hUFx9EJh",
        "colab": {
          "base_uri": "https://localhost:8080/"
        },
        "outputId": "fd2a9b0a-9e6f-421c-afc6-0e7c7440a29e"
      },
      "source": [
        "translate(u'Я люблю, когда идет снег.')"
      ],
      "execution_count": 37,
      "outputs": [
        {
          "output_type": "stream",
          "name": "stdout",
          "text": [
            "Input: <start> я люблю , когда идет снег . <end>\n",
            "Predicted translation: i like it cry . <end> \n"
          ]
        }
      ]
    },
    {
      "cell_type": "code",
      "metadata": {
        "id": "e7c5p8rmkHQG",
        "colab": {
          "base_uri": "https://localhost:8080/"
        },
        "outputId": "210e24a8-3013-4eef-cd3d-5bec77508be6"
      },
      "source": [
        "translate(u'Я никогда такого не делаю.')"
      ],
      "execution_count": 38,
      "outputs": [
        {
          "output_type": "stream",
          "name": "stdout",
          "text": [
            "Input: <start> я никогда такого не делаю . <end>\n",
            "Predicted translation: i never do that . <end> \n"
          ]
        }
      ]
    },
    {
      "cell_type": "code",
      "metadata": {
        "id": "jdXES85KkTVS"
      },
      "source": [],
      "execution_count": null,
      "outputs": []
    }
  ]
}