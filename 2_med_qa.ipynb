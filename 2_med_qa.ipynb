{
  "metadata": {
    "colab": {
      "provenance": [],
      "gpuType": "T4"
    },
    "kernelspec": {
      "name": "python3",
      "display_name": "Python 3",
      "language": "python"
    },
    "language_info": {
      "name": "python",
      "version": "3.10.10",
      "mimetype": "text/x-python",
      "codemirror_mode": {
        "name": "ipython",
        "version": 3
      },
      "pygments_lexer": "ipython3",
      "nbconvert_exporter": "python",
      "file_extension": ".py"
    },
    "accelerator": "GPU",
    "widgets": {
      "application/vnd.jupyter.widget-state+json": {}
    }
  },
  "nbformat_minor": 0,
  "nbformat": 4,
  "cells": [
    {
      "cell_type": "markdown",
      "source": [
        "## Ответы по медицине"
      ],
      "metadata": {
        "id": "AQ02jMx6jbVy"
      }
    },
    {
      "cell_type": "code",
      "source": [
        "! pip install -U git+https://github.com/huggingface/transformers.git\n",
        "! pip install -U git+https://github.com/huggingface/accelerate.git\n",
        "!pip install datasets"
      ],
      "metadata": {
        "colab": {
          "base_uri": "https://localhost:8080/"
        },
        "id": "XFgAxH2YjmO9",
        "outputId": "1aa8ce5f-2177-4880-c4ae-1cbe20d4f7e6",
        "execution": {
          "iopub.status.busy": "2023-06-06T16:02:01.681377Z",
          "iopub.execute_input": "2023-06-06T16:02:01.683534Z",
          "iopub.status.idle": "2023-06-06T16:03:24.647824Z",
          "shell.execute_reply.started": "2023-06-06T16:02:01.683505Z",
          "shell.execute_reply": "2023-06-06T16:03:24.646672Z"
        },
        "trusted": true
      },
      "execution_count": null,
      "outputs": [
        {
          "name": "stdout",
          "text": "Collecting git+https://github.com/huggingface/transformers.git\n  Cloning https://github.com/huggingface/transformers.git to /tmp/pip-req-build-sc46xgyu\n  Running command git clone --filter=blob:none --quiet https://github.com/huggingface/transformers.git /tmp/pip-req-build-sc46xgyu\n  Resolved https://github.com/huggingface/transformers.git to commit 02fe3af275f0ad935441b813ef2e58b94d09788a\n  Installing build dependencies ... \u001b[?25ldone\n\u001b[?25h  Getting requirements to build wheel ... \u001b[?25ldone\n\u001b[?25h  Preparing metadata (pyproject.toml) ... \u001b[?25ldone\n\u001b[?25hRequirement already satisfied: filelock in /opt/conda/lib/python3.10/site-packages (from transformers==4.30.0.dev0) (3.12.0)\nRequirement already satisfied: huggingface-hub<1.0,>=0.14.1 in /opt/conda/lib/python3.10/site-packages (from transformers==4.30.0.dev0) (0.14.1)\nRequirement already satisfied: numpy>=1.17 in /opt/conda/lib/python3.10/site-packages (from transformers==4.30.0.dev0) (1.23.5)\nRequirement already satisfied: packaging>=20.0 in /opt/conda/lib/python3.10/site-packages (from transformers==4.30.0.dev0) (21.3)\nRequirement already satisfied: pyyaml>=5.1 in /opt/conda/lib/python3.10/site-packages (from transformers==4.30.0.dev0) (5.4.1)\nRequirement already satisfied: regex!=2019.12.17 in /opt/conda/lib/python3.10/site-packages (from transformers==4.30.0.dev0) (2023.5.5)\nRequirement already satisfied: requests in /opt/conda/lib/python3.10/site-packages (from transformers==4.30.0.dev0) (2.28.2)\nRequirement already satisfied: tokenizers!=0.11.3,<0.14,>=0.11.1 in /opt/conda/lib/python3.10/site-packages (from transformers==4.30.0.dev0) (0.13.3)\nRequirement already satisfied: safetensors>=0.3.1 in /opt/conda/lib/python3.10/site-packages (from transformers==4.30.0.dev0) (0.3.1)\nRequirement already satisfied: tqdm>=4.27 in /opt/conda/lib/python3.10/site-packages (from transformers==4.30.0.dev0) (4.64.1)\nRequirement already satisfied: fsspec in /opt/conda/lib/python3.10/site-packages (from huggingface-hub<1.0,>=0.14.1->transformers==4.30.0.dev0) (2023.5.0)\nRequirement already satisfied: typing-extensions>=3.7.4.3 in /opt/conda/lib/python3.10/site-packages (from huggingface-hub<1.0,>=0.14.1->transformers==4.30.0.dev0) (4.5.0)\nRequirement already satisfied: pyparsing!=3.0.5,>=2.0.2 in /opt/conda/lib/python3.10/site-packages (from packaging>=20.0->transformers==4.30.0.dev0) (3.0.9)\nRequirement already satisfied: charset-normalizer<4,>=2 in /opt/conda/lib/python3.10/site-packages (from requests->transformers==4.30.0.dev0) (2.1.1)\nRequirement already satisfied: idna<4,>=2.5 in /opt/conda/lib/python3.10/site-packages (from requests->transformers==4.30.0.dev0) (3.4)\nRequirement already satisfied: urllib3<1.27,>=1.21.1 in /opt/conda/lib/python3.10/site-packages (from requests->transformers==4.30.0.dev0) (1.26.15)\nRequirement already satisfied: certifi>=2017.4.17 in /opt/conda/lib/python3.10/site-packages (from requests->transformers==4.30.0.dev0) (2023.5.7)\nBuilding wheels for collected packages: transformers\n  Building wheel for transformers (pyproject.toml) ... \u001b[?25ldone\n\u001b[?25h  Created wheel for transformers: filename=transformers-4.30.0.dev0-py3-none-any.whl size=7160302 sha256=003c877f49bdbde1c1f3beec66fa9e6e0d6c40f813d3069da6f938ced0601a43\n  Stored in directory: /tmp/pip-ephem-wheel-cache-171f44no/wheels/e7/9c/5b/e1a9c8007c343041e61cc484433d512ea9274272e3fcbe7c16\nSuccessfully built transformers\nInstalling collected packages: transformers\n  Attempting uninstall: transformers\n    Found existing installation: transformers 4.29.2\n    Uninstalling transformers-4.29.2:\n      Successfully uninstalled transformers-4.29.2\nSuccessfully installed transformers-4.30.0.dev0\n\u001b[33mWARNING: Running pip as the 'root' user can result in broken permissions and conflicting behaviour with the system package manager. It is recommended to use a virtual environment instead: https://pip.pypa.io/warnings/venv\u001b[0m\u001b[33m\n\u001b[0mCollecting git+https://github.com/huggingface/accelerate.git\n  Cloning https://github.com/huggingface/accelerate.git to /tmp/pip-req-build-0ljjde5d\n  Running command git clone --filter=blob:none --quiet https://github.com/huggingface/accelerate.git /tmp/pip-req-build-0ljjde5d\n  Resolved https://github.com/huggingface/accelerate.git to commit be1b76e97a59d22fd6b669962b7868d0e970c305\n  Installing build dependencies ... \u001b[?25ldone\n\u001b[?25h  Getting requirements to build wheel ... \u001b[?25ldone\n\u001b[?25h  Preparing metadata (pyproject.toml) ... \u001b[?25ldone\n\u001b[?25hRequirement already satisfied: numpy>=1.17 in /opt/conda/lib/python3.10/site-packages (from accelerate==0.20.0.dev0) (1.23.5)\nRequirement already satisfied: packaging>=20.0 in /opt/conda/lib/python3.10/site-packages (from accelerate==0.20.0.dev0) (21.3)\nRequirement already satisfied: psutil in /opt/conda/lib/python3.10/site-packages (from accelerate==0.20.0.dev0) (5.9.3)\nRequirement already satisfied: pyyaml in /opt/conda/lib/python3.10/site-packages (from accelerate==0.20.0.dev0) (5.4.1)\nRequirement already satisfied: torch>=1.6.0 in /opt/conda/lib/python3.10/site-packages (from accelerate==0.20.0.dev0) (2.0.0)\nRequirement already satisfied: pyparsing!=3.0.5,>=2.0.2 in /opt/conda/lib/python3.10/site-packages (from packaging>=20.0->accelerate==0.20.0.dev0) (3.0.9)\nRequirement already satisfied: filelock in /opt/conda/lib/python3.10/site-packages (from torch>=1.6.0->accelerate==0.20.0.dev0) (3.12.0)\nRequirement already satisfied: typing-extensions in /opt/conda/lib/python3.10/site-packages (from torch>=1.6.0->accelerate==0.20.0.dev0) (4.5.0)\nRequirement already satisfied: sympy in /opt/conda/lib/python3.10/site-packages (from torch>=1.6.0->accelerate==0.20.0.dev0) (1.12)\nRequirement already satisfied: networkx in /opt/conda/lib/python3.10/site-packages (from torch>=1.6.0->accelerate==0.20.0.dev0) (3.1)\nRequirement already satisfied: jinja2 in /opt/conda/lib/python3.10/site-packages (from torch>=1.6.0->accelerate==0.20.0.dev0) (3.1.2)\nRequirement already satisfied: MarkupSafe>=2.0 in /opt/conda/lib/python3.10/site-packages (from jinja2->torch>=1.6.0->accelerate==0.20.0.dev0) (2.1.2)\nRequirement already satisfied: mpmath>=0.19 in /opt/conda/lib/python3.10/site-packages (from sympy->torch>=1.6.0->accelerate==0.20.0.dev0) (1.3.0)\nBuilding wheels for collected packages: accelerate\n  Building wheel for accelerate (pyproject.toml) ... \u001b[?25ldone\n\u001b[?25h  Created wheel for accelerate: filename=accelerate-0.20.0.dev0-py3-none-any.whl size=227580 sha256=c3ac0c013ff713b3cd669b8aa893176a8de21897d1eb423fe54655862e34f43e\n  Stored in directory: /tmp/pip-ephem-wheel-cache-r__3zumr/wheels/9c/a3/1e/47368f9b6575655fe9ee1b6350cfa7d4b0befe66a35f8a8365\nSuccessfully built accelerate\nInstalling collected packages: accelerate\n  Attempting uninstall: accelerate\n    Found existing installation: accelerate 0.12.0\n    Uninstalling accelerate-0.12.0:\n      Successfully uninstalled accelerate-0.12.0\nSuccessfully installed accelerate-0.20.0.dev0\n\u001b[33mWARNING: Running pip as the 'root' user can result in broken permissions and conflicting behaviour with the system package manager. It is recommended to use a virtual environment instead: https://pip.pypa.io/warnings/venv\u001b[0m\u001b[33m\n\u001b[0mRequirement already satisfied: datasets in /opt/conda/lib/python3.10/site-packages (2.1.0)\nRequirement already satisfied: numpy>=1.17 in /opt/conda/lib/python3.10/site-packages (from datasets) (1.23.5)\nRequirement already satisfied: pyarrow>=5.0.0 in /opt/conda/lib/python3.10/site-packages (from datasets) (10.0.1)\nRequirement already satisfied: dill in /opt/conda/lib/python3.10/site-packages (from datasets) (0.3.6)\nRequirement already satisfied: pandas in /opt/conda/lib/python3.10/site-packages (from datasets) (1.5.3)\nRequirement already satisfied: requests>=2.19.0 in /opt/conda/lib/python3.10/site-packages (from datasets) (2.28.2)\nRequirement already satisfied: tqdm>=4.62.1 in /opt/conda/lib/python3.10/site-packages (from datasets) (4.64.1)\nRequirement already satisfied: xxhash in /opt/conda/lib/python3.10/site-packages (from datasets) (3.2.0)\nRequirement already satisfied: multiprocess in /opt/conda/lib/python3.10/site-packages (from datasets) (0.70.14)\nRequirement already satisfied: fsspec[http]>=2021.05.0 in /opt/conda/lib/python3.10/site-packages (from datasets) (2023.5.0)\nRequirement already satisfied: aiohttp in /opt/conda/lib/python3.10/site-packages (from datasets) (3.8.4)\nRequirement already satisfied: huggingface-hub<1.0.0,>=0.1.0 in /opt/conda/lib/python3.10/site-packages (from datasets) (0.14.1)\nRequirement already satisfied: packaging in /opt/conda/lib/python3.10/site-packages (from datasets) (21.3)\nRequirement already satisfied: responses<0.19 in /opt/conda/lib/python3.10/site-packages (from datasets) (0.18.0)\nRequirement already satisfied: attrs>=17.3.0 in /opt/conda/lib/python3.10/site-packages (from aiohttp->datasets) (23.1.0)\nRequirement already satisfied: charset-normalizer<4.0,>=2.0 in /opt/conda/lib/python3.10/site-packages (from aiohttp->datasets) (2.1.1)\nRequirement already satisfied: multidict<7.0,>=4.5 in /opt/conda/lib/python3.10/site-packages (from aiohttp->datasets) (6.0.4)\nRequirement already satisfied: async-timeout<5.0,>=4.0.0a3 in /opt/conda/lib/python3.10/site-packages (from aiohttp->datasets) (4.0.2)\nRequirement already satisfied: yarl<2.0,>=1.0 in /opt/conda/lib/python3.10/site-packages (from aiohttp->datasets) (1.9.1)\nRequirement already satisfied: frozenlist>=1.1.1 in /opt/conda/lib/python3.10/site-packages (from aiohttp->datasets) (1.3.3)\nRequirement already satisfied: aiosignal>=1.1.2 in /opt/conda/lib/python3.10/site-packages (from aiohttp->datasets) (1.3.1)\nRequirement already satisfied: filelock in /opt/conda/lib/python3.10/site-packages (from huggingface-hub<1.0.0,>=0.1.0->datasets) (3.12.0)\nRequirement already satisfied: pyyaml>=5.1 in /opt/conda/lib/python3.10/site-packages (from huggingface-hub<1.0.0,>=0.1.0->datasets) (5.4.1)\nRequirement already satisfied: typing-extensions>=3.7.4.3 in /opt/conda/lib/python3.10/site-packages (from huggingface-hub<1.0.0,>=0.1.0->datasets) (4.5.0)\nRequirement already satisfied: pyparsing!=3.0.5,>=2.0.2 in /opt/conda/lib/python3.10/site-packages (from packaging->datasets) (3.0.9)\nRequirement already satisfied: idna<4,>=2.5 in /opt/conda/lib/python3.10/site-packages (from requests>=2.19.0->datasets) (3.4)\nRequirement already satisfied: urllib3<1.27,>=1.21.1 in /opt/conda/lib/python3.10/site-packages (from requests>=2.19.0->datasets) (1.26.15)\nRequirement already satisfied: certifi>=2017.4.17 in /opt/conda/lib/python3.10/site-packages (from requests>=2.19.0->datasets) (2023.5.7)\nRequirement already satisfied: python-dateutil>=2.8.1 in /opt/conda/lib/python3.10/site-packages (from pandas->datasets) (2.8.2)\nRequirement already satisfied: pytz>=2020.1 in /opt/conda/lib/python3.10/site-packages (from pandas->datasets) (2023.3)\nRequirement already satisfied: six>=1.5 in /opt/conda/lib/python3.10/site-packages (from python-dateutil>=2.8.1->pandas->datasets) (1.16.0)\n\u001b[33mWARNING: Running pip as the 'root' user can result in broken permissions and conflicting behaviour with the system package manager. It is recommended to use a virtual environment instead: https://pip.pypa.io/warnings/venv\u001b[0m\u001b[33m\n\u001b[0m",
          "output_type": "stream"
        }
      ]
    },
    {
      "cell_type": "markdown",
      "source": [
        "Загрузим датасет для обучения модели"
      ],
      "metadata": {
        "id": "1H7nqKmYIGiu"
      }
    },
    {
      "cell_type": "code",
      "source": [
        "import numpy as np\n",
        "import pandas as pd\n",
        "import re\n",
        "from transformers import AutoTokenizer, AutoModelForCausalLM, DataCollatorForLanguageModeling, Trainer, TrainingArguments\n",
        "import torch\n",
        "from sklearn.model_selection import train_test_split"
      ],
      "metadata": {
        "execution": {
          "iopub.status.busy": "2023-06-06T16:03:24.650213Z",
          "iopub.execute_input": "2023-06-06T16:03:24.650851Z",
          "iopub.status.idle": "2023-06-06T16:03:37.408850Z",
          "shell.execute_reply.started": "2023-06-06T16:03:24.650814Z",
          "shell.execute_reply": "2023-06-06T16:03:37.407735Z"
        },
        "trusted": true,
        "id": "L_fs6hyTIGix",
        "outputId": "27f5d50a-23b0-421f-881f-144cd8fa373a"
      },
      "execution_count": null,
      "outputs": [
        {
          "name": "stderr",
          "text": "/opt/conda/lib/python3.10/site-packages/tensorflow_io/python/ops/__init__.py:98: UserWarning: unable to load libtensorflow_io_plugins.so: unable to open file: libtensorflow_io_plugins.so, from paths: ['/opt/conda/lib/python3.10/site-packages/tensorflow_io/python/ops/libtensorflow_io_plugins.so']\ncaused by: ['/opt/conda/lib/python3.10/site-packages/tensorflow_io/python/ops/libtensorflow_io_plugins.so: undefined symbol: _ZN3tsl6StatusC1EN10tensorflow5error4CodeESt17basic_string_viewIcSt11char_traitsIcEENS_14SourceLocationE']\n  warnings.warn(f\"unable to load libtensorflow_io_plugins.so: {e}\")\n/opt/conda/lib/python3.10/site-packages/tensorflow_io/python/ops/__init__.py:104: UserWarning: file system plugins are not loaded: unable to open file: libtensorflow_io.so, from paths: ['/opt/conda/lib/python3.10/site-packages/tensorflow_io/python/ops/libtensorflow_io.so']\ncaused by: ['/opt/conda/lib/python3.10/site-packages/tensorflow_io/python/ops/libtensorflow_io.so: undefined symbol: _ZTVN10tensorflow13GcsFileSystemE']\n  warnings.warn(f\"file system plugins are not loaded: {e}\")\n",
          "output_type": "stream"
        }
      ]
    },
    {
      "cell_type": "code",
      "source": [
        "from datasets import load_dataset\n",
        "\n",
        "dataset = load_dataset(\"blinoff/medical_qa_ru_data\", split='train[:5%]')\n",
        "# не хватает RAM"
      ],
      "metadata": {
        "execution": {
          "iopub.status.busy": "2023-06-06T16:03:37.410406Z",
          "iopub.execute_input": "2023-06-06T16:03:37.411322Z",
          "iopub.status.idle": "2023-06-06T16:04:18.188616Z",
          "shell.execute_reply.started": "2023-06-06T16:03:37.411278Z",
          "shell.execute_reply": "2023-06-06T16:04:18.187634Z"
        },
        "trusted": true,
        "id": "mMXrjMJeIGiz",
        "outputId": "98e22cbd-4e53-43bc-8e88-527155b21bfa",
        "colab": {
          "referenced_widgets": [
            "1a6f58785526407ca451f06d8c4aec58",
            "d47cc13075e54485b4f693b08bcc9d36",
            "3acc6c5d9a364cb99908acb9ce8fa55d",
            "c2fe90faf19e4ff39ea7e32b9d6d2ef8",
            ""
          ]
        }
      },
      "execution_count": null,
      "outputs": [
        {
          "output_type": "display_data",
          "data": {
            "text/plain": "Downloading builder script:   0%|          | 0.00/2.47k [00:00<?, ?B/s]",
            "application/vnd.jupyter.widget-view+json": {
              "version_major": 2,
              "version_minor": 0,
              "model_id": "1a6f58785526407ca451f06d8c4aec58"
            }
          },
          "metadata": {}
        },
        {
          "name": "stdout",
          "text": "Downloading and preparing dataset medical_qa_ru_data/default to /root/.cache/huggingface/datasets/blinoff___medical_qa_ru_data/default/0.0.0/551476392fb5023cebc55b480ef3948c0ad2287c0ef0ad158a56fbb0bc37783f...\n",
          "output_type": "stream"
        },
        {
          "output_type": "display_data",
          "data": {
            "text/plain": "Downloading data files:   0%|          | 0/1 [00:00<?, ?it/s]",
            "application/vnd.jupyter.widget-view+json": {
              "version_major": 2,
              "version_minor": 0,
              "model_id": "d47cc13075e54485b4f693b08bcc9d36"
            }
          },
          "metadata": {}
        },
        {
          "output_type": "display_data",
          "data": {
            "text/plain": "Downloading data:   0%|          | 0.00/266M [00:00<?, ?B/s]",
            "application/vnd.jupyter.widget-view+json": {
              "version_major": 2,
              "version_minor": 0,
              "model_id": "3acc6c5d9a364cb99908acb9ce8fa55d"
            }
          },
          "metadata": {}
        },
        {
          "output_type": "display_data",
          "data": {
            "text/plain": "Extracting data files:   0%|          | 0/1 [00:00<?, ?it/s]",
            "application/vnd.jupyter.widget-view+json": {
              "version_major": 2,
              "version_minor": 0,
              "model_id": "c2fe90faf19e4ff39ea7e32b9d6d2ef8"
            }
          },
          "metadata": {}
        },
        {
          "output_type": "display_data",
          "data": {
            "text/plain": "Generating train split: 0 examples [00:00, ? examples/s]",
            "application/vnd.jupyter.widget-view+json": {
              "version_major": 2,
              "version_minor": 0,
              "model_id": ""
            }
          },
          "metadata": {}
        },
        {
          "name": "stdout",
          "text": "Dataset medical_qa_ru_data downloaded and prepared to /root/.cache/huggingface/datasets/blinoff___medical_qa_ru_data/default/0.0.0/551476392fb5023cebc55b480ef3948c0ad2287c0ef0ad158a56fbb0bc37783f. Subsequent calls will reuse this data.\n",
          "output_type": "stream"
        }
      ]
    },
    {
      "cell_type": "code",
      "source": [
        "train_q, test_q, train_ans, test_ans = train_test_split(pd.Series(dataset['desc']),\n",
        "                                                        pd.Series(dataset['ans']),\n",
        "                                                        test_size=.2,\n",
        "                                                        random_state=42)\n",
        "del(dataset)"
      ],
      "metadata": {
        "execution": {
          "iopub.status.busy": "2023-06-06T16:04:18.191259Z",
          "iopub.execute_input": "2023-06-06T16:04:18.191782Z",
          "iopub.status.idle": "2023-06-06T16:04:18.267891Z",
          "shell.execute_reply.started": "2023-06-06T16:04:18.191742Z",
          "shell.execute_reply": "2023-06-06T16:04:18.266308Z"
        },
        "trusted": true,
        "id": "6HbFnkn5IGi0"
      },
      "execution_count": null,
      "outputs": []
    },
    {
      "cell_type": "code",
      "source": [
        "train_q.sample(2)"
      ],
      "metadata": {
        "execution": {
          "iopub.status.busy": "2023-06-06T16:36:49.157797Z",
          "iopub.execute_input": "2023-06-06T16:36:49.158644Z",
          "iopub.status.idle": "2023-06-06T16:36:49.170739Z",
          "shell.execute_reply.started": "2023-06-06T16:36:49.158609Z",
          "shell.execute_reply": "2023-06-06T16:36:49.169530Z"
        },
        "trusted": true,
        "id": "ha-IAUWOIGi2",
        "outputId": "2c13d6ab-3f02-4a0e-dc3b-65deb7066173"
      },
      "execution_count": null,
      "outputs": [
        {
          "execution_count": 24,
          "output_type": "execute_result",
          "data": {
            "text/plain": "5072    У меня еще месяц назад это началось сначала на...\n1801    С целью снизить либидо произвёл себе инъекцию ...\ndtype: object"
          },
          "metadata": {}
        }
      ]
    },
    {
      "cell_type": "code",
      "source": [
        "device = torch.device(\"cuda\")"
      ],
      "metadata": {
        "execution": {
          "iopub.status.busy": "2023-06-06T16:04:19.254083Z",
          "iopub.execute_input": "2023-06-06T16:04:19.254789Z",
          "iopub.status.idle": "2023-06-06T16:04:19.260251Z",
          "shell.execute_reply.started": "2023-06-06T16:04:19.254754Z",
          "shell.execute_reply": "2023-06-06T16:04:19.259203Z"
        },
        "trusted": true,
        "id": "3WstcKeAIGi3"
      },
      "execution_count": null,
      "outputs": []
    },
    {
      "cell_type": "markdown",
      "source": [
        "Будем использовать предобученную модель от Сбера"
      ],
      "metadata": {
        "id": "eSRepR8nIGi5"
      }
    },
    {
      "cell_type": "code",
      "source": [
        "model_name = 'sberbank-ai/rugpt3small_based_on_gpt2'\n",
        "tokenizer = AutoTokenizer.from_pretrained(model_name)\n",
        "model = AutoModelForCausalLM.from_pretrained(model_name).to(device)"
      ],
      "metadata": {
        "execution": {
          "iopub.status.busy": "2023-06-06T16:04:19.261879Z",
          "iopub.execute_input": "2023-06-06T16:04:19.262643Z",
          "iopub.status.idle": "2023-06-06T16:04:44.612297Z",
          "shell.execute_reply.started": "2023-06-06T16:04:19.262609Z",
          "shell.execute_reply": "2023-06-06T16:04:44.611235Z"
        },
        "trusted": true,
        "id": "sdbaydtiIGi7",
        "outputId": "4ed59f81-bb07-48ce-aa49-aee2e78a1198",
        "colab": {
          "referenced_widgets": [
            "7d368fcb66aa49b1b6dd0d3a65bd4d77",
            "604f032cb1f343498e65d154a7f913f4",
            "27bc21e30ef44e30a5395f43699b174d",
            "18c2ee1c49f648a3bb62d817428fb9ae"
          ]
        }
      },
      "execution_count": null,
      "outputs": [
        {
          "output_type": "display_data",
          "data": {
            "text/plain": "Downloading (…)lve/main/config.json:   0%|          | 0.00/608 [00:00<?, ?B/s]",
            "application/vnd.jupyter.widget-view+json": {
              "version_major": 2,
              "version_minor": 0,
              "model_id": "7d368fcb66aa49b1b6dd0d3a65bd4d77"
            }
          },
          "metadata": {}
        },
        {
          "output_type": "display_data",
          "data": {
            "text/plain": "Downloading (…)olve/main/vocab.json:   0%|          | 0.00/1.71M [00:00<?, ?B/s]",
            "application/vnd.jupyter.widget-view+json": {
              "version_major": 2,
              "version_minor": 0,
              "model_id": "604f032cb1f343498e65d154a7f913f4"
            }
          },
          "metadata": {}
        },
        {
          "output_type": "display_data",
          "data": {
            "text/plain": "Downloading (…)olve/main/merges.txt:   0%|          | 0.00/1.27M [00:00<?, ?B/s]",
            "application/vnd.jupyter.widget-view+json": {
              "version_major": 2,
              "version_minor": 0,
              "model_id": "27bc21e30ef44e30a5395f43699b174d"
            }
          },
          "metadata": {}
        },
        {
          "name": "stderr",
          "text": "Special tokens have been added in the vocabulary, make sure the associated word embeddings are fine-tuned or trained.\n",
          "output_type": "stream"
        },
        {
          "output_type": "display_data",
          "data": {
            "text/plain": "Downloading pytorch_model.bin:   0%|          | 0.00/551M [00:00<?, ?B/s]",
            "application/vnd.jupyter.widget-view+json": {
              "version_major": 2,
              "version_minor": 0,
              "model_id": "18c2ee1c49f648a3bb62d817428fb9ae"
            }
          },
          "metadata": {}
        }
      ]
    },
    {
      "cell_type": "markdown",
      "source": [
        "Простой препроцессинг и разметка Вопрос-Ответ. (nx-ny)"
      ],
      "metadata": {
        "id": "bRIezhq0IGi9"
      }
    },
    {
      "cell_type": "code",
      "source": [
        "def preproc_text(text):\n",
        "    res = str(text).strip()\n",
        "    res = re.sub(r\"\\s+\", \" \", res)\n",
        "    return res\n",
        "\n",
        "def build_data(data_q, data_ans):\n",
        "    data = []\n",
        "    for idx, texts in enumerate(data_q):\n",
        "        question = preproc_text(texts)\n",
        "        answer = preproc_text(data_ans.iloc[idx])\n",
        "        res = '\\nx:' + question + '\\ny:' + answer\n",
        "        data.append(res)\n",
        "    return data"
      ],
      "metadata": {
        "execution": {
          "iopub.status.busy": "2023-06-06T16:04:44.617044Z",
          "iopub.execute_input": "2023-06-06T16:04:44.620398Z",
          "iopub.status.idle": "2023-06-06T16:04:44.629030Z",
          "shell.execute_reply.started": "2023-06-06T16:04:44.620359Z",
          "shell.execute_reply": "2023-06-06T16:04:44.628055Z"
        },
        "trusted": true,
        "id": "uTjYfev9IGi-"
      },
      "execution_count": null,
      "outputs": []
    },
    {
      "cell_type": "code",
      "source": [
        "train_data = build_data(train_q, train_ans)\n",
        "test_data = build_data(test_q, test_ans)"
      ],
      "metadata": {
        "execution": {
          "iopub.status.busy": "2023-06-06T16:04:44.633538Z",
          "iopub.execute_input": "2023-06-06T16:04:44.635817Z",
          "iopub.status.idle": "2023-06-06T16:04:47.784056Z",
          "shell.execute_reply.started": "2023-06-06T16:04:44.635785Z",
          "shell.execute_reply": "2023-06-06T16:04:47.783063Z"
        },
        "trusted": true,
        "id": "LmdgrOxyIGi_"
      },
      "execution_count": null,
      "outputs": []
    },
    {
      "cell_type": "code",
      "source": [
        "train_data[:3]"
      ],
      "metadata": {
        "execution": {
          "iopub.status.busy": "2023-06-06T16:04:47.791903Z",
          "iopub.execute_input": "2023-06-06T16:04:47.794299Z",
          "iopub.status.idle": "2023-06-06T16:04:47.804157Z",
          "shell.execute_reply.started": "2023-06-06T16:04:47.794262Z",
          "shell.execute_reply": "2023-06-06T16:04:47.803260Z"
        },
        "trusted": true,
        "id": "-B9cF4HlIGjA",
        "outputId": "99c5a125-62c4-4926-a8f2-57c809f32f5a"
      },
      "execution_count": null,
      "outputs": [
        {
          "execution_count": 10,
          "output_type": "execute_result",
          "data": {
            "text/plain": "['\\nx:Добрый день! Был незащищенный оральный секс с непроверенной девушкой. (Она делала минет без средств защиты). Спустя примерно полтора часа я обработал член хлоргексидином, а также сходил в аптеку и купил Сафоцид, выпил все 4 таблетки как того требует инструкция. На текущий момент прошло уже 4 дня, никаких видимых симптомов и отклонений не наблюдается. Скажите, высока ли вероятность подцепить какую-то заразу? Стоит ли пить антибиотики еще раз спустя неделю? Стоит ли воздерживаться от половых связей и какой срок?\\ny:Если нет отклонений - то принимать антибиотики через неделю не имеет смысла.При половых контактах лучше применять барьерные способы защиты (презерватив).Анализы можете сдать на вич(не ранее,чем через 1-3 месяца),гепатиты(через 4-5 недель) и сифилис(6-7 недель) с момента предполагаемого заражения.; Нужно ли пока воздерживаться от связи с постоянным партнером?; Можете использовать презерватив.; Антибиотики принимать не нужно, пока нет точных данных о наличии какого-либо заболевания.; Через месяц сдайте анализ на ВИЧ, сифилис, гепатит В и С.',\n '\\nx:Здравствуйте, скажите пожалуйста при остеохондрозе грудного отдела позвоночника, можно ли заниматься физическими нагрузками на перекладине (подтягивание), и какие укрепляющие упражнения разрешены кроме плаванья, спасибо.\\ny:Здравствуйте! Позвоночник - обследован?; На перекладине можно выполнять вис,можете лежа делать силовые упражнения.',\n '\\nx:Здравствуйте! Пожалуйста помогите расшифровать тест. И хотя бы в двух словах это сильно опасно? Стадию можно ли узнать зная результаты? Лечится ли это? Анализы проводили в KDL ед. Измер. КП Серологические маркеры инфекции - Anti-HCV обнаружено Референсные значения нигде не обнаружены. Антитела к гепатиту С - подтверждающий тест - core (антитела к неструктурным белкам вируса геп. С =16,75 - NS3 (АТ к нестр. Белку NS3 вируса геп С = 0,41 - NS4 (АТ к нестр белку NS 4 вируса геп С = 1,60 - NS5 (АТ к нестр белку NS5 вируса геп С =0,07 Заранее буду очень благодарен.\\ny:Здравствуйте! Обнаружены антитела к гепатиту С, для уточнения сдать алт, аст, клин ан крови, пцр на гепатит С кач., узи обп. С ув., Александров П.А.']"
          },
          "metadata": {}
        }
      ]
    },
    {
      "cell_type": "markdown",
      "source": [
        "Токенизируем train и test"
      ],
      "metadata": {
        "id": "DRJ0e8bYIGjB"
      }
    },
    {
      "cell_type": "code",
      "source": [
        "tokenizer.pad_token = tokenizer.eos_token"
      ],
      "metadata": {
        "execution": {
          "iopub.status.busy": "2023-06-06T16:04:47.808453Z",
          "iopub.execute_input": "2023-06-06T16:04:47.812537Z",
          "iopub.status.idle": "2023-06-06T16:04:47.817992Z",
          "shell.execute_reply.started": "2023-06-06T16:04:47.812503Z",
          "shell.execute_reply": "2023-06-06T16:04:47.817161Z"
        },
        "trusted": true,
        "id": "H7-FEqDkIGjB"
      },
      "execution_count": null,
      "outputs": []
    },
    {
      "cell_type": "code",
      "source": [
        "train_encodings = tokenizer(train_data, padding='max_length', truncation=True, max_length=512, return_tensors='pt')\n",
        "test_encodings = tokenizer(test_data, padding='max_length', truncation=True, max_length=512, return_tensors='pt')"
      ],
      "metadata": {
        "execution": {
          "iopub.status.busy": "2023-06-06T16:04:47.822449Z",
          "iopub.execute_input": "2023-06-06T16:04:47.823207Z",
          "iopub.status.idle": "2023-06-06T16:04:57.221580Z",
          "shell.execute_reply.started": "2023-06-06T16:04:47.823173Z",
          "shell.execute_reply": "2023-06-06T16:04:57.220564Z"
        },
        "trusted": true,
        "id": "nqSBY8hQIGjC"
      },
      "execution_count": null,
      "outputs": []
    },
    {
      "cell_type": "code",
      "source": [
        "import pickle\n",
        "with open('train_encodings.pkl', 'wb') as f:\n",
        "   pickle.dump(train_encodings, f)\n",
        "with open('test_encodings.pkl', 'wb') as f:\n",
        "   pickle.dump(test_encodings, f)"
      ],
      "metadata": {
        "execution": {
          "iopub.status.busy": "2023-06-06T16:04:57.223001Z",
          "iopub.execute_input": "2023-06-06T16:04:57.223475Z",
          "iopub.status.idle": "2023-06-06T16:04:58.024129Z",
          "shell.execute_reply.started": "2023-06-06T16:04:57.223441Z",
          "shell.execute_reply": "2023-06-06T16:04:58.023187Z"
        },
        "trusted": true,
        "id": "w8DlWVRhIGjD"
      },
      "execution_count": null,
      "outputs": []
    },
    {
      "cell_type": "code",
      "source": [
        "from IPython.display import FileLink\n",
        "FileLink(r'train_encodings.pkl')"
      ],
      "metadata": {
        "execution": {
          "iopub.status.busy": "2023-06-06T16:04:58.025505Z",
          "iopub.execute_input": "2023-06-06T16:04:58.026341Z",
          "iopub.status.idle": "2023-06-06T16:04:58.034023Z",
          "shell.execute_reply.started": "2023-06-06T16:04:58.026304Z",
          "shell.execute_reply": "2023-06-06T16:04:58.033117Z"
        },
        "trusted": true,
        "id": "nx0FKhNJIGjD",
        "outputId": "ec07a480-2ebe-41f7-a923-6b6f360b4063"
      },
      "execution_count": null,
      "outputs": [
        {
          "execution_count": 14,
          "output_type": "execute_result",
          "data": {
            "text/plain": "/kaggle/working/train_encodings.pkl",
            "text/html": "<a href='train_encodings.pkl' target='_blank'>train_encodings.pkl</a><br>"
          },
          "metadata": {}
        }
      ]
    },
    {
      "cell_type": "code",
      "source": [
        "FileLink(r'test_encodings.pkl')"
      ],
      "metadata": {
        "execution": {
          "iopub.status.busy": "2023-06-06T16:04:58.035418Z",
          "iopub.execute_input": "2023-06-06T16:04:58.035836Z",
          "iopub.status.idle": "2023-06-06T16:04:58.043629Z",
          "shell.execute_reply.started": "2023-06-06T16:04:58.035804Z",
          "shell.execute_reply": "2023-06-06T16:04:58.042647Z"
        },
        "trusted": true,
        "id": "5qOlgMZYIGjD",
        "outputId": "4cedac79-758f-4fc5-b3e5-64e2d5ae60b8"
      },
      "execution_count": null,
      "outputs": [
        {
          "execution_count": 15,
          "output_type": "execute_result",
          "data": {
            "text/plain": "/kaggle/working/test_encodings.pkl",
            "text/html": "<a href='test_encodings.pkl' target='_blank'>test_encodings.pkl</a><br>"
          },
          "metadata": {}
        }
      ]
    },
    {
      "cell_type": "code",
      "source": [
        "# !pip install gdown"
      ],
      "metadata": {
        "execution": {
          "iopub.status.busy": "2023-06-06T16:04:58.045408Z",
          "iopub.execute_input": "2023-06-06T16:04:58.045754Z",
          "iopub.status.idle": "2023-06-06T16:04:58.051644Z",
          "shell.execute_reply.started": "2023-06-06T16:04:58.045723Z",
          "shell.execute_reply": "2023-06-06T16:04:58.050297Z"
        },
        "trusted": true,
        "id": "8fRnn_r5IGjE"
      },
      "execution_count": null,
      "outputs": []
    },
    {
      "cell_type": "code",
      "source": [
        "# !gdown 'https://drive.google.com/uc?id=1-4qmZECvqdl9lZ6RCnC86DL4KRo9k_im'"
      ],
      "metadata": {
        "execution": {
          "iopub.status.busy": "2023-06-06T16:04:58.053458Z",
          "iopub.execute_input": "2023-06-06T16:04:58.054272Z",
          "iopub.status.idle": "2023-06-06T16:04:58.060986Z",
          "shell.execute_reply.started": "2023-06-06T16:04:58.054239Z",
          "shell.execute_reply": "2023-06-06T16:04:58.060047Z"
        },
        "trusted": true,
        "id": "Ie0J-c8qIGjF"
      },
      "execution_count": null,
      "outputs": []
    },
    {
      "cell_type": "code",
      "source": [
        "# !gdown 'https://drive.google.com/uc?id=1JoT5G942wYJ_sSyqwWQEQ3ktiNnhC0vv'"
      ],
      "metadata": {
        "execution": {
          "iopub.status.busy": "2023-06-06T16:04:58.062511Z",
          "iopub.execute_input": "2023-06-06T16:04:58.062885Z",
          "iopub.status.idle": "2023-06-06T16:04:58.069864Z",
          "shell.execute_reply.started": "2023-06-06T16:04:58.062854Z",
          "shell.execute_reply": "2023-06-06T16:04:58.068910Z"
        },
        "trusted": true,
        "id": "QBPP7FB9IGjH"
      },
      "execution_count": null,
      "outputs": []
    },
    {
      "cell_type": "code",
      "source": [
        "import pickle\n",
        "with open('train_encodings.pkl', 'rb') as f:\n",
        "  train_encodings = pickle.load(f)\n",
        "with open('test_encodings.pkl', 'rb') as f:\n",
        "  test_encodings = pickle.load(f)"
      ],
      "metadata": {
        "execution": {
          "iopub.status.busy": "2023-06-06T16:04:58.071360Z",
          "iopub.execute_input": "2023-06-06T16:04:58.071678Z",
          "iopub.status.idle": "2023-06-06T16:04:59.715433Z",
          "shell.execute_reply.started": "2023-06-06T16:04:58.071648Z",
          "shell.execute_reply": "2023-06-06T16:04:59.714473Z"
        },
        "trusted": true,
        "id": "kbCN8u6wIGjH"
      },
      "execution_count": null,
      "outputs": []
    },
    {
      "cell_type": "markdown",
      "source": [
        "Создадим датасет для PyTorch"
      ],
      "metadata": {
        "id": "2OZ7A2AaIGjI"
      }
    },
    {
      "cell_type": "code",
      "source": [
        "class QAMedicalDataset(torch.utils.data.Dataset):\n",
        "    def __init__(self, encodings):\n",
        "        self.encodings = encodings\n",
        "\n",
        "    def __getitem__(self, idx):\n",
        "        item = {key: torch.tensor(val[idx]) for key, val in self.encodings.items()}\n",
        "        return item\n",
        "\n",
        "    def __len__(self):\n",
        "        return len(self.encodings[\"input_ids\"])\n",
        "\n",
        "train_dataset = QAMedicalDataset(train_encodings)\n",
        "test_dataset = QAMedicalDataset(test_encodings)\n",
        "data_collator = DataCollatorForLanguageModeling(tokenizer=tokenizer, mlm=False)"
      ],
      "metadata": {
        "execution": {
          "iopub.status.busy": "2023-06-06T16:04:59.718325Z",
          "iopub.execute_input": "2023-06-06T16:04:59.718727Z",
          "iopub.status.idle": "2023-06-06T16:04:59.726898Z",
          "shell.execute_reply.started": "2023-06-06T16:04:59.718687Z",
          "shell.execute_reply": "2023-06-06T16:04:59.725867Z"
        },
        "trusted": true,
        "id": "4WVfXM9tIGjI"
      },
      "execution_count": null,
      "outputs": []
    },
    {
      "cell_type": "markdown",
      "source": [
        "Зададим аргументы для обучения модели"
      ],
      "metadata": {
        "id": "ysILYZdsIGjJ"
      }
    },
    {
      "cell_type": "code",
      "source": [
        "training_args = TrainingArguments(\n",
        "    output_dir=\"./qa_medical\", #The output directory\n",
        "    overwrite_output_dir=True, #overwrite the content of the output directory\n",
        "    num_train_epochs=3, # number of training epochs\n",
        "    per_device_train_batch_size=4, # batch size for training\n",
        "    per_device_eval_batch_size=4,  # batch size for evaluation\n",
        "    eval_steps = 400, # Number of update steps between two evaluations.\n",
        "    save_steps=800, # after # steps model is saved\n",
        "    warmup_steps=500,# number of warmup steps for learning rate scheduler\n",
        "    report_to=\"none\"\n",
        "    )"
      ],
      "metadata": {
        "execution": {
          "iopub.status.busy": "2023-06-06T16:04:59.728392Z",
          "iopub.execute_input": "2023-06-06T16:04:59.728872Z",
          "iopub.status.idle": "2023-06-06T16:04:59.739063Z",
          "shell.execute_reply.started": "2023-06-06T16:04:59.728798Z",
          "shell.execute_reply": "2023-06-06T16:04:59.738164Z"
        },
        "trusted": true,
        "id": "ekHr5VdMIGjJ"
      },
      "execution_count": null,
      "outputs": []
    },
    {
      "cell_type": "code",
      "source": [
        "trainer = Trainer(\n",
        "    model=model,\n",
        "    args=training_args,\n",
        "    data_collator=data_collator,\n",
        "    train_dataset=train_dataset,\n",
        "    eval_dataset=test_dataset,\n",
        ")"
      ],
      "metadata": {
        "execution": {
          "iopub.status.busy": "2023-06-06T16:04:59.740753Z",
          "iopub.execute_input": "2023-06-06T16:04:59.741171Z",
          "iopub.status.idle": "2023-06-06T16:04:59.756077Z",
          "shell.execute_reply.started": "2023-06-06T16:04:59.741106Z",
          "shell.execute_reply": "2023-06-06T16:04:59.755264Z"
        },
        "trusted": true,
        "id": "Bn2ay-_zIGjJ"
      },
      "execution_count": null,
      "outputs": []
    },
    {
      "cell_type": "code",
      "source": [
        "trainer.train()"
      ],
      "metadata": {
        "execution": {
          "iopub.status.busy": "2023-06-06T16:04:59.757640Z",
          "iopub.execute_input": "2023-06-06T16:04:59.757982Z",
          "iopub.status.idle": "2023-06-06T16:36:49.151237Z",
          "shell.execute_reply.started": "2023-06-06T16:04:59.757950Z",
          "shell.execute_reply": "2023-06-06T16:36:49.150288Z"
        },
        "trusted": true,
        "id": "vEXPo2XOIGjK",
        "outputId": "fd04a671-2f7a-46a4-9208-274d6c8a52b9"
      },
      "execution_count": null,
      "outputs": [
        {
          "name": "stderr",
          "text": "/opt/conda/lib/python3.10/site-packages/transformers/optimization.py:411: FutureWarning: This implementation of AdamW is deprecated and will be removed in a future version. Use the PyTorch implementation torch.optim.AdamW instead, or set `no_deprecation_warning=True` to disable this warning\n  warnings.warn(\n/tmp/ipykernel_29/2940101178.py:6: UserWarning: To copy construct from a tensor, it is recommended to use sourceTensor.clone().detach() or sourceTensor.clone().detach().requires_grad_(True), rather than torch.tensor(sourceTensor).\n  item = {key: torch.tensor(val[idx]) for key, val in self.encodings.items()}\nYou're using a GPT2TokenizerFast tokenizer. Please note that with a fast tokenizer, using the `__call__` method is faster than using a method to encode the text followed by a call to the `pad` method to get a padded encoding.\n",
          "output_type": "stream"
        },
        {
          "output_type": "display_data",
          "data": {
            "text/plain": "<IPython.core.display.HTML object>",
            "text/html": "\n    <div>\n      \n      <progress value='5712' max='5712' style='width:300px; height:20px; vertical-align: middle;'></progress>\n      [5712/5712 31:47, Epoch 3/3]\n    </div>\n    <table border=\"1\" class=\"dataframe\">\n  <thead>\n <tr style=\"text-align: left;\">\n      <th>Step</th>\n      <th>Training Loss</th>\n    </tr>\n  </thead>\n  <tbody>\n    <tr>\n      <td>500</td>\n      <td>3.467300</td>\n    </tr>\n    <tr>\n      <td>1000</td>\n      <td>3.348000</td>\n    </tr>\n    <tr>\n      <td>1500</td>\n      <td>3.282500</td>\n    </tr>\n    <tr>\n      <td>2000</td>\n      <td>3.190900</td>\n    </tr>\n    <tr>\n      <td>2500</td>\n      <td>2.991200</td>\n    </tr>\n    <tr>\n      <td>3000</td>\n      <td>2.954700</td>\n    </tr>\n    <tr>\n      <td>3500</td>\n      <td>2.939900</td>\n    </tr>\n    <tr>\n      <td>4000</td>\n      <td>2.859100</td>\n    </tr>\n    <tr>\n      <td>4500</td>\n      <td>2.746400</td>\n    </tr>\n    <tr>\n      <td>5000</td>\n      <td>2.748700</td>\n    </tr>\n    <tr>\n      <td>5500</td>\n      <td>2.723200</td>\n    </tr>\n  </tbody>\n</table><p>"
          },
          "metadata": {}
        },
        {
          "name": "stderr",
          "text": "/tmp/ipykernel_29/2940101178.py:6: UserWarning: To copy construct from a tensor, it is recommended to use sourceTensor.clone().detach() or sourceTensor.clone().detach().requires_grad_(True), rather than torch.tensor(sourceTensor).\n  item = {key: torch.tensor(val[idx]) for key, val in self.encodings.items()}\n/tmp/ipykernel_29/2940101178.py:6: UserWarning: To copy construct from a tensor, it is recommended to use sourceTensor.clone().detach() or sourceTensor.clone().detach().requires_grad_(True), rather than torch.tensor(sourceTensor).\n  item = {key: torch.tensor(val[idx]) for key, val in self.encodings.items()}\n/tmp/ipykernel_29/2940101178.py:6: UserWarning: To copy construct from a tensor, it is recommended to use sourceTensor.clone().detach() or sourceTensor.clone().detach().requires_grad_(True), rather than torch.tensor(sourceTensor).\n  item = {key: torch.tensor(val[idx]) for key, val in self.encodings.items()}\n/tmp/ipykernel_29/2940101178.py:6: UserWarning: To copy construct from a tensor, it is recommended to use sourceTensor.clone().detach() or sourceTensor.clone().detach().requires_grad_(True), rather than torch.tensor(sourceTensor).\n  item = {key: torch.tensor(val[idx]) for key, val in self.encodings.items()}\n/tmp/ipykernel_29/2940101178.py:6: UserWarning: To copy construct from a tensor, it is recommended to use sourceTensor.clone().detach() or sourceTensor.clone().detach().requires_grad_(True), rather than torch.tensor(sourceTensor).\n  item = {key: torch.tensor(val[idx]) for key, val in self.encodings.items()}\n/tmp/ipykernel_29/2940101178.py:6: UserWarning: To copy construct from a tensor, it is recommended to use sourceTensor.clone().detach() or sourceTensor.clone().detach().requires_grad_(True), rather than torch.tensor(sourceTensor).\n  item = {key: torch.tensor(val[idx]) for key, val in self.encodings.items()}\n/tmp/ipykernel_29/2940101178.py:6: UserWarning: To copy construct from a tensor, it is recommended to use sourceTensor.clone().detach() or sourceTensor.clone().detach().requires_grad_(True), rather than torch.tensor(sourceTensor).\n  item = {key: torch.tensor(val[idx]) for key, val in self.encodings.items()}\n",
          "output_type": "stream"
        },
        {
          "execution_count": 23,
          "output_type": "execute_result",
          "data": {
            "text/plain": "TrainOutput(global_step=5712, training_loss=3.0128815381132923, metrics={'train_runtime': 1909.3689, 'train_samples_per_second': 11.962, 'train_steps_per_second': 2.992, 'total_flos': 5967648718848000.0, 'train_loss': 3.0128815381132923, 'epoch': 3.0})"
          },
          "metadata": {}
        }
      ]
    },
    {
      "cell_type": "code",
      "source": [
        "tokenizer.save_pretrained('tokenizer_qa_medical_gen')\n",
        "model.save_pretrained('model_qa_medical_gen')"
      ],
      "metadata": {
        "execution": {
          "iopub.status.busy": "2023-06-06T16:37:45.310420Z",
          "iopub.execute_input": "2023-06-06T16:37:45.310803Z",
          "iopub.status.idle": "2023-06-06T16:37:46.420605Z",
          "shell.execute_reply.started": "2023-06-06T16:37:45.310773Z",
          "shell.execute_reply": "2023-06-06T16:37:46.419190Z"
        },
        "trusted": true,
        "id": "jDI56xZpIGjK"
      },
      "execution_count": null,
      "outputs": []
    },
    {
      "cell_type": "code",
      "source": [
        "tokenizer = AutoTokenizer.from_pretrained('tokenizer_qa_medical_gen')\n",
        "model = AutoModelForCausalLM.from_pretrained('model_qa_medical_gen')"
      ],
      "metadata": {
        "execution": {
          "iopub.status.busy": "2023-06-06T16:46:26.846266Z",
          "iopub.execute_input": "2023-06-06T16:46:26.846665Z",
          "iopub.status.idle": "2023-06-06T16:46:29.263059Z",
          "shell.execute_reply.started": "2023-06-06T16:46:26.846629Z",
          "shell.execute_reply": "2023-06-06T16:46:29.261222Z"
        },
        "trusted": true,
        "id": "HzHjhvwpIGjL"
      },
      "execution_count": null,
      "outputs": []
    },
    {
      "cell_type": "code",
      "source": [
        "def respond_to_dialog(texts):\n",
        "    prefix = '\\nx:'\n",
        "    for i, t in enumerate(texts):\n",
        "        prefix += t\n",
        "        prefix += '\\nx:' if i % 2 == 1 else '\\ny:'\n",
        "    tokens = tokenizer(prefix, return_tensors='pt')\n",
        "    tokens = {k: v.to(model.device) for k, v in tokens.items()}\n",
        "    end_token_id = tokenizer.encode('\\n')[0]\n",
        "    size = tokens['input_ids'].shape[1]\n",
        "    output = model.generate(\n",
        "        **tokens, \n",
        "        eos_token_id=end_token_id,\n",
        "        do_sample=True, \n",
        "        max_length=size+128, \n",
        "        repetition_penalty=3.2, \n",
        "        temperature=1,\n",
        "        num_beams=1,\n",
        "        length_penalty=0.01,\n",
        "        pad_token_id=tokenizer.eos_token_id\n",
        "    )\n",
        "    decoded = tokenizer.decode(output[0])\n",
        "    result = re.findall(r'\\ny:(.+)', decoded)[-1] \n",
        "    return result.strip()"
      ],
      "metadata": {
        "execution": {
          "iopub.status.busy": "2023-06-06T16:48:09.404631Z",
          "iopub.execute_input": "2023-06-06T16:48:09.405009Z",
          "iopub.status.idle": "2023-06-06T16:48:09.413062Z",
          "shell.execute_reply.started": "2023-06-06T16:48:09.404976Z",
          "shell.execute_reply": "2023-06-06T16:48:09.412164Z"
        },
        "trusted": true,
        "id": "7nXn429oIGjL"
      },
      "execution_count": null,
      "outputs": []
    },
    {
      "cell_type": "code",
      "source": [
        "seed = input('Начните диалог с ботом любой фразой\\n')\n",
        "history = [seed]\n",
        "while True:\n",
        "    result = respond_to_dialog(history[-10:])\n",
        "    next_sentence = input(result + '\\n')\n",
        "    if next_sentence == 'Стоп':\n",
        "        break\n",
        "    history.append(result)\n",
        "    history.append(next_sentence)"
      ],
      "metadata": {
        "execution": {
          "iopub.status.busy": "2023-06-06T16:48:12.458427Z",
          "iopub.execute_input": "2023-06-06T16:48:12.458791Z",
          "iopub.status.idle": "2023-06-06T16:50:53.239146Z",
          "shell.execute_reply.started": "2023-06-06T16:48:12.458759Z",
          "shell.execute_reply": "2023-06-06T16:50:53.237862Z"
        },
        "trusted": true,
        "id": "rHbL6BynIGjL",
        "outputId": "3141a90f-7ed7-48df-efa2-43279023dedf"
      },
      "execution_count": null,
      "outputs": [
        {
          "output_type": "stream",
          "name": "stdin",
          "text": "Начните диалог с ботом любой фразой\n Очень щекотно\nЗдравствуйте сделайте ванночки с отваром трав(укроп,чеснок) + настой ромашки; Омез на основе смекты (продаётся во многих аптеках ) 2 столовые ложки измельчают и заливают 200мл кипяченой воды. Принимают по 1 чайной ложке 3 раза за приём 20 минут до еды 4-5 раз.; Обратитесь к дерматологу для обследования или самостоятельно покажитесь врачу! Будьте здоровы! Возможны проблемы со щитовидкой!!! Исключить нужно все причины : ожирение, сахарный диабет,, гормоноэнтерит.Проверьте\n Пятки в разные стороны\nКакие жалобы? Покажите больного гинекологу очно. Диагноз поставит врач после осмотра вашего здоровья! С уважением Галина Викторовна П., 59 лет, г Краснодар У меня такая проблема что постоянно тянущие стопы я очень худой сейчас ношу обувь не могу ходить тяжело только если присесть то болит живот спина боль чувствуется когда сяду потом отпустит Потом проходит а ноги так болю Вот как тогда быть? Я хочу попробывать мази какие нибудь но месячных боюсь(( вот правда можно ли их делать которые от давления????или вообще нельзя??? у каждого члена своя симптоматика.... поэтому чтобы определить причину надо обратиться ко\n длинный нос\nВыполните исследование уровня половых желез - эстрогены повышены пролактин кортизол прогестерон ФСГ ЛТг тестотиперсперантал уровень лютеотропных гормональных актов Т4 св друг друга 171 эстрадиола АКДСЛ андрогенов 14 ГСПЕАЛА АСЛОАТФЫ ДЭАСИТТРЕНОВ АТТОЛЕЗОВИЩЕКУ ЩЕТКИЕ ЗВЕРСКАЯ НПС НЕ ОБНИМАЮТСЬ ЕДИНАЯ ПОЛУЖАРНОСТЬ РЕГУЛЯЦИЯ НО В БОЛЬНЫХ И ЧЕРНЫЕ ЗАМ\n стоп\nВозможен остеохондроз грудного отдела позвоночника изза патологии шейном отделе позвоночного канала Возможно искривление осанки Может имеется грыжа межпозвонкового диска Варикозное расширение протрузии дисков Сделайте МРТ головы,ЭКСКЛЮЗИВЫ СОСТОИМОСТИ ЭХО ХИМ ФР ЭхоКГИЧИКАНАМ СПОРТАЛИЗАЦИИ КОНДОСАГА STXYAS RONDSET MATRAMINOS ESC CERLITI DIMGUAL AND LISHAMA FOLF BAP PROMORTA\n Стоп\n"
        }
      ]
    }
  ]
}