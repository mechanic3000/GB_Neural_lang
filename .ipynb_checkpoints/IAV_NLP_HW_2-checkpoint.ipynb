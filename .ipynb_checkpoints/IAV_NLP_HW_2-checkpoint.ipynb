{
 "cells": [
  {
   "cell_type": "code",
   "execution_count": 1,
   "id": "91afd3dd",
   "metadata": {
    "id": "91afd3dd"
   },
   "outputs": [],
   "source": [
    "from collections import Counter\n",
    "\n",
    "import pandas as pd\n",
    "import numpy as np\n",
    "import re\n",
    "\n",
    "from sklearn.metrics import *\n",
    "from sklearn.model_selection import train_test_split\n",
    "from sklearn.linear_model import LogisticRegression\n",
    "from sklearn.feature_extraction.text import CountVectorizer\n",
    "\n",
    "\n",
    "from natasha import Doc, MorphVocab, Segmenter, NewsEmbedding, NewsMorphTagger"
   ]
  },
  {
   "cell_type": "code",
   "execution_count": 2,
   "id": "0f8d01b4",
   "metadata": {
    "colab": {
     "base_uri": "https://localhost:8080/"
    },
    "id": "0f8d01b4",
    "outputId": "85345e8b-67cf-4c1f-f17e-6da835baf28e"
   },
   "outputs": [
    {
     "name": "stderr",
     "output_type": "stream",
     "text": [
      "/var/folders/7c/j0zz_mjs2tn_hc13hmvprwhh0000gn/T/ipykernel_75058/1383244521.py:6: FutureWarning: The frame.append method is deprecated and will be removed from pandas in a future version. Use pandas.concat instead.\n",
      "  df = positive.append(negative)\n"
     ]
    }
   ],
   "source": [
    "# считываем данные и заполняем общий датасет\n",
    "positive = pd.read_csv('positive.csv', sep=';', usecols=[3], names=['text'])\n",
    "positive['label'] = ['positive'] * len(positive)\n",
    "negative = pd.read_csv('negative.csv', sep=';', usecols=[3], names=['text'])\n",
    "negative['label'] = ['negative'] * len(negative)\n",
    "df = positive.append(negative)\n",
    "df.reset_index(inplace=True)"
   ]
  },
  {
   "cell_type": "code",
   "execution_count": 3,
   "id": "68e33903",
   "metadata": {
    "colab": {
     "base_uri": "https://localhost:8080/",
     "height": 206
    },
    "id": "68e33903",
    "outputId": "74021f2d-e500-4f04-b2af-d7393561113c"
   },
   "outputs": [
    {
     "data": {
      "text/html": [
       "<div>\n",
       "<style scoped>\n",
       "    .dataframe tbody tr th:only-of-type {\n",
       "        vertical-align: middle;\n",
       "    }\n",
       "\n",
       "    .dataframe tbody tr th {\n",
       "        vertical-align: top;\n",
       "    }\n",
       "\n",
       "    .dataframe thead th {\n",
       "        text-align: right;\n",
       "    }\n",
       "</style>\n",
       "<table border=\"1\" class=\"dataframe\">\n",
       "  <thead>\n",
       "    <tr style=\"text-align: right;\">\n",
       "      <th></th>\n",
       "      <th>index</th>\n",
       "      <th>text</th>\n",
       "      <th>label</th>\n",
       "    </tr>\n",
       "  </thead>\n",
       "  <tbody>\n",
       "    <tr>\n",
       "      <th>226829</th>\n",
       "      <td>111918</td>\n",
       "      <td>Но не каждый хочет что то исправлять:( http://...</td>\n",
       "      <td>negative</td>\n",
       "    </tr>\n",
       "    <tr>\n",
       "      <th>226830</th>\n",
       "      <td>111919</td>\n",
       "      <td>скучаю так :-( только @taaannyaaa вправляет мо...</td>\n",
       "      <td>negative</td>\n",
       "    </tr>\n",
       "    <tr>\n",
       "      <th>226831</th>\n",
       "      <td>111920</td>\n",
       "      <td>Вот и в школу, в говно это идти уже надо(</td>\n",
       "      <td>negative</td>\n",
       "    </tr>\n",
       "    <tr>\n",
       "      <th>226832</th>\n",
       "      <td>111921</td>\n",
       "      <td>RT @_Them__: @LisaBeroud Тауриэль, не грусти :...</td>\n",
       "      <td>negative</td>\n",
       "    </tr>\n",
       "    <tr>\n",
       "      <th>226833</th>\n",
       "      <td>111922</td>\n",
       "      <td>Такси везет меня на работу. Раздумываю приплат...</td>\n",
       "      <td>negative</td>\n",
       "    </tr>\n",
       "  </tbody>\n",
       "</table>\n",
       "</div>"
      ],
      "text/plain": [
       "         index                                               text     label\n",
       "226829  111918  Но не каждый хочет что то исправлять:( http://...  negative\n",
       "226830  111919  скучаю так :-( только @taaannyaaa вправляет мо...  negative\n",
       "226831  111920          Вот и в школу, в говно это идти уже надо(  negative\n",
       "226832  111921  RT @_Them__: @LisaBeroud Тауриэль, не грусти :...  negative\n",
       "226833  111922  Такси везет меня на работу. Раздумываю приплат...  negative"
      ]
     },
     "execution_count": 3,
     "metadata": {},
     "output_type": "execute_result"
    }
   ],
   "source": [
    "df.tail()"
   ]
  },
  {
   "cell_type": "code",
   "execution_count": 4,
   "id": "1d914228",
   "metadata": {
    "colab": {
     "base_uri": "https://localhost:8080/"
    },
    "id": "1d914228",
    "outputId": "c4b2091c-091c-43b4-d241-6169faab1209"
   },
   "outputs": [
    {
     "name": "stdout",
     "output_type": "stream",
     "text": [
      "<class 'pandas.core.frame.DataFrame'>\n",
      "RangeIndex: 226834 entries, 0 to 226833\n",
      "Data columns (total 3 columns):\n",
      " #   Column  Non-Null Count   Dtype \n",
      "---  ------  --------------   ----- \n",
      " 0   index   226834 non-null  int64 \n",
      " 1   text    226834 non-null  object\n",
      " 2   label   226834 non-null  object\n",
      "dtypes: int64(1), object(2)\n",
      "memory usage: 5.2+ MB\n"
     ]
    }
   ],
   "source": [
    "df.info()"
   ]
  },
  {
   "cell_type": "code",
   "execution_count": 5,
   "id": "b2c0da74",
   "metadata": {
    "id": "b2c0da74"
   },
   "outputs": [],
   "source": [
    "# уберем ники юзеров\n",
    "def rem_user_nick(text):\n",
    "    return re.sub(\"@[\\w]*\", '', text)\n",
    "\n",
    "\n",
    "\n",
    "df['text'] = df.text.apply(lambda x: rem_user_nick(x))"
   ]
  },
  {
   "cell_type": "markdown",
   "id": "c817bcd8",
   "metadata": {
    "id": "c817bcd8"
   },
   "source": [
    "Проведем лемматизацию"
   ]
  },
  {
   "cell_type": "code",
   "execution_count": 6,
   "id": "8fd44216",
   "metadata": {
    "id": "8fd44216"
   },
   "outputs": [],
   "source": [
    "segmenter = Segmenter()\n",
    "morph_vocab = MorphVocab()\n",
    "emb = NewsEmbedding()\n",
    "morph_tagger = NewsMorphTagger(emb)\n",
    "\n",
    "def natasha_lemmatize(text):\n",
    "  doc = Doc(text)\n",
    "  doc.segment(segmenter)\n",
    "  doc.tag_morph(morph_tagger)\n",
    "  for token in doc.tokens:\n",
    "    token.lemmatize(morph_vocab)\n",
    "  return \" \".join(_.lemma for _ in doc.tokens)"
   ]
  },
  {
   "cell_type": "code",
   "execution_count": 7,
   "id": "bdc45d41",
   "metadata": {
    "colab": {
     "base_uri": "https://localhost:8080/",
     "height": 36
    },
    "id": "bdc45d41",
    "outputId": "22c144e2-71a8-4993-e79e-efb62d005e04"
   },
   "outputs": [
    {
     "data": {
      "text/plain": [
       "' смотри там случайно в аспирантуру не попади, наука никого до добра не доводила)'"
      ]
     },
     "execution_count": 7,
     "metadata": {},
     "output_type": "execute_result"
    }
   ],
   "source": [
    "df['text'][15]"
   ]
  },
  {
   "cell_type": "code",
   "execution_count": 8,
   "id": "b13c935f",
   "metadata": {
    "colab": {
     "base_uri": "https://localhost:8080/",
     "height": 36
    },
    "id": "b13c935f",
    "outputId": "d50fee44-ab43-4223-e706-e327af1b4f5b"
   },
   "outputs": [
    {
     "data": {
      "text/plain": [
       "'смотри там случайно в аспирантура не попади , наука никто до добро не доводить )'"
      ]
     },
     "execution_count": 8,
     "metadata": {},
     "output_type": "execute_result"
    }
   ],
   "source": [
    "natasha_lemmatize(df['text'][15])"
   ]
  },
  {
   "cell_type": "code",
   "execution_count": 9,
   "id": "1428cf57",
   "metadata": {
    "colab": {
     "base_uri": "https://localhost:8080/",
     "height": 243
    },
    "id": "1428cf57",
    "outputId": "736eb97f-c5d8-4701-b27c-a4b8dd81c00d"
   },
   "outputs": [
    {
     "name": "stdout",
     "output_type": "stream",
     "text": [
      "CPU times: user 21min 49s, sys: 22.1 s, total: 22min 11s\n",
      "Wall time: 11min 37s\n"
     ]
    },
    {
     "data": {
      "text/html": [
       "<div>\n",
       "<style scoped>\n",
       "    .dataframe tbody tr th:only-of-type {\n",
       "        vertical-align: middle;\n",
       "    }\n",
       "\n",
       "    .dataframe tbody tr th {\n",
       "        vertical-align: top;\n",
       "    }\n",
       "\n",
       "    .dataframe thead th {\n",
       "        text-align: right;\n",
       "    }\n",
       "</style>\n",
       "<table border=\"1\" class=\"dataframe\">\n",
       "  <thead>\n",
       "    <tr style=\"text-align: right;\">\n",
       "      <th></th>\n",
       "      <th>index</th>\n",
       "      <th>text</th>\n",
       "      <th>label</th>\n",
       "      <th>lemmatize_tweet</th>\n",
       "    </tr>\n",
       "  </thead>\n",
       "  <tbody>\n",
       "    <tr>\n",
       "      <th>0</th>\n",
       "      <td>0</td>\n",
       "      <td>хоть я и школота, но поверь, у нас то же само...</td>\n",
       "      <td>positive</td>\n",
       "      <td>хоть я и школоть , но поверь , у мы тот же сам...</td>\n",
       "    </tr>\n",
       "    <tr>\n",
       "      <th>1</th>\n",
       "      <td>1</td>\n",
       "      <td>Да, все-таки он немного похож на него. Но мой ...</td>\n",
       "      <td>positive</td>\n",
       "      <td>да , все-таки он немного похожий на он . но мо...</td>\n",
       "    </tr>\n",
       "    <tr>\n",
       "      <th>2</th>\n",
       "      <td>2</td>\n",
       "      <td>RT : Ну ты идиотка) я испугалась за тебя!!!</td>\n",
       "      <td>positive</td>\n",
       "      <td>rt : ну ты идиотка ) я испугаться за ты !!!</td>\n",
       "    </tr>\n",
       "    <tr>\n",
       "      <th>3</th>\n",
       "      <td>3</td>\n",
       "      <td>RT : \"Кто то в углу сидит и погибает от голода...</td>\n",
       "      <td>positive</td>\n",
       "      <td>rt : \" кто тот в угол сидеть и погибать от гол...</td>\n",
       "    </tr>\n",
       "    <tr>\n",
       "      <th>4</th>\n",
       "      <td>4</td>\n",
       "      <td>Вот что значит страшилка :D\\nНо блин,посмотре...</td>\n",
       "      <td>positive</td>\n",
       "      <td>вот что значить страшилка : d но блин , посмот...</td>\n",
       "    </tr>\n",
       "  </tbody>\n",
       "</table>\n",
       "</div>"
      ],
      "text/plain": [
       "   index                                               text     label  \\\n",
       "0      0   хоть я и школота, но поверь, у нас то же само...  positive   \n",
       "1      1  Да, все-таки он немного похож на него. Но мой ...  positive   \n",
       "2      2        RT : Ну ты идиотка) я испугалась за тебя!!!  positive   \n",
       "3      3  RT : \"Кто то в углу сидит и погибает от голода...  positive   \n",
       "4      4   Вот что значит страшилка :D\\nНо блин,посмотре...  positive   \n",
       "\n",
       "                                     lemmatize_tweet  \n",
       "0  хоть я и школоть , но поверь , у мы тот же сам...  \n",
       "1  да , все-таки он немного похожий на он . но мо...  \n",
       "2        rt : ну ты идиотка ) я испугаться за ты !!!  \n",
       "3  rt : \" кто тот в угол сидеть и погибать от гол...  \n",
       "4  вот что значить страшилка : d но блин , посмот...  "
      ]
     },
     "execution_count": 9,
     "metadata": {},
     "output_type": "execute_result"
    }
   ],
   "source": [
    "%%time \n",
    "\n",
    "df['lemmatize_tweet'] = df['text'].apply(lambda x: natasha_lemmatize(x))\n",
    "df.head(5)"
   ]
  },
  {
   "cell_type": "markdown",
   "id": "570d21c4",
   "metadata": {
    "id": "570d21c4"
   },
   "source": [
    "Отобразим частотность токенов"
   ]
  },
  {
   "cell_type": "code",
   "execution_count": 10,
   "id": "1b50b158",
   "metadata": {
    "colab": {
     "base_uri": "https://localhost:8080/"
    },
    "id": "1b50b158",
    "outputId": "c4596113-d07a-427d-a14a-1511abd30e65"
   },
   "outputs": [
    {
     "name": "stderr",
     "output_type": "stream",
     "text": [
      "[nltk_data] Downloading package punkt to /Users/alexey/nltk_data...\n",
      "[nltk_data]   Package punkt is already up-to-date!\n"
     ]
    },
    {
     "data": {
      "text/plain": [
       "True"
      ]
     },
     "execution_count": 10,
     "metadata": {},
     "output_type": "execute_result"
    }
   ],
   "source": [
    "from nltk.tokenize import word_tokenize\n",
    "from string import punctuation\n",
    "\n",
    "import nltk\n",
    "nltk.download('punkt')"
   ]
  },
  {
   "cell_type": "code",
   "execution_count": 15,
   "id": "7457f998",
   "metadata": {
    "colab": {
     "base_uri": "https://localhost:8080/"
    },
    "id": "7457f998",
    "outputId": "45055cad-861b-4411-b57e-d93f1a3c95cc"
   },
   "outputs": [
    {
     "name": "stdout",
     "output_type": "stream",
     "text": [
      "2888454\n"
     ]
    },
    {
     "data": {
      "text/plain": [
       "['хоть', 'я', 'и', 'школоть', 'но', 'поверь', 'у', 'мы', 'тот', 'же']"
      ]
     },
     "execution_count": 15,
     "metadata": {},
     "output_type": "execute_result"
    }
   ],
   "source": [
    "corpus = [token for tweet in df.lemmatize_tweet for token in word_tokenize(tweet) if token not in punctuation]\n",
    "print(len(corpus))\n",
    "corpus[:10]"
   ]
  },
  {
   "cell_type": "code",
   "execution_count": 16,
   "id": "9b0cd220",
   "metadata": {
    "colab": {
     "base_uri": "https://localhost:8080/"
    },
    "id": "9b0cd220",
    "outputId": "b628de32-461e-4e78-9005-196175dc851c"
   },
   "outputs": [
    {
     "data": {
      "text/plain": [
       "[('я', 107971),\n",
       " ('не', 74881),\n",
       " ('и', 60848),\n",
       " ('в', 59053),\n",
       " ('на', 38153),\n",
       " ('rt', 38132),\n",
       " ('что', 37622),\n",
       " ('а', 36180),\n",
       " ('t', 33829),\n",
       " ('с', 33266)]"
      ]
     },
     "execution_count": 16,
     "metadata": {},
     "output_type": "execute_result"
    }
   ],
   "source": [
    "freq_dict = Counter(corpus)\n",
    "freq_dict_sorted= sorted(freq_dict.items(), key=lambda x: -x[1])\n",
    "list(freq_dict_sorted)[:10]"
   ]
  },
  {
   "cell_type": "code",
   "execution_count": 17,
   "id": "cca5c26d",
   "metadata": {
    "colab": {
     "base_uri": "https://localhost:8080/",
     "height": 430
    },
    "id": "cca5c26d",
    "outputId": "72eb51ce-b804-4736-f7a5-f41a5f439d60"
   },
   "outputs": [
    {
     "data": {
      "image/png": "[encoded data removed]",
      "text/plain": [
       "<Figure size 640x480 with 1 Axes>"
      ]
     },
     "metadata": {},
     "output_type": "display_data"
    }
   ],
   "source": [
    "import matplotlib.pyplot as plt\n",
    "%matplotlib inline\n",
    "first_100_freqs = [freq for word, freq in freq_dict_sorted[:1000]]\n",
    "plt.plot(first_100_freqs)\n",
    "plt.show()"
   ]
  },
  {
   "cell_type": "markdown",
   "id": "4f3b0472",
   "metadata": {
    "id": "4f3b0472"
   },
   "source": [
    "### Задание 1.\n",
    "Задание: обучите три классификатора:\n",
    "\n",
    "1) на токенах с высокой частотой\n",
    "\n",
    "2) на токенах со средней частотой\n",
    "\n",
    "3) на токенах с низкой частотой\n",
    "\n",
    "Сравните полученные результаты, оцените какие токены наиболее важные для классификации."
   ]
  },
  {
   "cell_type": "markdown",
   "id": "09811102",
   "metadata": {
    "id": "09811102"
   },
   "source": [
    "Разделим токены на три группы по чатотности"
   ]
  },
  {
   "cell_type": "code",
   "execution_count": 18,
   "id": "fcc1f865",
   "metadata": {
    "id": "fcc1f865"
   },
   "outputs": [],
   "source": [
    "hight_freq_tokens = [_[0] for _ in freq_dict.most_common(60000)][:20000]\n",
    "average_freq_tokens = [_[0] for _ in freq_dict.most_common(60000)][20000:40000]\n",
    "low_freq_tokens = [_[0] for _ in freq_dict.most_common(60000)][40000:]"
   ]
  },
  {
   "cell_type": "code",
   "execution_count": 19,
   "id": "ba9a50e0",
   "metadata": {
    "colab": {
     "base_uri": "https://localhost:8080/"
    },
    "id": "ba9a50e0",
    "outputId": "7e4bf182-bb71-4627-ecb3-7ee701c6553a"
   },
   "outputs": [
    {
     "data": {
      "text/plain": [
       "['я',\n",
       " 'не',\n",
       " 'и',\n",
       " 'в',\n",
       " 'на',\n",
       " 'rt',\n",
       " 'что',\n",
       " 'а',\n",
       " 't',\n",
       " 'с',\n",
       " 'http',\n",
       " 'co',\n",
       " 'быть',\n",
       " 'ты',\n",
       " 'весь']"
      ]
     },
     "execution_count": 19,
     "metadata": {},
     "output_type": "execute_result"
    }
   ],
   "source": [
    "hight_freq_tokens[:15]"
   ]
  },
  {
   "cell_type": "markdown",
   "id": "55c623e3",
   "metadata": {
    "id": "55c623e3"
   },
   "source": [
    "Обучим классификатор на высокочастотных токенах"
   ]
  },
  {
   "cell_type": "code",
   "execution_count": 18,
   "id": "175af18c",
   "metadata": {
    "id": "175af18c"
   },
   "outputs": [],
   "source": [
    "x_train, x_test, y_train, y_test = train_test_split(df.lemmatize_tweet, df.label)"
   ]
  },
  {
   "cell_type": "code",
   "execution_count": 11,
   "id": "a5342ac5",
   "metadata": {
    "colab": {
     "base_uri": "https://localhost:8080/"
    },
    "id": "a5342ac5",
    "outputId": "9b06b9cb-1529-447a-966b-dbb4187583d4"
   },
   "outputs": [
    {
     "name": "stderr",
     "output_type": "stream",
     "text": [
      "[nltk_data] Downloading package stopwords to\n",
      "[nltk_data]     /Users/alexey/nltk_data...\n",
      "[nltk_data]   Package stopwords is already up-to-date!\n"
     ]
    },
    {
     "data": {
      "text/plain": [
       "True"
      ]
     },
     "execution_count": 11,
     "metadata": {},
     "output_type": "execute_result"
    }
   ],
   "source": [
    "from string import punctuation\n",
    "from nltk.tokenize import word_tokenize\n",
    "from nltk import download as n_dl\n",
    "from nltk.corpus import stopwords\n",
    "n_dl('stopwords')"
   ]
  },
  {
   "cell_type": "code",
   "execution_count": 16,
   "id": "fd51275e",
   "metadata": {
    "id": "fd51275e"
   },
   "outputs": [],
   "source": [
    "noise = stopwords.words('russian') + list(punctuation)"
   ]
  },
  {
   "cell_type": "code",
   "execution_count": 23,
   "id": "ed58cfda",
   "metadata": {
    "colab": {
     "base_uri": "https://localhost:8080/"
    },
    "id": "ed58cfda",
    "outputId": "d923c436-ee25-432c-8460-3a736bcf425d"
   },
   "outputs": [
    {
     "name": "stderr",
     "output_type": "stream",
     "text": [
      "/usr/local/lib/python3.9/dist-packages/sklearn/feature_extraction/text.py:528: UserWarning: The parameter 'token_pattern' will not be used since 'tokenizer' is not None'\n",
      "  warnings.warn(\n",
      "/usr/local/lib/python3.9/dist-packages/sklearn/feature_extraction/text.py:409: UserWarning: Your stop_words may be inconsistent with your preprocessing. Tokenizing the stop words generated tokens ['``'] not in stop_words.\n",
      "  warnings.warn(\n"
     ]
    },
    {
     "name": "stdout",
     "output_type": "stream",
     "text": [
      "              precision    recall  f1-score   support\n",
      "\n",
      "    negative       0.77      0.74      0.75     29123\n",
      "    positive       0.73      0.77      0.75     27586\n",
      "\n",
      "    accuracy                           0.75     56709\n",
      "   macro avg       0.75      0.75      0.75     56709\n",
      "weighted avg       0.75      0.75      0.75     56709\n",
      "\n",
      "CPU times: user 48.9 s, sys: 2.63 s, total: 51.6 s\n",
      "Wall time: 53.8 s\n"
     ]
    }
   ],
   "source": [
    "%%time\n",
    "\n",
    "vec = CountVectorizer(ngram_range=(1, 1), tokenizer=word_tokenize, stop_words=noise, vocabulary=hight_freq_tokens)\n",
    "bow = vec.fit_transform(x_train)\n",
    "clf = LogisticRegression(random_state=42, solver='liblinear')\n",
    "clf.fit(bow, y_train)\n",
    "pred = clf.predict(vec.transform(x_test))\n",
    "print(classification_report(pred, y_test))"
   ]
  },
  {
   "cell_type": "markdown",
   "id": "1115338c",
   "metadata": {
    "id": "1115338c"
   },
   "source": [
    "-- на среднечастотных токенах"
   ]
  },
  {
   "cell_type": "code",
   "execution_count": 24,
   "id": "903107f0",
   "metadata": {
    "colab": {
     "base_uri": "https://localhost:8080/"
    },
    "id": "903107f0",
    "outputId": "4d6ddd26-b04f-4b2e-999c-13fd416cc30e"
   },
   "outputs": [
    {
     "name": "stderr",
     "output_type": "stream",
     "text": [
      "/usr/local/lib/python3.9/dist-packages/sklearn/feature_extraction/text.py:528: UserWarning: The parameter 'token_pattern' will not be used since 'tokenizer' is not None'\n",
      "  warnings.warn(\n",
      "/usr/local/lib/python3.9/dist-packages/sklearn/feature_extraction/text.py:409: UserWarning: Your stop_words may be inconsistent with your preprocessing. Tokenizing the stop words generated tokens ['``'] not in stop_words.\n",
      "  warnings.warn(\n"
     ]
    },
    {
     "name": "stdout",
     "output_type": "stream",
     "text": [
      "              precision    recall  f1-score   support\n",
      "\n",
      "    negative       0.93      0.51      0.66     50479\n",
      "    positive       0.15      0.69      0.25      6230\n",
      "\n",
      "    accuracy                           0.53     56709\n",
      "   macro avg       0.54      0.60      0.45     56709\n",
      "weighted avg       0.85      0.53      0.62     56709\n",
      "\n",
      "CPU times: user 44.7 s, sys: 266 ms, total: 45 s\n",
      "Wall time: 45.8 s\n"
     ]
    }
   ],
   "source": [
    "%%time\n",
    "\n",
    "vec = CountVectorizer(ngram_range=(1, 1), tokenizer=word_tokenize, stop_words=noise, vocabulary=average_freq_tokens)\n",
    "bow = vec.fit_transform(x_train)\n",
    "clf = LogisticRegression(random_state=42, solver='liblinear')\n",
    "clf.fit(bow, y_train)\n",
    "pred = clf.predict(vec.transform(x_test))\n",
    "print(classification_report(pred, y_test))"
   ]
  },
  {
   "cell_type": "markdown",
   "id": "94405ce1",
   "metadata": {
    "id": "94405ce1"
   },
   "source": [
    "-- на низкочастотных токенах"
   ]
  },
  {
   "cell_type": "code",
   "execution_count": 25,
   "id": "8bd89836",
   "metadata": {
    "colab": {
     "base_uri": "https://localhost:8080/"
    },
    "id": "8bd89836",
    "outputId": "f35ea735-576c-4ace-e76f-2751e2fec552"
   },
   "outputs": [
    {
     "name": "stderr",
     "output_type": "stream",
     "text": [
      "/usr/local/lib/python3.9/dist-packages/sklearn/feature_extraction/text.py:528: UserWarning: The parameter 'token_pattern' will not be used since 'tokenizer' is not None'\n",
      "  warnings.warn(\n",
      "/usr/local/lib/python3.9/dist-packages/sklearn/feature_extraction/text.py:409: UserWarning: Your stop_words may be inconsistent with your preprocessing. Tokenizing the stop words generated tokens ['``'] not in stop_words.\n",
      "  warnings.warn(\n"
     ]
    },
    {
     "name": "stdout",
     "output_type": "stream",
     "text": [
      "              precision    recall  f1-score   support\n",
      "\n",
      "    negative       0.05      0.68      0.09      1998\n",
      "    positive       0.98      0.52      0.68     54711\n",
      "\n",
      "    accuracy                           0.52     56709\n",
      "   macro avg       0.51      0.60      0.38     56709\n",
      "weighted avg       0.95      0.52      0.66     56709\n",
      "\n",
      "CPU times: user 45.7 s, sys: 288 ms, total: 46 s\n",
      "Wall time: 46.5 s\n"
     ]
    }
   ],
   "source": [
    "%%time\n",
    "\n",
    "vec = CountVectorizer(ngram_range=(1, 1), tokenizer=word_tokenize, stop_words=noise, vocabulary=low_freq_tokens)\n",
    "bow = vec.fit_transform(x_train)\n",
    "clf = LogisticRegression(random_state=42, solver='liblinear')\n",
    "clf.fit(bow, y_train)\n",
    "pred = clf.predict(vec.transform(x_test))\n",
    "print(classification_report(pred, y_test))"
   ]
  },
  {
   "cell_type": "markdown",
   "id": "cb281ab4",
   "metadata": {
    "id": "cb281ab4"
   },
   "source": [
    "#### Вывод:\n",
    "Опираясь на полученные оценки можно сделать вывод, что для задачи классификации наиболее важными следует считать высокочастотные токены"
   ]
  },
  {
   "cell_type": "markdown",
   "id": "7c52bc18",
   "metadata": {
    "id": "7c52bc18"
   },
   "source": [
    "### Задание 2.\n",
    "найти фичи с наибольшей значимостью, и вывести их"
   ]
  },
  {
   "cell_type": "code",
   "execution_count": 26,
   "id": "f6cb49fe",
   "metadata": {
    "colab": {
     "base_uri": "https://localhost:8080/"
    },
    "id": "f6cb49fe",
    "outputId": "c234b4b5-1d11-4b00-933d-ba090269fa8a",
    "scrolled": true
   },
   "outputs": [
    {
     "name": "stderr",
     "output_type": "stream",
     "text": [
      "/usr/local/lib/python3.9/dist-packages/sklearn/feature_extraction/text.py:528: UserWarning: The parameter 'token_pattern' will not be used since 'tokenizer' is not None'\n",
      "  warnings.warn(\n",
      "/usr/local/lib/python3.9/dist-packages/sklearn/feature_extraction/text.py:409: UserWarning: Your stop_words may be inconsistent with your preprocessing. Tokenizing the stop words generated tokens ['``'] not in stop_words.\n",
      "  warnings.warn(\n"
     ]
    }
   ],
   "source": [
    "vec = CountVectorizer(ngram_range=(1, 1), tokenizer=word_tokenize, stop_words=noise, vocabulary=hight_freq_tokens)\n",
    "bow = vec.fit_transform(x_train)\n",
    "clf = LogisticRegression(random_state=42, solver='liblinear')\n",
    "clf.fit(bow, y_train)\n",
    "pred = clf.predict(vec.transform(x_test))"
   ]
  },
  {
   "cell_type": "code",
   "execution_count": 27,
   "id": "2536b59a",
   "metadata": {
    "colab": {
     "base_uri": "https://localhost:8080/"
    },
    "id": "2536b59a",
    "outputId": "f381efe2-89f6-4166-ad5f-1594485f6296"
   },
   "outputs": [
    {
     "data": {
      "text/plain": [
       "array([ 3103,  2467,  4180,  6258,  4482,  7112, 10786,  2001,  8849,\n",
       "       17432,  8411,  5928,  1139,  6766,  8053,  4398,  6179,   981,\n",
       "        7003,  3917, 15845,  1714,  5238,  3125,  2606,  1450,  1250,\n",
       "         486,    21,   237])"
      ]
     },
     "execution_count": 27,
     "metadata": {},
     "output_type": "execute_result"
    }
   ],
   "source": [
    "coefs = clf.coef_[0]\n",
    "top_coefs = np.argsort(coefs)[-30:]\n",
    "top_coefs"
   ]
  },
  {
   "cell_type": "code",
   "execution_count": 28,
   "id": "e2363254",
   "metadata": {
    "colab": {
     "base_uri": "https://localhost:8080/"
    },
    "id": "e2363254",
    "outputId": "ad90d10b-1067-46be-da68-64fa92431b35"
   },
   "outputs": [
    {
     "name": "stdout",
     "output_type": "stream",
     "text": [
      "('dd', 237)\n",
      "('d', 21)\n",
      "('ddd', 486)\n",
      "('dddd', 1250)\n",
      "('xd', 1450)\n",
      "('ddddd', 2606)\n",
      "('ахаххах', 3125)\n",
      "('dddddd', 5238)\n",
      "('ахахи', 1714)\n",
      "('запарен', 15845)\n",
      "('спасииибо', 3917)\n",
      "('мести', 7003)\n",
      "('ахахахах', 981)\n",
      "('улыбнуло', 6179)\n",
      "('аах', 4398)\n",
      "('эротический', 8053)\n",
      "('лучирадостиотрадость', 6766)\n",
      "('хахах', 1139)\n",
      "('баярлалаа', 5928)\n",
      "('листаться', 8411)\n",
      "('аццки', 17432)\n",
      "('бибагадаа', 8849)\n",
      "('прикольно', 2001)\n",
      "('закопать', 10786)\n",
      "('север', 7112)\n",
      "('сметана', 4482)\n",
      "('уругвай', 6258)\n",
      "('опрос', 4180)\n",
      "('ржа', 2467)\n",
      "('умничка', 3103)\n"
     ]
    }
   ],
   "source": [
    "tokens = list(vec.vocabulary_.items())\n",
    "for _ in reversed(top_coefs):\n",
    "    print(tokens[_])"
   ]
  },
  {
   "cell_type": "markdown",
   "id": "2f531273",
   "metadata": {
    "id": "2f531273"
   },
   "source": [
    "### Задание 3.\n",
    "1) сравнить count/tf-idf/hashing векторайзеры/полносвязанную сетку (построить classification_report)\n",
    "\n",
    "2) подобрать оптимальный размер для hashing векторайзера\n",
    "\n",
    "3) убедиться что для сетки нет переобучения"
   ]
  },
  {
   "cell_type": "code",
   "execution_count": 29,
   "id": "b7cbb885",
   "metadata": {
    "colab": {
     "base_uri": "https://localhost:8080/"
    },
    "id": "b7cbb885",
    "outputId": "7e4bb92b-4f84-4cff-d975-6f28ff95c3a7"
   },
   "outputs": [
    {
     "name": "stderr",
     "output_type": "stream",
     "text": [
      "/usr/local/lib/python3.9/dist-packages/sklearn/feature_extraction/text.py:528: UserWarning: The parameter 'token_pattern' will not be used since 'tokenizer' is not None'\n",
      "  warnings.warn(\n",
      "/usr/local/lib/python3.9/dist-packages/sklearn/feature_extraction/text.py:409: UserWarning: Your stop_words may be inconsistent with your preprocessing. Tokenizing the stop words generated tokens ['``'] not in stop_words.\n",
      "  warnings.warn(\n"
     ]
    }
   ],
   "source": [
    "from sklearn.feature_extraction.text import TfidfVectorizer\n",
    "\n",
    "vec = TfidfVectorizer(ngram_range=(1, 1), tokenizer=word_tokenize, stop_words=noise, vocabulary=hight_freq_tokens)\n",
    "bow = vec.fit_transform(x_train)\n",
    "clf = LogisticRegression(random_state=42, solver='liblinear')\n",
    "clf.fit(bow, y_train)\n",
    "pred = clf.predict(vec.transform(x_test))"
   ]
  },
  {
   "cell_type": "code",
   "execution_count": 30,
   "id": "bb4d697c",
   "metadata": {
    "colab": {
     "base_uri": "https://localhost:8080/"
    },
    "id": "bb4d697c",
    "outputId": "873d738c-a541-4b62-bf18-639c19026282"
   },
   "outputs": [
    {
     "name": "stdout",
     "output_type": "stream",
     "text": [
      "              precision    recall  f1-score   support\n",
      "\n",
      "    negative       0.76      0.74      0.75     28299\n",
      "    positive       0.75      0.76      0.75     28410\n",
      "\n",
      "    accuracy                           0.75     56709\n",
      "   macro avg       0.75      0.75      0.75     56709\n",
      "weighted avg       0.75      0.75      0.75     56709\n",
      "\n"
     ]
    }
   ],
   "source": [
    "print(classification_report(pred, y_test))"
   ]
  },
  {
   "cell_type": "code",
   "execution_count": 14,
   "id": "4268bfd8",
   "metadata": {},
   "outputs": [],
   "source": [
    "from sklearn.feature_extraction.text import HashingVectorizer"
   ]
  },
  {
   "cell_type": "code",
   "execution_count": 48,
   "id": "b4b09b64",
   "metadata": {
    "colab": {
     "base_uri": "https://localhost:8080/"
    },
    "id": "b4b09b64",
    "outputId": "e1800917-cd3e-4fc6-8c68-ee1201bcd806"
   },
   "outputs": [
    {
     "name": "stderr",
     "output_type": "stream",
     "text": [
      "/usr/local/lib/python3.9/dist-packages/sklearn/feature_extraction/text.py:528: UserWarning: The parameter 'token_pattern' will not be used since 'tokenizer' is not None'\n",
      "  warnings.warn(\n",
      "/usr/local/lib/python3.9/dist-packages/sklearn/feature_extraction/text.py:409: UserWarning: Your stop_words may be inconsistent with your preprocessing. Tokenizing the stop words generated tokens ['``'] not in stop_words.\n",
      "  warnings.warn(\n"
     ]
    },
    {
     "name": "stdout",
     "output_type": "stream",
     "text": [
      "              precision    recall  f1-score   support\n",
      "\n",
      "    negative       0.76      0.74      0.75     28396\n",
      "    positive       0.75      0.76      0.75     28313\n",
      "\n",
      "    accuracy                           0.75     56709\n",
      "   macro avg       0.75      0.75      0.75     56709\n",
      "weighted avg       0.75      0.75      0.75     56709\n",
      "\n"
     ]
    }
   ],
   "source": [
    "vec = HashingVectorizer(ngram_range=(1, 1), tokenizer=word_tokenize, stop_words=noise)\n",
    "bow = vec.fit_transform(x_train)\n",
    "clf = LogisticRegression(random_state=42, solver='liblinear')\n",
    "clf.fit(bow, y_train)\n",
    "pred = clf.predict(vec.transform(x_test))\n",
    "\n",
    "print(classification_report(pred, y_test))"
   ]
  },
  {
   "cell_type": "markdown",
   "id": "d387fb0b",
   "metadata": {
    "id": "d387fb0b"
   },
   "source": [
    "Обучим сетку"
   ]
  },
  {
   "cell_type": "code",
   "execution_count": 38,
   "id": "229d43db",
   "metadata": {
    "id": "229d43db"
   },
   "outputs": [],
   "source": [
    "import tensorflow as tf\n",
    "\n",
    "from tensorflow.data import Dataset\n",
    "\n",
    "from tensorflow.keras import Sequential\n",
    "from tensorflow.keras.layers import Dense, Embedding, GlobalAveragePooling1D, Conv1D, GRU, LSTM, Dropout\n",
    "from tensorflow.keras.layers.experimental.preprocessing import TextVectorization"
   ]
  },
  {
   "cell_type": "code",
   "execution_count": 33,
   "id": "fe8a425e",
   "metadata": {
    "id": "fe8a425e"
   },
   "outputs": [],
   "source": [
    "# переведем лэйблы в бинарный вид\n",
    "y_train_bin = np.where(y_train == 'positive', 1, 0)\n",
    "y_test_bin = np.where(y_test == 'positive', 1, 0)"
   ]
  },
  {
   "cell_type": "code",
   "execution_count": 34,
   "id": "d572a795",
   "metadata": {
    "id": "d572a795"
   },
   "outputs": [],
   "source": [
    "train_data = Dataset.from_tensor_slices((x_train, y_train_bin))\n",
    "valid_data = Dataset.from_tensor_slices((x_test, y_test_bin))"
   ]
  },
  {
   "cell_type": "code",
   "execution_count": 35,
   "id": "7d994292",
   "metadata": {
    "id": "7d994292"
   },
   "outputs": [],
   "source": [
    "train_data = train_data.batch(32)\n",
    "valid_data = valid_data.batch(32)"
   ]
  },
  {
   "cell_type": "code",
   "execution_count": 39,
   "id": "5f14edec",
   "metadata": {
    "id": "5f14edec"
   },
   "outputs": [],
   "source": [
    "AUTOTUNE = tf.data.AUTOTUNE\n",
    "\n",
    "train_data = train_data.cache().prefetch(buffer_size=AUTOTUNE)\n",
    "valid_data = valid_data.cache().prefetch(buffer_size=AUTOTUNE)"
   ]
  },
  {
   "cell_type": "code",
   "execution_count": 40,
   "id": "88d8d68c",
   "metadata": {
    "id": "88d8d68c"
   },
   "outputs": [],
   "source": [
    "def custom_standardization(input_data):\n",
    "    \n",
    "    return input_data\n",
    "\n",
    "vocab_size = 15000\n",
    "seq_len = 140\n",
    "\n",
    "vectorize_layer = TextVectorization(\n",
    "    standardize=custom_standardization,\n",
    "    max_tokens=vocab_size,\n",
    "    output_mode='int',\n",
    "    output_sequence_length=seq_len)\n",
    "\n",
    "# Make a text-only dataset (no labels) and call adapt to build the vocabulary.\n",
    "text_data = train_data.map(lambda x, y: x)\n",
    "vectorize_layer.adapt(text_data)"
   ]
  },
  {
   "cell_type": "code",
   "execution_count": 41,
   "id": "a93cd1b9",
   "metadata": {
    "id": "a93cd1b9"
   },
   "outputs": [],
   "source": [
    "embedding_dim=250\n",
    "\n",
    "model = Sequential([\n",
    "    vectorize_layer,\n",
    "    Embedding(vocab_size, embedding_dim),\n",
    "    Conv1D(embedding_dim, 3),\n",
    "    Conv1D(embedding_dim, 2),\n",
    "    GRU(350),\n",
    "    Dense(200, activation='relu'),\n",
    "    Dense(1)\n",
    "])"
   ]
  },
  {
   "cell_type": "code",
   "execution_count": 42,
   "id": "36bb91cc",
   "metadata": {
    "id": "36bb91cc"
   },
   "outputs": [],
   "source": [
    "optimizer = tf.keras.optimizers.Adam(learning_rate=5e-3)\n",
    "model.compile(optimizer=optimizer,\n",
    "              loss=tf.keras.losses.BinaryCrossentropy(from_logits=True),\n",
    "              metrics=['accuracy'])"
   ]
  },
  {
   "cell_type": "code",
   "execution_count": 44,
   "id": "b7692965",
   "metadata": {
    "colab": {
     "base_uri": "https://localhost:8080/"
    },
    "id": "b7692965",
    "outputId": "b9c8e2f7-da45-46df-d3eb-8ff0afb71f67"
   },
   "outputs": [
    {
     "name": "stdout",
     "output_type": "stream",
     "text": [
      "Epoch 1/3\n",
      "5317/5317 [==============================] - 148s 25ms/step - loss: 0.3120 - accuracy: 0.8521 - val_loss: 0.4315 - val_accuracy: 0.7873\n",
      "Epoch 2/3\n",
      "5317/5317 [==============================] - 99s 19ms/step - loss: 0.4064 - accuracy: 0.7868 - val_loss: 0.3467 - val_accuracy: 0.8059\n",
      "Epoch 3/3\n",
      "5317/5317 [==============================] - 99s 19ms/step - loss: 0.3465 - accuracy: 0.8124 - val_loss: 0.3191 - val_accuracy: 0.8051\n"
     ]
    },
    {
     "data": {
      "text/plain": [
       "<keras.callbacks.History at 0x7fbd8757cbb0>"
      ]
     },
     "execution_count": 44,
     "metadata": {},
     "output_type": "execute_result"
    }
   ],
   "source": [
    "model.fit(train_data, validation_data=valid_data, epochs=3)"
   ]
  },
  {
   "cell_type": "code",
   "execution_count": 45,
   "id": "0rprxXRlnFeQ",
   "metadata": {
    "colab": {
     "base_uri": "https://localhost:8080/"
    },
    "id": "0rprxXRlnFeQ",
    "outputId": "d600c4f5-c033-49f3-8fbc-ef6682950c43"
   },
   "outputs": [
    {
     "name": "stdout",
     "output_type": "stream",
     "text": [
      "1773/1773 [==============================] - 15s 8ms/step\n"
     ]
    }
   ],
   "source": [
    "logits = model.predict(valid_data)\n",
    "prediction = tf.round(tf.nn.sigmoid(logits))\n",
    "class_preds = np.where(prediction==1, 'positive', 'negative')"
   ]
  },
  {
   "cell_type": "code",
   "execution_count": 46,
   "id": "a-arpxzQnHZe",
   "metadata": {
    "colab": {
     "base_uri": "https://localhost:8080/"
    },
    "id": "a-arpxzQnHZe",
    "outputId": "fa0f1a1d-f3d8-4abf-d294-d7b46ba828f6"
   },
   "outputs": [
    {
     "name": "stdout",
     "output_type": "stream",
     "text": [
      "              precision    recall  f1-score   support\n",
      "\n",
      "    negative       0.75      0.90      0.82     23079\n",
      "    positive       0.92      0.79      0.85     33630\n",
      "\n",
      "    accuracy                           0.83     56709\n",
      "   macro avg       0.83      0.85      0.83     56709\n",
      "weighted avg       0.85      0.83      0.84     56709\n",
      "\n"
     ]
    }
   ],
   "source": [
    "print(classification_report(class_preds, y_test))"
   ]
  },
  {
   "cell_type": "markdown",
   "id": "ErHX1BnHnbCp",
   "metadata": {
    "id": "ErHX1BnHnbCp"
   },
   "source": [
    "сетка не переобучилась и показала лучший вариант по сравнению с другими моделями"
   ]
  },
  {
   "cell_type": "markdown",
   "id": "IoEEQ2b_nm8f",
   "metadata": {
    "id": "IoEEQ2b_nm8f"
   },
   "source": [
    "Подберем оптимальный размер для HashingVectorizer"
   ]
  },
  {
   "cell_type": "code",
   "execution_count": 12,
   "id": "5k5xU6yYndNr",
   "metadata": {
    "id": "5k5xU6yYndNr"
   },
   "outputs": [],
   "source": [
    "def hashing_vecrorizer(n_features):\n",
    "    vec = HashingVectorizer(ngram_range=(1, 1), tokenizer=word_tokenize, stop_words=noise, n_features=n_features)\n",
    "    bow = vec.fit_transform(x_train)\n",
    "    clf = LogisticRegression(random_state=42, solver='liblinear')\n",
    "    clf.fit(bow, y_train)\n",
    "    pred = clf.predict(vec.transform(x_test))\n",
    "\n",
    "    return classification_report(pred, y_test)"
   ]
  },
  {
   "cell_type": "code",
   "execution_count": 19,
   "id": "Vzlxv7xWo2r6",
   "metadata": {
    "colab": {
     "base_uri": "https://localhost:8080/"
    },
    "id": "Vzlxv7xWo2r6",
    "outputId": "f2d6da59-101c-4065-eebc-50848f0d3aec"
   },
   "outputs": [
    {
     "name": "stdout",
     "output_type": "stream",
     "text": [
      "Количество фичей: 16\n",
      "              precision    recall  f1-score   support\n",
      "\n",
      "    negative       0.51      0.55      0.53     26053\n",
      "    positive       0.59      0.55      0.57     30656\n",
      "\n",
      "    accuracy                           0.55     56709\n",
      "   macro avg       0.55      0.55      0.55     56709\n",
      "weighted avg       0.56      0.55      0.55     56709\n",
      "\n",
      "Time: 46.97425937652588\n",
      "=====================\n",
      "Количество фичей: 32768\n",
      "              precision    recall  f1-score   support\n",
      "\n",
      "    negative       0.74      0.73      0.74     28455\n",
      "    positive       0.74      0.75      0.74     28254\n",
      "\n",
      "    accuracy                           0.74     56709\n",
      "   macro avg       0.74      0.74      0.74     56709\n",
      "weighted avg       0.74      0.74      0.74     56709\n",
      "\n",
      "Time: 48.05650734901428\n",
      "=====================\n",
      "Количество фичей: 1048576\n",
      "              precision    recall  f1-score   support\n",
      "\n",
      "    negative       0.75      0.74      0.75     28479\n",
      "    positive       0.74      0.75      0.75     28230\n",
      "\n",
      "    accuracy                           0.75     56709\n",
      "   macro avg       0.75      0.75      0.75     56709\n",
      "weighted avg       0.75      0.75      0.75     56709\n",
      "\n",
      "Time: 52.00754714012146\n",
      "=====================\n",
      "Количество фичей: 33554432\n",
      "              precision    recall  f1-score   support\n",
      "\n",
      "    negative       0.75      0.74      0.75     28496\n",
      "    positive       0.74      0.75      0.75     28213\n",
      "\n",
      "    accuracy                           0.75     56709\n",
      "   macro avg       0.75      0.75      0.75     56709\n",
      "weighted avg       0.75      0.75      0.75     56709\n",
      "\n",
      "Time: 96.50950813293457\n",
      "=====================\n"
     ]
    }
   ],
   "source": [
    "import warnings\n",
    "warnings.filterwarnings(\"ignore\")\n",
    "\n",
    "import time\n",
    "\n",
    "n_features_list = [2**4, 2**15, 2**20, 2**25]\n",
    "\n",
    "for n_features in n_features_list:\n",
    "    start = time.time()\n",
    "    print(f'Количество фичей: {n_features}')\n",
    "    print(hashing_vecrorizer(n_features))\n",
    "    end = time.time()\n",
    "\n",
    "    print(f'Time: {end - start}')\n",
    "    print('=====================')\n",
    "    "
   ]
  },
  {
   "cell_type": "markdown",
   "id": "2e9c4ec9",
   "metadata": {},
   "source": [
    "В данном случае можно выбрать оптимальный размер для hashing векторайзера = 2*\\*15\n",
    "Видно, что модель отработала быстрее при незначительном падении оценки на 0.01.\n",
    "Если это допустимо по условию задачи, то размер векторайзера можно снизить."
   ]
  }
 ],
 "metadata": {
  "accelerator": "GPU",
  "colab": {
   "gpuType": "T4",
   "provenance": []
  },
  "gpuClass": "standard",
  "kernelspec": {
   "display_name": "ml_3_9",
   "language": "python",
   "name": "ml_3_9"
  },
  "language_info": {
   "codemirror_mode": {
    "name": "ipython",
    "version": 3
   },
   "file_extension": ".py",
   "mimetype": "text/x-python",
   "name": "python",
   "nbconvert_exporter": "python",
   "pygments_lexer": "ipython3",
   "version": "3.9.15"
  }
 },
 "nbformat": 4,
 "nbformat_minor": 5
}
