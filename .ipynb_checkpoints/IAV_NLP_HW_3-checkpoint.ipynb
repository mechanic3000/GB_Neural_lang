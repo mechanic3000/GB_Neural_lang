{
 "cells": [
  {
   "cell_type": "code",
   "execution_count": 25,
   "id": "5a47d8fc",
   "metadata": {},
   "outputs": [],
   "source": [
    "import string\n",
    "from pymorphy2 import MorphAnalyzer\n",
    "from stop_words import get_stop_words\n",
    "import annoy\n",
    "from gensim.models import Word2Vec, FastText\n",
    "import pickle\n",
    "import numpy as np\n",
    "import pandas as pd\n",
    "from tqdm import tqdm\n",
    "\n"
   ]
  },
  {
   "cell_type": "code",
   "execution_count": 11,
   "id": "b2439bbb",
   "metadata": {},
   "outputs": [
    {
     "name": "stdout",
     "output_type": "stream",
     "text": [
      "--2023-04-16 14:05:58--  https://www.dropbox.com/s/43l702z5a5i2w8j/gazeta_train.jsonl\n",
      "Resolving www.dropbox.com (www.dropbox.com)... 162.125.71.18\n",
      "Connecting to www.dropbox.com (www.dropbox.com)|162.125.71.18|:443... connected.\n",
      "HTTP request sent, awaiting response... 302 Found\n",
      "Location: /s/raw/43l702z5a5i2w8j/gazeta_train.jsonl [following]\n",
      "--2023-04-16 14:05:59--  https://www.dropbox.com/s/raw/43l702z5a5i2w8j/gazeta_train.jsonl\n",
      "Reusing existing connection to www.dropbox.com:443.\n",
      "HTTP request sent, awaiting response... 302 Found\n",
      "Location: https://uc768bbcc4f798a146943c7efd2b.dl.dropboxusercontent.com/cd/0/inline/B6T1QVaYMbgy1TLuTYHCzjEFSkYKXMXpaitNfiEVr3nonDybeC5O0NDFKCP066s2O8Kkgmi_PUQvJHc8lWHZG_fqTSu2x4CJm6cky2U4RNK4aoYz2obk4QNBA3u7PHYorb74n8Hgl6o5m1vc-t-a_twUDHZru7_5LB_CI1wfhUtqNA/file# [following]\n",
      "--2023-04-16 14:05:59--  https://uc768bbcc4f798a146943c7efd2b.dl.dropboxusercontent.com/cd/0/inline/B6T1QVaYMbgy1TLuTYHCzjEFSkYKXMXpaitNfiEVr3nonDybeC5O0NDFKCP066s2O8Kkgmi_PUQvJHc8lWHZG_fqTSu2x4CJm6cky2U4RNK4aoYz2obk4QNBA3u7PHYorb74n8Hgl6o5m1vc-t-a_twUDHZru7_5LB_CI1wfhUtqNA/file\n",
      "Resolving uc768bbcc4f798a146943c7efd2b.dl.dropboxusercontent.com (uc768bbcc4f798a146943c7efd2b.dl.dropboxusercontent.com)... 162.125.71.15\n",
      "Connecting to uc768bbcc4f798a146943c7efd2b.dl.dropboxusercontent.com (uc768bbcc4f798a146943c7efd2b.dl.dropboxusercontent.com)|162.125.71.15|:443... connected.\n",
      "HTTP request sent, awaiting response... 200 OK\n",
      "Length: 470816510 (449M) [text/plain]\n",
      "Saving to: 'gazeta_train.jsonl'\n",
      "\n",
      "gazeta_train.jsonl  100%[===================>] 449.00M  14.6MB/s    in 30s     \n",
      "\n",
      "2023-04-16 14:06:30 (14.8 MB/s) - 'gazeta_train.jsonl' saved [470816510/470816510]\n",
      "\n"
     ]
    }
   ],
   "source": [
    "!wget https://www.dropbox.com/s/43l702z5a5i2w8j/gazeta_train.jsonl"
   ]
  },
  {
   "cell_type": "code",
   "execution_count": 14,
   "id": "60cfcdf9",
   "metadata": {},
   "outputs": [],
   "source": [
    "df = pd.read_json(path_or_buf='gazeta_train.jsonl', lines=True)"
   ]
  },
  {
   "cell_type": "code",
   "execution_count": 16,
   "id": "49a7a39e",
   "metadata": {},
   "outputs": [
    {
     "data": {
      "text/html": [
       "<div>\n",
       "<style scoped>\n",
       "    .dataframe tbody tr th:only-of-type {\n",
       "        vertical-align: middle;\n",
       "    }\n",
       "\n",
       "    .dataframe tbody tr th {\n",
       "        vertical-align: top;\n",
       "    }\n",
       "\n",
       "    .dataframe thead th {\n",
       "        text-align: right;\n",
       "    }\n",
       "</style>\n",
       "<table border=\"1\" class=\"dataframe\">\n",
       "  <thead>\n",
       "    <tr style=\"text-align: right;\">\n",
       "      <th></th>\n",
       "      <th>url</th>\n",
       "      <th>text</th>\n",
       "      <th>title</th>\n",
       "      <th>summary</th>\n",
       "      <th>date</th>\n",
       "    </tr>\n",
       "  </thead>\n",
       "  <tbody>\n",
       "    <tr>\n",
       "      <th>0</th>\n",
       "      <td>https://www.gazeta.ru/financial/2011/11/30/385...</td>\n",
       "      <td>«По итогам 2011 года чистый отток может состав...</td>\n",
       "      <td>Прогноз не успевает за оттоком</td>\n",
       "      <td>В 2011 году из России уйдет $80 млрд, считают ...</td>\n",
       "      <td>2011-11-30 18:33:39</td>\n",
       "    </tr>\n",
       "    <tr>\n",
       "      <th>1</th>\n",
       "      <td>https://www.gazeta.ru/business/2013/01/24/4939...</td>\n",
       "      <td>Российское подразделение интернет-корпорации G...</td>\n",
       "      <td>Google закончил поиск</td>\n",
       "      <td>Юлия Соловьева, экс-директор холдинга «Профмед...</td>\n",
       "      <td>2013-01-24 18:20:09</td>\n",
       "    </tr>\n",
       "    <tr>\n",
       "      <th>2</th>\n",
       "      <td>https://www.gazeta.ru/social/2018/02/06/116393...</td>\n",
       "      <td>Басманный районный суд Москвы вечером 6 феврал...</td>\n",
       "      <td>«Фигуранты дела могут давить на свидетелей»</td>\n",
       "      <td>Суд арестовал на два месяца четверых экс-чинов...</td>\n",
       "      <td>2018-02-06 21:21:14</td>\n",
       "    </tr>\n",
       "    <tr>\n",
       "      <th>3</th>\n",
       "      <td>https://www.gazeta.ru/business/2013/06/21/5388...</td>\n",
       "      <td>Как повлияло вступление в ВТО на конкурентносп...</td>\n",
       "      <td>«С последних традиционно «отжимают» больше»</td>\n",
       "      <td>Мнения предпринимателей по поводу вступления в...</td>\n",
       "      <td>2013-06-21 17:43:50</td>\n",
       "    </tr>\n",
       "    <tr>\n",
       "      <th>4</th>\n",
       "      <td>https://www.gazeta.ru/culture/2014/12/27/a_636...</td>\n",
       "      <td>К третьему сезону «Голос» на Первом канале ста...</td>\n",
       "      <td>Третий «Голос» за Градского</td>\n",
       "      <td>На Первом канале завершился третий сезон шоу «...</td>\n",
       "      <td>2014-12-27 01:10:01</td>\n",
       "    </tr>\n",
       "  </tbody>\n",
       "</table>\n",
       "</div>"
      ],
      "text/plain": [
       "                                                 url  \\\n",
       "0  https://www.gazeta.ru/financial/2011/11/30/385...   \n",
       "1  https://www.gazeta.ru/business/2013/01/24/4939...   \n",
       "2  https://www.gazeta.ru/social/2018/02/06/116393...   \n",
       "3  https://www.gazeta.ru/business/2013/06/21/5388...   \n",
       "4  https://www.gazeta.ru/culture/2014/12/27/a_636...   \n",
       "\n",
       "                                                text  \\\n",
       "0  «По итогам 2011 года чистый отток может состав...   \n",
       "1  Российское подразделение интернет-корпорации G...   \n",
       "2  Басманный районный суд Москвы вечером 6 феврал...   \n",
       "3  Как повлияло вступление в ВТО на конкурентносп...   \n",
       "4  К третьему сезону «Голос» на Первом канале ста...   \n",
       "\n",
       "                                         title  \\\n",
       "0               Прогноз не успевает за оттоком   \n",
       "1                        Google закончил поиск   \n",
       "2  «Фигуранты дела могут давить на свидетелей»   \n",
       "3  «С последних традиционно «отжимают» больше»   \n",
       "4                  Третий «Голос» за Градского   \n",
       "\n",
       "                                             summary                date  \n",
       "0  В 2011 году из России уйдет $80 млрд, считают ... 2011-11-30 18:33:39  \n",
       "1  Юлия Соловьева, экс-директор холдинга «Профмед... 2013-01-24 18:20:09  \n",
       "2  Суд арестовал на два месяца четверых экс-чинов... 2018-02-06 21:21:14  \n",
       "3  Мнения предпринимателей по поводу вступления в... 2013-06-21 17:43:50  \n",
       "4  На Первом канале завершился третий сезон шоу «... 2014-12-27 01:10:01  "
      ]
     },
     "execution_count": 16,
     "metadata": {},
     "output_type": "execute_result"
    }
   ],
   "source": [
    "df.head(5)"
   ]
  },
  {
   "cell_type": "markdown",
   "id": "7dd05241",
   "metadata": {},
   "source": [
    "Провердем предобработку тектов статей"
   ]
  },
  {
   "cell_type": "code",
   "execution_count": 17,
   "id": "4a521c0d",
   "metadata": {},
   "outputs": [
    {
     "name": "stderr",
     "output_type": "stream",
     "text": [
      "[nltk_data] Downloading package punkt to /Users/alexey/nltk_data...\n",
      "[nltk_data]   Package punkt is already up-to-date!\n"
     ]
    }
   ],
   "source": [
    "from nltk.tokenize import word_tokenize\n",
    "from string import punctuation\n",
    "\n",
    "import nltk\n",
    "nltk.download('punkt')\n",
    "\n",
    "from natasha import Doc, MorphVocab, Segmenter, NewsEmbedding, NewsMorphTagger"
   ]
  },
  {
   "cell_type": "code",
   "execution_count": 48,
   "id": "2be8cb62",
   "metadata": {},
   "outputs": [],
   "source": [
    "segmenter = Segmenter()\n",
    "morph_vocab = MorphVocab()\n",
    "emb = NewsEmbedding()\n",
    "morph_tagger = NewsMorphTagger(emb)\n",
    "punct = list(punctuation)\n",
    "\n",
    "def natasha_lemmatize(text):\n",
    "  doc = Doc(text)\n",
    "  doc.segment(segmenter)\n",
    "  doc.tag_morph(morph_tagger)\n",
    "  for token in doc.tokens:\n",
    "    token.lemmatize(morph_vocab)\n",
    "  return [ _.lemma for _ in doc.tokens if _.lemma not in punct]"
   ]
  },
  {
   "cell_type": "code",
   "execution_count": 27,
   "id": "aca5d718",
   "metadata": {},
   "outputs": [],
   "source": [
    "tqdm.pandas()"
   ]
  },
  {
   "cell_type": "code",
   "execution_count": 50,
   "id": "fc57f363",
   "metadata": {},
   "outputs": [
    {
     "name": "stderr",
     "output_type": "stream",
     "text": [
      "100%|█████████████████████████████████████████| 52400/52400 [18:38<00:00, 46.85it/s]\n"
     ]
    },
    {
     "data": {
      "text/html": [
       "<div>\n",
       "<style scoped>\n",
       "    .dataframe tbody tr th:only-of-type {\n",
       "        vertical-align: middle;\n",
       "    }\n",
       "\n",
       "    .dataframe tbody tr th {\n",
       "        vertical-align: top;\n",
       "    }\n",
       "\n",
       "    .dataframe thead th {\n",
       "        text-align: right;\n",
       "    }\n",
       "</style>\n",
       "<table border=\"1\" class=\"dataframe\">\n",
       "  <thead>\n",
       "    <tr style=\"text-align: right;\">\n",
       "      <th></th>\n",
       "      <th>url</th>\n",
       "      <th>text</th>\n",
       "      <th>title</th>\n",
       "      <th>summary</th>\n",
       "      <th>date</th>\n",
       "      <th>summary_lemmatize</th>\n",
       "    </tr>\n",
       "  </thead>\n",
       "  <tbody>\n",
       "    <tr>\n",
       "      <th>0</th>\n",
       "      <td>https://www.gazeta.ru/financial/2011/11/30/385...</td>\n",
       "      <td>«По итогам 2011 года чистый отток может состав...</td>\n",
       "      <td>Прогноз не успевает за оттоком</td>\n",
       "      <td>В 2011 году из России уйдет $80 млрд, считают ...</td>\n",
       "      <td>2011-11-30 18:33:39</td>\n",
       "      <td>[в, 2011, год, из, россия, уйти, 80, млрд, счи...</td>\n",
       "    </tr>\n",
       "    <tr>\n",
       "      <th>1</th>\n",
       "      <td>https://www.gazeta.ru/business/2013/01/24/4939...</td>\n",
       "      <td>Российское подразделение интернет-корпорации G...</td>\n",
       "      <td>Google закончил поиск</td>\n",
       "      <td>Юлия Соловьева, экс-директор холдинга «Профмед...</td>\n",
       "      <td>2013-01-24 18:20:09</td>\n",
       "      <td>[юлия, соловьев, экс-директор, холдинг, «, про...</td>\n",
       "    </tr>\n",
       "    <tr>\n",
       "      <th>2</th>\n",
       "      <td>https://www.gazeta.ru/social/2018/02/06/116393...</td>\n",
       "      <td>Басманный районный суд Москвы вечером 6 феврал...</td>\n",
       "      <td>«Фигуранты дела могут давить на свидетелей»</td>\n",
       "      <td>Суд арестовал на два месяца четверых экс-чинов...</td>\n",
       "      <td>2018-02-06 21:21:14</td>\n",
       "      <td>[суд, арестовать, на, два, месяц, четверо, экс...</td>\n",
       "    </tr>\n",
       "    <tr>\n",
       "      <th>3</th>\n",
       "      <td>https://www.gazeta.ru/business/2013/06/21/5388...</td>\n",
       "      <td>Как повлияло вступление в ВТО на конкурентносп...</td>\n",
       "      <td>«С последних традиционно «отжимают» больше»</td>\n",
       "      <td>Мнения предпринимателей по поводу вступления в...</td>\n",
       "      <td>2013-06-21 17:43:50</td>\n",
       "      <td>[мнение, предприниматель, по, повод, вступлени...</td>\n",
       "    </tr>\n",
       "    <tr>\n",
       "      <th>4</th>\n",
       "      <td>https://www.gazeta.ru/culture/2014/12/27/a_636...</td>\n",
       "      <td>К третьему сезону «Голос» на Первом канале ста...</td>\n",
       "      <td>Третий «Голос» за Градского</td>\n",
       "      <td>На Первом канале завершился третий сезон шоу «...</td>\n",
       "      <td>2014-12-27 01:10:01</td>\n",
       "      <td>[на, первый, канал, завершиться, третий, сезон...</td>\n",
       "    </tr>\n",
       "  </tbody>\n",
       "</table>\n",
       "</div>"
      ],
      "text/plain": [
       "                                                 url  \\\n",
       "0  https://www.gazeta.ru/financial/2011/11/30/385...   \n",
       "1  https://www.gazeta.ru/business/2013/01/24/4939...   \n",
       "2  https://www.gazeta.ru/social/2018/02/06/116393...   \n",
       "3  https://www.gazeta.ru/business/2013/06/21/5388...   \n",
       "4  https://www.gazeta.ru/culture/2014/12/27/a_636...   \n",
       "\n",
       "                                                text  \\\n",
       "0  «По итогам 2011 года чистый отток может состав...   \n",
       "1  Российское подразделение интернет-корпорации G...   \n",
       "2  Басманный районный суд Москвы вечером 6 феврал...   \n",
       "3  Как повлияло вступление в ВТО на конкурентносп...   \n",
       "4  К третьему сезону «Голос» на Первом канале ста...   \n",
       "\n",
       "                                         title  \\\n",
       "0               Прогноз не успевает за оттоком   \n",
       "1                        Google закончил поиск   \n",
       "2  «Фигуранты дела могут давить на свидетелей»   \n",
       "3  «С последних традиционно «отжимают» больше»   \n",
       "4                  Третий «Голос» за Градского   \n",
       "\n",
       "                                             summary                date  \\\n",
       "0  В 2011 году из России уйдет $80 млрд, считают ... 2011-11-30 18:33:39   \n",
       "1  Юлия Соловьева, экс-директор холдинга «Профмед... 2013-01-24 18:20:09   \n",
       "2  Суд арестовал на два месяца четверых экс-чинов... 2018-02-06 21:21:14   \n",
       "3  Мнения предпринимателей по поводу вступления в... 2013-06-21 17:43:50   \n",
       "4  На Первом канале завершился третий сезон шоу «... 2014-12-27 01:10:01   \n",
       "\n",
       "                                   summary_lemmatize  \n",
       "0  [в, 2011, год, из, россия, уйти, 80, млрд, счи...  \n",
       "1  [юлия, соловьев, экс-директор, холдинг, «, про...  \n",
       "2  [суд, арестовать, на, два, месяц, четверо, экс...  \n",
       "3  [мнение, предприниматель, по, повод, вступлени...  \n",
       "4  [на, первый, канал, завершиться, третий, сезон...  "
      ]
     },
     "execution_count": 50,
     "metadata": {},
     "output_type": "execute_result"
    }
   ],
   "source": [
    "df['summary_lemmatize'] = df['summary'].progress_apply(lambda x: natasha_lemmatize(x))\n",
    "df.head(5)"
   ]
  },
  {
   "cell_type": "markdown",
   "id": "ff066090",
   "metadata": {},
   "source": [
    "Создадим модели"
   ]
  },
  {
   "cell_type": "code",
   "execution_count": 53,
   "id": "d1a277a3",
   "metadata": {},
   "outputs": [],
   "source": [
    "VECTOR_SIZE = 300\n",
    "WINDOW = 5\n",
    "\n",
    "modelW2V = Word2Vec(sentences=df['summary_lemmatize'], vector_size=VECTOR_SIZE, \n",
    "                    window=WINDOW, min_count=1)\n",
    "modelFT = FastText(sentences=df['summary_lemmatize'], vector_size=VECTOR_SIZE, min_count=1, \n",
    "                   window=WINDOW, workers=3)"
   ]
  },
  {
   "cell_type": "markdown",
   "id": "19ee6eb5",
   "metadata": {},
   "source": [
    "Обучим модели"
   ]
  },
  {
   "cell_type": "code",
   "execution_count": 57,
   "id": "11797c2a",
   "metadata": {},
   "outputs": [
    {
     "data": {
      "application/vnd.jupyter.widget-view+json": {
       "model_id": "a59b68e154f244798b0080288ef10637",
       "version_major": 2,
       "version_minor": 0
      },
      "text/plain": [
       "  0%|          | 0/52400 [00:00<?, ?it/s]"
      ]
     },
     "metadata": {},
     "output_type": "display_data"
    },
    {
     "data": {
      "text/plain": [
       "True"
      ]
     },
     "execution_count": 57,
     "metadata": {},
     "output_type": "execute_result"
    }
   ],
   "source": [
    "w2v_index = annoy.AnnoyIndex(VECTOR_SIZE ,'angular')\n",
    "ft_index = annoy.AnnoyIndex(VECTOR_SIZE ,'angular')\n",
    "\n",
    "index_map = {}\n",
    "\n",
    "\n",
    "for i in range(len(df.summary_lemmatize)):\n",
    "    n_w2v = 0\n",
    "    n_ft = 0\n",
    "\n",
    "    vector_w2v = np.zeros(VECTOR_SIZE)\n",
    "    vector_ft = np.zeros(VECTOR_SIZE)\n",
    "    for word in df.summary_lemmatize[i]:\n",
    "        if word in modelW2V.wv:\n",
    "            vector_w2v += modelW2V.wv[word]\n",
    "            n_w2v += 1\n",
    "        if word in modelFT.wv:\n",
    "            vector_ft += modelFT.wv[word]\n",
    "            n_ft += 1\n",
    "    if n_w2v > 0:\n",
    "        vector_w2v = vector_w2v / n_w2v\n",
    "    if n_ft > 0:\n",
    "        vector_ft = vector_ft / n_ft\n",
    "    w2v_index.add_item(i, vector_w2v)\n",
    "    ft_index.add_item(i, vector_ft)\n",
    "\n",
    "\n",
    "w2v_index.build(10)\n",
    "ft_index.build(10)"
   ]
  },
  {
   "cell_type": "markdown",
   "id": "e0632aea",
   "metadata": {},
   "source": [
    "Проверим работоспособность модели"
   ]
  },
  {
   "cell_type": "code",
   "execution_count": 80,
   "id": "03aa687f",
   "metadata": {},
   "outputs": [],
   "source": [
    "def get_response(question, index, model, index_map):\n",
    "    question = natasha_lemmatize(question)\n",
    "    vector = np.zeros(VECTOR_SIZE)\n",
    "    norm = 0\n",
    "    for word in question:\n",
    "        if word in model.wv:\n",
    "            vector += model.wv[word]\n",
    "            norm += 1\n",
    "    if norm > 0:\n",
    "        vector = vector / norm\n",
    "    answers = index.get_nns_by_vector(vector, 10, )\n",
    "    return [index_map[i] for i in answers]"
   ]
  },
  {
   "cell_type": "code",
   "execution_count": 78,
   "id": "d9c61efc",
   "metadata": {},
   "outputs": [],
   "source": [
    "TEXT = \"Московская биржа приостановила торги\""
   ]
  },
  {
   "cell_type": "code",
   "execution_count": 81,
   "id": "2e2d9354",
   "metadata": {
    "scrolled": false
   },
   "outputs": [
    {
     "data": {
      "text/plain": [
       "['Банк в три хода',\n",
       " 'Газпромбанк ушел с биржи',\n",
       " 'Dufry встала у воздушных ворот',\n",
       " 'Московскую биржу разложили по пакетам',\n",
       " 'Офисы выходят в «окно»',\n",
       " 'Россия заходит в Канаду через Лондон',\n",
       " '«Яндекс» нашел себе цену',\n",
       " 'Триста миллионов долларов за один день',\n",
       " 'Основатели «Яндекса» запускают поиск денег ',\n",
       " 'Инвесторы встали на якорь']"
      ]
     },
     "execution_count": 81,
     "metadata": {},
     "output_type": "execute_result"
    }
   ],
   "source": [
    "get_response(TEXT, w2v_index, modelW2V, df.title)"
   ]
  },
  {
   "cell_type": "code",
   "execution_count": null,
   "id": "a97135a3",
   "metadata": {},
   "outputs": [],
   "source": []
  }
 ],
 "metadata": {
  "kernelspec": {
   "display_name": "ml_3_9",
   "language": "python",
   "name": "ml_3_9"
  },
  "language_info": {
   "codemirror_mode": {
    "name": "ipython",
    "version": 3
   },
   "file_extension": ".py",
   "mimetype": "text/x-python",
   "name": "python",
   "nbconvert_exporter": "python",
   "pygments_lexer": "ipython3",
   "version": "3.9.15"
  }
 },
 "nbformat": 4,
 "nbformat_minor": 5
}
