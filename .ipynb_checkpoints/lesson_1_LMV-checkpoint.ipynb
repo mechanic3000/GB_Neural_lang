{
 "cells": [
  {
   "cell_type": "markdown",
   "metadata": {},
   "source": [
    "Формат именования файла домашней работы: FIO_NLP_HW_N.ipynb, где N - номер домашнего задания"
   ]
  },
  {
   "cell_type": "markdown",
   "metadata": {
    "id": "iz5YfB4RbyBa"
   },
   "source": [
    "## Предобработка текста с помощью Python "
   ]
  },
  {
   "cell_type": "markdown",
   "metadata": {
    "id": "2G8vHLRDbyBf"
   },
   "source": [
    "### 1.Введение в библиотеку re"
   ]
  },
  {
   "cell_type": "markdown",
   "metadata": {
    "id": "oumywwE7byBf"
   },
   "source": [
    "Регулярное выражение — это последовательность символов, используемая для поиска и замены текста в строке или файле.\n",
    "\n",
    "Регулярные выражения используют два типа символов:\n",
    "\n",
    "- специальные символы: как следует из названия, у этих символов есть специальные значения. \n",
    "- литералы (например: a, b, 1, 2 и т. д.).\n",
    "\n",
    "Примеры регулярных выражений:\n",
    "\n",
    "- . – любой символ, кроме перевода строки;\n",
    "- \\w – одно слово;\n",
    "- \\d – одна цифра;\n",
    "- \\s – один пробел;\n",
    "- \\W – одно НЕслово;\n",
    "- \\D – одна НЕцифра;\n",
    "- \\S – один НЕпробел;\n",
    "- [abc] – находит любой из указанных символов match any of a, b, or c;\n",
    "- [^abc] – находит любой символ, кроме указанных;\n",
    "- [a-g] – находит символ в промежутке от a до g.\n",
    "\n",
    "\n",
    "В Python для работы с регулярными выражениями есть модуль re. Для использования его нужно импортировать:"
   ]
  },
  {
   "cell_type": "code",
   "execution_count": null,
   "metadata": {},
   "outputs": [],
   "source": [
    "string = re.sub('[^а-яА-Яa-zA-Z0-9.,]', ' ', string) # заменил на пробел не буквы"
   ]
  },
  {
   "cell_type": "code",
   "execution_count": null,
   "metadata": {
    "colab": {
     "base_uri": "https://localhost:8080/"
    },
    "id": "4AS_HGQObyBg",
    "outputId": "921f2847-bc69-49a1-db5f-0b2e0758353d"
   },
   "outputs": [
    {
     "name": "stdout",
     "output_type": "stream",
     "text": [
      "Help on module re:\n",
      "\n",
      "NAME\n",
      "    re - Support for regular expressions (RE).\n",
      "\n",
      "MODULE REFERENCE\n",
      "    https://docs.python.org/3.7/library/re\n",
      "    \n",
      "    The following documentation is automatically generated from the Python\n",
      "    source files.  It may be incomplete, incorrect or include features that\n",
      "    are considered implementation detail and may vary between Python\n",
      "    implementations.  When in doubt, consult the module reference at the\n",
      "    location listed above.\n",
      "\n",
      "DESCRIPTION\n",
      "    This module provides regular expression matching operations similar to\n",
      "    those found in Perl.  It supports both 8-bit and Unicode strings; both\n",
      "    the pattern and the strings being processed can contain null bytes and\n",
      "    characters outside the US ASCII range.\n",
      "    \n",
      "    Regular expressions can contain both special and ordinary characters.\n",
      "    Most ordinary characters, like \"A\", \"a\", or \"0\", are the simplest\n",
      "    regular expressions; they simply match themselves.  You can\n",
      "    concatenate ordinary characters, so last matches the string 'last'.\n",
      "    \n",
      "    The special characters are:\n",
      "        \".\"      Matches any character except a newline.\n",
      "        \"^\"      Matches the start of the string.\n",
      "        \"$\"      Matches the end of the string or just before the newline at\n",
      "                 the end of the string.\n",
      "        \"*\"      Matches 0 or more (greedy) repetitions of the preceding RE.\n",
      "                 Greedy means that it will match as many repetitions as possible.\n",
      "        \"+\"      Matches 1 or more (greedy) repetitions of the preceding RE.\n",
      "        \"?\"      Matches 0 or 1 (greedy) of the preceding RE.\n",
      "        *?,+?,?? Non-greedy versions of the previous three special characters.\n",
      "        {m,n}    Matches from m to n repetitions of the preceding RE.\n",
      "        {m,n}?   Non-greedy version of the above.\n",
      "        \"\\\\\"     Either escapes special characters or signals a special sequence.\n",
      "        []       Indicates a set of characters.\n",
      "                 A \"^\" as the first character indicates a complementing set.\n",
      "        \"|\"      A|B, creates an RE that will match either A or B.\n",
      "        (...)    Matches the RE inside the parentheses.\n",
      "                 The contents can be retrieved or matched later in the string.\n",
      "        (?aiLmsux) The letters set the corresponding flags defined below.\n",
      "        (?:...)  Non-grouping version of regular parentheses.\n",
      "        (?P<name>...) The substring matched by the group is accessible by name.\n",
      "        (?P=name)     Matches the text matched earlier by the group named name.\n",
      "        (?#...)  A comment; ignored.\n",
      "        (?=...)  Matches if ... matches next, but doesn't consume the string.\n",
      "        (?!...)  Matches if ... doesn't match next.\n",
      "        (?<=...) Matches if preceded by ... (must be fixed length).\n",
      "        (?<!...) Matches if not preceded by ... (must be fixed length).\n",
      "        (?(id/name)yes|no) Matches yes pattern if the group with id/name matched,\n",
      "                           the (optional) no pattern otherwise.\n",
      "    \n",
      "    The special sequences consist of \"\\\\\" and a character from the list\n",
      "    below.  If the ordinary character is not on the list, then the\n",
      "    resulting RE will match the second character.\n",
      "        \\number  Matches the contents of the group of the same number.\n",
      "        \\A       Matches only at the start of the string.\n",
      "        \\Z       Matches only at the end of the string.\n",
      "        \\b       Matches the empty string, but only at the start or end of a word.\n",
      "        \\B       Matches the empty string, but not at the start or end of a word.\n",
      "        \\d       Matches any decimal digit; equivalent to the set [0-9] in\n",
      "                 bytes patterns or string patterns with the ASCII flag.\n",
      "                 In string patterns without the ASCII flag, it will match the whole\n",
      "                 range of Unicode digits.\n",
      "        \\D       Matches any non-digit character; equivalent to [^\\d].\n",
      "        \\s       Matches any whitespace character; equivalent to [ \\t\\n\\r\\f\\v] in\n",
      "                 bytes patterns or string patterns with the ASCII flag.\n",
      "                 In string patterns without the ASCII flag, it will match the whole\n",
      "                 range of Unicode whitespace characters.\n",
      "        \\S       Matches any non-whitespace character; equivalent to [^\\s].\n",
      "        \\w       Matches any alphanumeric character; equivalent to [a-zA-Z0-9_]\n",
      "                 in bytes patterns or string patterns with the ASCII flag.\n",
      "                 In string patterns without the ASCII flag, it will match the\n",
      "                 range of Unicode alphanumeric characters (letters plus digits\n",
      "                 plus underscore).\n",
      "                 With LOCALE, it will match the set [0-9_] plus characters defined\n",
      "                 as letters for the current locale.\n",
      "        \\W       Matches the complement of \\w.\n",
      "        \\\\       Matches a literal backslash.\n",
      "    \n",
      "    This module exports the following functions:\n",
      "        match     Match a regular expression pattern to the beginning of a string.\n",
      "        fullmatch Match a regular expression pattern to all of a string.\n",
      "        search    Search a string for the presence of a pattern.\n",
      "        sub       Substitute occurrences of a pattern found in a string.\n",
      "        subn      Same as sub, but also return the number of substitutions made.\n",
      "        split     Split a string by the occurrences of a pattern.\n",
      "        findall   Find all occurrences of a pattern in a string.\n",
      "        finditer  Return an iterator yielding a Match object for each match.\n",
      "        compile   Compile a pattern into a Pattern object.\n",
      "        purge     Clear the regular expression cache.\n",
      "        escape    Backslash all non-alphanumerics in a string.\n",
      "    \n",
      "    Each function other than purge and escape can take an optional 'flags' argument\n",
      "    consisting of one or more of the following module constants, joined by \"|\".\n",
      "    A, L, and U are mutually exclusive.\n",
      "        A  ASCII       For string patterns, make \\w, \\W, \\b, \\B, \\d, \\D\n",
      "                       match the corresponding ASCII character categories\n",
      "                       (rather than the whole Unicode categories, which is the\n",
      "                       default).\n",
      "                       For bytes patterns, this flag is the only available\n",
      "                       behaviour and needn't be specified.\n",
      "        I  IGNORECASE  Perform case-insensitive matching.\n",
      "        L  LOCALE      Make \\w, \\W, \\b, \\B, dependent on the current locale.\n",
      "        M  MULTILINE   \"^\" matches the beginning of lines (after a newline)\n",
      "                       as well as the string.\n",
      "                       \"$\" matches the end of lines (before a newline) as well\n",
      "                       as the end of the string.\n",
      "        S  DOTALL      \".\" matches any character at all, including the newline.\n",
      "        X  VERBOSE     Ignore whitespace and comments for nicer looking RE's.\n",
      "        U  UNICODE     For compatibility only. Ignored for string patterns (it\n",
      "                       is the default), and forbidden for bytes patterns.\n",
      "    \n",
      "    This module also defines an exception 'error'.\n",
      "\n",
      "CLASSES\n",
      "    builtins.Exception(builtins.BaseException)\n",
      "        error\n",
      "    builtins.object\n",
      "        Match\n",
      "        Pattern\n",
      "    \n",
      "    class Match(builtins.object)\n",
      "     |  The result of re.match() and re.search().\n",
      "     |  Match objects always have a boolean value of True.\n",
      "     |  \n",
      "     |  Methods defined here:\n",
      "     |  \n",
      "     |  __copy__(self, /)\n",
      "     |  \n",
      "     |  __deepcopy__(self, memo, /)\n",
      "     |  \n",
      "     |  __getitem__(self, key, /)\n",
      "     |      Return self[key].\n",
      "     |  \n",
      "     |  __repr__(self, /)\n",
      "     |      Return repr(self).\n",
      "     |  \n",
      "     |  end(self, group=0, /)\n",
      "     |      Return index of the end of the substring matched by group.\n",
      "     |  \n",
      "     |  expand(self, /, template)\n",
      "     |      Return the string obtained by doing backslash substitution on the string template, as done by the sub() method.\n",
      "     |  \n",
      "     |  group(...)\n",
      "     |      group([group1, ...]) -> str or tuple.\n",
      "     |      Return subgroup(s) of the match by indices or names.\n",
      "     |      For 0 returns the entire match.\n",
      "     |  \n",
      "     |  groupdict(self, /, default=None)\n",
      "     |      Return a dictionary containing all the named subgroups of the match, keyed by the subgroup name.\n",
      "     |      \n",
      "     |      default\n",
      "     |        Is used for groups that did not participate in the match.\n",
      "     |  \n",
      "     |  groups(self, /, default=None)\n",
      "     |      Return a tuple containing all the subgroups of the match, from 1.\n",
      "     |      \n",
      "     |      default\n",
      "     |        Is used for groups that did not participate in the match.\n",
      "     |  \n",
      "     |  span(self, group=0, /)\n",
      "     |      For match object m, return the 2-tuple (m.start(group), m.end(group)).\n",
      "     |  \n",
      "     |  start(self, group=0, /)\n",
      "     |      Return index of the start of the substring matched by group.\n",
      "     |  \n",
      "     |  ----------------------------------------------------------------------\n",
      "     |  Data descriptors defined here:\n",
      "     |  \n",
      "     |  endpos\n",
      "     |      The index into the string beyond which the RE engine will not go.\n",
      "     |  \n",
      "     |  lastgroup\n",
      "     |      The name of the last matched capturing group.\n",
      "     |  \n",
      "     |  lastindex\n",
      "     |      The integer index of the last matched capturing group.\n",
      "     |  \n",
      "     |  pos\n",
      "     |      The index into the string at which the RE engine started looking for a match.\n",
      "     |  \n",
      "     |  re\n",
      "     |      The regular expression object.\n",
      "     |  \n",
      "     |  regs\n",
      "     |  \n",
      "     |  string\n",
      "     |      The string passed to match() or search().\n",
      "    \n",
      "    class Pattern(builtins.object)\n",
      "     |  Compiled regular expression object.\n",
      "     |  \n",
      "     |  Methods defined here:\n",
      "     |  \n",
      "     |  __copy__(self, /)\n",
      "     |  \n",
      "     |  __deepcopy__(self, memo, /)\n",
      "     |  \n",
      "     |  __eq__(self, value, /)\n",
      "     |      Return self==value.\n",
      "     |  \n",
      "     |  __ge__(self, value, /)\n",
      "     |      Return self>=value.\n",
      "     |  \n",
      "     |  __gt__(self, value, /)\n",
      "     |      Return self>value.\n",
      "     |  \n",
      "     |  __hash__(self, /)\n",
      "     |      Return hash(self).\n",
      "     |  \n",
      "     |  __le__(self, value, /)\n",
      "     |      Return self<=value.\n",
      "     |  \n",
      "     |  __lt__(self, value, /)\n",
      "     |      Return self<value.\n",
      "     |  \n",
      "     |  __ne__(self, value, /)\n",
      "     |      Return self!=value.\n",
      "     |  \n",
      "     |  __repr__(self, /)\n",
      "     |      Return repr(self).\n",
      "     |  \n",
      "     |  findall(self, /, string, pos=0, endpos=9223372036854775807)\n",
      "     |      Return a list of all non-overlapping matches of pattern in string.\n",
      "     |  \n",
      "     |  finditer(self, /, string, pos=0, endpos=9223372036854775807)\n",
      "     |      Return an iterator over all non-overlapping matches for the RE pattern in string.\n",
      "     |      \n",
      "     |      For each match, the iterator returns a match object.\n",
      "     |  \n",
      "     |  fullmatch(self, /, string, pos=0, endpos=9223372036854775807)\n",
      "     |      Matches against all of the string.\n",
      "     |  \n",
      "     |  match(self, /, string, pos=0, endpos=9223372036854775807)\n",
      "     |      Matches zero or more characters at the beginning of the string.\n",
      "     |  \n",
      "     |  scanner(self, /, string, pos=0, endpos=9223372036854775807)\n",
      "     |  \n",
      "     |  search(self, /, string, pos=0, endpos=9223372036854775807)\n",
      "     |      Scan through string looking for a match, and return a corresponding match object instance.\n",
      "     |      \n",
      "     |      Return None if no position in the string matches.\n",
      "     |  \n",
      "     |  split(self, /, string, maxsplit=0)\n",
      "     |      Split string by the occurrences of pattern.\n",
      "     |  \n",
      "     |  sub(self, /, repl, string, count=0)\n",
      "     |      Return the string obtained by replacing the leftmost non-overlapping occurrences of pattern in string by the replacement repl.\n",
      "     |  \n",
      "     |  subn(self, /, repl, string, count=0)\n",
      "     |      Return the tuple (new_string, number_of_subs_made) found by replacing the leftmost non-overlapping occurrences of pattern with the replacement repl.\n",
      "     |  \n",
      "     |  ----------------------------------------------------------------------\n",
      "     |  Data descriptors defined here:\n",
      "     |  \n",
      "     |  flags\n",
      "     |      The regex matching flags.\n",
      "     |  \n",
      "     |  groupindex\n",
      "     |      A dictionary mapping group names to group numbers.\n",
      "     |  \n",
      "     |  groups\n",
      "     |      The number of capturing groups in the pattern.\n",
      "     |  \n",
      "     |  pattern\n",
      "     |      The pattern string from which the RE object was compiled.\n",
      "    \n",
      "    class error(builtins.Exception)\n",
      "     |  error(msg, pattern=None, pos=None)\n",
      "     |  \n",
      "     |  Exception raised for invalid regular expressions.\n",
      "     |  \n",
      "     |  Attributes:\n",
      "     |  \n",
      "     |      msg: The unformatted error message\n",
      "     |      pattern: The regular expression pattern\n",
      "     |      pos: The index in the pattern where compilation failed (may be None)\n",
      "     |      lineno: The line corresponding to pos (may be None)\n",
      "     |      colno: The column corresponding to pos (may be None)\n",
      "     |  \n",
      "     |  Method resolution order:\n",
      "     |      error\n",
      "     |      builtins.Exception\n",
      "     |      builtins.BaseException\n",
      "     |      builtins.object\n",
      "     |  \n",
      "     |  Methods defined here:\n",
      "     |  \n",
      "     |  __init__(self, msg, pattern=None, pos=None)\n",
      "     |      Initialize self.  See help(type(self)) for accurate signature.\n",
      "     |  \n",
      "     |  ----------------------------------------------------------------------\n",
      "     |  Data descriptors defined here:\n",
      "     |  \n",
      "     |  __weakref__\n",
      "     |      list of weak references to the object (if defined)\n",
      "     |  \n",
      "     |  ----------------------------------------------------------------------\n",
      "     |  Static methods inherited from builtins.Exception:\n",
      "     |  \n",
      "     |  __new__(*args, **kwargs) from builtins.type\n",
      "     |      Create and return a new object.  See help(type) for accurate signature.\n",
      "     |  \n",
      "     |  ----------------------------------------------------------------------\n",
      "     |  Methods inherited from builtins.BaseException:\n",
      "     |  \n",
      "     |  __delattr__(self, name, /)\n",
      "     |      Implement delattr(self, name).\n",
      "     |  \n",
      "     |  __getattribute__(self, name, /)\n",
      "     |      Return getattr(self, name).\n",
      "     |  \n",
      "     |  __reduce__(...)\n",
      "     |      Helper for pickle.\n",
      "     |  \n",
      "     |  __repr__(self, /)\n",
      "     |      Return repr(self).\n",
      "     |  \n",
      "     |  __setattr__(self, name, value, /)\n",
      "     |      Implement setattr(self, name, value).\n",
      "     |  \n",
      "     |  __setstate__(...)\n",
      "     |  \n",
      "     |  __str__(self, /)\n",
      "     |      Return str(self).\n",
      "     |  \n",
      "     |  with_traceback(...)\n",
      "     |      Exception.with_traceback(tb) --\n",
      "     |      set self.__traceback__ to tb and return self.\n",
      "     |  \n",
      "     |  ----------------------------------------------------------------------\n",
      "     |  Data descriptors inherited from builtins.BaseException:\n",
      "     |  \n",
      "     |  __cause__\n",
      "     |      exception cause\n",
      "     |  \n",
      "     |  __context__\n",
      "     |      exception context\n",
      "     |  \n",
      "     |  __dict__\n",
      "     |  \n",
      "     |  __suppress_context__\n",
      "     |  \n",
      "     |  __traceback__\n",
      "     |  \n",
      "     |  args\n",
      "\n",
      "FUNCTIONS\n",
      "    compile(pattern, flags=0)\n",
      "        Compile a regular expression pattern, returning a Pattern object.\n",
      "    \n",
      "    escape(pattern)\n",
      "        Escape special characters in a string.\n",
      "    \n",
      "    findall(pattern, string, flags=0)\n",
      "        Return a list of all non-overlapping matches in the string.\n",
      "        \n",
      "        If one or more capturing groups are present in the pattern, return\n",
      "        a list of groups; this will be a list of tuples if the pattern\n",
      "        has more than one group.\n",
      "        \n",
      "        Empty matches are included in the result.\n",
      "    \n",
      "    finditer(pattern, string, flags=0)\n",
      "        Return an iterator over all non-overlapping matches in the\n",
      "        string.  For each match, the iterator returns a Match object.\n",
      "        \n",
      "        Empty matches are included in the result.\n",
      "    \n",
      "    fullmatch(pattern, string, flags=0)\n",
      "        Try to apply the pattern to all of the string, returning\n",
      "        a Match object, or None if no match was found.\n",
      "    \n",
      "    match(pattern, string, flags=0)\n",
      "        Try to apply the pattern at the start of the string, returning\n",
      "        a Match object, or None if no match was found.\n",
      "    \n",
      "    purge()\n",
      "        Clear the regular expression caches\n",
      "    \n",
      "    search(pattern, string, flags=0)\n",
      "        Scan through string looking for a match to the pattern, returning\n",
      "        a Match object, or None if no match was found.\n",
      "    \n",
      "    split(pattern, string, maxsplit=0, flags=0)\n",
      "        Split the source string by the occurrences of the pattern,\n",
      "        returning a list containing the resulting substrings.  If\n",
      "        capturing parentheses are used in pattern, then the text of all\n",
      "        groups in the pattern are also returned as part of the resulting\n",
      "        list.  If maxsplit is nonzero, at most maxsplit splits occur,\n",
      "        and the remainder of the string is returned as the final element\n",
      "        of the list.\n",
      "    \n",
      "    sub(pattern, repl, string, count=0, flags=0)\n",
      "        Return the string obtained by replacing the leftmost\n",
      "        non-overlapping occurrences of the pattern in string by the\n",
      "        replacement repl.  repl can be either a string or a callable;\n",
      "        if a string, backslash escapes in it are processed.  If it is\n",
      "        a callable, it's passed the Match object and must return\n",
      "        a replacement string to be used.\n",
      "    \n",
      "    subn(pattern, repl, string, count=0, flags=0)\n",
      "        Return a 2-tuple containing (new_string, number).\n",
      "        new_string is the string obtained by replacing the leftmost\n",
      "        non-overlapping occurrences of the pattern in the source\n",
      "        string by the replacement repl.  number is the number of\n",
      "        substitutions that were made. repl can be either a string or a\n",
      "        callable; if a string, backslash escapes in it are processed.\n",
      "        If it is a callable, it's passed the Match object and must\n",
      "        return a replacement string to be used.\n",
      "    \n",
      "    template(pattern, flags=0)\n",
      "        Compile a template pattern, returning a Pattern object\n",
      "\n",
      "DATA\n",
      "    A = <RegexFlag.ASCII: 256>\n",
      "    ASCII = <RegexFlag.ASCII: 256>\n",
      "    DOTALL = <RegexFlag.DOTALL: 16>\n",
      "    I = <RegexFlag.IGNORECASE: 2>\n",
      "    IGNORECASE = <RegexFlag.IGNORECASE: 2>\n",
      "    L = <RegexFlag.LOCALE: 4>\n",
      "    LOCALE = <RegexFlag.LOCALE: 4>\n",
      "    M = <RegexFlag.MULTILINE: 8>\n",
      "    MULTILINE = <RegexFlag.MULTILINE: 8>\n",
      "    S = <RegexFlag.DOTALL: 16>\n",
      "    U = <RegexFlag.UNICODE: 32>\n",
      "    UNICODE = <RegexFlag.UNICODE: 32>\n",
      "    VERBOSE = <RegexFlag.VERBOSE: 64>\n",
      "    X = <RegexFlag.VERBOSE: 64>\n",
      "    __all__ = ['match', 'fullmatch', 'search', 'sub', 'subn', 'split', 'fi...\n",
      "\n",
      "VERSION\n",
      "    2.2.1\n",
      "\n",
      "FILE\n",
      "    /usr/lib/python3.7/re.py\n",
      "\n",
      "\n"
     ]
    }
   ],
   "source": [
    "import re\n",
    "help(re)"
   ]
  },
  {
   "cell_type": "markdown",
   "metadata": {
    "id": "IsRtMyCqbyBh"
   },
   "source": [
    "Чаще всего регулярные выражения используются для:\n",
    "- поиска в строке;\n",
    "- разбиения строки на подстроки;\n",
    "- замены части строки.\n",
    "\n",
    "Давайте посмотрим на методы, которые предоставляет библиотека re для этих задач."
   ]
  },
  {
   "cell_type": "markdown",
   "metadata": {
    "id": "Tkc8Y-KCbyBh"
   },
   "source": [
    "#### re.match(pattern, string):"
   ]
  },
  {
   "cell_type": "markdown",
   "metadata": {
    "id": "1iEqfeYEbyBh"
   },
   "source": [
    "Этот метод ищет по заданному шаблону в начале строки. Например, если мы вызовем метод match() на строке «find matched pattern» с шаблоном «find», то он завершится успешно. Однако если мы будем искать «matched», то результат будет отрицательный."
   ]
  },
  {
   "cell_type": "code",
   "execution_count": null,
   "metadata": {
    "id": "K7G2valAh5IP"
   },
   "outputs": [],
   "source": []
  },
  {
   "cell_type": "code",
   "execution_count": null,
   "metadata": {
    "colab": {
     "base_uri": "https://localhost:8080/"
    },
    "id": "-F9m33H0byBh",
    "outputId": "69b08619-0c53-4246-8e44-a4d172e697b5"
   },
   "outputs": [
    {
     "data": {
      "text/plain": [
       "<re.Match object; span=(0, 4), match='find'>"
      ]
     },
     "execution_count": 2,
     "metadata": {
      "tags": []
     },
     "output_type": "execute_result"
    }
   ],
   "source": [
    "re.match(r'find', 'find matched pattern')"
   ]
  },
  {
   "cell_type": "code",
   "execution_count": null,
   "metadata": {
    "id": "1Og-IbEibyBi",
    "outputId": "4ec57af7-fcdd-4e73-b2f6-bc0b420d22d1"
   },
   "outputs": [
    {
     "name": "stdout",
     "output_type": "stream",
     "text": [
      "None\n"
     ]
    }
   ],
   "source": [
    "print(re.match(r'matched', 'find matched pattern'))"
   ]
  },
  {
   "cell_type": "code",
   "execution_count": null,
   "metadata": {
    "id": "e-volSXHbyBi",
    "outputId": "6d822f1c-0914-4b80-fdce-72093affcd73"
   },
   "outputs": [
    {
     "data": {
      "text/plain": [
       "<re.Match object; span=(0, 1), match='f'>"
      ]
     },
     "execution_count": 4,
     "metadata": {
      "tags": []
     },
     "output_type": "execute_result"
    }
   ],
   "source": [
    "re.match(r'[a-z]', 'find matched pattern')"
   ]
  },
  {
   "cell_type": "code",
   "execution_count": null,
   "metadata": {
    "id": "J5E4rwZbbyBi",
    "outputId": "097c06ad-c8db-46e4-8672-5dbd41d469b5"
   },
   "outputs": [
    {
     "data": {
      "text/plain": [
       "<re.Match object; span=(0, 4), match='find'>"
      ]
     },
     "execution_count": 5,
     "metadata": {
      "tags": []
     },
     "output_type": "execute_result"
    }
   ],
   "source": [
    "re.match(r'[a-z]+', 'find matched pattern')"
   ]
  },
  {
   "cell_type": "markdown",
   "metadata": {
    "id": "SffLwdXibyBj"
   },
   "source": [
    "#### re.search(pattern, string)"
   ]
  },
  {
   "cell_type": "markdown",
   "metadata": {
    "id": "O1I4flDCbyBj"
   },
   "source": [
    "Этот метод похож на match(), но он ищет не только в начале строки. В отличие от предыдущего, search() вернет объект, если мы попытаемся найти «matched»."
   ]
  },
  {
   "cell_type": "code",
   "execution_count": null,
   "metadata": {
    "id": "wEH0udhubyBj",
    "outputId": "32a965a2-4ab6-4246-aea2-0f0e115f6293"
   },
   "outputs": [
    {
     "name": "stdout",
     "output_type": "stream",
     "text": [
      "matched\n"
     ]
    }
   ],
   "source": [
    "result = re.search(r'matched', 'find matched pattern')\n",
    "print(result.group())"
   ]
  },
  {
   "cell_type": "code",
   "execution_count": null,
   "metadata": {
    "id": "XjiHMYRobyBj",
    "outputId": "d15efd96-4a00-4813-cefa-0022ef93fea5"
   },
   "outputs": [
    {
     "data": {
      "text/plain": [
       "<re.Match object; span=(0, 4), match='find'>"
      ]
     },
     "execution_count": 7,
     "metadata": {
      "tags": []
     },
     "output_type": "execute_result"
    }
   ],
   "source": [
    "re.search(r'\\w+', 'find matched pattern')"
   ]
  },
  {
   "cell_type": "markdown",
   "metadata": {
    "id": "qhiYbOONbyBj"
   },
   "source": [
    "#### re.findall(pattern, string)"
   ]
  },
  {
   "cell_type": "markdown",
   "metadata": {
    "id": "TwqHOmMZbyBk"
   },
   "source": [
    "Этот метод возвращает список всех найденных совпадений. У метода findall() нет ограничений на поиск в начале или конце строки. Для поиска рекомендуется использовать именно findall(), так как он может работать и как re.search(), и как re.match()."
   ]
  },
  {
   "cell_type": "code",
   "execution_count": null,
   "metadata": {
    "id": "LYqywqFbbyBk",
    "outputId": "7988509b-d098-4087-d541-c341110cf5ce"
   },
   "outputs": [
    {
     "name": "stdout",
     "output_type": "stream",
     "text": [
      "['re', 're', 're']\n"
     ]
    }
   ],
   "source": [
    "result = re.findall(r're', 'we want re to find all re in this text re')\n",
    "print(result)"
   ]
  },
  {
   "cell_type": "markdown",
   "metadata": {
    "id": "pS2M6aXabyBk"
   },
   "source": [
    "Вернуть список доменов из списка адресов электронной почты.\n",
    "Online regex tester and debugger: https://regex101.com/"
   ]
  },
  {
   "cell_type": "code",
   "execution_count": 75,
   "metadata": {
    "id": "ejAW07kzbyBk",
    "outputId": "6233b1bd-a6d4-4607-bc5f-975b0270a6f6"
   },
   "outputs": [
    {
     "name": "stdout",
     "output_type": "stream",
     "text": [
      "['@gmail.com', '@test.in', '@mail.ru']\n"
     ]
    }
   ],
   "source": [
    "result = re.findall(r'@\\w+\\.\\w+', 'dsdf, abc.test@gmail.com, xyz@test.in, test.first@mail.ru, dhjsd@hjk*fhjd')\n",
    "print(result)\n"
   ]
  },
  {
   "cell_type": "markdown",
   "metadata": {
    "id": "KeMOg-RDbyBk"
   },
   "source": [
    "Извлечь дату из строки."
   ]
  },
  {
   "cell_type": "code",
   "execution_count": null,
   "metadata": {
    "id": "qIgkW38QbyBk",
    "outputId": "7722cea3-91e5-4844-b29d-31cd889a5582"
   },
   "outputs": [
    {
     "name": "stdout",
     "output_type": "stream",
     "text": [
      "['12-05-2007', '11-11-2011', '12-01-2009']\n"
     ]
    }
   ],
   "source": [
    "result = re.findall(r'\\d{2}-\\d{2}-\\d{4}', 'Name 34-3456 12-05-2007, XYZ 56-4532 11-11-2011, ABC 67-8945 12-01-2009')\n",
    "print(result)"
   ]
  },
  {
   "cell_type": "markdown",
   "metadata": {
    "id": "qVHm5UWjbyBl"
   },
   "source": [
    "#### re.split(pattern, string, [maxsplit=0])"
   ]
  },
  {
   "cell_type": "markdown",
   "metadata": {
    "id": "VpSoSmegbyBl"
   },
   "source": [
    "Этот метод разделяет строку по заданному шаблону."
   ]
  },
  {
   "cell_type": "code",
   "execution_count": null,
   "metadata": {
    "id": "B3zhWaLLbyBl",
    "outputId": "5fc56a57-f982-4d31-f13a-255757187976"
   },
   "outputs": [
    {
     "name": "stdout",
     "output_type": "stream",
     "text": [
      "['we', 'want', 'to', 'devide']\n"
     ]
    }
   ],
   "source": [
    "result = re.split(r' ', 'we want to devide')\n",
    "print(result)"
   ]
  },
  {
   "cell_type": "markdown",
   "metadata": {
    "id": "b_eV6J93byBl"
   },
   "source": [
    "#### re.sub(pattern, repl, string)"
   ]
  },
  {
   "cell_type": "markdown",
   "metadata": {
    "id": "yGURtYmSbyBl"
   },
   "source": [
    "Этот метод ищет шаблон в строке и заменяет его на указанную подстроку. Если шаблон не найден, строка остается неизменной.\n"
   ]
  },
  {
   "cell_type": "code",
   "execution_count": null,
   "metadata": {
    "id": "A5GaYz_GbyBl",
    "outputId": "e137286b-66c3-4db5-ad3d-da421ad6e4d0"
   },
   "outputs": [
    {
     "name": "stdout",
     "output_type": "stream",
     "text": [
      "I want to be the best nlp specialist in the World\n"
     ]
    }
   ],
   "source": [
    "result = re.sub(r'Russia', 'the World', 'I want to be the best nlp specialist in Russia')\n",
    "print(result)\n"
   ]
  },
  {
   "cell_type": "markdown",
   "metadata": {
    "id": "ManLnYVRbyBm"
   },
   "source": [
    "#### Удаление пунктуации\n",
    "\n",
    "Мы можем использовать регулярные выражения для дополнительного фильтрова"
   ]
  },
  {
   "cell_type": "code",
   "execution_count": null,
   "metadata": {
    "id": "IlyiniuBbyBm",
    "outputId": "c042927a-9319-4834-f83d-b5e3d1ac7eda"
   },
   "outputs": [
    {
     "data": {
      "text/plain": [
       "'Russian is an East Slavic language which is an official language in Russia Belarus Kazakhstan Kyrgyzstan as well as being widely used throughout Eastern Europe the Baltic states the Caucasus and Central Asia'"
      ]
     },
     "execution_count": 13,
     "metadata": {
      "tags": []
     },
     "output_type": "execute_result"
    }
   ],
   "source": [
    "text = 'Russian is an East Slavic language, which is an official language in Russia, Belarus, Kazakhstan, Kyrgyzstan, as well as being widely used throughout Eastern Europe, the Baltic states, the Caucasus and Central Asia.'\n",
    "no_punctuation_text = re.sub(r'[^\\w\\s]', '', text)\n",
    "no_punctuation_text"
   ]
  },
  {
   "cell_type": "code",
   "execution_count": null,
   "metadata": {
    "id": "YdOAFBySbyBm"
   },
   "outputs": [],
   "source": [
    "import string"
   ]
  },
  {
   "cell_type": "code",
   "execution_count": null,
   "metadata": {
    "id": "zobe1Y-EbyBm",
    "outputId": "3f521f65-309a-40ad-faea-23aee83b176b"
   },
   "outputs": [
    {
     "data": {
      "text/plain": [
       "'!\"#$%&\\'()*+,-./:;<=>?@[\\\\]^_`{|}~'"
      ]
     },
     "execution_count": 15,
     "metadata": {
      "tags": []
     },
     "output_type": "execute_result"
    }
   ],
   "source": [
    "string.punctuation"
   ]
  },
  {
   "cell_type": "code",
   "execution_count": null,
   "metadata": {
    "id": "T8IXpKmdbyBm",
    "outputId": "d8ce4b82-2132-4ab7-b64d-b017b7ce54ba"
   },
   "outputs": [
    {
     "data": {
      "text/plain": [
       "' \\t\\n\\r\\x0b\\x0c'"
      ]
     },
     "execution_count": 100,
     "metadata": {
      "tags": []
     },
     "output_type": "execute_result"
    }
   ],
   "source": [
    "string.whitespace"
   ]
  },
  {
   "cell_type": "code",
   "execution_count": null,
   "metadata": {
    "id": "3ophtudrbyBm",
    "outputId": "b737515a-9404-4c02-8b78-fb1c0ac0d3db"
   },
   "outputs": [
    {
     "data": {
      "text/plain": [
       "'Russian is an East Slavic language which is an official language in Russia Belarus Kazakhstan Kyrgyzstan as well as being widely used throughout Eastern Europe the Baltic states the Caucasus and Central Asia'"
      ]
     },
     "execution_count": 16,
     "metadata": {
      "tags": []
     },
     "output_type": "execute_result"
    }
   ],
   "source": [
    "''.join([ch for ch in list(text) if ch not in string.punctuation])"
   ]
  },
  {
   "cell_type": "markdown",
   "metadata": {
    "id": "BQQYV3phbyBn"
   },
   "source": [
    "### 2.Токенизация"
   ]
  },
  {
   "cell_type": "markdown",
   "metadata": {
    "id": "KPaFp0Y2byBn"
   },
   "source": [
    "Привести к нижнему регистру  .lower()"
   ]
  },
  {
   "cell_type": "code",
   "execution_count": 76,
   "metadata": {
    "id": "gsqy16RMbyBn"
   },
   "outputs": [],
   "source": [
    "text = 'This is, a ... Demo. Text, 1.3.4 for NLP using NLTK????!!!!!! Full form of NLTK is Natural Language Toolkit'"
   ]
  },
  {
   "cell_type": "code",
   "execution_count": 77,
   "metadata": {
    "id": "6BYbcfR1byBn",
    "outputId": "ab268e1b-b10e-4460-dfeb-dd24ef60d296"
   },
   "outputs": [
    {
     "data": {
      "text/plain": [
       "'This is, a ... Demo. Text, 1.3.4 for NLP using NLTK????!!!!!! Full form of NLTK is Natural Language Toolkit'"
      ]
     },
     "execution_count": 77,
     "metadata": {},
     "output_type": "execute_result"
    }
   ],
   "source": [
    "text"
   ]
  },
  {
   "cell_type": "code",
   "execution_count": 79,
   "metadata": {
    "id": "CMmJtTgPbyBn",
    "outputId": "e9e86486-66cf-418a-8243-af87a1984021"
   },
   "outputs": [
    {
     "data": {
      "text/plain": [
       "['This',\n",
       " 'is,',\n",
       " 'a',\n",
       " '...',\n",
       " 'Demo.',\n",
       " 'Text,',\n",
       " '1.3.4',\n",
       " 'for',\n",
       " 'NLP',\n",
       " 'using',\n",
       " 'NLTK????!!!!!!',\n",
       " 'Full',\n",
       " 'form',\n",
       " 'of',\n",
       " 'NLTK',\n",
       " 'is',\n",
       " 'Natural',\n",
       " 'Language',\n",
       " 'Toolkit']"
      ]
     },
     "execution_count": 79,
     "metadata": {},
     "output_type": "execute_result"
    }
   ],
   "source": [
    "text.split()"
   ]
  },
  {
   "cell_type": "code",
   "execution_count": null,
   "metadata": {
    "id": "pjhSP2rnbyBn"
   },
   "outputs": [],
   "source": []
  },
  {
   "cell_type": "code",
   "execution_count": null,
   "metadata": {
    "id": "LwppeWgSbyBo",
    "outputId": "3444c341-f780-46a1-8d56-aa9c2f2b32a4"
   },
   "outputs": [
    {
     "name": "stdout",
     "output_type": "stream",
     "text": [
      "this is a demo text for nlp using nltk. full form of nltk is natural language toolkit\n"
     ]
    }
   ],
   "source": [
    "text = 'This is a Demo Text for NLP using NLTK. Full form of NLTK is Natural Language Toolkit'\n",
    "lower_text = text.lower()\n",
    "print(lower_text)"
   ]
  },
  {
   "cell_type": "markdown",
   "metadata": {
    "id": "n1v3Q1DKbyBo"
   },
   "source": [
    "Разделить строку на отдельные слова  re.split()"
   ]
  },
  {
   "cell_type": "code",
   "execution_count": null,
   "metadata": {
    "id": "AX5QL9FNbyBo",
    "outputId": "ba348950-83ca-47d6-a6a0-9a4d5a62cf82"
   },
   "outputs": [
    {
     "data": {
      "text/plain": [
       "['this',\n",
       " 'is',\n",
       " 'a',\n",
       " 'demo',\n",
       " 'text',\n",
       " 'for',\n",
       " 'nlp',\n",
       " 'using',\n",
       " 'nltk.',\n",
       " 'full',\n",
       " 'form',\n",
       " 'of',\n",
       " 'nltk',\n",
       " 'is',\n",
       " 'natural',\n",
       " 'language',\n",
       " 'toolkit']"
      ]
     },
     "execution_count": 18,
     "metadata": {
      "tags": []
     },
     "output_type": "execute_result"
    }
   ],
   "source": [
    "bag_of_words = re.split(r' ', lower_text)\n",
    "bag_of_words"
   ]
  },
  {
   "cell_type": "code",
   "execution_count": null,
   "metadata": {
    "id": "90DMXLoUbyBo"
   },
   "outputs": [],
   "source": [
    "text = 'This is a Demo 20.20.10 Text for NLP using NLTK. Full form of NLTK is Natural Language Toolkit'"
   ]
  },
  {
   "cell_type": "code",
   "execution_count": null,
   "metadata": {
    "id": "qnRPgiTmbyBo",
    "outputId": "879d9e7a-623a-445a-bd1f-54d0095f15d5"
   },
   "outputs": [
    {
     "data": {
      "text/plain": [
       "['This is a Demo 20',\n",
       " '20',\n",
       " '10 Text for NLP using NLTK',\n",
       " ' Full form of NLTK is Natural Language Toolkit']"
      ]
     },
     "execution_count": 117,
     "metadata": {
      "tags": []
     },
     "output_type": "execute_result"
    }
   ],
   "source": [
    "text.split(sep='!')"
   ]
  },
  {
   "cell_type": "code",
   "execution_count": null,
   "metadata": {
    "id": "PCyMQ4rebyBo"
   },
   "outputs": [],
   "source": []
  },
  {
   "cell_type": "markdown",
   "metadata": {
    "id": "K-0N0seqbyBo"
   },
   "source": [
    "### 4.Введение в библиотеку NLTK"
   ]
  },
  {
   "cell_type": "markdown",
   "metadata": {
    "id": "ySoevt7lbyBp"
   },
   "source": [
    "#### NLTK (Natural Language Toolkit)\n",
    "Ведущая платформа для создания NLP-программ на Python. У нее есть легкие в использовании интерфейсы для многих языковых корпусов, а также библиотеки для обработки текстов для классификации, токенизации, стемминга, разметки и фильтрации."
   ]
  },
  {
   "cell_type": "code",
   "execution_count": 86,
   "metadata": {
    "id": "0Wgk1xEvbyBp",
    "outputId": "f99c63c3-a5c8-4ac1-d7aa-207644ed6280"
   },
   "outputs": [
    {
     "name": "stdout",
     "output_type": "stream",
     "text": [
      "Help on package nltk:\n",
      "\n",
      "NAME\n",
      "    nltk\n",
      "\n",
      "DESCRIPTION\n",
      "    The Natural Language Toolkit (NLTK) is an open source Python library\n",
      "    for Natural Language Processing.  A free online book is available.\n",
      "    (If you use the library for academic research, please cite the book.)\n",
      "    \n",
      "    Steven Bird, Ewan Klein, and Edward Loper (2009).\n",
      "    Natural Language Processing with Python.  O'Reilly Media Inc.\n",
      "    https://www.nltk.org/book/\n",
      "    \n",
      "    isort:skip_file\n",
      "    \n",
      "    @version: 3.8.1\n",
      "\n",
      "PACKAGE CONTENTS\n",
      "    app (package)\n",
      "    book\n",
      "    ccg (package)\n",
      "    chat (package)\n",
      "    chunk (package)\n",
      "    classify (package)\n",
      "    cli\n",
      "    cluster (package)\n",
      "    collections\n",
      "    collocations\n",
      "    compat\n",
      "    corpus (package)\n",
      "    data\n",
      "    decorators\n",
      "    downloader\n",
      "    draw (package)\n",
      "    featstruct\n",
      "    grammar\n",
      "    help\n",
      "    inference (package)\n",
      "    internals\n",
      "    jsontags\n",
      "    langnames\n",
      "    lazyimport\n",
      "    lm (package)\n",
      "    metrics (package)\n",
      "    misc (package)\n",
      "    parse (package)\n",
      "    probability\n",
      "    sem (package)\n",
      "    sentiment (package)\n",
      "    stem (package)\n",
      "    tag (package)\n",
      "    tbl (package)\n",
      "    test (package)\n",
      "    text\n",
      "    tgrep\n",
      "    tokenize (package)\n",
      "    toolbox\n",
      "    translate (package)\n",
      "    tree (package)\n",
      "    treeprettyprinter\n",
      "    treetransforms\n",
      "    twitter (package)\n",
      "    util\n",
      "    wsd\n",
      "\n",
      "SUBMODULES\n",
      "    agreement\n",
      "    aline\n",
      "    api\n",
      "    arlstem\n",
      "    arlstem2\n",
      "    association\n",
      "    bleu_score\n",
      "    bllip\n",
      "    boxer\n",
      "    brill\n",
      "    brill_trainer\n",
      "    casual\n",
      "    chart\n",
      "    chrf_score\n",
      "    cistem\n",
      "    confusionmatrix\n",
      "    corenlp\n",
      "    crf\n",
      "    decisiontree\n",
      "    dependencygraph\n",
      "    destructive\n",
      "    discourse\n",
      "    distance\n",
      "    drt\n",
      "    earleychart\n",
      "    evaluate\n",
      "    featurechart\n",
      "    gale_church\n",
      "    gdfa\n",
      "    gleu_score\n",
      "    glue\n",
      "    hmm\n",
      "    hunpos\n",
      "    ibm1\n",
      "    ibm2\n",
      "    ibm3\n",
      "    ibm4\n",
      "    ibm5\n",
      "    ibm_model\n",
      "    isri\n",
      "    lancaster\n",
      "    legality_principle\n",
      "    lfg\n",
      "    linearlogic\n",
      "    logic\n",
      "    mace\n",
      "    malt\n",
      "    mapping\n",
      "    maxent\n",
      "    megam\n",
      "    meteor_score\n",
      "    mwe\n",
      "    naivebayes\n",
      "    nist_score\n",
      "    nonprojectivedependencyparser\n",
      "    paice\n",
      "    pchart\n",
      "    perceptron\n",
      "    phrase_based\n",
      "    porter\n",
      "    positivenaivebayes\n",
      "    projectivedependencyparser\n",
      "    prover9\n",
      "    punkt\n",
      "    recursivedescent\n",
      "    regexp\n",
      "    relextract\n",
      "    repp\n",
      "    resolution\n",
      "    ribes_score\n",
      "    rslp\n",
      "    rte_classify\n",
      "    scikitlearn\n",
      "    scores\n",
      "    segmentation\n",
      "    senna\n",
      "    sequential\n",
      "    sexpr\n",
      "    shiftreduce\n",
      "    simple\n",
      "    snowball\n",
      "    sonority_sequencing\n",
      "    spearman\n",
      "    stack_decoder\n",
      "    stanford\n",
      "    stanford_segmenter\n",
      "    tableau\n",
      "    tadm\n",
      "    textcat\n",
      "    texttiling\n",
      "    tnt\n",
      "    toktok\n",
      "    transitionparser\n",
      "    treebank\n",
      "    viterbi\n",
      "    weka\n",
      "    wordnet\n",
      "\n",
      "FUNCTIONS\n",
      "    demo()\n",
      "        # FIXME:  override any accidentally imported demo, see https://github.com/nltk/nltk/issues/2116\n",
      "    \n",
      "    tee(iterable, n=2, /)\n",
      "        Returns a tuple of n independent iterators.\n",
      "\n",
      "DATA\n",
      "    RUS_PICKLE = 'taggers/averaged_perceptron_tagger_ru/averaged_perceptro...\n",
      "    SLASH = *slash*\n",
      "    TYPE = *type*\n",
      "    __author_email__ = 'nltk.team@gmail.com'\n",
      "    __classifiers__ = ['Development Status :: 5 - Production/Stable', 'Int...\n",
      "    __copyright__ = 'Copyright (C) 2001-2023 NLTK Project.\\n\\nDistribut......\n",
      "    __keywords__ = ['NLP', 'CL', 'natural language processing', 'computati...\n",
      "    __license__ = 'Apache License, Version 2.0'\n",
      "    __longdescr__ = 'The Natural Language Toolkit (NLTK) is a Python ...NL...\n",
      "    __maintainer__ = 'NLTK Team'\n",
      "    __maintainer_email__ = 'nltk.team@gmail.com'\n",
      "    __url__ = 'https://www.nltk.org/'\n",
      "    app = <LazyModule 'nltk.app'>\n",
      "    chat = <LazyModule 'nltk.chat'>\n",
      "    corpus = <LazyModule 'nltk.corpus'>\n",
      "    infile = <_io.TextIOWrapper name='/Users/lmv/opt/anaconda...packages/n...\n",
      "    json_tags = {'!nltk.tag.BrillTagger': <class 'nltk.tag.brill.BrillTagg...\n",
      "    toolbox = <LazyModule 'nltk.toolbox'>\n",
      "    version_file = '/Users/lmv/opt/anaconda3/envs/nlp/lib/python3.9/site-p...\n",
      "\n",
      "VERSION\n",
      "    3.8.1\n",
      "\n",
      "AUTHOR\n",
      "    NLTK Team\n",
      "\n",
      "FILE\n",
      "    /Users/lmv/opt/anaconda3/envs/nlp/lib/python3.9/site-packages/nltk/__init__.py\n",
      "\n",
      "\n"
     ]
    }
   ],
   "source": [
    "import nltk\n",
    "help(nltk)"
   ]
  },
  {
   "cell_type": "markdown",
   "metadata": {
    "id": "CVC6LksdbyBp"
   },
   "source": [
    "##### Токенизация по предложениям \n",
    "– это процесс разделения письменного языка на предложения-компоненты. В английском и некоторых других языках мы можем вычленять предложение каждый раз, когда находим определенный знак пунктуации – точку.\n",
    "\n",
    "Но даже в английском эта задача нетривиальна, так как точка используется и в сокращениях. Таблица сокращений может сильно помочь во время обработки текста, чтобы избежать неверной расстановки границ предложений. В большинстве случаев для этого используются библиотеки, так что можете особо не переживать о деталях реализации."
   ]
  },
  {
   "cell_type": "code",
   "execution_count": null,
   "metadata": {
    "id": "bns1UxpabyBp",
    "outputId": "65d1a0da-ff64-4f3a-ef35-fef922afc008"
   },
   "outputs": [
    {
     "data": {
      "text/plain": [
       "\"Russian is an East'sa Slavic language, which is an official language in Russia, Belarus, Kazakhstan, Kyrgyzstan, as well as being widely used throughout Eastern Europe, the Baltic states, the Caucasus and Central Asia. Russian belongs to the family of Indo-European languages, one of the four living members of the East Slavic languages alongside, and part of the larger Balto-Slavic branch. There is a high degree of mutual intelligibility between Russian, Belarusian and Ukrainian.\""
      ]
     },
     "execution_count": 1,
     "metadata": {
      "tags": []
     },
     "output_type": "execute_result"
    }
   ],
   "source": [
    "text = \"Russian is an East'sa Slavic language, which is an official language in Russia, Belarus, Kazakhstan, Kyrgyzstan, as well as being widely used throughout Eastern Europe, the Baltic states, the Caucasus and Central Asia. Russian belongs to the family of Indo-European languages, one of the four living members of the East Slavic languages alongside, and part of the larger Balto-Slavic branch. There is a high degree of mutual intelligibility between Russian, Belarusian and Ukrainian.\"\n",
    "text"
   ]
  },
  {
   "cell_type": "code",
   "execution_count": null,
   "metadata": {
    "id": "tfgeSBvtbyBp",
    "outputId": "ce12be68-bfe6-4bd1-9159-82bebe2035d4",
    "scrolled": true
   },
   "outputs": [
    {
     "data": {
      "text/plain": [
       "['Russian',\n",
       " 'is',\n",
       " 'an',\n",
       " \"East'sa\",\n",
       " 'Slavic',\n",
       " 'language,',\n",
       " 'which',\n",
       " 'is',\n",
       " 'an',\n",
       " 'official',\n",
       " 'language',\n",
       " 'in',\n",
       " 'Russia,',\n",
       " 'Belarus,',\n",
       " 'Kazakhstan,',\n",
       " 'Kyrgyzstan,',\n",
       " 'as',\n",
       " 'well',\n",
       " 'as',\n",
       " 'being',\n",
       " 'widely',\n",
       " 'used',\n",
       " 'throughout',\n",
       " 'Eastern',\n",
       " 'Europe,',\n",
       " 'the',\n",
       " 'Baltic',\n",
       " 'states,',\n",
       " 'the',\n",
       " 'Caucasus',\n",
       " 'and',\n",
       " 'Central',\n",
       " 'Asia.',\n",
       " 'Russian',\n",
       " 'belongs',\n",
       " 'to',\n",
       " 'the',\n",
       " 'family',\n",
       " 'of',\n",
       " 'Indo-European',\n",
       " 'languages,',\n",
       " 'one',\n",
       " 'of',\n",
       " 'the',\n",
       " 'four',\n",
       " 'living',\n",
       " 'members',\n",
       " 'of',\n",
       " 'the',\n",
       " 'East',\n",
       " 'Slavic',\n",
       " 'languages',\n",
       " 'alongside,',\n",
       " 'and',\n",
       " 'part',\n",
       " 'of',\n",
       " 'the',\n",
       " 'larger',\n",
       " 'Balto-Slavic',\n",
       " 'branch.',\n",
       " 'There',\n",
       " 'is',\n",
       " 'a',\n",
       " 'high',\n",
       " 'degree',\n",
       " 'of',\n",
       " 'mutual',\n",
       " 'intelligibility',\n",
       " 'between',\n",
       " 'Russian,',\n",
       " 'Belarusian',\n",
       " 'and',\n",
       " 'Ukrainian.']"
      ]
     },
     "execution_count": 2,
     "metadata": {
      "tags": []
     },
     "output_type": "execute_result"
    }
   ],
   "source": [
    "text.split()"
   ]
  },
  {
   "cell_type": "code",
   "execution_count": null,
   "metadata": {
    "id": "J1IcnbwgbyBq",
    "outputId": "cdda6266-2ef1-46d2-d8fe-90ad6064af3c"
   },
   "outputs": [
    {
     "data": {
      "text/plain": [
       "[\"Russian is an East'sa Slavic language, which is an official language in Russia, Belarus, Kazakhstan, Kyrgyzstan, as well as being widely used throughout Eastern Europe, the Baltic states, the Caucasus and Central Asia\",\n",
       " ' Russian belongs to the family of Indo-European languages, one of the four living members of the East Slavic languages alongside, and part of the larger Balto-Slavic branch',\n",
       " ' There is a high degree of mutual intelligibility between Russian, Belarusian and Ukrainian',\n",
       " '']"
      ]
     },
     "execution_count": 7,
     "metadata": {
      "tags": []
     },
     "output_type": "execute_result"
    }
   ],
   "source": [
    "text.split('.')"
   ]
  },
  {
   "cell_type": "code",
   "execution_count": 82,
   "metadata": {
    "id": "8NcKx-kcbyBq"
   },
   "outputs": [],
   "source": [
    "from nltk.tokenize import word_tokenize, wordpunct_tokenize"
   ]
  },
  {
   "cell_type": "code",
   "execution_count": 83,
   "metadata": {
    "id": "pwQJQJsibyBq"
   },
   "outputs": [],
   "source": [
    "from nltk import tokenize as tknz"
   ]
  },
  {
   "cell_type": "code",
   "execution_count": null,
   "metadata": {
    "id": "Vd2OjLA3byBq",
    "outputId": "bcedecca-5ec7-4f31-e78d-846b40e29520",
    "scrolled": true
   },
   "outputs": [
    {
     "data": {
      "text/plain": [
       "['Russian',\n",
       " 'is',\n",
       " 'an',\n",
       " \"East'sa\",\n",
       " 'Slavic',\n",
       " 'language',\n",
       " ',',\n",
       " 'which',\n",
       " 'is',\n",
       " 'an',\n",
       " 'official',\n",
       " 'language',\n",
       " 'in',\n",
       " 'Russia',\n",
       " ',',\n",
       " 'Belarus',\n",
       " ',',\n",
       " 'Kazakhstan',\n",
       " ',',\n",
       " 'Kyrgyzstan',\n",
       " ',',\n",
       " 'as',\n",
       " 'well',\n",
       " 'as',\n",
       " 'being',\n",
       " 'widely',\n",
       " 'used',\n",
       " 'throughout',\n",
       " 'Eastern',\n",
       " 'Europe',\n",
       " ',',\n",
       " 'the',\n",
       " 'Baltic',\n",
       " 'states',\n",
       " ',',\n",
       " 'the',\n",
       " 'Caucasus',\n",
       " 'and',\n",
       " 'Central',\n",
       " 'Asia',\n",
       " '.',\n",
       " 'Russian',\n",
       " 'belongs',\n",
       " 'to',\n",
       " 'the',\n",
       " 'family',\n",
       " 'of',\n",
       " 'Indo-European',\n",
       " 'languages',\n",
       " ',',\n",
       " 'one',\n",
       " 'of',\n",
       " 'the',\n",
       " 'four',\n",
       " 'living',\n",
       " 'members',\n",
       " 'of',\n",
       " 'the',\n",
       " 'East',\n",
       " 'Slavic',\n",
       " 'languages',\n",
       " 'alongside',\n",
       " ',',\n",
       " 'and',\n",
       " 'part',\n",
       " 'of',\n",
       " 'the',\n",
       " 'larger',\n",
       " 'Balto-Slavic',\n",
       " 'branch',\n",
       " '.',\n",
       " 'There',\n",
       " 'is',\n",
       " 'a',\n",
       " 'high',\n",
       " 'degree',\n",
       " 'of',\n",
       " 'mutual',\n",
       " 'intelligibility',\n",
       " 'between',\n",
       " 'Russian',\n",
       " ',',\n",
       " 'Belarusian',\n",
       " 'and',\n",
       " 'Ukrainian',\n",
       " '.']"
      ]
     },
     "execution_count": 9,
     "metadata": {
      "tags": []
     },
     "output_type": "execute_result"
    }
   ],
   "source": [
    "tknz.word_tokenize(text)"
   ]
  },
  {
   "cell_type": "code",
   "execution_count": null,
   "metadata": {
    "id": "sNqADvfmbyBq",
    "outputId": "282431dc-016c-4d92-9781-b06a080a64dd",
    "scrolled": true
   },
   "outputs": [
    {
     "data": {
      "text/plain": [
       "['Russian',\n",
       " 'is',\n",
       " 'an',\n",
       " 'East',\n",
       " \"'\",\n",
       " 'sa',\n",
       " 'Slavic',\n",
       " 'language',\n",
       " ',',\n",
       " 'which',\n",
       " 'is',\n",
       " 'an',\n",
       " 'official',\n",
       " 'language',\n",
       " 'in',\n",
       " 'Russia',\n",
       " ',',\n",
       " 'Belarus',\n",
       " ',',\n",
       " 'Kazakhstan',\n",
       " ',',\n",
       " 'Kyrgyzstan',\n",
       " ',',\n",
       " 'as',\n",
       " 'well',\n",
       " 'as',\n",
       " 'being',\n",
       " 'widely',\n",
       " 'used',\n",
       " 'throughout',\n",
       " 'Eastern',\n",
       " 'Europe',\n",
       " ',',\n",
       " 'the',\n",
       " 'Baltic',\n",
       " 'states',\n",
       " ',',\n",
       " 'the',\n",
       " 'Caucasus',\n",
       " 'and',\n",
       " 'Central',\n",
       " 'Asia',\n",
       " '.',\n",
       " 'Russian',\n",
       " 'belongs',\n",
       " 'to',\n",
       " 'the',\n",
       " 'family',\n",
       " 'of',\n",
       " 'Indo',\n",
       " '-',\n",
       " 'European',\n",
       " 'languages',\n",
       " ',',\n",
       " 'one',\n",
       " 'of',\n",
       " 'the',\n",
       " 'four',\n",
       " 'living',\n",
       " 'members',\n",
       " 'of',\n",
       " 'the',\n",
       " 'East',\n",
       " 'Slavic',\n",
       " 'languages',\n",
       " 'alongside',\n",
       " ',',\n",
       " 'and',\n",
       " 'part',\n",
       " 'of',\n",
       " 'the',\n",
       " 'larger',\n",
       " 'Balto',\n",
       " '-',\n",
       " 'Slavic',\n",
       " 'branch',\n",
       " '.',\n",
       " 'There',\n",
       " 'is',\n",
       " 'a',\n",
       " 'high',\n",
       " 'degree',\n",
       " 'of',\n",
       " 'mutual',\n",
       " 'intelligibility',\n",
       " 'between',\n",
       " 'Russian',\n",
       " ',',\n",
       " 'Belarusian',\n",
       " 'and',\n",
       " 'Ukrainian',\n",
       " '.']"
      ]
     },
     "execution_count": 8,
     "metadata": {
      "tags": []
     },
     "output_type": "execute_result"
    }
   ],
   "source": [
    "tknz.wordpunct_tokenize(text)"
   ]
  },
  {
   "cell_type": "code",
   "execution_count": null,
   "metadata": {
    "id": "NlcQCbUVbyBq",
    "outputId": "c813db5e-0dbf-476d-c57f-98295f6f3d4b",
    "scrolled": true
   },
   "outputs": [
    {
     "data": {
      "text/plain": [
       "['Russian',\n",
       " 'is',\n",
       " 'an',\n",
       " 'East',\n",
       " \"'\",\n",
       " 'sa',\n",
       " 'Slavic',\n",
       " 'language',\n",
       " ',',\n",
       " 'which',\n",
       " 'is',\n",
       " 'an',\n",
       " 'official',\n",
       " 'language',\n",
       " 'in',\n",
       " 'Russia',\n",
       " ',',\n",
       " 'Belarus',\n",
       " ',',\n",
       " 'Kazakhstan',\n",
       " ',',\n",
       " 'Kyrgyzstan',\n",
       " ',',\n",
       " 'as',\n",
       " 'well',\n",
       " 'as',\n",
       " 'being',\n",
       " 'widely',\n",
       " 'used',\n",
       " 'throughout',\n",
       " 'Eastern',\n",
       " 'Europe',\n",
       " ',',\n",
       " 'the',\n",
       " 'Baltic',\n",
       " 'states',\n",
       " ',',\n",
       " 'the',\n",
       " 'Caucasus',\n",
       " 'and',\n",
       " 'Central',\n",
       " 'Asia.',\n",
       " 'Russian',\n",
       " 'belongs',\n",
       " 'to',\n",
       " 'the',\n",
       " 'family',\n",
       " 'of',\n",
       " 'Indo-European',\n",
       " 'languages',\n",
       " ',',\n",
       " 'one',\n",
       " 'of',\n",
       " 'the',\n",
       " 'four',\n",
       " 'living',\n",
       " 'members',\n",
       " 'of',\n",
       " 'the',\n",
       " 'East',\n",
       " 'Slavic',\n",
       " 'languages',\n",
       " 'alongside',\n",
       " ',',\n",
       " 'and',\n",
       " 'part',\n",
       " 'of',\n",
       " 'the',\n",
       " 'larger',\n",
       " 'Balto-Slavic',\n",
       " 'branch.',\n",
       " 'There',\n",
       " 'is',\n",
       " 'a',\n",
       " 'high',\n",
       " 'degree',\n",
       " 'of',\n",
       " 'mutual',\n",
       " 'intelligibility',\n",
       " 'between',\n",
       " 'Russian',\n",
       " ',',\n",
       " 'Belarusian',\n",
       " 'and',\n",
       " 'Ukrainian',\n",
       " '.']"
      ]
     },
     "execution_count": 10,
     "metadata": {
      "tags": []
     },
     "output_type": "execute_result"
    }
   ],
   "source": [
    "tknz.ToktokTokenizer().tokenize(text)"
   ]
  },
  {
   "cell_type": "code",
   "execution_count": null,
   "metadata": {
    "id": "iWAn70TubyBr",
    "outputId": "d8c980aa-17ff-4c3f-fb03-187f71f1cfdc",
    "scrolled": true
   },
   "outputs": [
    {
     "data": {
      "text/plain": [
       "['Russian',\n",
       " 'is',\n",
       " 'an',\n",
       " \"East'sa\",\n",
       " 'Slavic',\n",
       " 'language',\n",
       " ',',\n",
       " 'which',\n",
       " 'is',\n",
       " 'an',\n",
       " 'official',\n",
       " 'language',\n",
       " 'in',\n",
       " 'Russia',\n",
       " ',',\n",
       " 'Belarus',\n",
       " ',',\n",
       " 'Kazakhstan',\n",
       " ',',\n",
       " 'Kyrgyzstan',\n",
       " ',',\n",
       " 'as',\n",
       " 'well',\n",
       " 'as',\n",
       " 'being',\n",
       " 'widely',\n",
       " 'used',\n",
       " 'throughout',\n",
       " 'Eastern',\n",
       " 'Europe',\n",
       " ',',\n",
       " 'the',\n",
       " 'Baltic',\n",
       " 'states',\n",
       " ',',\n",
       " 'the',\n",
       " 'Caucasus',\n",
       " 'and',\n",
       " 'Central',\n",
       " 'Asia',\n",
       " '.',\n",
       " 'Russian',\n",
       " 'belongs',\n",
       " 'to',\n",
       " 'the',\n",
       " 'family',\n",
       " 'of',\n",
       " 'Indo-European',\n",
       " 'languages',\n",
       " ',',\n",
       " 'one',\n",
       " 'of',\n",
       " 'the',\n",
       " 'four',\n",
       " 'living',\n",
       " 'members',\n",
       " 'of',\n",
       " 'the',\n",
       " 'East',\n",
       " 'Slavic',\n",
       " 'languages',\n",
       " 'alongside',\n",
       " ',',\n",
       " 'and',\n",
       " 'part',\n",
       " 'of',\n",
       " 'the',\n",
       " 'larger',\n",
       " 'Balto-Slavic',\n",
       " 'branch',\n",
       " '.',\n",
       " 'There',\n",
       " 'is',\n",
       " 'a',\n",
       " 'high',\n",
       " 'degree',\n",
       " 'of',\n",
       " 'mutual',\n",
       " 'intelligibility',\n",
       " 'between',\n",
       " 'Russian',\n",
       " ',',\n",
       " 'Belarusian',\n",
       " 'and',\n",
       " 'Ukrainian',\n",
       " '.']"
      ]
     },
     "execution_count": 11,
     "metadata": {
      "tags": []
     },
     "output_type": "execute_result"
    }
   ],
   "source": [
    "tknz.TweetTokenizer().tokenize(text)"
   ]
  },
  {
   "cell_type": "code",
   "execution_count": null,
   "metadata": {
    "id": "tE94B4Z1byBr"
   },
   "outputs": [],
   "source": [
    "tknz.RegexpTokenizer?"
   ]
  },
  {
   "cell_type": "code",
   "execution_count": null,
   "metadata": {
    "id": "_zN55TkybyBr",
    "outputId": "c7c30d15-518b-4fb6-805f-7a72f3053723",
    "scrolled": true
   },
   "outputs": [
    {
     "data": {
      "text/plain": [
       "['Russian',\n",
       " 'is',\n",
       " 'an',\n",
       " 'East',\n",
       " 'sa',\n",
       " 'Slavic',\n",
       " 'language',\n",
       " 'which',\n",
       " 'is',\n",
       " 'an',\n",
       " 'official',\n",
       " 'language',\n",
       " 'in',\n",
       " 'Russia',\n",
       " 'Belarus',\n",
       " 'Kazakhstan',\n",
       " 'Kyrgyzstan',\n",
       " 'as',\n",
       " 'well',\n",
       " 'as',\n",
       " 'being',\n",
       " 'widely',\n",
       " 'used',\n",
       " 'throughout',\n",
       " 'Eastern',\n",
       " 'Europe',\n",
       " 'the',\n",
       " 'Baltic',\n",
       " 'states',\n",
       " 'the',\n",
       " 'Caucasus',\n",
       " 'and',\n",
       " 'Central',\n",
       " 'Asia',\n",
       " 'Russian',\n",
       " 'belongs',\n",
       " 'to',\n",
       " 'the',\n",
       " 'family',\n",
       " 'of',\n",
       " 'Indo',\n",
       " 'European',\n",
       " 'languages',\n",
       " 'one',\n",
       " 'of',\n",
       " 'the',\n",
       " 'four',\n",
       " 'living',\n",
       " 'members',\n",
       " 'of',\n",
       " 'the',\n",
       " 'East',\n",
       " 'Slavic',\n",
       " 'languages',\n",
       " 'alongside',\n",
       " 'and',\n",
       " 'part',\n",
       " 'of',\n",
       " 'the',\n",
       " 'larger',\n",
       " 'Balto',\n",
       " 'Slavic',\n",
       " 'branch',\n",
       " 'There',\n",
       " 'is',\n",
       " 'a',\n",
       " 'high',\n",
       " 'degree',\n",
       " 'of',\n",
       " 'mutual',\n",
       " 'intelligibility',\n",
       " 'between',\n",
       " 'Russian',\n",
       " 'Belarusian',\n",
       " 'and',\n",
       " 'Ukrainian']"
      ]
     },
     "execution_count": 16,
     "metadata": {
      "tags": []
     },
     "output_type": "execute_result"
    }
   ],
   "source": [
    "tknz.RegexpTokenizer(\"\\w+\").tokenize(text)"
   ]
  },
  {
   "cell_type": "code",
   "execution_count": 89,
   "metadata": {
    "id": "0NbqWWm4byBr"
   },
   "outputs": [],
   "source": [
    "text = 'Russian is an East 12.12.2020 Slavic language, which is. an official language in Russia, Belarus, Kazakhstan, Kyrgyzstan, as well as being widely used throughout Eastern Europe, the Baltic states, the Caucasus and Central AsiaRussian belongs. to the family of Indo-European languages, one of the four living members of the East Slavic languages alongside, and part of the larger Balto-Slavic branch. There is a high degree of mutual intelligibility between Russian, Belarusian and Ukrainian.'"
   ]
  },
  {
   "cell_type": "code",
   "execution_count": 90,
   "metadata": {
    "id": "kCkK51gZbyBt",
    "outputId": "be30d622-0ebc-4c72-c8c1-43249549c956"
   },
   "outputs": [
    {
     "name": "stdout",
     "output_type": "stream",
     "text": [
      "Russian is an East 12.12.2020 Slavic language, which is.\n",
      "\n",
      "an official language in Russia, Belarus, Kazakhstan, Kyrgyzstan, as well as being widely used throughout Eastern Europe, the Baltic states, the Caucasus and Central AsiaRussian belongs.\n",
      "\n",
      "to the family of Indo-European languages, one of the four living members of the East Slavic languages alongside, and part of the larger Balto-Slavic branch.\n",
      "\n",
      "There is a high degree of mutual intelligibility between Russian, Belarusian and Ukrainian.\n",
      "\n"
     ]
    }
   ],
   "source": [
    "sentences = nltk.sent_tokenize(text)\n",
    "for sentence in sentences:\n",
    "    print(sentence)\n",
    "    print()"
   ]
  },
  {
   "cell_type": "markdown",
   "metadata": {
    "id": "CSlN14rgbyBt"
   },
   "source": [
    "##### Токенизация по словам \n",
    "– это процесс разделения предложений на слова-компоненты. В английском и многих других языках, использующих ту или иную версию латинского алфавита, пробел – это неплохой разделитель слов.\n",
    "\n",
    "Тем не менее, могут возникнуть проблемы, если мы будем использовать только пробел – в английском составные существительные пишутся по-разному и иногда через пробел. И тут вновь нам помогают библиотеки.\n",
    "\n",
    "Давайте возьмем предложения из предыдущего примера и применим к ним метод nltk.word_tokenize."
   ]
  },
  {
   "cell_type": "code",
   "execution_count": null,
   "metadata": {
    "id": "qdo6eaiCbyBt",
    "outputId": "3bb0e692-a4ed-485d-df0d-b6dac3f107fe"
   },
   "outputs": [
    {
     "data": {
      "text/plain": [
       "['Russian is an East Slavic language, which is an official language in Russia, Belarus, Kazakhstan, Kyrgyzstan, as well as being widely used throughout Eastern Europe, the Baltic states, the Caucasus and Central Asia.',\n",
       " 'Russian belongs to the family of Indo-European languages, one of the four living members of the East Slavic languages alongside, and part of the larger Balto-Slavic branch.',\n",
       " 'There is a high degree of mutual intelligibility between Russian, Belarusian and Ukrainian.']"
      ]
     },
     "execution_count": 36,
     "metadata": {
      "tags": []
     },
     "output_type": "execute_result"
    }
   ],
   "source": [
    "sentences"
   ]
  },
  {
   "cell_type": "code",
   "execution_count": null,
   "metadata": {
    "id": "rA6_SYvxbyBu"
   },
   "outputs": [],
   "source": [
    "tt = 'Russian is an East Slavic language. Ehich is 1.4.6 an official language in Russia. Belarus, Kazakhstan, Kyrgyzstan, as well as 10.22.2020 being widely used. throughout Eastern Europe, the Baltic states! The Caucasus and Central Asia.'"
   ]
  },
  {
   "cell_type": "code",
   "execution_count": null,
   "metadata": {
    "id": "u0ZN2KWcbyBu"
   },
   "outputs": [],
   "source": [
    "nltk.sent_tokenize?"
   ]
  },
  {
   "cell_type": "code",
   "execution_count": null,
   "metadata": {
    "id": "zEtgEgbnbyBu",
    "outputId": "2495710d-cd64-43bc-e1aa-9ae071fbd313"
   },
   "outputs": [
    {
     "data": {
      "text/plain": [
       "['Russian is an East Slavic language.',\n",
       " 'Ehich is 1.4.6 an official language in Russia.',\n",
       " 'Belarus, Kazakhstan, Kyrgyzstan, as well as 10.22.2020 being widely used.',\n",
       " 'throughout Eastern Europe, the Baltic states!',\n",
       " 'The Caucasus and Central Asia.']"
      ]
     },
     "execution_count": 51,
     "metadata": {
      "tags": []
     },
     "output_type": "execute_result"
    }
   ],
   "source": [
    "nltk.sent_tokenize(tt)"
   ]
  },
  {
   "cell_type": "code",
   "execution_count": null,
   "metadata": {
    "id": "fjM7j1Z4byBu"
   },
   "outputs": [],
   "source": [
    "s = \"Выва аовлд 10.05.2020 аволдв. Иыты лдва олы!\""
   ]
  },
  {
   "cell_type": "code",
   "execution_count": null,
   "metadata": {
    "id": "-6XKeM6pbyBu",
    "outputId": "de321170-bd20-4e54-d6d5-f0982c8c628f"
   },
   "outputs": [
    {
     "name": "stdout",
     "output_type": "stream",
     "text": [
      "['Выва аовлд 10.05.2020 аволдв.', 'Иыты лдва олы!']\n"
     ]
    }
   ],
   "source": [
    "print(nltk.sent_tokenize(s))"
   ]
  },
  {
   "cell_type": "code",
   "execution_count": null,
   "metadata": {
    "id": "Mp-DWfrabyBu",
    "outputId": "1759b8e3-f1ec-48bd-c61a-e666e05ce2c9"
   },
   "outputs": [
    {
     "name": "stdout",
     "output_type": "stream",
     "text": [
      "['Russian', 'is', 'an', 'East', '12.12.2020', 'Slavic', 'language', ',', 'which', 'is', 'an', 'official', 'language', 'in', 'Russia', ',', 'Belarus', ',', 'Kazakhstan', ',', 'Kyrgyzstan', ',', 'as', 'well', 'as', 'being', 'widely', 'used', 'throughout', 'Eastern', 'Europe', ',', 'the', 'Baltic', 'states', ',', 'the', 'Caucasus', 'and', 'Central', 'Asia', '.']\n",
      "\n",
      "['Russian', 'belongs', 'to', 'the', 'family', 'of', 'Indo-European', 'languages', ',', 'one', 'of', 'the', 'four', 'living', 'members', 'of', 'the', 'East', 'Slavic', 'languages', 'alongside', ',', 'and', 'part', 'of', 'the', 'larger', 'Balto-Slavic', 'branch', '.']\n",
      "\n",
      "['There', 'is', 'a', 'high', 'degree', 'of', 'mutual', 'intelligibility', 'between', 'Russian', ',', 'Belarusian', 'and', 'Ukrainian', '.']\n",
      "\n"
     ]
    }
   ],
   "source": [
    "for sentence in sentences:\n",
    "    words = nltk.word_tokenize(sentence)\n",
    "    print(words)\n",
    "    print()"
   ]
  },
  {
   "cell_type": "markdown",
   "metadata": {
    "id": "eQq-MY-cbyBv"
   },
   "source": [
    "##### Лемматизация и стемминг текста\n",
    "\n",
    "Обычно тексты содержат разные грамматические формы одного и того же слова, а также могут встречаться однокоренные слова. Лемматизация и стемминг преследуют цель привести все встречающиеся словоформы к одной, нормальной словарной форме.\n",
    "\n",
    "##### Примеры:\n",
    "\n",
    "- Приведение разных словоформ к одной: dog, dogs, dog’s, dogs’ => dog\n",
    "- То же самое, но уже применительно к целому предложению: the boy’s dogs are different sizes => the boy dog be differ size\n",
    "\n",
    "\n",
    "Лемматизация и стемминг – это частные случаи нормализации и они отличаются.\n",
    "\n",
    "##### Стемминг\n",
    "– это грубый эвристический процесс, который отрезает «лишнее» от корня слов, часто это приводит к потере словообразовательных суффиксов.\n",
    "\n",
    "##### Лемматизация\n",
    "– это более тонкий процесс, который использует словарь и морфологический анализ, чтобы в итоге привести слово к его канонической форме – лемме.\n",
    "\n",
    "Отличие в том, что стеммер (конкретная реализация алгоритма стемминга – прим.переводчика) действует без знания контекста и, соответственно, не понимает разницу между словами, которые имеют разный смысл в зависимости от части речи. Однако у стеммеров есть и свои преимущества: их проще внедрить и они работают быстрее. Плюс, более низкая «аккуратность» может не иметь значения в некоторых случаях.\n",
    "\n",
    "##### Примеры:\n",
    "\n",
    "- Слово good – это лемма для слова better. Стеммер не увидит эту связь, так как здесь нужно сверяться со словарем.\n",
    "- Слово play – это базовая форма слова playing. Тут справятся и стемминг, и лемматизация.\n",
    "- Слово meeting может быть как нормальной формой существительного, так и формой глагола to meet, в зависимости от контекста. В - отличие от стемминга, лемматизация попробует выбрать правильную лемму, опираясь на контекст."
   ]
  },
  {
   "cell_type": "code",
   "execution_count": null,
   "metadata": {
    "id": "eVFzKMvfbyBv"
   },
   "outputs": [],
   "source": [
    "from nltk.stem.snowball import SnowballStemmer"
   ]
  },
  {
   "cell_type": "code",
   "execution_count": null,
   "metadata": {
    "id": "2ZHSZcKxbyBv",
    "outputId": "e17e0f5e-b09a-4068-f297-3f72b614052a"
   },
   "outputs": [
    {
     "data": {
      "text/plain": [
       "('arabic',\n",
       " 'danish',\n",
       " 'dutch',\n",
       " 'english',\n",
       " 'finnish',\n",
       " 'french',\n",
       " 'german',\n",
       " 'hungarian',\n",
       " 'italian',\n",
       " 'norwegian',\n",
       " 'porter',\n",
       " 'portuguese',\n",
       " 'romanian',\n",
       " 'russian',\n",
       " 'spanish',\n",
       " 'swedish')"
      ]
     },
     "execution_count": 33,
     "metadata": {
      "tags": []
     },
     "output_type": "execute_result"
    }
   ],
   "source": [
    "SnowballStemmer.languages"
   ]
  },
  {
   "cell_type": "code",
   "execution_count": null,
   "metadata": {
    "id": "A7KD-8mHbyBv",
    "outputId": "7e293d97-d21e-4783-9273-88e0d9a85354"
   },
   "outputs": [
    {
     "data": {
      "text/plain": [
       "'Практический опыт показывает, что реализация намеченного плана развития обеспечивает широкому кругу специалистов участие в формировании позиций, занимаемых участниками в отношении поставленных задач. Повседневная практика показывает, что новая модель организационной деятельности обеспечивает широкому кругу специалистов участие в формировании экономической целесообразности принимаемых решений. С другой стороны курс на социально-ориентированный национальный проект способствует подготовке и реализации модели развития!'"
      ]
     },
     "execution_count": 34,
     "metadata": {
      "tags": []
     },
     "output_type": "execute_result"
    }
   ],
   "source": [
    "text_test = \"Практический опыт показывает, что реализация намеченного плана развития обеспечивает широкому кругу специалистов участие в формировании позиций, занимаемых участниками в отношении поставленных задач. Повседневная практика показывает, что новая модель организационной деятельности обеспечивает широкому кругу специалистов участие в формировании экономической целесообразности принимаемых решений. С другой стороны курс на социально-ориентированный национальный проект способствует подготовке и реализации модели развития!\"\n",
    "text_test"
   ]
  },
  {
   "cell_type": "code",
   "execution_count": null,
   "metadata": {
    "id": "CbEqrQCfbyBv"
   },
   "outputs": [],
   "source": [
    "snowball = SnowballStemmer('russian')"
   ]
  },
  {
   "cell_type": "code",
   "execution_count": null,
   "metadata": {
    "id": "3L_5oKOebyBv"
   },
   "outputs": [],
   "source": [
    "words = word_tokenize(text_test)"
   ]
  },
  {
   "cell_type": "code",
   "execution_count": null,
   "metadata": {
    "id": "d-Pn7Q1cbyBw",
    "outputId": "b985b1a2-1854-4ac0-f1c5-4658bca9458b",
    "scrolled": true
   },
   "outputs": [
    {
     "data": {
      "text/plain": [
       "['Практический',\n",
       " 'опыт',\n",
       " 'показывает',\n",
       " ',',\n",
       " 'что',\n",
       " 'реализация',\n",
       " 'намеченного',\n",
       " 'плана',\n",
       " 'развития',\n",
       " 'обеспечивает',\n",
       " 'широкому',\n",
       " 'кругу',\n",
       " 'специалистов',\n",
       " 'участие',\n",
       " 'в',\n",
       " 'формировании',\n",
       " 'позиций',\n",
       " ',',\n",
       " 'занимаемых',\n",
       " 'участниками',\n",
       " 'в',\n",
       " 'отношении',\n",
       " 'поставленных',\n",
       " 'задач',\n",
       " '.',\n",
       " 'Повседневная',\n",
       " 'практика',\n",
       " 'показывает',\n",
       " ',',\n",
       " 'что',\n",
       " 'новая',\n",
       " 'модель',\n",
       " 'организационной',\n",
       " 'деятельности',\n",
       " 'обеспечивает',\n",
       " 'широкому',\n",
       " 'кругу',\n",
       " 'специалистов',\n",
       " 'участие',\n",
       " 'в',\n",
       " 'формировании',\n",
       " 'экономической',\n",
       " 'целесообразности',\n",
       " 'принимаемых',\n",
       " 'решений',\n",
       " '.',\n",
       " 'С',\n",
       " 'другой',\n",
       " 'стороны',\n",
       " 'курс',\n",
       " 'на',\n",
       " 'социально-ориентированный',\n",
       " 'национальный',\n",
       " 'проект',\n",
       " 'способствует',\n",
       " 'подготовке',\n",
       " 'и',\n",
       " 'реализации',\n",
       " 'модели',\n",
       " 'развития',\n",
       " '!']"
      ]
     },
     "execution_count": 37,
     "metadata": {
      "tags": []
     },
     "output_type": "execute_result"
    }
   ],
   "source": [
    "words"
   ]
  },
  {
   "cell_type": "code",
   "execution_count": null,
   "metadata": {
    "id": "rfOx6Ga0byBw"
   },
   "outputs": [],
   "source": []
  },
  {
   "cell_type": "code",
   "execution_count": null,
   "metadata": {
    "id": "sGvvNQn6byBw"
   },
   "outputs": [],
   "source": []
  },
  {
   "cell_type": "code",
   "execution_count": null,
   "metadata": {
    "id": "kRDC37dYbyBw",
    "outputId": "642382c8-464b-47c1-cd9b-14edb010ebb9",
    "scrolled": true
   },
   "outputs": [
    {
     "name": "stdout",
     "output_type": "stream",
     "text": [
      "Практический - практическ\n",
      "опыт - оп\n",
      "показывает - показыва\n",
      ", - ,\n",
      "что - что\n",
      "реализация - реализац\n",
      "намеченного - намечен\n",
      "плана - план\n",
      "развития - развит\n",
      "обеспечивает - обеспечива\n",
      "широкому - широк\n",
      "кругу - круг\n",
      "специалистов - специалист\n",
      "участие - участ\n",
      "в - в\n",
      "формировании - формирован\n",
      "позиций - позиц\n",
      ", - ,\n",
      "занимаемых - занима\n",
      "участниками - участник\n",
      "в - в\n",
      "отношении - отношен\n",
      "поставленных - поставлен\n",
      "задач - задач\n",
      ". - .\n",
      "Повседневная - повседневн\n",
      "практика - практик\n",
      "показывает - показыва\n",
      ", - ,\n",
      "что - что\n",
      "новая - нов\n",
      "модель - модел\n",
      "организационной - организацион\n",
      "деятельности - деятельн\n",
      "обеспечивает - обеспечива\n",
      "широкому - широк\n",
      "кругу - круг\n",
      "специалистов - специалист\n",
      "участие - участ\n",
      "в - в\n",
      "формировании - формирован\n",
      "экономической - экономическ\n",
      "целесообразности - целесообразн\n",
      "принимаемых - принима\n",
      "решений - решен\n",
      ". - .\n",
      "С - с\n",
      "другой - друг\n",
      "стороны - сторон\n",
      "курс - курс\n",
      "на - на\n",
      "социально-ориентированный - социально-ориентирова\n",
      "национальный - национальн\n",
      "проект - проект\n",
      "способствует - способств\n",
      "подготовке - подготовк\n",
      "и - и\n",
      "реализации - реализац\n",
      "модели - модел\n",
      "развития - развит\n",
      "! - !\n"
     ]
    }
   ],
   "source": [
    "for w in words:\n",
    "    print('{} - {}'.format(w, snowball.stem(w)))"
   ]
  },
  {
   "cell_type": "code",
   "execution_count": null,
   "metadata": {
    "id": "Rf1WcCgRbyBw",
    "outputId": "b263b9f7-beca-4d6b-b114-e79372023256"
   },
   "outputs": [
    {
     "name": "stdout",
     "output_type": "stream",
     "text": [
      "Stemmer: seen\n",
      "Lemmatizer: see\n",
      "\n",
      "Stemmer: drove\n",
      "Lemmatizer: drive\n",
      "\n"
     ]
    }
   ],
   "source": [
    "from nltk.stem import PorterStemmer, WordNetLemmatizer\n",
    "from nltk.corpus import wordnet\n",
    "\n",
    "def compare_stemmer_and_lemmatizer(stemmer, lemmatizer, word, pos):\n",
    "    \"\"\"\n",
    "    Print the results of stemmind and lemmitization using the passed stemmer, lemmatizer, word and pos (part of speech)\n",
    "    \"\"\"\n",
    "    print(\"Stemmer:\", stemmer.stem(word))\n",
    "    print(\"Lemmatizer:\", lemmatizer.lemmatize(word, pos))\n",
    "    print()\n",
    "\n",
    "lemmatizer = WordNetLemmatizer()\n",
    "stemmer = PorterStemmer()\n",
    "compare_stemmer_and_lemmatizer(stemmer, lemmatizer, word = \"seen\", pos = wordnet.VERB)\n",
    "compare_stemmer_and_lemmatizer(stemmer, lemmatizer, word = \"drove\", pos = wordnet.VERB)"
   ]
  },
  {
   "cell_type": "code",
   "execution_count": null,
   "metadata": {
    "id": "EVVS-Xc8byBw"
   },
   "outputs": [],
   "source": [
    "# !pip install pymystem3"
   ]
  },
  {
   "cell_type": "code",
   "execution_count": null,
   "metadata": {
    "id": "ptqr57abbyBw",
    "outputId": "eba6c52a-b535-4c10-ca26-1644c688638d"
   },
   "outputs": [
    {
     "name": "stdout",
     "output_type": "stream",
     "text": [
      "['практический', ' ', 'опыт', ' ', 'показывать', ' , ', 'что', ' ', 'реализация', ' ', 'намечать', ' ', 'план', ' ', 'развитие', ' ', 'обеспечивать', ' ', 'широкий', ' ', 'круг', ' ', 'специалист', ' ', 'участие', ' ', 'в', ' ', 'формирование', ' ', 'позиция', ' , ', 'занимать', ' ', 'участник', ' ', 'в', ' ', 'отношение', ' ', 'поставлять', ' ', 'задача', ' ', '. ', 'повседневный', ' ', 'практика', ' ', 'показывать', ' , ', 'что', ' ', 'новый', ' ', 'модель', ' ', 'организационный', ' ', 'деятельность', ' ', 'обеспечивать', ' ', 'широкий', ' ', 'круг', ' ', 'специалист', ' ', 'участие', ' ', 'в', ' ', 'формирование', ' ', 'экономический', ' ', 'целесообразность', ' ', 'принимать', ' ', 'решение', ' ', '. ', 'с', ' ', 'другой', ' ', 'сторона', ' ', 'курс', ' ', 'на', ' ', 'социально', '-', 'ориентированный', ' ', 'национальный', ' ', 'проект', ' ', 'способствовать', ' ', 'подготовка', ' ', 'и', ' ', 'реализация', ' ', 'модель', ' ', 'развитие', ' ', '!', '\\n']\n"
     ]
    }
   ],
   "source": [
    "from pymystem3 import Mystem\n",
    "\n",
    "m = Mystem()\n",
    "lemmas = m.lemmatize(' '.join(words))\n",
    "print(lemmas)"
   ]
  },
  {
   "cell_type": "code",
   "execution_count": null,
   "metadata": {
    "id": "GhQsuta_byBx",
    "outputId": "84f1cce1-48a8-4710-9460-34864fcdd8ea"
   },
   "outputs": [
    {
     "name": "stdout",
     "output_type": "stream",
     "text": [
      "Практический - практический\n",
      "опыт - опыт\n",
      "показывает - показывать\n",
      ", - что\n",
      "что - реализация\n",
      "реализация - намечать\n",
      "намеченного - план\n",
      "плана - развитие\n",
      "развития - обеспечивать\n",
      "обеспечивает - широкий\n",
      "широкому - круг\n",
      "кругу - специалист\n",
      "специалистов - участие\n",
      "участие - в\n",
      "в - формирование\n",
      "формировании - позиция\n",
      "позиций - занимать\n",
      ", - участник\n",
      "занимаемых - в\n",
      "участниками - отношение\n",
      "в - поставлять\n",
      "отношении - задача\n",
      "поставленных - . \n",
      "задач -  \n",
      ". -  \n",
      "Повседневная -  , \n",
      "практика -  \n",
      "показывает -  \n",
      ", -  \n",
      "что -  \n",
      "новая -  \n",
      "модель -  \n",
      "организационной -  \n",
      "деятельности -  \n",
      "обеспечивает -  \n",
      "широкому -  \n",
      "кругу -  \n",
      "специалистов -  \n",
      "участие -  \n",
      "в -  \n",
      "формировании -  \n",
      "экономической -  \n",
      "целесообразности - с\n",
      "принимаемых - другой\n",
      "решений - сторона\n",
      ". - курс\n",
      "С - на\n",
      "другой - социально\n",
      "стороны - ориентированный\n",
      "курс - национальный\n",
      "на - проект\n",
      "социально-ориентированный - способствовать\n",
      "национальный - подготовка\n",
      "проект - и\n",
      "способствует - реализация\n",
      "подготовке - модель\n",
      "и - развитие\n",
      "реализации - !\n"
     ]
    }
   ],
   "source": [
    "for wrd, lemm in zip(words, lemmas[::2]):\n",
    "    print('{} - {}'.format(wrd, lemm))"
   ]
  },
  {
   "cell_type": "code",
   "execution_count": 3,
   "metadata": {
    "id": "rPCo5XP2byBx",
    "outputId": "71707a87-7549-493e-c10d-8ca12103907b"
   },
   "outputs": [
    {
     "data": {
      "text/plain": [
       "[Parse(word='стали', tag=OpencorporaTag('VERB,perf,intr plur,past,indc'), normal_form='стать', score=0.975342, methods_stack=((DictionaryAnalyzer(), 'стали', 945, 4),)),\n",
       " Parse(word='стали', tag=OpencorporaTag('NOUN,inan,femn sing,gent'), normal_form='сталь', score=0.010958, methods_stack=((DictionaryAnalyzer(), 'стали', 13, 1),)),\n",
       " Parse(word='стали', tag=OpencorporaTag('NOUN,inan,femn plur,nomn'), normal_form='сталь', score=0.005479, methods_stack=((DictionaryAnalyzer(), 'стали', 13, 6),)),\n",
       " Parse(word='стали', tag=OpencorporaTag('NOUN,inan,femn sing,datv'), normal_form='сталь', score=0.002739, methods_stack=((DictionaryAnalyzer(), 'стали', 13, 2),)),\n",
       " Parse(word='стали', tag=OpencorporaTag('NOUN,inan,femn sing,loct'), normal_form='сталь', score=0.002739, methods_stack=((DictionaryAnalyzer(), 'стали', 13, 5),)),\n",
       " Parse(word='стали', tag=OpencorporaTag('NOUN,inan,femn plur,accs'), normal_form='сталь', score=0.002739, methods_stack=((DictionaryAnalyzer(), 'стали', 13, 9),))]"
      ]
     },
     "execution_count": 3,
     "metadata": {},
     "output_type": "execute_result"
    }
   ],
   "source": [
    "from pymorphy2 import MorphAnalyzer\n",
    "\n",
    "morph = MorphAnalyzer()\n",
    "morph.parse('стали')"
   ]
  },
  {
   "cell_type": "code",
   "execution_count": null,
   "metadata": {
    "id": "4jFk68z7byBx",
    "outputId": "f9b29a67-80c4-434c-a5f4-0d11fe5657c9"
   },
   "outputs": [
    {
     "data": {
      "text/plain": [
       "['стать', 'сталь']"
      ]
     },
     "execution_count": 49,
     "metadata": {
      "tags": []
     },
     "output_type": "execute_result"
    }
   ],
   "source": [
    "morph.normal_forms('стали')"
   ]
  },
  {
   "cell_type": "code",
   "execution_count": null,
   "metadata": {
    "id": "Wr062kqGbyBx",
    "outputId": "a00bca40-8be8-4766-ecd0-c46bd49f8e0c"
   },
   "outputs": [
    {
     "data": {
      "text/plain": [
       "'стать'"
      ]
     },
     "execution_count": 51,
     "metadata": {
      "tags": []
     },
     "output_type": "execute_result"
    }
   ],
   "source": [
    "morph.parse('стали')[0].normal_form"
   ]
  },
  {
   "cell_type": "code",
   "execution_count": null,
   "metadata": {
    "id": "Wxtw4XeHbyBx",
    "outputId": "0de4294d-2834-49db-d238-e3d11e1cee3e"
   },
   "outputs": [
    {
     "name": "stdout",
     "output_type": "stream",
     "text": [
      "Практический - практический\n",
      "опыт - опыт\n",
      "показывает - показывать\n",
      ", - ,\n",
      "что - что\n",
      "реализация - реализация\n",
      "намеченного - наметить\n",
      "плана - план\n",
      "развития - развитие\n",
      "обеспечивает - обеспечивать\n",
      "широкому - широкий\n",
      "кругу - круг\n",
      "специалистов - специалист\n",
      "участие - участие\n",
      "в - в\n",
      "формировании - формирование\n",
      "позиций - позиция\n",
      ", - ,\n",
      "занимаемых - занимать\n",
      "участниками - участник\n",
      "в - в\n",
      "отношении - отношение\n",
      "поставленных - поставить\n",
      "задач - задача\n",
      ". - .\n",
      "Повседневная - повседневный\n",
      "практика - практика\n",
      "показывает - показывать\n",
      ", - ,\n",
      "что - что\n",
      "новая - новый\n",
      "модель - модель\n",
      "организационной - организационный\n",
      "деятельности - деятельность\n",
      "обеспечивает - обеспечивать\n",
      "широкому - широкий\n",
      "кругу - круг\n",
      "специалистов - специалист\n",
      "участие - участие\n",
      "в - в\n",
      "формировании - формирование\n",
      "экономической - экономический\n",
      "целесообразности - целесообразность\n",
      "принимаемых - принимать\n",
      "решений - решение\n",
      ". - .\n",
      "С - с\n",
      "другой - другой\n",
      "стороны - сторона\n",
      "курс - курс\n",
      "на - на\n",
      "социально-ориентированный - социально-ориентировать\n",
      "национальный - национальный\n",
      "проект - проект\n",
      "способствует - способствовать\n",
      "подготовке - подготовка\n",
      "и - и\n",
      "реализации - реализация\n",
      "модели - модель\n",
      "развития - развитие\n",
      "! - !\n"
     ]
    }
   ],
   "source": [
    "for wrd in words:\n",
    "    print('{} - {}'.format(wrd, morph.parse(wrd)[0].normal_form))"
   ]
  },
  {
   "cell_type": "markdown",
   "metadata": {
    "id": "lUZa5Y7-byBx"
   },
   "source": [
    "##### Стоп-слова"
   ]
  },
  {
   "cell_type": "markdown",
   "metadata": {
    "id": "wJTNczNobyBy"
   },
   "source": [
    "Стоп-слова – это слова, которые выкидываются из текста до/после обработки текста. Когда мы применяем машинное обучение к текстам, такие слова могут добавить много шума, поэтому необходимо избавляться от нерелевантных слов.\n",
    "\n",
    "Стоп-слова это обычно понимают артикли, междометия, союзы и т.д., которые не несут смысловой нагрузки. При этом надо понимать, что не существует универсального списка стоп-слов, все зависит от конкретного случая.\n",
    "\n",
    "В NLTK есть предустановленный список стоп-слов. Перед первым использованием вам понадобится его скачать: nltk.download(“stopwords”). После скачивания можно импортировать пакет stopwords и посмотреть на сами слова:"
   ]
  },
  {
   "cell_type": "code",
   "execution_count": null,
   "metadata": {
    "id": "J3Ddx5mcbyBy",
    "outputId": "3afd1a43-b2ea-4548-a13a-cf7eeded91c7"
   },
   "outputs": [
    {
     "name": "stdout",
     "output_type": "stream",
     "text": [
      "['i', 'me', 'my', 'myself', 'we', 'our', 'ours', 'ourselves', 'you', \"you're\", \"you've\", \"you'll\", \"you'd\", 'your', 'yours', 'yourself', 'yourselves', 'he', 'him', 'his', 'himself', 'she', \"she's\", 'her', 'hers', 'herself', 'it', \"it's\", 'its', 'itself', 'they', 'them', 'their', 'theirs', 'themselves', 'what', 'which', 'who', 'whom', 'this', 'that', \"that'll\", 'these', 'those', 'am', 'is', 'are', 'was', 'were', 'be', 'been', 'being', 'have', 'has', 'had', 'having', 'do', 'does', 'did', 'doing', 'a', 'an', 'the', 'and', 'but', 'if', 'or', 'because', 'as', 'until', 'while', 'of', 'at', 'by', 'for', 'with', 'about', 'against', 'between', 'into', 'through', 'during', 'before', 'after', 'above', 'below', 'to', 'from', 'up', 'down', 'in', 'out', 'on', 'off', 'over', 'under', 'again', 'further', 'then', 'once', 'here', 'there', 'when', 'where', 'why', 'how', 'all', 'any', 'both', 'each', 'few', 'more', 'most', 'other', 'some', 'such', 'no', 'nor', 'not', 'only', 'own', 'same', 'so', 'than', 'too', 'very', 's', 't', 'can', 'will', 'just', 'don', \"don't\", 'should', \"should've\", 'now', 'd', 'll', 'm', 'o', 're', 've', 'y', 'ain', 'aren', \"aren't\", 'couldn', \"couldn't\", 'didn', \"didn't\", 'doesn', \"doesn't\", 'hadn', \"hadn't\", 'hasn', \"hasn't\", 'haven', \"haven't\", 'isn', \"isn't\", 'ma', 'mightn', \"mightn't\", 'mustn', \"mustn't\", 'needn', \"needn't\", 'shan', \"shan't\", 'shouldn', \"shouldn't\", 'wasn', \"wasn't\", 'weren', \"weren't\", 'won', \"won't\", 'wouldn', \"wouldn't\"]\n"
     ]
    }
   ],
   "source": [
    "from nltk.corpus import stopwords\n",
    "print(stopwords.words(\"english\"))"
   ]
  },
  {
   "cell_type": "code",
   "execution_count": null,
   "metadata": {
    "id": "i-Y9UYYmbyBy",
    "outputId": "b0d02f25-fe8c-4a92-ccc6-9a76bf995025"
   },
   "outputs": [
    {
     "data": {
      "text/plain": [
       "['arabic',\n",
       " 'azerbaijani',\n",
       " 'danish',\n",
       " 'dutch',\n",
       " 'english',\n",
       " 'finnish',\n",
       " 'french',\n",
       " 'german',\n",
       " 'greek',\n",
       " 'hungarian',\n",
       " 'indonesian',\n",
       " 'italian',\n",
       " 'kazakh',\n",
       " 'nepali',\n",
       " 'norwegian',\n",
       " 'portuguese',\n",
       " 'romanian',\n",
       " 'russian',\n",
       " 'slovene',\n",
       " 'spanish',\n",
       " 'swedish',\n",
       " 'tajik',\n",
       " 'turkish']"
      ]
     },
     "execution_count": 61,
     "metadata": {
      "tags": []
     },
     "output_type": "execute_result"
    }
   ],
   "source": [
    "stopwords.fileids()"
   ]
  },
  {
   "cell_type": "code",
   "execution_count": null,
   "metadata": {
    "id": "wYIE-PAPbyBy",
    "outputId": "f022b69d-94ed-4a2f-a0bb-78e555d6dd5f"
   },
   "outputs": [
    {
     "name": "stdout",
     "output_type": "stream",
     "text": [
      "['и', 'в', 'во', 'не', 'что', 'он', 'на', 'я', 'с', 'со', 'как', 'а', 'то', 'все', 'она', 'так', 'его', 'но', 'да', 'ты', 'к', 'у', 'же', 'вы', 'за', 'бы', 'по', 'только', 'ее', 'мне', 'было', 'вот', 'от', 'меня', 'еще', 'нет', 'о', 'из', 'ему', 'теперь', 'когда', 'даже', 'ну', 'вдруг', 'ли', 'если', 'уже', 'или', 'ни', 'быть', 'был', 'него', 'до', 'вас', 'нибудь', 'опять', 'уж', 'вам', 'ведь', 'там', 'потом', 'себя', 'ничего', 'ей', 'может', 'они', 'тут', 'где', 'есть', 'надо', 'ней', 'для', 'мы', 'тебя', 'их', 'чем', 'была', 'сам', 'чтоб', 'без', 'будто', 'чего', 'раз', 'тоже', 'себе', 'под', 'будет', 'ж', 'тогда', 'кто', 'этот', 'того', 'потому', 'этого', 'какой', 'совсем', 'ним', 'здесь', 'этом', 'один', 'почти', 'мой', 'тем', 'чтобы', 'нее', 'сейчас', 'были', 'куда', 'зачем', 'всех', 'никогда', 'можно', 'при', 'наконец', 'два', 'об', 'другой', 'хоть', 'после', 'над', 'больше', 'тот', 'через', 'эти', 'нас', 'про', 'всего', 'них', 'какая', 'много', 'разве', 'три', 'эту', 'моя', 'впрочем', 'хорошо', 'свою', 'этой', 'перед', 'иногда', 'лучше', 'чуть', 'том', 'нельзя', 'такой', 'им', 'более', 'всегда', 'конечно', 'всю', 'между']\n"
     ]
    }
   ],
   "source": [
    "print(stopwords.words(\"russian\"))"
   ]
  },
  {
   "cell_type": "markdown",
   "metadata": {
    "id": "LLCUHFBkbyBy"
   },
   "source": [
    "Рассмотрим, как можно убрать стоп-слова из предложения:"
   ]
  },
  {
   "cell_type": "code",
   "execution_count": null,
   "metadata": {
    "id": "hO49MGhTbyBy",
    "outputId": "b16aa338-75f4-43c4-d4db-ccb828a78803"
   },
   "outputs": [
    {
     "name": "stdout",
     "output_type": "stream",
     "text": [
      "['Backgammon', 'one', 'oldest', 'known', 'board', 'games', '.']\n"
     ]
    }
   ],
   "source": [
    "stop_words = set(stopwords.words(\"english\"))\n",
    "sentence = \"Backgammon is one of the oldest known board games.\"\n",
    "\n",
    "words = nltk.word_tokenize(sentence)\n",
    "without_stop_words = [word for word in words if not word in stop_words]\n",
    "print(without_stop_words)"
   ]
  },
  {
   "cell_type": "code",
   "execution_count": null,
   "metadata": {
    "id": "ODHZ9UYvbyBz"
   },
   "outputs": [],
   "source": [
    "from stop_words import get_stop_words"
   ]
  },
  {
   "cell_type": "code",
   "execution_count": null,
   "metadata": {
    "id": "X70dxDgFbyBz"
   },
   "outputs": [],
   "source": [
    "stop_words = get_stop_words('ru')"
   ]
  },
  {
   "cell_type": "code",
   "execution_count": null,
   "metadata": {
    "id": "_9fNIQ2ZbyBz",
    "outputId": "7b57e8d5-b81f-4f31-8579-eb6911768be5"
   },
   "outputs": [
    {
     "data": {
      "text/plain": [
       "['а',\n",
       " 'в',\n",
       " 'г',\n",
       " 'е',\n",
       " 'ж',\n",
       " 'и',\n",
       " 'к',\n",
       " 'м',\n",
       " 'о',\n",
       " 'с',\n",
       " 'т',\n",
       " 'у',\n",
       " 'я',\n",
       " 'бы',\n",
       " 'во',\n",
       " 'вы',\n",
       " 'да',\n",
       " 'до',\n",
       " 'ее',\n",
       " 'ей',\n",
       " 'ею',\n",
       " 'её',\n",
       " 'же',\n",
       " 'за',\n",
       " 'из',\n",
       " 'им',\n",
       " 'их',\n",
       " 'ли',\n",
       " 'мы',\n",
       " 'на',\n",
       " 'не',\n",
       " 'ни',\n",
       " 'но',\n",
       " 'ну',\n",
       " 'нх',\n",
       " 'об',\n",
       " 'он',\n",
       " 'от',\n",
       " 'по',\n",
       " 'со',\n",
       " 'та',\n",
       " 'те',\n",
       " 'то',\n",
       " 'ту',\n",
       " 'ты',\n",
       " 'уж',\n",
       " 'без',\n",
       " 'был',\n",
       " 'вам',\n",
       " 'вас',\n",
       " 'ваш',\n",
       " 'вон',\n",
       " 'вот',\n",
       " 'все',\n",
       " 'всю',\n",
       " 'вся',\n",
       " 'всё',\n",
       " 'где',\n",
       " 'год',\n",
       " 'два',\n",
       " 'две',\n",
       " 'дел',\n",
       " 'для',\n",
       " 'его',\n",
       " 'ему',\n",
       " 'еще',\n",
       " 'ещё',\n",
       " 'или',\n",
       " 'ими',\n",
       " 'имя',\n",
       " 'как',\n",
       " 'кем',\n",
       " 'ком',\n",
       " 'кто',\n",
       " 'лет',\n",
       " 'мне',\n",
       " 'мог',\n",
       " 'мож',\n",
       " 'мои',\n",
       " 'мой',\n",
       " 'мор',\n",
       " 'моя',\n",
       " 'моё',\n",
       " 'над',\n",
       " 'нам',\n",
       " 'нас',\n",
       " 'наш',\n",
       " 'нее',\n",
       " 'ней',\n",
       " 'нем',\n",
       " 'нет',\n",
       " 'нею',\n",
       " 'неё',\n",
       " 'них',\n",
       " 'оба',\n",
       " 'она',\n",
       " 'они',\n",
       " 'оно',\n",
       " 'под',\n",
       " 'пор',\n",
       " 'при',\n",
       " 'про',\n",
       " 'раз',\n",
       " 'сам',\n",
       " 'сих',\n",
       " 'так',\n",
       " 'там',\n",
       " 'тем',\n",
       " 'тех',\n",
       " 'том',\n",
       " 'тот',\n",
       " 'тою',\n",
       " 'три',\n",
       " 'тут',\n",
       " 'уже',\n",
       " 'чем',\n",
       " 'что',\n",
       " 'эта',\n",
       " 'эти',\n",
       " 'это',\n",
       " 'эту',\n",
       " 'алло',\n",
       " 'буду',\n",
       " 'будь',\n",
       " 'бывь',\n",
       " 'была',\n",
       " 'были',\n",
       " 'было',\n",
       " 'быть',\n",
       " 'вами',\n",
       " 'ваша',\n",
       " 'ваше',\n",
       " 'ваши',\n",
       " 'ведь',\n",
       " 'весь',\n",
       " 'вниз',\n",
       " 'всем',\n",
       " 'всех',\n",
       " 'всею',\n",
       " 'года',\n",
       " 'году',\n",
       " 'даже',\n",
       " 'двух',\n",
       " 'день',\n",
       " 'если',\n",
       " 'есть',\n",
       " 'зато',\n",
       " 'кого',\n",
       " 'кому',\n",
       " 'куда',\n",
       " 'лишь',\n",
       " 'люди',\n",
       " 'мало',\n",
       " 'меля',\n",
       " 'меня',\n",
       " 'мимо',\n",
       " 'мира',\n",
       " 'мной',\n",
       " 'мною',\n",
       " 'мочь',\n",
       " 'надо',\n",
       " 'нами',\n",
       " 'наша',\n",
       " 'наше',\n",
       " 'наши',\n",
       " 'него',\n",
       " 'нему',\n",
       " 'ниже',\n",
       " 'ними',\n",
       " 'один',\n",
       " 'пока',\n",
       " 'пора',\n",
       " 'пять',\n",
       " 'рано',\n",
       " 'сама',\n",
       " 'сами',\n",
       " 'само',\n",
       " 'саму',\n",
       " 'свое',\n",
       " 'свои',\n",
       " 'свою',\n",
       " 'себе',\n",
       " 'себя',\n",
       " 'семь',\n",
       " 'стал',\n",
       " 'суть',\n",
       " 'твой',\n",
       " 'твоя',\n",
       " 'твоё',\n",
       " 'тебе',\n",
       " 'тебя',\n",
       " 'теми',\n",
       " 'того',\n",
       " 'тоже',\n",
       " 'тому',\n",
       " 'туда',\n",
       " 'хоть',\n",
       " 'хотя',\n",
       " 'чаще',\n",
       " 'чего',\n",
       " 'чему',\n",
       " 'чтоб',\n",
       " 'чуть',\n",
       " 'этим',\n",
       " 'этих',\n",
       " 'этой',\n",
       " 'этом',\n",
       " 'этот',\n",
       " 'более',\n",
       " 'будем',\n",
       " 'будет',\n",
       " 'будто',\n",
       " 'будут',\n",
       " 'вверх',\n",
       " 'вдали',\n",
       " 'вдруг',\n",
       " 'везде',\n",
       " 'внизу',\n",
       " 'время',\n",
       " 'всего',\n",
       " 'всеми',\n",
       " 'всему',\n",
       " 'всюду',\n",
       " 'давно',\n",
       " 'даром',\n",
       " 'долго',\n",
       " 'друго',\n",
       " 'жизнь',\n",
       " 'занят',\n",
       " 'затем',\n",
       " 'зачем',\n",
       " 'здесь',\n",
       " 'иметь',\n",
       " 'какая',\n",
       " 'какой',\n",
       " 'когда',\n",
       " 'кроме',\n",
       " 'лучше',\n",
       " 'между',\n",
       " 'менее',\n",
       " 'много',\n",
       " 'могут',\n",
       " 'может',\n",
       " 'можно',\n",
       " 'можхо',\n",
       " 'назад',\n",
       " 'низко',\n",
       " 'нужно',\n",
       " 'одной',\n",
       " 'около',\n",
       " 'опять',\n",
       " 'очень',\n",
       " 'перед',\n",
       " 'позже',\n",
       " 'после',\n",
       " 'потом',\n",
       " 'почти',\n",
       " 'пятый',\n",
       " 'разве',\n",
       " 'рядом',\n",
       " 'самим',\n",
       " 'самих',\n",
       " 'самой',\n",
       " 'самом',\n",
       " 'своей',\n",
       " 'своих',\n",
       " 'сеаой',\n",
       " 'снова',\n",
       " 'собой',\n",
       " 'собою',\n",
       " 'такая',\n",
       " 'также',\n",
       " 'такие',\n",
       " 'такое',\n",
       " 'такой',\n",
       " 'тобой',\n",
       " 'тобою',\n",
       " 'тогда',\n",
       " 'тысяч',\n",
       " 'уметь',\n",
       " 'часто',\n",
       " 'через',\n",
       " 'чтобы',\n",
       " 'шесть',\n",
       " 'этими',\n",
       " 'этого',\n",
       " 'этому',\n",
       " 'близко',\n",
       " 'больше',\n",
       " 'будете',\n",
       " 'будешь',\n",
       " 'бывает',\n",
       " 'важная',\n",
       " 'важное',\n",
       " 'важные',\n",
       " 'важный',\n",
       " 'вокруг',\n",
       " 'восемь',\n",
       " 'всегда',\n",
       " 'второй',\n",
       " 'далеко',\n",
       " 'дальше',\n",
       " 'девять',\n",
       " 'десять',\n",
       " 'должно',\n",
       " 'другая',\n",
       " 'другие',\n",
       " 'других',\n",
       " 'другое',\n",
       " 'другой',\n",
       " 'занята',\n",
       " 'занято',\n",
       " 'заняты',\n",
       " 'значит',\n",
       " 'именно',\n",
       " 'иногда',\n",
       " 'каждая',\n",
       " 'каждое',\n",
       " 'каждые',\n",
       " 'каждый',\n",
       " 'кругом',\n",
       " 'меньше',\n",
       " 'начала',\n",
       " 'нельзя',\n",
       " 'нибудь',\n",
       " 'никуда',\n",
       " 'ничего',\n",
       " 'обычно',\n",
       " 'однако',\n",
       " 'одного',\n",
       " 'отсюда',\n",
       " 'первый',\n",
       " 'потому',\n",
       " 'почему',\n",
       " 'просто',\n",
       " 'против',\n",
       " 'раньше',\n",
       " 'самими',\n",
       " 'самого',\n",
       " 'самому',\n",
       " 'своего',\n",
       " 'сейчас',\n",
       " 'сказал',\n",
       " 'совсем',\n",
       " 'теперь',\n",
       " 'только',\n",
       " 'третий',\n",
       " 'хорошо',\n",
       " 'хотеть',\n",
       " 'хочешь',\n",
       " 'четыре',\n",
       " 'шестой',\n",
       " 'восьмой',\n",
       " 'впрочем',\n",
       " 'времени',\n",
       " 'говорил',\n",
       " 'говорит',\n",
       " 'девятый',\n",
       " 'десятый',\n",
       " 'кажется',\n",
       " 'конечно',\n",
       " 'которая',\n",
       " 'которой',\n",
       " 'которые',\n",
       " 'который',\n",
       " 'которых',\n",
       " 'наверху',\n",
       " 'наконец',\n",
       " 'недавно',\n",
       " 'немного',\n",
       " 'нередко',\n",
       " 'никогда',\n",
       " 'однажды',\n",
       " 'посреди',\n",
       " 'сегодня',\n",
       " 'седьмой',\n",
       " 'сказала',\n",
       " 'сказать',\n",
       " 'сколько',\n",
       " 'слишком',\n",
       " 'сначала',\n",
       " 'спасибо',\n",
       " 'человек',\n",
       " 'двадцать',\n",
       " 'довольно',\n",
       " 'которого',\n",
       " 'наиболее',\n",
       " 'недалеко',\n",
       " 'особенно',\n",
       " 'отовсюду',\n",
       " 'двадцатый',\n",
       " 'миллионов',\n",
       " 'несколько',\n",
       " 'прекрасно',\n",
       " 'процентов',\n",
       " 'четвертый',\n",
       " 'двенадцать',\n",
       " 'непрерывно',\n",
       " 'пожалуйста',\n",
       " 'пятнадцать',\n",
       " 'семнадцать',\n",
       " 'тринадцать',\n",
       " 'двенадцатый',\n",
       " 'одиннадцать',\n",
       " 'пятнадцатый',\n",
       " 'семнадцатый',\n",
       " 'тринадцатый',\n",
       " 'шестнадцать',\n",
       " 'восемнадцать',\n",
       " 'девятнадцать',\n",
       " 'одиннадцатый',\n",
       " 'четырнадцать',\n",
       " 'шестнадцатый',\n",
       " 'восемнадцатый',\n",
       " 'девятнадцатый',\n",
       " 'действительно',\n",
       " 'четырнадцатый',\n",
       " 'многочисленная',\n",
       " 'многочисленное',\n",
       " 'многочисленные',\n",
       " 'многочисленный']"
      ]
     },
     "execution_count": 80,
     "metadata": {
      "tags": []
     },
     "output_type": "execute_result"
    }
   ],
   "source": [
    "stop_words"
   ]
  },
  {
   "cell_type": "code",
   "execution_count": null,
   "metadata": {
    "id": "en9oYdTpbyBz"
   },
   "outputs": [],
   "source": []
  },
  {
   "cell_type": "markdown",
   "metadata": {
    "id": "uVccDjnmbyBz"
   },
   "source": [
    "## Сделаем стандартную предобработку данных с сайта Lenta.ru"
   ]
  },
  {
   "cell_type": "code",
   "execution_count": 25,
   "metadata": {
    "id": "O5UYvlr3byBz",
    "outputId": "b01fa840-2c81-47c9-e3a9-1933c8b3ab6b"
   },
   "outputs": [
    {
     "name": "stdout",
     "output_type": "stream",
     "text": [
      "['и', 'в', 'во', 'не', 'что', 'он', 'на', 'я', 'с', 'со', 'как', 'а', 'то', 'все', 'она', 'так', 'его', 'но', 'да', 'ты', 'к', 'у', 'же', 'вы', 'за', 'бы', 'по', 'только', 'ее', 'мне', 'было', 'вот', 'от', 'меня', 'еще', 'нет', 'о', 'из', 'ему', 'теперь', 'когда', 'даже', 'ну', 'вдруг', 'ли', 'если', 'уже', 'или', 'ни', 'быть', 'был', 'него', 'до', 'вас', 'нибудь', 'опять', 'уж', 'вам', 'ведь', 'там', 'потом', 'себя', 'ничего', 'ей', 'может', 'они', 'тут', 'где', 'есть', 'надо', 'ней', 'для', 'мы', 'тебя', 'их', 'чем', 'была', 'сам', 'чтоб', 'без', 'будто', 'чего', 'раз', 'тоже', 'себе', 'под', 'будет', 'ж', 'тогда', 'кто', 'этот', 'того', 'потому', 'этого', 'какой', 'совсем', 'ним', 'здесь', 'этом', 'один', 'почти', 'мой', 'тем', 'чтобы', 'нее', 'сейчас', 'были', 'куда', 'зачем', 'всех', 'никогда', 'можно', 'при', 'наконец', 'два', 'об', 'другой', 'хоть', 'после', 'над', 'больше', 'тот', 'через', 'эти', 'нас', 'про', 'всего', 'них', 'какая', 'много', 'разве', 'три', 'эту', 'моя', 'впрочем', 'хорошо', 'свою', 'этой', 'перед', 'иногда', 'лучше', 'чуть', 'том', 'нельзя', 'такой', 'им', 'более', 'всегда', 'конечно', 'всю', 'между']\n"
     ]
    },
    {
     "data": {
      "text/html": [
       "<div>\n",
       "<style scoped>\n",
       "    .dataframe tbody tr th:only-of-type {\n",
       "        vertical-align: middle;\n",
       "    }\n",
       "\n",
       "    .dataframe tbody tr th {\n",
       "        vertical-align: top;\n",
       "    }\n",
       "\n",
       "    .dataframe thead th {\n",
       "        text-align: right;\n",
       "    }\n",
       "</style>\n",
       "<table border=\"1\" class=\"dataframe\">\n",
       "  <thead>\n",
       "    <tr style=\"text-align: right;\">\n",
       "      <th></th>\n",
       "      <th>title</th>\n",
       "      <th>text</th>\n",
       "    </tr>\n",
       "  </thead>\n",
       "  <tbody>\n",
       "    <tr>\n",
       "      <th>24420</th>\n",
       "      <td>Длинношеий Санта Клаус ушел с молотка за 856 тысяч долларов</td>\n",
       "      <td>Бронзовый \"Длинношеий Санта Клаус\" скульптора Пола Маккарти продан на аукционе дома Phillips, de Pury &amp; Company за 856 тысяч долларов. Статуя ранее входила в собрание известной покровительницы современного искусства княгини Глории фон Турн-унд-Таксис, сообщает The New York Times. Сумма, которую анонимный покупатель заплатил за произведение искусства, созданное в 2004 году, беспрецедентна. Для Пола Маккарти, известного перфомансиста и автора ироничных и жутковатых произведений, 856 тысяч долларов - личный рекорд. Предполагалось, что лот \"Санта\" не превысит 700 тысяч. На аукционе развернулась серьезная борьба за картину модного художника Ричарда Принса, озаглавленную \"Без названия. Человек входит во врачебный кабинет\". В итоге полотно досталось южнокорейскому галеристу за 475 тысяч долла...</td>\n",
       "    </tr>\n",
       "    <tr>\n",
       "      <th>13015</th>\n",
       "      <td>Российский комментатор получил работу в НБА</td>\n",
       "      <td>Российский спортивный комментатор Дмитрий Матеранский получил работу в клубе НБА \"Нью-Джерси Нетс\", владельцем которого является Михаил Прохоров. Матеранский стал директором по международным продажам арены Barclays Center, на которой будет выступать команда. Он останется в Москве и сосредоточится на работе с компаниями из России, Китая и Турции, сообщает сайт NetsDaily. Задачей Матеранского станет поиск партнеров, которые готовы поддержать инициативы \"Нью-Джерси\". Подробно о сферах деятельности россиянина в клубе НБА не сообщается. Сам комментатор, ведущий популярный блог и твиттер, деталей новой работы не раскрыл. Прохоров купил \"Нью-Джерси\" в 2010 году и пообещал в течение пяти лет сделать свою команду чемпионом НБА. В сезоне-2010/11 клуб занял 12-е место в Восточной конференции и не...</td>\n",
       "    </tr>\n",
       "    <tr>\n",
       "      <th>32861</th>\n",
       "      <td>Крупнейший швейцарский банк понес миллиардные убытки</td>\n",
       "      <td>Крупнейший швейцарский банк UBS сообщил о чистых убытках в размере 4 миллиардов долларов по итогам 2007 года, пишет BBC News. Убытки возникли из-за списаний банком активов общим размером 18 миллиардов долларов. UBS впервые понес чистые потери после возникновения нынешней структуры через слияние Union Bank of Switzerland и Swiss Bank Corporation в 1998 году. В прошлом году банк заработал чистую прибыль размером 12,3 миллиарда долларов. Убытки UBS оказались намного выше, чем ожидали аналитики. Сейчас компания пытается реструктурировать свое инвестиционное подразделение, чтобы снизить риски и восстановить свою репутацию в деловом мире. Банк также привлекает средства инвесторов с Ближнего Востока и из Сингапура. Помимо уже списанных 18 миллиардов долларов, под угрозой находятся еще активы ...</td>\n",
       "    </tr>\n",
       "    <tr>\n",
       "      <th>18871</th>\n",
       "      <td>Трехочковый за секунду до конца игры принес победу над чемпионом НБА</td>\n",
       "      <td>Трехочковый бросок защитника клуба НБА \"Лос-Анджелес Клипперс\" Чонси Биллапса принес его команде победу над действующим чемпионом ассоциации клубом \"Даллас Маверикс\". \"Клипперс\" выиграл со счетом 91:89. Об этом сообщает официальный сайт НБА. За полторы минуты до конца игры \"Даллас\" проигрывал пять очков, однако вышел вперед благодаря двум трехочковым броскам Джейсона Терри (при этом второе попадание Терри удалось за пять секунд до конца матча). Биллапс исполнил точный бросок при счете 88:89, а за оставшуюся секунду игры баскетболисты \"Далласа\" отыграться не смогли. Самым результативным игроком встречи стал Мо Уильямс из \"Клипперс\", набравший 26 очков. Биллапс набрал 21 очко. Из других матчей, состоявшихся в НБА в ночь на 19 января, стоит отметить победу \"Денвер Наггетс\" над \"Филадельфи...</td>\n",
       "    </tr>\n",
       "    <tr>\n",
       "      <th>38048</th>\n",
       "      <td>Премию \"Нацбест\" присудили Дмитрию Быкову</td>\n",
       "      <td>Лауреатом премии \"Национальный бестселлер\" в 2011 году был признан писатель Дмитрий Быков, сообщает РИА Новости. Приз в 250 тысяч рублей ему присудили за роман \"Остромов, или ученик чародея\" - завершение трилогии, в которую также вошли \"Оправдание\" и \"Орфография\". Победителя выбрало жюри, в которое вошли музыкант Иван Алексеев (Noize MC), проректор СПбГУ Сергей Богданов, руководитель LiveJournal Russia Светлана Иванникова, журналист Олег Кашин, писатель, прошлогодний лауреат Эдуард Кочергин и режиссер Алексей Учитель. Председателем была телеведущая Ксения Собчак. Ранее Быков уже становился лауреатом \"Нацбеста\" за свою биографию Бориса Пастернака. Также он попадал в число номинантов с романом \"ЖД\". Помимо \"Остромова\", в шорт-лист \"Нацбеста\" попали \"Мультики\" Михаила Елизарова, \"Пражская...</td>\n",
       "    </tr>\n",
       "  </tbody>\n",
       "</table>\n",
       "</div>"
      ],
      "text/plain": [
       "                                                                      title                                                                                                                                                                                                                                                                                                                                                                                                                                                                                                                                                                                                                                                                                                                                                                                                                             text\n",
       "24420           Длинношеий Санта Клаус ушел с молотка за 856 тысяч долларов  Бронзовый \"Длинношеий Санта Клаус\" скульптора Пола Маккарти продан на аукционе дома Phillips, de Pury & Company за 856 тысяч долларов. Статуя ранее входила в собрание известной покровительницы современного искусства княгини Глории фон Турн-унд-Таксис, сообщает The New York Times. Сумма, которую анонимный покупатель заплатил за произведение искусства, созданное в 2004 году, беспрецедентна. Для Пола Маккарти, известного перфомансиста и автора ироничных и жутковатых произведений, 856 тысяч долларов - личный рекорд. Предполагалось, что лот \"Санта\" не превысит 700 тысяч. На аукционе развернулась серьезная борьба за картину модного художника Ричарда Принса, озаглавленную \"Без названия. Человек входит во врачебный кабинет\". В итоге полотно досталось южнокорейскому галеристу за 475 тысяч долла...\n",
       "13015                           Российский комментатор получил работу в НБА  Российский спортивный комментатор Дмитрий Матеранский получил работу в клубе НБА \"Нью-Джерси Нетс\", владельцем которого является Михаил Прохоров. Матеранский стал директором по международным продажам арены Barclays Center, на которой будет выступать команда. Он останется в Москве и сосредоточится на работе с компаниями из России, Китая и Турции, сообщает сайт NetsDaily. Задачей Матеранского станет поиск партнеров, которые готовы поддержать инициативы \"Нью-Джерси\". Подробно о сферах деятельности россиянина в клубе НБА не сообщается. Сам комментатор, ведущий популярный блог и твиттер, деталей новой работы не раскрыл. Прохоров купил \"Нью-Джерси\" в 2010 году и пообещал в течение пяти лет сделать свою команду чемпионом НБА. В сезоне-2010/11 клуб занял 12-е место в Восточной конференции и не...\n",
       "32861                  Крупнейший швейцарский банк понес миллиардные убытки  Крупнейший швейцарский банк UBS сообщил о чистых убытках в размере 4 миллиардов долларов по итогам 2007 года, пишет BBC News. Убытки возникли из-за списаний банком активов общим размером 18 миллиардов долларов. UBS впервые понес чистые потери после возникновения нынешней структуры через слияние Union Bank of Switzerland и Swiss Bank Corporation в 1998 году. В прошлом году банк заработал чистую прибыль размером 12,3 миллиарда долларов. Убытки UBS оказались намного выше, чем ожидали аналитики. Сейчас компания пытается реструктурировать свое инвестиционное подразделение, чтобы снизить риски и восстановить свою репутацию в деловом мире. Банк также привлекает средства инвесторов с Ближнего Востока и из Сингапура. Помимо уже списанных 18 миллиардов долларов, под угрозой находятся еще активы ...\n",
       "18871  Трехочковый за секунду до конца игры принес победу над чемпионом НБА  Трехочковый бросок защитника клуба НБА \"Лос-Анджелес Клипперс\" Чонси Биллапса принес его команде победу над действующим чемпионом ассоциации клубом \"Даллас Маверикс\". \"Клипперс\" выиграл со счетом 91:89. Об этом сообщает официальный сайт НБА. За полторы минуты до конца игры \"Даллас\" проигрывал пять очков, однако вышел вперед благодаря двум трехочковым броскам Джейсона Терри (при этом второе попадание Терри удалось за пять секунд до конца матча). Биллапс исполнил точный бросок при счете 88:89, а за оставшуюся секунду игры баскетболисты \"Далласа\" отыграться не смогли. Самым результативным игроком встречи стал Мо Уильямс из \"Клипперс\", набравший 26 очков. Биллапс набрал 21 очко. Из других матчей, состоявшихся в НБА в ночь на 19 января, стоит отметить победу \"Денвер Наггетс\" над \"Филадельфи...\n",
       "38048                             Премию \"Нацбест\" присудили Дмитрию Быкову  Лауреатом премии \"Национальный бестселлер\" в 2011 году был признан писатель Дмитрий Быков, сообщает РИА Новости. Приз в 250 тысяч рублей ему присудили за роман \"Остромов, или ученик чародея\" - завершение трилогии, в которую также вошли \"Оправдание\" и \"Орфография\". Победителя выбрало жюри, в которое вошли музыкант Иван Алексеев (Noize MC), проректор СПбГУ Сергей Богданов, руководитель LiveJournal Russia Светлана Иванникова, журналист Олег Кашин, писатель, прошлогодний лауреат Эдуард Кочергин и режиссер Алексей Учитель. Председателем была телеведущая Ксения Собчак. Ранее Быков уже становился лауреатом \"Нацбеста\" за свою биографию Бориса Пастернака. Также он попадал в число номинантов с романом \"ЖД\". Помимо \"Остромова\", в шорт-лист \"Нацбеста\" попали \"Мультики\" Михаила Елизарова, \"Пражская..."
      ]
     },
     "execution_count": 25,
     "metadata": {},
     "output_type": "execute_result"
    }
   ],
   "source": [
    "import pandas as pd\n",
    "import numpy as np\n",
    "import re\n",
    "from pymorphy2 import MorphAnalyzer\n",
    "morph = MorphAnalyzer()\n",
    "\n",
    "from nltk.corpus import stopwords\n",
    "print(stopwords.words(\"russian\"))\n",
    "\n",
    "pd.set_option('display.max_columns', None)  \n",
    "pd.set_option('display.expand_frame_repr', False)\n",
    "pd.set_option('max_colwidth', 800)\n",
    "\n",
    "data = pd.read_csv('lenta-ru-partial.csv')\n",
    "data.sample(5)"
   ]
  },
  {
   "cell_type": "code",
   "execution_count": 26,
   "metadata": {
    "id": "4jVBAHFvbyBz"
   },
   "outputs": [],
   "source": [
    "m = MorphAnalyzer()\n",
    "\n",
    "# убираем все небуквенные символы\n",
    "regex = re.compile(\"[А-Яа-яA-z]+\")\n",
    "\n",
    "def words_only(text, regex=regex):\n",
    "    try:\n",
    "        return regex.findall(text.lower())\n",
    "    except:\n",
    "        return []"
   ]
  },
  {
   "cell_type": "code",
   "execution_count": 27,
   "metadata": {
    "id": "gOLgK-LYbyB0",
    "outputId": "d0dd6d3c-201c-471a-c52f-5e2ff90c64b0"
   },
   "outputs": [
    {
     "name": "stdout",
     "output_type": "stream",
     "text": [
      "В южноафриканском Кейптауне победой сборной России завершился чемпионат мира среди бездомных. В финальном матче российские футболисты, впервые в своей истории ставшие чемпионами мира, обыграли команду Казахстана со счетом 1:0, передает BBC News. В первенстве принимали участие почти 500 человек, которые представляли 48 стран мира. Все матчи, каждый из которых продолжался 15 минут, проходили на асфальтовых полях, причем в одной команде могли играть как мужчины, так и женщины. Сборная России провела на турнире 13 матчей, во всех из которых добилась победы. На предыдущих чемпионатах мира достижения российской команды были скромнее: в 2003-м году – 13-е место, в 2004-м году – 5-е место, в 2005-м году – 12-е место.\n"
     ]
    }
   ],
   "source": [
    "print(data.text[0])"
   ]
  },
  {
   "cell_type": "code",
   "execution_count": 28,
   "metadata": {
    "id": "0RIu-PZJbyB0",
    "outputId": "73380f00-e798-4ff1-8304-63996283f081"
   },
   "outputs": [
    {
     "name": "stdout",
     "output_type": "stream",
     "text": [
      "в южноафриканском кейптауне победой сборной россии завершился чемпионат мира среди бездомных в финальном матче российские футболисты впервые в своей истории ставшие чемпионами мира обыграли команду казахстана со счетом передает bbc news в первенстве принимали участие почти человек которые представляли стран мира все матчи каждый из которых продолжался минут проходили на асфальтовых полях причем в одной команде могли играть как мужчины так и женщины сборная россии провела на турнире матчей во всех из которых добилась победы на предыдущих чемпионатах мира достижения российской команды были скромнее в м году е место в м году е место в м году е место\n"
     ]
    }
   ],
   "source": [
    "print(*words_only(data.text[0]))"
   ]
  },
  {
   "cell_type": "markdown",
   "metadata": {
    "id": "UTCLLhJPbyB0"
   },
   "source": [
    "Метод @lru_cashe создает для функции lemmatize кэш указанного размера, что позволяет в целом ускорить лемматизацию текста (что очень полезно, так как лемматизация - ресурсоемкий процесс)."
   ]
  },
  {
   "cell_type": "code",
   "execution_count": 29,
   "metadata": {
    "id": "-KcbYACdbyB0"
   },
   "outputs": [],
   "source": [
    "from functools import lru_cache"
   ]
  },
  {
   "cell_type": "code",
   "execution_count": 30,
   "metadata": {
    "id": "foQKerLIbyB0"
   },
   "outputs": [],
   "source": [
    "@lru_cache(maxsize=128)\n",
    "def lemmatize_word(token, pymorphy=m):\n",
    "    return pymorphy.parse(token)[0].normal_form\n",
    "\n",
    "def lemmatize_text(text):\n",
    "    return [lemmatize_word(w) for w in text]"
   ]
  },
  {
   "cell_type": "code",
   "execution_count": 31,
   "metadata": {
    "id": "pidSVw3bbyB0",
    "outputId": "9ad4a311-e6de-4d3f-fb82-5234c12270ea"
   },
   "outputs": [
    {
     "name": "stdout",
     "output_type": "stream",
     "text": [
      "['в', 'южноафриканский', 'кейптаун', 'победа', 'сборная', 'россия', 'завершиться', 'чемпионат', 'мир', 'среди', 'бездомный', 'в', 'финальный', 'матч', 'российский', 'футболист', 'впервые', 'в', 'свой', 'история', 'стать', 'чемпион', 'мир', 'обыграть', 'команда', 'казахстан', 'с', 'счёт', 'передавать', 'bbc', 'news', 'в', 'первенство', 'принимать', 'участие', 'почти', 'человек', 'который', 'представлять', 'страна', 'мир', 'всё', 'матч', 'каждый', 'из', 'который', 'продолжаться', 'минута', 'проходить', 'на', 'асфальтовый', 'поле', 'причём', 'в', 'один', 'команда', 'мочь', 'играть', 'как', 'мужчина', 'так', 'и', 'женщина', 'сборная', 'россия', 'провести', 'на', 'турнир', 'матч', 'в', 'весь', 'из', 'который', 'добиться', 'победа', 'на', 'предыдущий', 'чемпионат', 'мир', 'достижение', 'российский', 'команда', 'быть', 'скромный', 'в', 'м', 'год', 'быть', 'место', 'в', 'м', 'год', 'быть', 'место', 'в', 'м', 'год', 'быть', 'место']\n"
     ]
    }
   ],
   "source": [
    "tokens = words_only(data.text[0])\n",
    "\n",
    "print(lemmatize_text(tokens))"
   ]
  },
  {
   "cell_type": "code",
   "execution_count": 32,
   "metadata": {
    "id": "0EaoggdBbyB1"
   },
   "outputs": [],
   "source": [
    "mystopwords = stopwords.words('russian')\n",
    "def remove_stopwords(lemmas, stop_words = mystopwords):\n",
    "    return [w for w in lemmas if w not in stop_words]"
   ]
  },
  {
   "cell_type": "code",
   "execution_count": 33,
   "metadata": {
    "id": "83x7RBChbyB1",
    "outputId": "fee9f678-c128-4afc-e94e-0daca0aba736"
   },
   "outputs": [
    {
     "name": "stdout",
     "output_type": "stream",
     "text": [
      "южноафриканский кейптаун победа сборная россия завершиться чемпионат мир среди бездомный финальный матч российский футболист впервые свой история стать чемпион мир обыграть команда казахстан счёт передавать bbc news первенство принимать участие человек который представлять страна мир всё матч каждый который продолжаться минута проходить асфальтовый поле причём команда мочь играть мужчина женщина сборная россия провести турнир матч весь который добиться победа предыдущий чемпионат мир достижение российский команда скромный м год место м год место м год место\n"
     ]
    }
   ],
   "source": [
    "lemmas = lemmatize_text(tokens)\n",
    "\n",
    "print(*remove_stopwords(lemmas))"
   ]
  },
  {
   "cell_type": "code",
   "execution_count": 34,
   "metadata": {
    "id": "BknUDA-LbyB1"
   },
   "outputs": [],
   "source": [
    "def remove_stopwords(lemmas, stopwords = mystopwords):\n",
    "    return [w for w in lemmas if not w in stopwords and len(w) > 3]"
   ]
  },
  {
   "cell_type": "code",
   "execution_count": 35,
   "metadata": {
    "id": "DSx3oQwRbyB1",
    "outputId": "99411779-47a6-4c42-ab6b-033c20214b2a"
   },
   "outputs": [
    {
     "name": "stdout",
     "output_type": "stream",
     "text": [
      "южноафриканский кейптаун победа сборная россия завершиться чемпионат среди бездомный финальный матч российский футболист впервые свой история стать чемпион обыграть команда казахстан счёт передавать news первенство принимать участие человек который представлять страна матч каждый который продолжаться минута проходить асфальтовый поле причём команда мочь играть мужчина женщина сборная россия провести турнир матч весь который добиться победа предыдущий чемпионат достижение российский команда скромный место место место\n"
     ]
    }
   ],
   "source": [
    "print(*remove_stopwords(lemmas))"
   ]
  },
  {
   "cell_type": "markdown",
   "metadata": {
    "id": "hyDfX6_KbyB1"
   },
   "source": [
    "Если собрать все в одну функцию:"
   ]
  },
  {
   "cell_type": "code",
   "execution_count": 36,
   "metadata": {
    "id": "sxQjm_EMbyB2"
   },
   "outputs": [],
   "source": [
    "def clean_text(text):\n",
    "    tokens = words_only(text)\n",
    "    lemmas = lemmatize_text(tokens)\n",
    "    \n",
    "    return remove_stopwords(lemmas)"
   ]
  },
  {
   "cell_type": "code",
   "execution_count": 37,
   "metadata": {
    "id": "UDWXoJY_byB2",
    "outputId": "a868e226-59fb-4f94-b8de-4379e3e7cab3"
   },
   "outputs": [
    {
     "name": "stdout",
     "output_type": "stream",
     "text": [
      "известный голливудский актёр майкл дуглас совершить неожиданный визит куба сообщать издание cubadebate цель поездка дуглас уточняться утверждаться лишь актёр посетить несколько памятный место число закусочный floridita который некогда любить бывать эрнест хемингуэй майкл дуглас также осмотреть достопримечательность исторический центр гавана понаблюдать процесс изготовление кубинский сигара табачный фабрика стоить отметить свободный посещение куба американский гражданин иметь родственник остров запретить американец поездка требоваться специальный разрешение государственный департамент получать дуглас разрешение сообщаться напомнить дуглас единственный знаменитый голливудский актёр посетить куба последний время ранее страна качество корреспондент журнал vanity fair прибыть визит пенна двукратный обладатель премия оскар намереваться взять интервью фидель кастро поездка пенный сопровождать известный филантроп дайана дженкинс\n"
     ]
    }
   ],
   "source": [
    "print(*clean_text(data.text[3]))"
   ]
  },
  {
   "cell_type": "markdown",
   "metadata": {
    "id": "5nYNerR5byB2"
   },
   "source": [
    "Если нужно предобработать большой объем текста, помимо кэширования может помочь распараллеливание, например, методом Pool библиотеки multiprocessing:"
   ]
  },
  {
   "cell_type": "code",
   "execution_count": 15,
   "metadata": {
    "id": "BMC80FbhbyB2"
   },
   "outputs": [],
   "source": [
    "from multiprocessing import Pool\n",
    "from tqdm import tqdm_notebook as tqdm"
   ]
  },
  {
   "cell_type": "code",
   "execution_count": 38,
   "metadata": {
    "id": "9IHVYs6kbyB2",
    "outputId": "209e3160-a591-4fd6-ef8e-1455ae487ce4",
    "scrolled": true
   },
   "outputs": [
    {
     "name": "stdout",
     "output_type": "stream",
     "text": [
      "CPU times: user 15.8 s, sys: 21.1 ms, total: 15.8 s\n",
      "Wall time: 15.8 s\n"
     ]
    },
    {
     "data": {
      "text/plain": [
       "0                                                                                                                                                                                                                            [южноафриканский, кейптаун, победа, сборная, россия, завершиться, чемпионат, среди, бездомный, финальный, матч, российский, футболист, впервые, свой, история, стать, чемпион, обыграть, команда, казахстан, счёт, передавать, news, первенство, принимать, участие, человек, который, представлять, страна, матч, каждый, который, продолжаться, минута, проходить, асфальтовый, поле, причём, команда, мочь, играть, мужчина, женщина, сборная, россия, провести, турнир, матч, весь, который, добиться, победа, предыдущий, чемпионат, достижение, российский, команда, скромный, место, место, место]\n",
       "1      [анна, курников, проиграть, испанка, кончить, мартинес, conchita, martinez, первый, круг, выбыть, борьба, победа, турнир, family, circle, сообщать, российский, теннисистка, уступить, стартовый, матч, четыре, подряд, турнир, поединок, мартинес, совершить, семь, двойной, невынужденный, ошибка, сказать, расстроить, значит, сказать, прокомментировать, свой, игра, летний, курников, который, прошлое, рейтинг, занимать, восьмой, строчка, закончить, сезон, мартинес, который, день, матч, исполниться, остаться, довольный, результат, сказать, курников, просто, проявлять, достаточный, терпение, корт, долгий, провести, игра, трудный, обрести, былой, форма, этап, пропустить, восемь, месяц, работать, сутки, снова, выйти, достойный, уровень, добавить, испанка, представительница, россия, елена, бовин, ...\n",
       "2      [новый, главный, тренер, московский, футбольный, клуб, спартак, назначить, бывший, вратарь, команда, станислав, черчёс, последний, время, занимать, должность, спортивный, директор, черчёс, прийти, место, владимир, федотов, который, отправить, отставка, вторник, июнь, встреча, владелец, клуб, леонид, федун, сообщать, спорт, экспресс, подробность, назначение, черчесова, пока, неизвестный, касаться, федотов, инфморация, издание, спорт, сегодня, занять, должность, спортивный, директор, московский, клуб, отметить, назначение, пост, главное, тренер, спартак, апрель, федот, клуб, именно, спортивный, директор, касаться, черчесова, возвращение, спартак, работать, главный, тренер, австрийский, тироль, который, завершать, карьера, футболист, занять, пост, спортивный, директор, спартак, подписать,...\n",
       "3      [известный, голливудский, актёр, майкл, дуглас, совершить, неожиданный, визит, куба, сообщать, издание, cubadebate, цель, поездка, дуглас, уточняться, утверждаться, лишь, актёр, посетить, несколько, памятный, место, число, закусочный, floridita, который, некогда, любить, бывать, эрнест, хемингуэй, майкл, дуглас, также, осмотреть, достопримечательность, исторический, центр, гавана, понаблюдать, процесс, изготовление, кубинский, сигара, табачный, фабрика, стоить, отметить, свободный, посещение, куба, американский, гражданин, иметь, родственник, остров, запретить, американец, поездка, требоваться, специальный, разрешение, государственный, департамент, получать, дуглас, разрешение, сообщаться, напомнить, дуглас, единственный, знаменитый, голливудский, актёр, посетить, куба, последний, врем...\n",
       "4      [глава, чеченский, республика, рамзан, кадыров, сняться, игровой, короткометражный, фильм, волшебный, гребень, написать, свой, блог, instagram, автор, великий, актёр, народный, заслужить, артист, россия, дагун, омаев, зулай, багалов, абдулмутелип, давлетмирзаев, хамид, азай, мовсара, атаев, зубайраев, доверить, главный, роль, огромный, честь, ответственность, находиться, съёмочный, площадка, легендарный, человек, который, сниматься, десятка, советский, российский, картина, подчеркнуть, кадыров, слово, глава, республика, картина, тепло, встретить, говорить, масса, положительный, отклик, мнение, возможно, ругать, спасибо, значит, вызвать, интерес, добавить, кадыров, несколько, слово, описать, сюжет, произведение, герой, фильм, узнать, шлем, способный, перенести, старый, эпоха, находить, ...\n",
       "                                                                                                                                                                                                                                                                                                                                                                                                                    ...                                                                                                                                                                                                                                                                                                                                                                                                               \n",
       "995    [астроном, удаться, взглянуть, внутренний, часть, протопланетный, диск, регион, который, идти, процесс, формирование, каменный, планета, аналогичный, меркурий, марс, венера, земля, солнечный, система, статья, учёный, появиться, журнал, astrophysical, journal, краткий, изложение, приводиться, сайт, nasa, рамка, исследование, учёный, использовать, телескоп, keck, изучить, звезда, который, располагаться, расстояние, световой, земля, созвездие, кассиопея, возраст, весь, миллион, сравнение, возраст, солнце, составлять, миллиард, поэтому, окрестность, идти, интенсивный, процесс, формирование, планета, наблюдение, проводиться, инфракрасный, диапазон, электромагнитный, излучение, именно, часть, спектр, наиболее, проникать, сквозь, толща, пыль, слово, исследователь, собранный, дать, являться, у...\n",
       "996    [шотландский, группа, travis, анонсировать, новый, альбом, седьмой, студийный, пластинка, коллектив, поступить, продажа, август, называться, where, stand, сообщать, первый, альбом, выпустить, smith, where, stand, продюсировать, майкл, либерт, hives, cardigans, материал, новый, пластинка, записать, берлинский, студия, hansa, сотрудничать, число, дэвид, боуя, depeche, mode, сообщаться, альбом, войти, песня, screen, mother, moving, также, трек, дать, альбом, название, where, stand, вопрос, долг, перерыв, сделать, travis, альбом, басист, группа, дуга, пейн, ответить, воздерживаться, написание, музыка, полезно, пока, вновь, появиться, чувство, творческий, голод, желание, сопоставимый, сила, который, артист, испытывать, начало, карьера, travis, выпустить, свой, первый, релиз, good, feeling, ...\n",
       "997    [астроном, разработать, модель, раскрывать, новый, подробность, процесс, формирование, суперземля, планета, свой, масса, превышать, планета, уступать, газовый, гигант, нептун, уран, результат, объяснять, парадокс, согласно, который, небесный, тело, данный, класс, встречаться, частый, следовать, теоретический, расчёт, статья, учёный, опубликовать, astrophysical, journal, сообщаться, пресс, релиз, опубликовать, сайт, phys, считаться, физический, условие, диск, плотный, вокруг, молодой, звезда, способствовать, появление, многочисленный, газовый, гигант, равный, превосходящий, юпитер, однако, дать, получить, космический, телескоп, кеплер, демонстрировать, большинство, экзопланета, являться, суперземля, объяснить, противоречие, исследователь, смоделировать, процесс, происходить, протопланет...\n",
       "998                                                                   [октябрь, декабрь, государственный, музей, искусство, народ, восток, работать, выставка, самурай, проходить, рамка, российско, японский, проект, сохранение, мировой, наследие, экспозиция, включить, предмет, японский, аристократия, произведение, декоративный, прикладной, искусство, оружейный, мастерство, зрелый, средневековье, также, золотой, японский, искусство, правление, клан, токугава, выставка, использовать, мультимедийный, технология, время, работа, проект, музей, пройти, встреча, семинар, мастер, класс, владение, исторический, оружие, японский, чайный, церемония, каллиграфия, икебана, проект, поддержать, общество, японский, культура, фумото, фонд, наследие, восток, фестиваль, мировой, культура, этнолайф, компания, marka]\n",
       "999    [раскопка, немецкий, стоунхенджа, обнаружить, человеческий, переломать, череп, рёберный, кость, мочь, свидетельствовать, древний, жертвоприношение, сообщать, издание, live, science, археолог, обнаружить, кость, человек, животное, сосуд, питие, каменный, мельница, погрести, место, раскопка, около, деревня, пеммелить, mmelte, расположить, германия, примерно, километр, запад, берлин, человеческий, останки, относиться, последний, минута, жизнь, жертва, ужасный, судить, весь, выбросить, вытолкнуть, подросток, рука, связать, сказать, исследователь, государственный, управление, сохранение, исторический, памятник, баден, вюртемберг, андре, спацьер, andr, spatzier, добавить, древний, народ, также, использовать, памятник, место, проведение, ритуал, немецкий, стоунхендж, доисторический, круговой,...\n",
       "Name: text, Length: 1000, dtype: object"
      ]
     },
     "execution_count": 38,
     "metadata": {},
     "output_type": "execute_result"
    }
   ],
   "source": [
    "%%time\n",
    "N = 1000\n",
    "data['text'][:N].apply(clean_text)"
   ]
  },
  {
   "cell_type": "code",
   "execution_count": null,
   "metadata": {
    "colab": {
     "referenced_widgets": [
      "d2711cb90ca14120896e056961f413b7"
     ]
    },
    "id": "97nQksGfbyB2",
    "outputId": "43d868bb-376f-47a7-b50b-654b0cc55167"
   },
   "outputs": [],
   "source": [
    "%%time\n",
    "N = 1000\n",
    "\n",
    "with Pool(8) as p:\n",
    "    lemmas = list(tqdm(p.imap(clean_text, data['text'][:N]), total=N))"
   ]
  },
  {
   "cell_type": "code",
   "execution_count": 39,
   "metadata": {},
   "outputs": [
    {
     "name": "stderr",
     "output_type": "stream",
     "text": [
      "/var/folders/4s/fd42fwqn6g746zjn0s08wmxm0000gn/T/ipykernel_5818/1526567861.py:1: TqdmDeprecationWarning: This function will be removed in tqdm==5.0.0\n",
      "Please use `tqdm.notebook.tqdm` instead of `tqdm.tqdm_notebook`\n",
      "  lemmas = [clean_text(data.loc[x, 'text']) for x in tqdm(range(N))]\n"
     ]
    },
    {
     "data": {
      "application/vnd.jupyter.widget-view+json": {
       "model_id": "23aab97cfd2f49a6bcdd4aae7ad497e8",
       "version_major": 2,
       "version_minor": 0
      },
      "text/plain": [
       "  0%|          | 0/1000 [00:00<?, ?it/s]"
      ]
     },
     "metadata": {},
     "output_type": "display_data"
    }
   ],
   "source": [
    "lemmas = [clean_text(data.loc[x, 'text']) for x in tqdm(range(N))]"
   ]
  },
  {
   "cell_type": "code",
   "execution_count": 40,
   "metadata": {
    "id": "P4N4TibMbyB3",
    "outputId": "7dbe5ee8-701a-4bab-ffd9-6008c8b5bff7"
   },
   "outputs": [
    {
     "data": {
      "text/html": [
       "<div>\n",
       "<style scoped>\n",
       "    .dataframe tbody tr th:only-of-type {\n",
       "        vertical-align: middle;\n",
       "    }\n",
       "\n",
       "    .dataframe tbody tr th {\n",
       "        vertical-align: top;\n",
       "    }\n",
       "\n",
       "    .dataframe thead th {\n",
       "        text-align: right;\n",
       "    }\n",
       "</style>\n",
       "<table border=\"1\" class=\"dataframe\">\n",
       "  <thead>\n",
       "    <tr style=\"text-align: right;\">\n",
       "      <th></th>\n",
       "      <th>title</th>\n",
       "      <th>text</th>\n",
       "      <th>lemmas</th>\n",
       "    </tr>\n",
       "  </thead>\n",
       "  <tbody>\n",
       "    <tr>\n",
       "      <th>758</th>\n",
       "      <td>Гипотеза Дарвина оказалась несостоятельной</td>\n",
       "      <td>Ученые Колорадского университета в Боулдере показали, что экологическая гипотеза Дарвина, состоящая в том, что распространение видов в разной степени зависит от факторов окружающей среды и влияния других организмов, не учитывает раннее неизвестный экологический механизм. Оказалось, что при стрессовых условиях организмы начинают в меньшей степени испытывать на себе последствия конкуренции с другими видами. Об этом сообщается в пресс-релизе на сайте Phys.org. По мнению Дарвина, при неблагоприятных условиях окружающей среды — в пустынях, зонах вечной мерзлоты и солончаках — ведущую роль в ограничении роста и размножения растений и животных играют температура и другие климатические факторы. Однако, когда эти факторы близки к своему оптимуму, на первый план выступают взаимоотношения между с...</td>\n",
       "      <td>[учёный, колорадский, университет, боулдёр, показать, экологический, гипотеза, дарвин, состоять, распространение, разный, степень, зависеть, фактор, окружающий, среда, влияние, организм, учитывать, ранний, неизвестный, экологический, механизм, оказаться, стрессовый, условие, организм, начинать, малый, степень, испытывать, последствие, конкуренция, сообщаться, пресс, релиз, сайт, phys, мнение, дарвин, неблагоприятный, условие, окружающий, среда, пустынь, зона, вечный, мерзлота, солончак, ведущий, роль, ограничение, рост, размножение, растение, животное, играть, температура, климатический, фактор, однако, фактор, близкий, свой, оптимум, первый, план, выступать, взаимоотношение, организм, дарвин, полагать, случай, растение, происходить, увеличение, разнообразие, плотность, произрастание, ...</td>\n",
       "    </tr>\n",
       "    <tr>\n",
       "      <th>239</th>\n",
       "      <td>Президент освободил министра путей сообщения от занимаемой должности</td>\n",
       "      <td>В понедельник президент РФ Владимир Путин подписал Указ об освобождении Геннадия Фадеева от должности министра путей сообщения РФ в связи с его назначением на должность президента ОАО \"Российские железные дороги\", сообщает РИА \"Новости\". Напомним, что постановление о создании ОАО \"Российские железные дороги\" было подписано ранее в понедельник главой российского правительства Михаилом Касьяновым. Согласно постановлению, уставный капитал ОАО составляет 1 триллион 535 миллиардов 700 миллионов рублей. Стопроцентным собственником РЖД является государство. Новая компания должна начать работу с 1 октября текущего года. В состав ОАО войдут 987 организаций железнодорожного транспорта, в том числе - все предприятия, деятельность которых связана с непосредственным обеспечением перевозочного проце...</td>\n",
       "      <td>[понедельник, президент, владимир, путин, подписать, указ, освобождение, геннадий, фадеев, должность, министр, путь, сообщение, связь, назначение, должность, президент, российский, железный, дорога, сообщать, новость, напомнить, постановление, создание, российский, железный, дорога, подписать, ранее, понедельник, глава, российский, правительство, михаил, касьянов, согласно, постановление, уставный, капитал, составлять, триллион, миллиард, миллион, рубль, стопроцентный, собственник, являться, государство, новый, компания, должный, начать, работа, октябрь, текущий, состав, войти, организация, железнодорожный, транспорт, число, предприятие, деятельность, который, связать, непосредственный, обеспечение, перевозочный, процесс, также, ремонтный, завод, строительный, торговый, организация, об...</td>\n",
       "    </tr>\n",
       "    <tr>\n",
       "      <th>500</th>\n",
       "      <td>Виталий Кличко назвал условие своего возвращения на ринг</td>\n",
       "      <td>Бывший чемпион мира по боксу по версии WBC в супертяжелом весе украинец Виталий Кличко не исключил возможности своего возвращения на ринг, передает УНИАН. По словам Кличко, это произойдет только в одном случае – если спортивную карьеру возобновит британец Леннокс Льюис, который согласится провести с украинцем бой-реванш. Об этом Кличко-старший заявил во время своего пребывания в Харькове. \"Я оставил спорт, хотя с огромным удовольствием дарил бы прекрасные эмоции, прекрасные зрелищные поединки. К величайшему сожалению, в последнее время вынужден был больше бороться с травмами, которые начали преследовать меня, чем с соперниками в ринге. Это было основной причиной завершения моей спортивной карьеры. Но если Леннокс Льюис вернется, я обязательно проведу этот поединок\", - сказал он. Бывший...</td>\n",
       "      <td>[бывший, чемпион, бокс, версия, супертяжёлый, украинец, виталий, кличко, исключить, возможность, свой, возвращение, ринг, передавать, униана, слово, кличко, произойти, случай, спортивный, карьера, возобновить, британец, леннокс, льюис, который, согласиться, провести, украинец, реванш, кличко, старший, заявить, время, свой, пребывание, харьков, оставить, спорт, хотя, огромный, удовольствие, дарить, прекрасный, эмоция, прекрасный, зрелищный, поединок, великий, сожаление, последний, время, вынудить, большой, бороться, травма, который, начать, преследовать, соперник, ринг, основной, причина, завершение, спортивный, карьера, леннокс, льюис, вернуться, обязательно, провести, поединок, сказать, бывший, чемпион, подчеркнуть, находиться, хороший, спортивный, форма, поскольку, неделя, проводить,...</td>\n",
       "    </tr>\n",
       "  </tbody>\n",
       "</table>\n",
       "</div>"
      ],
      "text/plain": [
       "                                                                    title                                                                                                                                                                                                                                                                                                                                                                                                                                                                                                                                                                                                                                                                                                                                                                                                                             text                                                                                                                                                                                                                                                                                                                                                                                                                                                                                                                                                                                                                                                                                                                                                                                                                           lemmas\n",
       "758                            Гипотеза Дарвина оказалась несостоятельной  Ученые Колорадского университета в Боулдере показали, что экологическая гипотеза Дарвина, состоящая в том, что распространение видов в разной степени зависит от факторов окружающей среды и влияния других организмов, не учитывает раннее неизвестный экологический механизм. Оказалось, что при стрессовых условиях организмы начинают в меньшей степени испытывать на себе последствия конкуренции с другими видами. Об этом сообщается в пресс-релизе на сайте Phys.org. По мнению Дарвина, при неблагоприятных условиях окружающей среды — в пустынях, зонах вечной мерзлоты и солончаках — ведущую роль в ограничении роста и размножения растений и животных играют температура и другие климатические факторы. Однако, когда эти факторы близки к своему оптимуму, на первый план выступают взаимоотношения между с...  [учёный, колорадский, университет, боулдёр, показать, экологический, гипотеза, дарвин, состоять, распространение, разный, степень, зависеть, фактор, окружающий, среда, влияние, организм, учитывать, ранний, неизвестный, экологический, механизм, оказаться, стрессовый, условие, организм, начинать, малый, степень, испытывать, последствие, конкуренция, сообщаться, пресс, релиз, сайт, phys, мнение, дарвин, неблагоприятный, условие, окружающий, среда, пустынь, зона, вечный, мерзлота, солончак, ведущий, роль, ограничение, рост, размножение, растение, животное, играть, температура, климатический, фактор, однако, фактор, близкий, свой, оптимум, первый, план, выступать, взаимоотношение, организм, дарвин, полагать, случай, растение, происходить, увеличение, разнообразие, плотность, произрастание, ...\n",
       "239  Президент освободил министра путей сообщения от занимаемой должности  В понедельник президент РФ Владимир Путин подписал Указ об освобождении Геннадия Фадеева от должности министра путей сообщения РФ в связи с его назначением на должность президента ОАО \"Российские железные дороги\", сообщает РИА \"Новости\". Напомним, что постановление о создании ОАО \"Российские железные дороги\" было подписано ранее в понедельник главой российского правительства Михаилом Касьяновым. Согласно постановлению, уставный капитал ОАО составляет 1 триллион 535 миллиардов 700 миллионов рублей. Стопроцентным собственником РЖД является государство. Новая компания должна начать работу с 1 октября текущего года. В состав ОАО войдут 987 организаций железнодорожного транспорта, в том числе - все предприятия, деятельность которых связана с непосредственным обеспечением перевозочного проце...  [понедельник, президент, владимир, путин, подписать, указ, освобождение, геннадий, фадеев, должность, министр, путь, сообщение, связь, назначение, должность, президент, российский, железный, дорога, сообщать, новость, напомнить, постановление, создание, российский, железный, дорога, подписать, ранее, понедельник, глава, российский, правительство, михаил, касьянов, согласно, постановление, уставный, капитал, составлять, триллион, миллиард, миллион, рубль, стопроцентный, собственник, являться, государство, новый, компания, должный, начать, работа, октябрь, текущий, состав, войти, организация, железнодорожный, транспорт, число, предприятие, деятельность, который, связать, непосредственный, обеспечение, перевозочный, процесс, также, ремонтный, завод, строительный, торговый, организация, об...\n",
       "500              Виталий Кличко назвал условие своего возвращения на ринг  Бывший чемпион мира по боксу по версии WBC в супертяжелом весе украинец Виталий Кличко не исключил возможности своего возвращения на ринг, передает УНИАН. По словам Кличко, это произойдет только в одном случае – если спортивную карьеру возобновит британец Леннокс Льюис, который согласится провести с украинцем бой-реванш. Об этом Кличко-старший заявил во время своего пребывания в Харькове. \"Я оставил спорт, хотя с огромным удовольствием дарил бы прекрасные эмоции, прекрасные зрелищные поединки. К величайшему сожалению, в последнее время вынужден был больше бороться с травмами, которые начали преследовать меня, чем с соперниками в ринге. Это было основной причиной завершения моей спортивной карьеры. Но если Леннокс Льюис вернется, я обязательно проведу этот поединок\", - сказал он. Бывший...  [бывший, чемпион, бокс, версия, супертяжёлый, украинец, виталий, кличко, исключить, возможность, свой, возвращение, ринг, передавать, униана, слово, кличко, произойти, случай, спортивный, карьера, возобновить, британец, леннокс, льюис, который, согласиться, провести, украинец, реванш, кличко, старший, заявить, время, свой, пребывание, харьков, оставить, спорт, хотя, огромный, удовольствие, дарить, прекрасный, эмоция, прекрасный, зрелищный, поединок, великий, сожаление, последний, время, вынудить, большой, бороться, травма, который, начать, преследовать, соперник, ринг, основной, причина, завершение, спортивный, карьера, леннокс, льюис, вернуться, обязательно, провести, поединок, сказать, бывший, чемпион, подчеркнуть, находиться, хороший, спортивный, форма, поскольку, неделя, проводить,..."
      ]
     },
     "execution_count": 40,
     "metadata": {},
     "output_type": "execute_result"
    }
   ],
   "source": [
    "data = data.head(N)\n",
    "data['lemmas'] = lemmas\n",
    "data.sample(3)"
   ]
  },
  {
   "cell_type": "markdown",
   "metadata": {
    "id": "MagRYsQGbyB3"
   },
   "source": [
    "### Итого:\n",
    "\n",
    "- посмотрели, как делать все стандартные этапы предобработки текста\n",
    "- научились работать с морфологоческими парсерами"
   ]
  },
  {
   "cell_type": "code",
   "execution_count": 41,
   "metadata": {
    "id": "w1ssB1UtbyB3"
   },
   "outputs": [],
   "source": [
    "def text_proc_3(text):\n",
    "    if text != '':\n",
    "        text = re.sub(r\"\\s+\", \" \", text) # убрал лишние пробелы (\\s+ Любой пробельный символ 1 и более вхождений шаблона)\n",
    "        text = re.sub(r\"^\\s+\", \"\", text) #  уберу первые пробелы в начале строки\n",
    "        text = text.rstrip() #  уберу последний пробел в начале строки\n",
    "    return text\n",
    "\n",
    "def collapse_ne_2(string):\n",
    "    if string != '':\n",
    "        string = string.split(' ')\n",
    "        for i in range(len(string)-1):\n",
    "            if string[i] == 'не':\n",
    "                string[i] = string[i]+'_'+string[i+1]\n",
    "                string[i+1] = ''\n",
    "        string0 = string[0]\n",
    "        for i in range(1, len(string)):\n",
    "            string0 = string0 + ' ' + string[i]\n",
    "        string = re.sub(r'\\s+', ' ', string0)\n",
    "    return string\n",
    "\n",
    "\n",
    "def got_counter_res_df_speed1(db):\n",
    "    unique, counts = np.unique(db, return_counts=True); \n",
    "    counter = dict(zip(unique, counts))\n",
    "    res_df = pd.DataFrame.from_dict(counter, orient='index').reset_index().rename(columns={'index':'event', 0:'count'})\n",
    "    res_df = res_df.sort_values(by=['count'], ascending=False).reset_index(drop=True)\n",
    "    res_df['%'] = 0.0; res_df['n'] = res_df['event']\n",
    "    for i in (range(len(res_df))): res_df.loc[i, '%'] = int((res_df.loc[i, 'count']*100/(np.sum(res_df['count'])))*1000)/1000\n",
    "    return res_df\n",
    "\n"
   ]
  },
  {
   "cell_type": "code",
   "execution_count": 48,
   "metadata": {},
   "outputs": [],
   "source": [
    "lem2 = []\n",
    "[lem2.extend(x) for x in lemmas]\n",
    "res_df = got_counter_res_df_speed3_no_proc_silent_short(lem2, splitlist = [' '])"
   ]
  },
  {
   "cell_type": "code",
   "execution_count": 50,
   "metadata": {},
   "outputs": [
    {
     "data": {
      "text/html": [
       "<div>\n",
       "<style scoped>\n",
       "    .dataframe tbody tr th:only-of-type {\n",
       "        vertical-align: middle;\n",
       "    }\n",
       "\n",
       "    .dataframe tbody tr th {\n",
       "        vertical-align: top;\n",
       "    }\n",
       "\n",
       "    .dataframe thead th {\n",
       "        text-align: right;\n",
       "    }\n",
       "</style>\n",
       "<table border=\"1\" class=\"dataframe\">\n",
       "  <thead>\n",
       "    <tr style=\"text-align: right;\">\n",
       "      <th></th>\n",
       "      <th>event</th>\n",
       "      <th>count</th>\n",
       "    </tr>\n",
       "  </thead>\n",
       "  <tbody>\n",
       "    <tr>\n",
       "      <th>0</th>\n",
       "      <td>который</td>\n",
       "      <td>1206</td>\n",
       "    </tr>\n",
       "    <tr>\n",
       "      <th>1</th>\n",
       "      <td>россия</td>\n",
       "      <td>748</td>\n",
       "    </tr>\n",
       "    <tr>\n",
       "      <th>2</th>\n",
       "      <td>компания</td>\n",
       "      <td>718</td>\n",
       "    </tr>\n",
       "    <tr>\n",
       "      <th>3</th>\n",
       "      <td>процент</td>\n",
       "      <td>674</td>\n",
       "    </tr>\n",
       "    <tr>\n",
       "      <th>4</th>\n",
       "      <td>свой</td>\n",
       "      <td>545</td>\n",
       "    </tr>\n",
       "    <tr>\n",
       "      <th>5</th>\n",
       "      <td>также</td>\n",
       "      <td>525</td>\n",
       "    </tr>\n",
       "    <tr>\n",
       "      <th>6</th>\n",
       "      <td>сообщать</td>\n",
       "      <td>513</td>\n",
       "    </tr>\n",
       "    <tr>\n",
       "      <th>7</th>\n",
       "      <td>доллар</td>\n",
       "      <td>507</td>\n",
       "    </tr>\n",
       "    <tr>\n",
       "      <th>8</th>\n",
       "      <td>российский</td>\n",
       "      <td>492</td>\n",
       "    </tr>\n",
       "    <tr>\n",
       "      <th>9</th>\n",
       "      <td>первый</td>\n",
       "      <td>485</td>\n",
       "    </tr>\n",
       "    <tr>\n",
       "      <th>10</th>\n",
       "      <td>стать</td>\n",
       "      <td>463</td>\n",
       "    </tr>\n",
       "    <tr>\n",
       "      <th>11</th>\n",
       "      <td>время</td>\n",
       "      <td>454</td>\n",
       "    </tr>\n",
       "    <tr>\n",
       "      <th>12</th>\n",
       "      <td>новый</td>\n",
       "      <td>429</td>\n",
       "    </tr>\n",
       "    <tr>\n",
       "      <th>13</th>\n",
       "      <td>миллиард</td>\n",
       "      <td>425</td>\n",
       "    </tr>\n",
       "    <tr>\n",
       "      <th>14</th>\n",
       "      <td>миллион</td>\n",
       "      <td>403</td>\n",
       "    </tr>\n",
       "    <tr>\n",
       "      <th>15</th>\n",
       "      <td>мочь</td>\n",
       "      <td>401</td>\n",
       "    </tr>\n",
       "    <tr>\n",
       "      <th>16</th>\n",
       "      <td>рубль</td>\n",
       "      <td>365</td>\n",
       "    </tr>\n",
       "    <tr>\n",
       "      <th>17</th>\n",
       "      <td>матч</td>\n",
       "      <td>360</td>\n",
       "    </tr>\n",
       "    <tr>\n",
       "      <th>18</th>\n",
       "      <td>банк</td>\n",
       "      <td>350</td>\n",
       "    </tr>\n",
       "    <tr>\n",
       "      <th>19</th>\n",
       "      <td>игра</td>\n",
       "      <td>342</td>\n",
       "    </tr>\n",
       "    <tr>\n",
       "      <th>20</th>\n",
       "      <td>весь</td>\n",
       "      <td>330</td>\n",
       "    </tr>\n",
       "    <tr>\n",
       "      <th>21</th>\n",
       "      <td>заявить</td>\n",
       "      <td>315</td>\n",
       "    </tr>\n",
       "    <tr>\n",
       "      <th>22</th>\n",
       "      <td>получить</td>\n",
       "      <td>306</td>\n",
       "    </tr>\n",
       "    <tr>\n",
       "      <th>23</th>\n",
       "      <td>команда</td>\n",
       "      <td>300</td>\n",
       "    </tr>\n",
       "    <tr>\n",
       "      <th>24</th>\n",
       "      <td>слово</td>\n",
       "      <td>295</td>\n",
       "    </tr>\n",
       "    <tr>\n",
       "      <th>25</th>\n",
       "      <td>ранее</td>\n",
       "      <td>282</td>\n",
       "    </tr>\n",
       "    <tr>\n",
       "      <th>26</th>\n",
       "      <td>фильм</td>\n",
       "      <td>273</td>\n",
       "    </tr>\n",
       "    <tr>\n",
       "      <th>27</th>\n",
       "      <td>страна</td>\n",
       "      <td>265</td>\n",
       "    </tr>\n",
       "    <tr>\n",
       "      <th>28</th>\n",
       "      <td>счёт</td>\n",
       "      <td>262</td>\n",
       "    </tr>\n",
       "    <tr>\n",
       "      <th>29</th>\n",
       "      <td>работа</td>\n",
       "      <td>261</td>\n",
       "    </tr>\n",
       "  </tbody>\n",
       "</table>\n",
       "</div>"
      ],
      "text/plain": [
       "         event  count\n",
       "0      который   1206\n",
       "1       россия    748\n",
       "2     компания    718\n",
       "3      процент    674\n",
       "4         свой    545\n",
       "5        также    525\n",
       "6     сообщать    513\n",
       "7       доллар    507\n",
       "8   российский    492\n",
       "9       первый    485\n",
       "10       стать    463\n",
       "11       время    454\n",
       "12       новый    429\n",
       "13    миллиард    425\n",
       "14     миллион    403\n",
       "15        мочь    401\n",
       "16       рубль    365\n",
       "17        матч    360\n",
       "18        банк    350\n",
       "19        игра    342\n",
       "20        весь    330\n",
       "21     заявить    315\n",
       "22    получить    306\n",
       "23     команда    300\n",
       "24       слово    295\n",
       "25       ранее    282\n",
       "26       фильм    273\n",
       "27      страна    265\n",
       "28        счёт    262\n",
       "29      работа    261"
      ]
     },
     "execution_count": 50,
     "metadata": {},
     "output_type": "execute_result"
    }
   ],
   "source": [
    "res_df.head(30)"
   ]
  },
  {
   "cell_type": "code",
   "execution_count": 60,
   "metadata": {},
   "outputs": [],
   "source": [
    "data['text'] = data['text'].apply(lambda x: x.lower())\n",
    "res_df = got_counter_res_df_speed3_no_proc_silent_short(data['text'], splitlist = [' '])"
   ]
  },
  {
   "cell_type": "code",
   "execution_count": null,
   "metadata": {},
   "outputs": [],
   "source": []
  },
  {
   "cell_type": "code",
   "execution_count": 62,
   "metadata": {},
   "outputs": [
    {
     "data": {
      "text/html": [
       "<div>\n",
       "<style scoped>\n",
       "    .dataframe tbody tr th:only-of-type {\n",
       "        vertical-align: middle;\n",
       "    }\n",
       "\n",
       "    .dataframe tbody tr th {\n",
       "        vertical-align: top;\n",
       "    }\n",
       "\n",
       "    .dataframe thead th {\n",
       "        text-align: right;\n",
       "    }\n",
       "</style>\n",
       "<table border=\"1\" class=\"dataframe\">\n",
       "  <thead>\n",
       "    <tr style=\"text-align: right;\">\n",
       "      <th></th>\n",
       "      <th>event</th>\n",
       "      <th>count</th>\n",
       "    </tr>\n",
       "  </thead>\n",
       "  <tbody>\n",
       "    <tr>\n",
       "      <th>0</th>\n",
       "      <td>в</td>\n",
       "      <td>8589</td>\n",
       "    </tr>\n",
       "    <tr>\n",
       "      <th>1</th>\n",
       "      <td>на</td>\n",
       "      <td>3777</td>\n",
       "    </tr>\n",
       "    <tr>\n",
       "      <th>2</th>\n",
       "      <td>и</td>\n",
       "      <td>3580</td>\n",
       "    </tr>\n",
       "    <tr>\n",
       "      <th>3</th>\n",
       "      <td>с</td>\n",
       "      <td>1883</td>\n",
       "    </tr>\n",
       "    <tr>\n",
       "      <th>4</th>\n",
       "      <td>что</td>\n",
       "      <td>1847</td>\n",
       "    </tr>\n",
       "    <tr>\n",
       "      <th>5</th>\n",
       "      <td>по</td>\n",
       "      <td>1822</td>\n",
       "    </tr>\n",
       "    <tr>\n",
       "      <th>6</th>\n",
       "      <td>не</td>\n",
       "      <td>1266</td>\n",
       "    </tr>\n",
       "    <tr>\n",
       "      <th>7</th>\n",
       "      <td>из</td>\n",
       "      <td>879</td>\n",
       "    </tr>\n",
       "    <tr>\n",
       "      <th>8</th>\n",
       "      <td>-</td>\n",
       "      <td>820</td>\n",
       "    </tr>\n",
       "    <tr>\n",
       "      <th>9</th>\n",
       "      <td>за</td>\n",
       "      <td>784</td>\n",
       "    </tr>\n",
       "    <tr>\n",
       "      <th>10</th>\n",
       "      <td>как</td>\n",
       "      <td>700</td>\n",
       "    </tr>\n",
       "    <tr>\n",
       "      <th>11</th>\n",
       "      <td>о</td>\n",
       "      <td>686</td>\n",
       "    </tr>\n",
       "    <tr>\n",
       "      <th>12</th>\n",
       "      <td>а</td>\n",
       "      <td>684</td>\n",
       "    </tr>\n",
       "    <tr>\n",
       "      <th>13</th>\n",
       "      <td>для</td>\n",
       "      <td>655</td>\n",
       "    </tr>\n",
       "    <tr>\n",
       "      <th>14</th>\n",
       "      <td>этом</td>\n",
       "      <td>634</td>\n",
       "    </tr>\n",
       "    <tr>\n",
       "      <th>15</th>\n",
       "      <td>к</td>\n",
       "      <td>627</td>\n",
       "    </tr>\n",
       "    <tr>\n",
       "      <th>16</th>\n",
       "      <td>—</td>\n",
       "      <td>613</td>\n",
       "    </tr>\n",
       "    <tr>\n",
       "      <th>17</th>\n",
       "      <td>до</td>\n",
       "      <td>587</td>\n",
       "    </tr>\n",
       "    <tr>\n",
       "      <th>18</th>\n",
       "      <td>года</td>\n",
       "      <td>581</td>\n",
       "    </tr>\n",
       "    <tr>\n",
       "      <th>19</th>\n",
       "      <td>также</td>\n",
       "      <td>514</td>\n",
       "    </tr>\n",
       "    <tr>\n",
       "      <th>20</th>\n",
       "      <td>об</td>\n",
       "      <td>509</td>\n",
       "    </tr>\n",
       "    <tr>\n",
       "      <th>21</th>\n",
       "      <td>его</td>\n",
       "      <td>500</td>\n",
       "    </tr>\n",
       "    <tr>\n",
       "      <th>22</th>\n",
       "      <td>от</td>\n",
       "      <td>483</td>\n",
       "    </tr>\n",
       "    <tr>\n",
       "      <th>23</th>\n",
       "      <td>сообщает</td>\n",
       "      <td>470</td>\n",
       "    </tr>\n",
       "    <tr>\n",
       "      <th>24</th>\n",
       "      <td>он</td>\n",
       "      <td>461</td>\n",
       "    </tr>\n",
       "    <tr>\n",
       "      <th>25</th>\n",
       "      <td>будет</td>\n",
       "      <td>451</td>\n",
       "    </tr>\n",
       "    <tr>\n",
       "      <th>26</th>\n",
       "      <td>россии</td>\n",
       "      <td>449</td>\n",
       "    </tr>\n",
       "    <tr>\n",
       "      <th>27</th>\n",
       "      <td>после</td>\n",
       "      <td>403</td>\n",
       "    </tr>\n",
       "    <tr>\n",
       "      <th>28</th>\n",
       "      <td>году</td>\n",
       "      <td>394</td>\n",
       "    </tr>\n",
       "    <tr>\n",
       "      <th>29</th>\n",
       "      <td>со</td>\n",
       "      <td>391</td>\n",
       "    </tr>\n",
       "    <tr>\n",
       "      <th>30</th>\n",
       "      <td>был</td>\n",
       "      <td>355</td>\n",
       "    </tr>\n",
       "    <tr>\n",
       "      <th>31</th>\n",
       "      <td>при</td>\n",
       "      <td>341</td>\n",
       "    </tr>\n",
       "    <tr>\n",
       "      <th>32</th>\n",
       "      <td>года.</td>\n",
       "      <td>330</td>\n",
       "    </tr>\n",
       "    <tr>\n",
       "      <th>33</th>\n",
       "      <td>это</td>\n",
       "      <td>322</td>\n",
       "    </tr>\n",
       "    <tr>\n",
       "      <th>34</th>\n",
       "      <td>время</td>\n",
       "      <td>314</td>\n",
       "    </tr>\n",
       "    <tr>\n",
       "      <th>35</th>\n",
       "      <td>у</td>\n",
       "      <td>295</td>\n",
       "    </tr>\n",
       "    <tr>\n",
       "      <th>36</th>\n",
       "      <td>уже</td>\n",
       "      <td>284</td>\n",
       "    </tr>\n",
       "    <tr>\n",
       "      <th>37</th>\n",
       "      <td>который</td>\n",
       "      <td>281</td>\n",
       "    </tr>\n",
       "    <tr>\n",
       "      <th>38</th>\n",
       "      <td>но</td>\n",
       "      <td>263</td>\n",
       "    </tr>\n",
       "    <tr>\n",
       "      <th>39</th>\n",
       "      <td>ранее</td>\n",
       "      <td>255</td>\n",
       "    </tr>\n",
       "    <tr>\n",
       "      <th>40</th>\n",
       "      <td>того,</td>\n",
       "      <td>253</td>\n",
       "    </tr>\n",
       "    <tr>\n",
       "      <th>41</th>\n",
       "      <td>во</td>\n",
       "      <td>250</td>\n",
       "    </tr>\n",
       "    <tr>\n",
       "      <th>42</th>\n",
       "      <td>компании</td>\n",
       "      <td>249</td>\n",
       "    </tr>\n",
       "    <tr>\n",
       "      <th>43</th>\n",
       "      <td>было</td>\n",
       "      <td>237</td>\n",
       "    </tr>\n",
       "    <tr>\n",
       "      <th>44</th>\n",
       "      <td>однако</td>\n",
       "      <td>226</td>\n",
       "    </tr>\n",
       "    <tr>\n",
       "      <th>45</th>\n",
       "      <td>более</td>\n",
       "      <td>226</td>\n",
       "    </tr>\n",
       "    <tr>\n",
       "      <th>46</th>\n",
       "      <td>может</td>\n",
       "      <td>225</td>\n",
       "    </tr>\n",
       "    <tr>\n",
       "      <th>47</th>\n",
       "      <td>миллиарда</td>\n",
       "      <td>219</td>\n",
       "    </tr>\n",
       "    <tr>\n",
       "      <th>48</th>\n",
       "      <td>еще</td>\n",
       "      <td>216</td>\n",
       "    </tr>\n",
       "    <tr>\n",
       "      <th>49</th>\n",
       "      <td>которые</td>\n",
       "      <td>215</td>\n",
       "    </tr>\n",
       "  </tbody>\n",
       "</table>\n",
       "</div>"
      ],
      "text/plain": [
       "        event  count\n",
       "0           в   8589\n",
       "1          на   3777\n",
       "2           и   3580\n",
       "3           с   1883\n",
       "4         что   1847\n",
       "5          по   1822\n",
       "6          не   1266\n",
       "7          из    879\n",
       "8           -    820\n",
       "9          за    784\n",
       "10        как    700\n",
       "11          о    686\n",
       "12          а    684\n",
       "13        для    655\n",
       "14       этом    634\n",
       "15          к    627\n",
       "16          —    613\n",
       "17         до    587\n",
       "18       года    581\n",
       "19      также    514\n",
       "20         об    509\n",
       "21        его    500\n",
       "22         от    483\n",
       "23   сообщает    470\n",
       "24         он    461\n",
       "25      будет    451\n",
       "26     россии    449\n",
       "27      после    403\n",
       "28       году    394\n",
       "29         со    391\n",
       "30        был    355\n",
       "31        при    341\n",
       "32      года.    330\n",
       "33        это    322\n",
       "34      время    314\n",
       "35          у    295\n",
       "36        уже    284\n",
       "37    который    281\n",
       "38         но    263\n",
       "39      ранее    255\n",
       "40      того,    253\n",
       "41         во    250\n",
       "42   компании    249\n",
       "43       было    237\n",
       "44     однако    226\n",
       "45      более    226\n",
       "46      может    225\n",
       "47  миллиарда    219\n",
       "48        еще    216\n",
       "49    которые    215"
      ]
     },
     "execution_count": 62,
     "metadata": {},
     "output_type": "execute_result"
    }
   ],
   "source": [
    "res_df.head(50)"
   ]
  },
  {
   "cell_type": "code",
   "execution_count": 69,
   "metadata": {},
   "outputs": [],
   "source": [
    "txt = []\n",
    "[txt.extend(x.split()) for x in data['text']]\n",
    "res_df = got_counter_res_df_speed1(txt)"
   ]
  },
  {
   "cell_type": "code",
   "execution_count": 72,
   "metadata": {},
   "outputs": [
    {
     "data": {
      "text/html": [
       "<div>\n",
       "<style scoped>\n",
       "    .dataframe tbody tr th:only-of-type {\n",
       "        vertical-align: middle;\n",
       "    }\n",
       "\n",
       "    .dataframe tbody tr th {\n",
       "        vertical-align: top;\n",
       "    }\n",
       "\n",
       "    .dataframe thead th {\n",
       "        text-align: right;\n",
       "    }\n",
       "</style>\n",
       "<table border=\"1\" class=\"dataframe\">\n",
       "  <thead>\n",
       "    <tr style=\"text-align: right;\">\n",
       "      <th></th>\n",
       "      <th>event</th>\n",
       "      <th>count</th>\n",
       "      <th>%</th>\n",
       "      <th>n</th>\n",
       "    </tr>\n",
       "  </thead>\n",
       "  <tbody>\n",
       "    <tr>\n",
       "      <th>0</th>\n",
       "      <td>в</td>\n",
       "      <td>8649</td>\n",
       "      <td>4.705</td>\n",
       "      <td>в</td>\n",
       "    </tr>\n",
       "    <tr>\n",
       "      <th>1</th>\n",
       "      <td>на</td>\n",
       "      <td>3802</td>\n",
       "      <td>2.068</td>\n",
       "      <td>на</td>\n",
       "    </tr>\n",
       "    <tr>\n",
       "      <th>2</th>\n",
       "      <td>и</td>\n",
       "      <td>3605</td>\n",
       "      <td>1.961</td>\n",
       "      <td>и</td>\n",
       "    </tr>\n",
       "    <tr>\n",
       "      <th>3</th>\n",
       "      <td>с</td>\n",
       "      <td>1894</td>\n",
       "      <td>1.030</td>\n",
       "      <td>с</td>\n",
       "    </tr>\n",
       "    <tr>\n",
       "      <th>4</th>\n",
       "      <td>что</td>\n",
       "      <td>1847</td>\n",
       "      <td>1.004</td>\n",
       "      <td>что</td>\n",
       "    </tr>\n",
       "    <tr>\n",
       "      <th>5</th>\n",
       "      <td>по</td>\n",
       "      <td>1828</td>\n",
       "      <td>0.994</td>\n",
       "      <td>по</td>\n",
       "    </tr>\n",
       "    <tr>\n",
       "      <th>6</th>\n",
       "      <td>не</td>\n",
       "      <td>1271</td>\n",
       "      <td>0.691</td>\n",
       "      <td>не</td>\n",
       "    </tr>\n",
       "    <tr>\n",
       "      <th>7</th>\n",
       "      <td>из</td>\n",
       "      <td>884</td>\n",
       "      <td>0.480</td>\n",
       "      <td>из</td>\n",
       "    </tr>\n",
       "    <tr>\n",
       "      <th>8</th>\n",
       "      <td>-</td>\n",
       "      <td>820</td>\n",
       "      <td>0.446</td>\n",
       "      <td>-</td>\n",
       "    </tr>\n",
       "    <tr>\n",
       "      <th>9</th>\n",
       "      <td>за</td>\n",
       "      <td>793</td>\n",
       "      <td>0.431</td>\n",
       "      <td>за</td>\n",
       "    </tr>\n",
       "    <tr>\n",
       "      <th>10</th>\n",
       "      <td>как</td>\n",
       "      <td>700</td>\n",
       "      <td>0.380</td>\n",
       "      <td>как</td>\n",
       "    </tr>\n",
       "    <tr>\n",
       "      <th>11</th>\n",
       "      <td>а</td>\n",
       "      <td>689</td>\n",
       "      <td>0.374</td>\n",
       "      <td>а</td>\n",
       "    </tr>\n",
       "    <tr>\n",
       "      <th>12</th>\n",
       "      <td>о</td>\n",
       "      <td>687</td>\n",
       "      <td>0.373</td>\n",
       "      <td>о</td>\n",
       "    </tr>\n",
       "    <tr>\n",
       "      <th>13</th>\n",
       "      <td>для</td>\n",
       "      <td>655</td>\n",
       "      <td>0.356</td>\n",
       "      <td>для</td>\n",
       "    </tr>\n",
       "    <tr>\n",
       "      <th>14</th>\n",
       "      <td>—</td>\n",
       "      <td>645</td>\n",
       "      <td>0.350</td>\n",
       "      <td>—</td>\n",
       "    </tr>\n",
       "    <tr>\n",
       "      <th>15</th>\n",
       "      <td>этом</td>\n",
       "      <td>639</td>\n",
       "      <td>0.347</td>\n",
       "      <td>этом</td>\n",
       "    </tr>\n",
       "    <tr>\n",
       "      <th>16</th>\n",
       "      <td>к</td>\n",
       "      <td>633</td>\n",
       "      <td>0.344</td>\n",
       "      <td>к</td>\n",
       "    </tr>\n",
       "    <tr>\n",
       "      <th>17</th>\n",
       "      <td>до</td>\n",
       "      <td>590</td>\n",
       "      <td>0.321</td>\n",
       "      <td>до</td>\n",
       "    </tr>\n",
       "    <tr>\n",
       "      <th>18</th>\n",
       "      <td>года</td>\n",
       "      <td>587</td>\n",
       "      <td>0.319</td>\n",
       "      <td>года</td>\n",
       "    </tr>\n",
       "    <tr>\n",
       "      <th>19</th>\n",
       "      <td>об</td>\n",
       "      <td>516</td>\n",
       "      <td>0.280</td>\n",
       "      <td>об</td>\n",
       "    </tr>\n",
       "    <tr>\n",
       "      <th>20</th>\n",
       "      <td>также</td>\n",
       "      <td>515</td>\n",
       "      <td>0.280</td>\n",
       "      <td>также</td>\n",
       "    </tr>\n",
       "    <tr>\n",
       "      <th>21</th>\n",
       "      <td>его</td>\n",
       "      <td>500</td>\n",
       "      <td>0.272</td>\n",
       "      <td>его</td>\n",
       "    </tr>\n",
       "    <tr>\n",
       "      <th>22</th>\n",
       "      <td>от</td>\n",
       "      <td>486</td>\n",
       "      <td>0.264</td>\n",
       "      <td>от</td>\n",
       "    </tr>\n",
       "    <tr>\n",
       "      <th>23</th>\n",
       "      <td>сообщает</td>\n",
       "      <td>470</td>\n",
       "      <td>0.255</td>\n",
       "      <td>сообщает</td>\n",
       "    </tr>\n",
       "    <tr>\n",
       "      <th>24</th>\n",
       "      <td>он</td>\n",
       "      <td>466</td>\n",
       "      <td>0.253</td>\n",
       "      <td>он</td>\n",
       "    </tr>\n",
       "    <tr>\n",
       "      <th>25</th>\n",
       "      <td>будет</td>\n",
       "      <td>451</td>\n",
       "      <td>0.245</td>\n",
       "      <td>будет</td>\n",
       "    </tr>\n",
       "    <tr>\n",
       "      <th>26</th>\n",
       "      <td>россии</td>\n",
       "      <td>450</td>\n",
       "      <td>0.244</td>\n",
       "      <td>россии</td>\n",
       "    </tr>\n",
       "    <tr>\n",
       "      <th>27</th>\n",
       "      <td>после</td>\n",
       "      <td>404</td>\n",
       "      <td>0.219</td>\n",
       "      <td>после</td>\n",
       "    </tr>\n",
       "    <tr>\n",
       "      <th>28</th>\n",
       "      <td>году</td>\n",
       "      <td>396</td>\n",
       "      <td>0.215</td>\n",
       "      <td>году</td>\n",
       "    </tr>\n",
       "    <tr>\n",
       "      <th>29</th>\n",
       "      <td>со</td>\n",
       "      <td>393</td>\n",
       "      <td>0.213</td>\n",
       "      <td>со</td>\n",
       "    </tr>\n",
       "    <tr>\n",
       "      <th>30</th>\n",
       "      <td>был</td>\n",
       "      <td>357</td>\n",
       "      <td>0.194</td>\n",
       "      <td>был</td>\n",
       "    </tr>\n",
       "    <tr>\n",
       "      <th>31</th>\n",
       "      <td>при</td>\n",
       "      <td>341</td>\n",
       "      <td>0.185</td>\n",
       "      <td>при</td>\n",
       "    </tr>\n",
       "    <tr>\n",
       "      <th>32</th>\n",
       "      <td>года.</td>\n",
       "      <td>334</td>\n",
       "      <td>0.181</td>\n",
       "      <td>года.</td>\n",
       "    </tr>\n",
       "    <tr>\n",
       "      <th>33</th>\n",
       "      <td>это</td>\n",
       "      <td>322</td>\n",
       "      <td>0.175</td>\n",
       "      <td>это</td>\n",
       "    </tr>\n",
       "    <tr>\n",
       "      <th>34</th>\n",
       "      <td>время</td>\n",
       "      <td>319</td>\n",
       "      <td>0.173</td>\n",
       "      <td>время</td>\n",
       "    </tr>\n",
       "    <tr>\n",
       "      <th>35</th>\n",
       "      <td>у</td>\n",
       "      <td>296</td>\n",
       "      <td>0.161</td>\n",
       "      <td>у</td>\n",
       "    </tr>\n",
       "    <tr>\n",
       "      <th>36</th>\n",
       "      <td>уже</td>\n",
       "      <td>284</td>\n",
       "      <td>0.154</td>\n",
       "      <td>уже</td>\n",
       "    </tr>\n",
       "    <tr>\n",
       "      <th>37</th>\n",
       "      <td>который</td>\n",
       "      <td>281</td>\n",
       "      <td>0.152</td>\n",
       "      <td>который</td>\n",
       "    </tr>\n",
       "    <tr>\n",
       "      <th>38</th>\n",
       "      <td>но</td>\n",
       "      <td>266</td>\n",
       "      <td>0.144</td>\n",
       "      <td>но</td>\n",
       "    </tr>\n",
       "    <tr>\n",
       "      <th>39</th>\n",
       "      <td>ранее</td>\n",
       "      <td>255</td>\n",
       "      <td>0.138</td>\n",
       "      <td>ранее</td>\n",
       "    </tr>\n",
       "    <tr>\n",
       "      <th>40</th>\n",
       "      <td>того,</td>\n",
       "      <td>253</td>\n",
       "      <td>0.137</td>\n",
       "      <td>того,</td>\n",
       "    </tr>\n",
       "    <tr>\n",
       "      <th>41</th>\n",
       "      <td>во</td>\n",
       "      <td>252</td>\n",
       "      <td>0.137</td>\n",
       "      <td>во</td>\n",
       "    </tr>\n",
       "    <tr>\n",
       "      <th>42</th>\n",
       "      <td>компании</td>\n",
       "      <td>249</td>\n",
       "      <td>0.135</td>\n",
       "      <td>компании</td>\n",
       "    </tr>\n",
       "    <tr>\n",
       "      <th>43</th>\n",
       "      <td>было</td>\n",
       "      <td>237</td>\n",
       "      <td>0.128</td>\n",
       "      <td>было</td>\n",
       "    </tr>\n",
       "    <tr>\n",
       "      <th>44</th>\n",
       "      <td>однако</td>\n",
       "      <td>226</td>\n",
       "      <td>0.122</td>\n",
       "      <td>однако</td>\n",
       "    </tr>\n",
       "    <tr>\n",
       "      <th>45</th>\n",
       "      <td>более</td>\n",
       "      <td>226</td>\n",
       "      <td>0.122</td>\n",
       "      <td>более</td>\n",
       "    </tr>\n",
       "    <tr>\n",
       "      <th>46</th>\n",
       "      <td>может</td>\n",
       "      <td>225</td>\n",
       "      <td>0.122</td>\n",
       "      <td>может</td>\n",
       "    </tr>\n",
       "    <tr>\n",
       "      <th>47</th>\n",
       "      <td>миллиарда</td>\n",
       "      <td>220</td>\n",
       "      <td>0.119</td>\n",
       "      <td>миллиарда</td>\n",
       "    </tr>\n",
       "    <tr>\n",
       "      <th>48</th>\n",
       "      <td>еще</td>\n",
       "      <td>216</td>\n",
       "      <td>0.117</td>\n",
       "      <td>еще</td>\n",
       "    </tr>\n",
       "    <tr>\n",
       "      <th>49</th>\n",
       "      <td>которые</td>\n",
       "      <td>215</td>\n",
       "      <td>0.116</td>\n",
       "      <td>которые</td>\n",
       "    </tr>\n",
       "    <tr>\n",
       "      <th>50</th>\n",
       "      <td>были</td>\n",
       "      <td>207</td>\n",
       "      <td>0.112</td>\n",
       "      <td>были</td>\n",
       "    </tr>\n",
       "    <tr>\n",
       "      <th>51</th>\n",
       "      <td>миллионов</td>\n",
       "      <td>203</td>\n",
       "      <td>0.110</td>\n",
       "      <td>миллионов</td>\n",
       "    </tr>\n",
       "    <tr>\n",
       "      <th>52</th>\n",
       "      <td>компания</td>\n",
       "      <td>202</td>\n",
       "      <td>0.109</td>\n",
       "      <td>компания</td>\n",
       "    </tr>\n",
       "    <tr>\n",
       "      <th>53</th>\n",
       "      <td>кроме</td>\n",
       "      <td>197</td>\n",
       "      <td>0.107</td>\n",
       "      <td>кроме</td>\n",
       "    </tr>\n",
       "    <tr>\n",
       "      <th>54</th>\n",
       "      <td>их</td>\n",
       "      <td>196</td>\n",
       "      <td>0.106</td>\n",
       "      <td>их</td>\n",
       "    </tr>\n",
       "    <tr>\n",
       "      <th>55</th>\n",
       "      <td>ее</td>\n",
       "      <td>195</td>\n",
       "      <td>0.106</td>\n",
       "      <td>ее</td>\n",
       "    </tr>\n",
       "    <tr>\n",
       "      <th>56</th>\n",
       "      <td>является</td>\n",
       "      <td>192</td>\n",
       "      <td>0.104</td>\n",
       "      <td>является</td>\n",
       "    </tr>\n",
       "    <tr>\n",
       "      <th>57</th>\n",
       "      <td>долларов.</td>\n",
       "      <td>183</td>\n",
       "      <td>0.099</td>\n",
       "      <td>долларов.</td>\n",
       "    </tr>\n",
       "    <tr>\n",
       "      <th>58</th>\n",
       "      <td>этого</td>\n",
       "      <td>183</td>\n",
       "      <td>0.099</td>\n",
       "      <td>этого</td>\n",
       "    </tr>\n",
       "    <tr>\n",
       "      <th>59</th>\n",
       "      <td>все</td>\n",
       "      <td>181</td>\n",
       "      <td>0.098</td>\n",
       "      <td>все</td>\n",
       "    </tr>\n",
       "  </tbody>\n",
       "</table>\n",
       "</div>"
      ],
      "text/plain": [
       "        event  count      %          n\n",
       "0           в   8649  4.705          в\n",
       "1          на   3802  2.068         на\n",
       "2           и   3605  1.961          и\n",
       "3           с   1894  1.030          с\n",
       "4         что   1847  1.004        что\n",
       "5          по   1828  0.994         по\n",
       "6          не   1271  0.691         не\n",
       "7          из    884  0.480         из\n",
       "8           -    820  0.446          -\n",
       "9          за    793  0.431         за\n",
       "10        как    700  0.380        как\n",
       "11          а    689  0.374          а\n",
       "12          о    687  0.373          о\n",
       "13        для    655  0.356        для\n",
       "14          —    645  0.350          —\n",
       "15       этом    639  0.347       этом\n",
       "16          к    633  0.344          к\n",
       "17         до    590  0.321         до\n",
       "18       года    587  0.319       года\n",
       "19         об    516  0.280         об\n",
       "20      также    515  0.280      также\n",
       "21        его    500  0.272        его\n",
       "22         от    486  0.264         от\n",
       "23   сообщает    470  0.255   сообщает\n",
       "24         он    466  0.253         он\n",
       "25      будет    451  0.245      будет\n",
       "26     россии    450  0.244     россии\n",
       "27      после    404  0.219      после\n",
       "28       году    396  0.215       году\n",
       "29         со    393  0.213         со\n",
       "30        был    357  0.194        был\n",
       "31        при    341  0.185        при\n",
       "32      года.    334  0.181      года.\n",
       "33        это    322  0.175        это\n",
       "34      время    319  0.173      время\n",
       "35          у    296  0.161          у\n",
       "36        уже    284  0.154        уже\n",
       "37    который    281  0.152    который\n",
       "38         но    266  0.144         но\n",
       "39      ранее    255  0.138      ранее\n",
       "40      того,    253  0.137      того,\n",
       "41         во    252  0.137         во\n",
       "42   компании    249  0.135   компании\n",
       "43       было    237  0.128       было\n",
       "44     однако    226  0.122     однако\n",
       "45      более    226  0.122      более\n",
       "46      может    225  0.122      может\n",
       "47  миллиарда    220  0.119  миллиарда\n",
       "48        еще    216  0.117        еще\n",
       "49    которые    215  0.116    которые\n",
       "50       были    207  0.112       были\n",
       "51  миллионов    203  0.110  миллионов\n",
       "52   компания    202  0.109   компания\n",
       "53      кроме    197  0.107      кроме\n",
       "54         их    196  0.106         их\n",
       "55         ее    195  0.106         ее\n",
       "56   является    192  0.104   является\n",
       "57  долларов.    183  0.099  долларов.\n",
       "58      этого    183  0.099      этого\n",
       "59        все    181  0.098        все"
      ]
     },
     "execution_count": 72,
     "metadata": {},
     "output_type": "execute_result"
    }
   ],
   "source": [
    "res_df.head(60)"
   ]
  },
  {
   "cell_type": "code",
   "execution_count": 73,
   "metadata": {},
   "outputs": [
    {
     "data": {
      "text/html": [
       "<div>\n",
       "<style scoped>\n",
       "    .dataframe tbody tr th:only-of-type {\n",
       "        vertical-align: middle;\n",
       "    }\n",
       "\n",
       "    .dataframe tbody tr th {\n",
       "        vertical-align: top;\n",
       "    }\n",
       "\n",
       "    .dataframe thead th {\n",
       "        text-align: right;\n",
       "    }\n",
       "</style>\n",
       "<table border=\"1\" class=\"dataframe\">\n",
       "  <thead>\n",
       "    <tr style=\"text-align: right;\">\n",
       "      <th></th>\n",
       "      <th>event</th>\n",
       "      <th>count</th>\n",
       "      <th>%</th>\n",
       "      <th>n</th>\n",
       "    </tr>\n",
       "  </thead>\n",
       "  <tbody>\n",
       "    <tr>\n",
       "      <th>48764</th>\n",
       "      <td>начав</td>\n",
       "      <td>1</td>\n",
       "      <td>0.0</td>\n",
       "      <td>начав</td>\n",
       "    </tr>\n",
       "    <tr>\n",
       "      <th>48765</th>\n",
       "      <td>нация,</td>\n",
       "      <td>1</td>\n",
       "      <td>0.0</td>\n",
       "      <td>нация,</td>\n",
       "    </tr>\n",
       "    <tr>\n",
       "      <th>48766</th>\n",
       "      <td>нацисткой</td>\n",
       "      <td>1</td>\n",
       "      <td>0.0</td>\n",
       "      <td>нацисткой</td>\n",
       "    </tr>\n",
       "    <tr>\n",
       "      <th>48767</th>\n",
       "      <td>атак,</td>\n",
       "      <td>1</td>\n",
       "      <td>0.0</td>\n",
       "      <td>атак,</td>\n",
       "    </tr>\n",
       "    <tr>\n",
       "      <th>48768</th>\n",
       "      <td>национальными</td>\n",
       "      <td>1</td>\n",
       "      <td>0.0</td>\n",
       "      <td>национальными</td>\n",
       "    </tr>\n",
       "    <tr>\n",
       "      <th>48769</th>\n",
       "      <td>атак.</td>\n",
       "      <td>1</td>\n",
       "      <td>0.0</td>\n",
       "      <td>атак.</td>\n",
       "    </tr>\n",
       "    <tr>\n",
       "      <th>48770</th>\n",
       "      <td>национальные</td>\n",
       "      <td>1</td>\n",
       "      <td>0.0</td>\n",
       "      <td>национальные</td>\n",
       "    </tr>\n",
       "    <tr>\n",
       "      <th>48771</th>\n",
       "      <td>атака:</td>\n",
       "      <td>1</td>\n",
       "      <td>0.0</td>\n",
       "      <td>атака:</td>\n",
       "    </tr>\n",
       "    <tr>\n",
       "      <th>48772</th>\n",
       "      <td>национальности.</td>\n",
       "      <td>1</td>\n",
       "      <td>0.0</td>\n",
       "      <td>национальности.</td>\n",
       "    </tr>\n",
       "    <tr>\n",
       "      <th>48773</th>\n",
       "      <td>национальности</td>\n",
       "      <td>1</td>\n",
       "      <td>0.0</td>\n",
       "      <td>национальности</td>\n",
       "    </tr>\n",
       "    <tr>\n",
       "      <th>48774</th>\n",
       "      <td>атакам.</td>\n",
       "      <td>1</td>\n",
       "      <td>0.0</td>\n",
       "      <td>атакам.</td>\n",
       "    </tr>\n",
       "    <tr>\n",
       "      <th>48775</th>\n",
       "      <td>атаках</td>\n",
       "      <td>1</td>\n",
       "      <td>0.0</td>\n",
       "      <td>атаках</td>\n",
       "    </tr>\n",
       "    <tr>\n",
       "      <th>48776</th>\n",
       "      <td>национальное</td>\n",
       "      <td>1</td>\n",
       "      <td>0.0</td>\n",
       "      <td>национальное</td>\n",
       "    </tr>\n",
       "    <tr>\n",
       "      <th>48777</th>\n",
       "      <td>националисты.</td>\n",
       "      <td>1</td>\n",
       "      <td>0.0</td>\n",
       "      <td>националисты.</td>\n",
       "    </tr>\n",
       "    <tr>\n",
       "      <th>48778</th>\n",
       "      <td>астероидом,</td>\n",
       "      <td>1</td>\n",
       "      <td>0.0</td>\n",
       "      <td>астероидом,</td>\n",
       "    </tr>\n",
       "    <tr>\n",
       "      <th>48779</th>\n",
       "      <td>националистов</td>\n",
       "      <td>1</td>\n",
       "      <td>0.0</td>\n",
       "      <td>националистов</td>\n",
       "    </tr>\n",
       "    <tr>\n",
       "      <th>48780</th>\n",
       "      <td>националистические</td>\n",
       "      <td>1</td>\n",
       "      <td>0.0</td>\n",
       "      <td>националистические</td>\n",
       "    </tr>\n",
       "    <tr>\n",
       "      <th>48781</th>\n",
       "      <td>национализма</td>\n",
       "      <td>1</td>\n",
       "      <td>0.0</td>\n",
       "      <td>национализма</td>\n",
       "    </tr>\n",
       "    <tr>\n",
       "      <th>48782</th>\n",
       "      <td>национализированы</td>\n",
       "      <td>1</td>\n",
       "      <td>0.0</td>\n",
       "      <td>национализированы</td>\n",
       "    </tr>\n",
       "    <tr>\n",
       "      <th>48783</th>\n",
       "      <td>атаковал</td>\n",
       "      <td>1</td>\n",
       "      <td>0.0</td>\n",
       "      <td>атаковал</td>\n",
       "    </tr>\n",
       "    <tr>\n",
       "      <th>48784</th>\n",
       "      <td>наций.</td>\n",
       "      <td>1</td>\n",
       "      <td>0.0</td>\n",
       "      <td>наций.</td>\n",
       "    </tr>\n",
       "    <tr>\n",
       "      <th>48785</th>\n",
       "      <td>наций,</td>\n",
       "      <td>1</td>\n",
       "      <td>0.0</td>\n",
       "      <td>наций,</td>\n",
       "    </tr>\n",
       "    <tr>\n",
       "      <th>48786</th>\n",
       "      <td>атаковали</td>\n",
       "      <td>1</td>\n",
       "      <td>0.0</td>\n",
       "      <td>атаковали</td>\n",
       "    </tr>\n",
       "    <tr>\n",
       "      <th>48787</th>\n",
       "      <td>нации\",</td>\n",
       "      <td>1</td>\n",
       "      <td>0.0</td>\n",
       "      <td>нации\",</td>\n",
       "    </tr>\n",
       "    <tr>\n",
       "      <th>48788</th>\n",
       "      <td>нацизме</td>\n",
       "      <td>1</td>\n",
       "      <td>0.0</td>\n",
       "      <td>нацизме</td>\n",
       "    </tr>\n",
       "    <tr>\n",
       "      <th>48789</th>\n",
       "      <td>нацелившихся</td>\n",
       "      <td>1</td>\n",
       "      <td>0.0</td>\n",
       "      <td>нацелившихся</td>\n",
       "    </tr>\n",
       "    <tr>\n",
       "      <th>48790</th>\n",
       "      <td>нацеленности</td>\n",
       "      <td>1</td>\n",
       "      <td>0.0</td>\n",
       "      <td>нацеленности</td>\n",
       "    </tr>\n",
       "    <tr>\n",
       "      <th>48791</th>\n",
       "      <td>нацелена</td>\n",
       "      <td>1</td>\n",
       "      <td>0.0</td>\n",
       "      <td>нацелена</td>\n",
       "    </tr>\n",
       "    <tr>\n",
       "      <th>48792</th>\n",
       "      <td>атаев,</td>\n",
       "      <td>1</td>\n",
       "      <td>0.0</td>\n",
       "      <td>атаев,</td>\n",
       "    </tr>\n",
       "    <tr>\n",
       "      <th>48793</th>\n",
       "      <td>асфиксия</td>\n",
       "      <td>1</td>\n",
       "      <td>0.0</td>\n",
       "      <td>асфиксия</td>\n",
       "    </tr>\n",
       "    <tr>\n",
       "      <th>48794</th>\n",
       "      <td>начавшиеся</td>\n",
       "      <td>1</td>\n",
       "      <td>0.0</td>\n",
       "      <td>начавшиеся</td>\n",
       "    </tr>\n",
       "    <tr>\n",
       "      <th>48795</th>\n",
       "      <td>начавший</td>\n",
       "      <td>1</td>\n",
       "      <td>0.0</td>\n",
       "      <td>начавший</td>\n",
       "    </tr>\n",
       "    <tr>\n",
       "      <th>48796</th>\n",
       "      <td>начинавшей</td>\n",
       "      <td>1</td>\n",
       "      <td>0.0</td>\n",
       "      <td>начинавшей</td>\n",
       "    </tr>\n",
       "    <tr>\n",
       "      <th>48797</th>\n",
       "      <td>астмой</td>\n",
       "      <td>1</td>\n",
       "      <td>0.0</td>\n",
       "      <td>астмой</td>\n",
       "    </tr>\n",
       "    <tr>\n",
       "      <th>48798</th>\n",
       "      <td>начатой</td>\n",
       "      <td>1</td>\n",
       "      <td>0.0</td>\n",
       "      <td>начатой</td>\n",
       "    </tr>\n",
       "    <tr>\n",
       "      <th>48799</th>\n",
       "      <td>начальной</td>\n",
       "      <td>1</td>\n",
       "      <td>0.0</td>\n",
       "      <td>начальной</td>\n",
       "    </tr>\n",
       "    <tr>\n",
       "      <th>48800</th>\n",
       "      <td>начальником.</td>\n",
       "      <td>1</td>\n",
       "      <td>0.0</td>\n",
       "      <td>начальником.</td>\n",
       "    </tr>\n",
       "    <tr>\n",
       "      <th>48801</th>\n",
       "      <td>начальников</td>\n",
       "      <td>1</td>\n",
       "      <td>0.0</td>\n",
       "      <td>начальников</td>\n",
       "    </tr>\n",
       "    <tr>\n",
       "      <th>48802</th>\n",
       "      <td>астраханью,</td>\n",
       "      <td>1</td>\n",
       "      <td>0.0</td>\n",
       "      <td>астраханью,</td>\n",
       "    </tr>\n",
       "    <tr>\n",
       "      <th>48803</th>\n",
       "      <td>астронавтами</td>\n",
       "      <td>1</td>\n",
       "      <td>0.0</td>\n",
       "      <td>астронавтами</td>\n",
       "    </tr>\n",
       "    <tr>\n",
       "      <th>48804</th>\n",
       "      <td>астронавтов</td>\n",
       "      <td>1</td>\n",
       "      <td>0.0</td>\n",
       "      <td>астронавтов</td>\n",
       "    </tr>\n",
       "    <tr>\n",
       "      <th>48805</th>\n",
       "      <td>астронавтов.</td>\n",
       "      <td>1</td>\n",
       "      <td>0.0</td>\n",
       "      <td>астронавтов.</td>\n",
       "    </tr>\n",
       "    <tr>\n",
       "      <th>48806</th>\n",
       "      <td>астронавтом</td>\n",
       "      <td>1</td>\n",
       "      <td>0.0</td>\n",
       "      <td>астронавтом</td>\n",
       "    </tr>\n",
       "    <tr>\n",
       "      <th>48807</th>\n",
       "      <td>астронавты</td>\n",
       "      <td>1</td>\n",
       "      <td>0.0</td>\n",
       "      <td>астронавты</td>\n",
       "    </tr>\n",
       "    <tr>\n",
       "      <th>48808</th>\n",
       "      <td>астроном</td>\n",
       "      <td>1</td>\n",
       "      <td>0.0</td>\n",
       "      <td>астроном</td>\n",
       "    </tr>\n",
       "    <tr>\n",
       "      <th>48809</th>\n",
       "      <td>астронома</td>\n",
       "      <td>1</td>\n",
       "      <td>0.0</td>\n",
       "      <td>астронома</td>\n",
       "    </tr>\n",
       "    <tr>\n",
       "      <th>48810</th>\n",
       "      <td>астрономии,</td>\n",
       "      <td>1</td>\n",
       "      <td>0.0</td>\n",
       "      <td>астрономии,</td>\n",
       "    </tr>\n",
       "    <tr>\n",
       "      <th>48811</th>\n",
       "      <td>астрономов</td>\n",
       "      <td>1</td>\n",
       "      <td>0.0</td>\n",
       "      <td>астрономов</td>\n",
       "    </tr>\n",
       "    <tr>\n",
       "      <th>48812</th>\n",
       "      <td>началах,</td>\n",
       "      <td>1</td>\n",
       "      <td>0.0</td>\n",
       "      <td>началах,</td>\n",
       "    </tr>\n",
       "    <tr>\n",
       "      <th>48813</th>\n",
       "      <td>началах</td>\n",
       "      <td>1</td>\n",
       "      <td>0.0</td>\n",
       "      <td>началах</td>\n",
       "    </tr>\n",
       "    <tr>\n",
       "      <th>48814</th>\n",
       "      <td>началась.</td>\n",
       "      <td>1</td>\n",
       "      <td>0.0</td>\n",
       "      <td>началась.</td>\n",
       "    </tr>\n",
       "    <tr>\n",
       "      <th>48815</th>\n",
       "      <td>астроному</td>\n",
       "      <td>1</td>\n",
       "      <td>0.0</td>\n",
       "      <td>астроному</td>\n",
       "    </tr>\n",
       "    <tr>\n",
       "      <th>48816</th>\n",
       "      <td>начала:</td>\n",
       "      <td>1</td>\n",
       "      <td>0.0</td>\n",
       "      <td>начала:</td>\n",
       "    </tr>\n",
       "    <tr>\n",
       "      <th>48817</th>\n",
       "      <td>начала\".</td>\n",
       "      <td>1</td>\n",
       "      <td>0.0</td>\n",
       "      <td>начала\".</td>\n",
       "    </tr>\n",
       "    <tr>\n",
       "      <th>48818</th>\n",
       "      <td>астрономы,</td>\n",
       "      <td>1</td>\n",
       "      <td>0.0</td>\n",
       "      <td>астрономы,</td>\n",
       "    </tr>\n",
       "    <tr>\n",
       "      <th>48819</th>\n",
       "      <td>асфальтовых</td>\n",
       "      <td>1</td>\n",
       "      <td>0.0</td>\n",
       "      <td>асфальтовых</td>\n",
       "    </tr>\n",
       "    <tr>\n",
       "      <th>48820</th>\n",
       "      <td>начавшихся</td>\n",
       "      <td>1</td>\n",
       "      <td>0.0</td>\n",
       "      <td>начавшихся</td>\n",
       "    </tr>\n",
       "    <tr>\n",
       "      <th>48821</th>\n",
       "      <td>начавших</td>\n",
       "      <td>1</td>\n",
       "      <td>0.0</td>\n",
       "      <td>начавших</td>\n",
       "    </tr>\n",
       "    <tr>\n",
       "      <th>48822</th>\n",
       "      <td>начавшись</td>\n",
       "      <td>1</td>\n",
       "      <td>0.0</td>\n",
       "      <td>начавшись</td>\n",
       "    </tr>\n",
       "    <tr>\n",
       "      <th>48823</th>\n",
       "      <td>🚺🚺💕</td>\n",
       "      <td>1</td>\n",
       "      <td>0.0</td>\n",
       "      <td>🚺🚺💕</td>\n",
       "    </tr>\n",
       "  </tbody>\n",
       "</table>\n",
       "</div>"
      ],
      "text/plain": [
       "                    event  count    %                   n\n",
       "48764               начав      1  0.0               начав\n",
       "48765              нация,      1  0.0              нация,\n",
       "48766           нацисткой      1  0.0           нацисткой\n",
       "48767               атак,      1  0.0               атак,\n",
       "48768       национальными      1  0.0       национальными\n",
       "48769               атак.      1  0.0               атак.\n",
       "48770        национальные      1  0.0        национальные\n",
       "48771              атака:      1  0.0              атака:\n",
       "48772     национальности.      1  0.0     национальности.\n",
       "48773      национальности      1  0.0      национальности\n",
       "48774             атакам.      1  0.0             атакам.\n",
       "48775              атаках      1  0.0              атаках\n",
       "48776        национальное      1  0.0        национальное\n",
       "48777       националисты.      1  0.0       националисты.\n",
       "48778         астероидом,      1  0.0         астероидом,\n",
       "48779       националистов      1  0.0       националистов\n",
       "48780  националистические      1  0.0  националистические\n",
       "48781        национализма      1  0.0        национализма\n",
       "48782   национализированы      1  0.0   национализированы\n",
       "48783            атаковал      1  0.0            атаковал\n",
       "48784              наций.      1  0.0              наций.\n",
       "48785              наций,      1  0.0              наций,\n",
       "48786           атаковали      1  0.0           атаковали\n",
       "48787             нации\",      1  0.0             нации\",\n",
       "48788             нацизме      1  0.0             нацизме\n",
       "48789        нацелившихся      1  0.0        нацелившихся\n",
       "48790        нацеленности      1  0.0        нацеленности\n",
       "48791            нацелена      1  0.0            нацелена\n",
       "48792              атаев,      1  0.0              атаев,\n",
       "48793            асфиксия      1  0.0            асфиксия\n",
       "48794          начавшиеся      1  0.0          начавшиеся\n",
       "48795            начавший      1  0.0            начавший\n",
       "48796          начинавшей      1  0.0          начинавшей\n",
       "48797              астмой      1  0.0              астмой\n",
       "48798             начатой      1  0.0             начатой\n",
       "48799           начальной      1  0.0           начальной\n",
       "48800        начальником.      1  0.0        начальником.\n",
       "48801         начальников      1  0.0         начальников\n",
       "48802         астраханью,      1  0.0         астраханью,\n",
       "48803        астронавтами      1  0.0        астронавтами\n",
       "48804         астронавтов      1  0.0         астронавтов\n",
       "48805        астронавтов.      1  0.0        астронавтов.\n",
       "48806         астронавтом      1  0.0         астронавтом\n",
       "48807          астронавты      1  0.0          астронавты\n",
       "48808            астроном      1  0.0            астроном\n",
       "48809           астронома      1  0.0           астронома\n",
       "48810         астрономии,      1  0.0         астрономии,\n",
       "48811          астрономов      1  0.0          астрономов\n",
       "48812            началах,      1  0.0            началах,\n",
       "48813             началах      1  0.0             началах\n",
       "48814           началась.      1  0.0           началась.\n",
       "48815           астроному      1  0.0           астроному\n",
       "48816             начала:      1  0.0             начала:\n",
       "48817            начала\".      1  0.0            начала\".\n",
       "48818          астрономы,      1  0.0          астрономы,\n",
       "48819         асфальтовых      1  0.0         асфальтовых\n",
       "48820          начавшихся      1  0.0          начавшихся\n",
       "48821            начавших      1  0.0            начавших\n",
       "48822           начавшись      1  0.0           начавшись\n",
       "48823                 🚺🚺💕      1  0.0                 🚺🚺💕"
      ]
     },
     "execution_count": 73,
     "metadata": {},
     "output_type": "execute_result"
    }
   ],
   "source": [
    "res_df.tail(60)"
   ]
  },
  {
   "cell_type": "code",
   "execution_count": null,
   "metadata": {},
   "outputs": [],
   "source": []
  }
 ],
 "metadata": {
  "accelerator": "GPU",
  "colab": {
   "collapsed_sections": [
    "qhiYbOONbyBj",
    "qVHm5UWjbyBl",
    "b_eV6J93byBl",
    "ManLnYVRbyBm",
    "ySoevt7lbyBp"
   ],
   "name": "lesson_1_v01.ipynb",
   "provenance": []
  },
  "kernelspec": {
   "display_name": "Python 3 (ipykernel)",
   "language": "python",
   "name": "python3"
  },
  "language_info": {
   "codemirror_mode": {
    "name": "ipython",
    "version": 3
   },
   "file_extension": ".py",
   "mimetype": "text/x-python",
   "name": "python",
   "nbconvert_exporter": "python",
   "pygments_lexer": "ipython3",
   "version": "3.9.15"
  }
 },
 "nbformat": 4,
 "nbformat_minor": 1
}
