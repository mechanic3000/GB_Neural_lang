{
  "nbformat": 4,
  "nbformat_minor": 0,
  "metadata": {
    "accelerator": "GPU",
    "colab": {
      "provenance": []
    },
    "kernelspec": {
      "display_name": "Python 3",
      "name": "python3"
    }
  },
  "cells": [
    {
      "cell_type": "markdown",
      "metadata": {
        "id": "J0Qjg6vuaHNt"
      },
      "source": [
        "# Neural machine translation with attention"
      ]
    },
    {
      "cell_type": "code",
      "metadata": {
        "id": "tnxXKDjq3jEL"
      },
      "source": [
        "import tensorflow as tf\n",
        "\n",
        "import matplotlib.pyplot as plt\n",
        "import matplotlib.ticker as ticker\n",
        "from sklearn.model_selection import train_test_split\n",
        "\n",
        "import unicodedata\n",
        "import re\n",
        "import numpy as np\n",
        "import os\n",
        "import io\n",
        "import time"
      ],
      "execution_count": 1,
      "outputs": []
    },
    {
      "cell_type": "markdown",
      "metadata": {
        "id": "wfodePkj3jEa"
      },
      "source": [
        "## Download and prepare the dataset\n",
        "\n",
        "We'll use a language dataset provided by http://www.manythings.org/anki/"
      ]
    },
    {
      "cell_type": "code",
      "metadata": {
        "id": "CNvjhDyAKk3U",
        "colab": {
          "base_uri": "https://localhost:8080/"
        },
        "outputId": "eeb696b8-829f-4126-f0e4-3e17eaf90e34"
      },
      "source": [
        "!wget http://www.manythings.org/anki/rus-eng.zip"
      ],
      "execution_count": 2,
      "outputs": [
        {
          "output_type": "stream",
          "name": "stdout",
          "text": [
            "--2023-05-28 14:01:08--  http://www.manythings.org/anki/rus-eng.zip\n",
            "Resolving www.manythings.org (www.manythings.org)... 173.254.30.110\n",
            "Connecting to www.manythings.org (www.manythings.org)|173.254.30.110|:80... connected.\n",
            "HTTP request sent, awaiting response... 200 OK\n",
            "Length: 15460248 (15M) [application/zip]\n",
            "Saving to: ‘rus-eng.zip’\n",
            "\n",
            "rus-eng.zip         100%[===================>]  14.74M  6.46MB/s    in 2.3s    \n",
            "\n",
            "2023-05-28 14:01:11 (6.46 MB/s) - ‘rus-eng.zip’ saved [15460248/15460248]\n",
            "\n"
          ]
        }
      ]
    },
    {
      "cell_type": "code",
      "metadata": {
        "id": "83bg17Lr-7XK",
        "colab": {
          "base_uri": "https://localhost:8080/"
        },
        "outputId": "a2ef9576-0477-487c-f335-fdea50b8102b"
      },
      "source": [
        "!mkdir rus-eng\n",
        "!unzip rus-eng.zip -d rus-eng/"
      ],
      "execution_count": 3,
      "outputs": [
        {
          "output_type": "stream",
          "name": "stdout",
          "text": [
            "Archive:  rus-eng.zip\n",
            "  inflating: rus-eng/rus.txt         \n",
            "  inflating: rus-eng/_about.txt      \n"
          ]
        }
      ]
    },
    {
      "cell_type": "code",
      "metadata": {
        "id": "7o5L92efMMhf",
        "colab": {
          "base_uri": "https://localhost:8080/"
        },
        "outputId": "2b6f113d-dff4-4f5c-baec-0c8aab0baca8"
      },
      "source": [
        "!ls /content/rus-eng/ -lah"
      ],
      "execution_count": 4,
      "outputs": [
        {
          "output_type": "stream",
          "name": "stdout",
          "text": [
            "total 74M\n",
            "drwxr-xr-x 2 root root 4.0K May 28 14:01 .\n",
            "drwxr-xr-x 1 root root 4.0K May 28 14:01 ..\n",
            "-rw-r--r-- 1 root root 1.5K Apr  2 03:16 _about.txt\n",
            "-rw-r--r-- 1 root root  74M Apr  2 03:16 rus.txt\n"
          ]
        }
      ]
    },
    {
      "cell_type": "code",
      "metadata": {
        "id": "kRVATYOgJs1b"
      },
      "source": [
        "# Download the file\n",
        "path_to_file = \"/content/rus-eng/rus.txt\""
      ],
      "execution_count": 5,
      "outputs": []
    },
    {
      "cell_type": "code",
      "metadata": {
        "id": "rd0jw-eC3jEh"
      },
      "source": [
        "def preprocess_sentence(w):\n",
        "  w = w.lower().strip()\n",
        "\n",
        "  # creating a space between a word and the punctuation following it\n",
        "  # eg: \"he is a boy.\" => \"he is a boy .\"\n",
        "  # Reference:- https://stackoverflow.com/questions/3645931/python-padding-punctuation-with-white-spaces-keeping-punctuation\n",
        "  w = re.sub(r\"([?.!,])\", r\" \\1 \", w)\n",
        "  w = re.sub(r'[\" \"]+', \" \", w)\n",
        "\n",
        "  # replacing everything with space except (a-z, A-Z, \".\", \"?\", \"!\", \",\")\n",
        "  w = re.sub(r\"[^a-zA-Zа-яА-Я?.!,']+\", \" \", w)\n",
        "\n",
        "  w = w.strip()\n",
        "\n",
        "  # adding a start and an end token to the sentence\n",
        "  # so that the model know when to start and stop predicting.\n",
        "  w = '<start> ' + w + ' <end>'\n",
        "  return w"
      ],
      "execution_count": 6,
      "outputs": []
    },
    {
      "cell_type": "code",
      "metadata": {
        "id": "yV9lZXQXNbnH",
        "colab": {
          "base_uri": "https://localhost:8080/",
          "height": 36
        },
        "outputId": "125104b2-41b4-4fde-ac06-044884519326"
      },
      "source": [
        "preprocess_sentence(\"I can't go.\")"
      ],
      "execution_count": 7,
      "outputs": [
        {
          "output_type": "execute_result",
          "data": {
            "text/plain": [
              "\"<start> i can't go . <end>\""
            ],
            "application/vnd.google.colaboratory.intrinsic+json": {
              "type": "string"
            }
          },
          "metadata": {},
          "execution_count": 7
        }
      ]
    },
    {
      "cell_type": "code",
      "metadata": {
        "id": "OHn4Dct23jEm"
      },
      "source": [
        "# 1. Remove the accents\n",
        "# 2. Clean the sentences\n",
        "# 3. Return word pairs in the format: [ENG, RUS]\n",
        "def create_dataset(path, num_examples):\n",
        "  lines = io.open(path, encoding='UTF-8').read().strip().split('\\n')\n",
        "\n",
        "  word_pairs = [[preprocess_sentence(w) for w in l.split('\\t')[:2]]  for l in lines[:num_examples]]\n",
        "\n",
        "  return zip(*word_pairs)"
      ],
      "execution_count": 8,
      "outputs": []
    },
    {
      "cell_type": "code",
      "metadata": {
        "id": "cTbSbBz55QtF",
        "colab": {
          "base_uri": "https://localhost:8080/"
        },
        "outputId": "ebc70e74-ff98-49b3-e9d6-bb3a5e3b85b5"
      },
      "source": [
        "en, ru = create_dataset(path_to_file, None)\n",
        "print(en[-1])\n",
        "print(ru[-1])"
      ],
      "execution_count": 9,
      "outputs": [
        {
          "output_type": "stream",
          "name": "stdout",
          "text": [
            "<start> doubtless there exists in this world precisely the right woman for any given man to marry and vice versa but when you consider that a human being has the opportunity of being acquainted with only a few hundred people , and out of the few hundred that there are but a dozen or less whom he knows intimately , and out of the dozen , one or two friends at most , it will easily be seen , when we remember the number of millions who inhabit this world , that probably , since the earth was created , the right man has never yet met the right woman . <end>\n",
            "<start> несомненно , для каждого мужчины в этом мире где то есть подходящая женщина , которая может стать ему женой , обратное верно и для женщин . но если учесть , что у человека может быть максимум несколько сотен знакомых , из которых лишь дюжина , а то и меньше , тех , кого он знает близко , а из этой дюжины у него один или от силы два друга , то можно легко увидеть , что с уч том миллионов живущих на земле людей , ни один подходящий мужчина , возможно , ещ не встретил подходящую женщину . <end>\n"
          ]
        }
      ]
    },
    {
      "cell_type": "code",
      "metadata": {
        "id": "bIOn8RCNDJXG"
      },
      "source": [
        "def tokenize(lang):\n",
        "  lang_tokenizer = tf.keras.preprocessing.text.Tokenizer(\n",
        "      filters='')\n",
        "  lang_tokenizer.fit_on_texts(lang)\n",
        "\n",
        "  tensor = lang_tokenizer.texts_to_sequences(lang)\n",
        "\n",
        "  tensor = tf.keras.preprocessing.sequence.pad_sequences(tensor,\n",
        "                                                         padding='post')\n",
        "\n",
        "  return tensor, lang_tokenizer"
      ],
      "execution_count": 10,
      "outputs": []
    },
    {
      "cell_type": "code",
      "metadata": {
        "id": "eAY9k49G3jE_"
      },
      "source": [
        "def load_dataset(path, num_examples=None):\n",
        "  # creating cleaned input, output pairs\n",
        "  targ_lang, inp_lang = create_dataset(path, num_examples)\n",
        "\n",
        "  input_tensor, inp_lang_tokenizer = tokenize(inp_lang)\n",
        "  target_tensor, targ_lang_tokenizer = tokenize(targ_lang)\n",
        "\n",
        "  return input_tensor, target_tensor, inp_lang_tokenizer, targ_lang_tokenizer"
      ],
      "execution_count": 11,
      "outputs": []
    },
    {
      "cell_type": "markdown",
      "metadata": {
        "id": "GOi42V79Ydlr"
      },
      "source": [
        "### Limit the size of the dataset to experiment faster (optional)\n"
      ]
    },
    {
      "cell_type": "code",
      "metadata": {
        "id": "C8j9g9AnIeZV",
        "colab": {
          "base_uri": "https://localhost:8080/"
        },
        "outputId": "99255266-425b-4190-d096-cb88911deb01"
      },
      "source": [
        "len(en), len(ru)"
      ],
      "execution_count": 12,
      "outputs": [
        {
          "output_type": "execute_result",
          "data": {
            "text/plain": [
              "(467119, 467119)"
            ]
          },
          "metadata": {},
          "execution_count": 12
        }
      ]
    },
    {
      "cell_type": "code",
      "metadata": {
        "id": "cnxC7q-j3jFD"
      },
      "source": [
        "# Try experimenting with the size of that dataset\n",
        "num_examples = 100000\n",
        "input_tensor, target_tensor, inp_lang, targ_lang = load_dataset(path_to_file, num_examples)\n",
        "\n",
        "# Calculate max_length of the target tensors\n",
        "max_length_targ, max_length_inp = target_tensor.shape[1], input_tensor.shape[1]"
      ],
      "execution_count": 13,
      "outputs": []
    },
    {
      "cell_type": "code",
      "metadata": {
        "id": "4QILQkOs3jFG",
        "colab": {
          "base_uri": "https://localhost:8080/"
        },
        "outputId": "95e32861-8823-4787-8ef6-284f1d132a0c"
      },
      "source": [
        "# Creating training and validation sets using an 80-20 split\n",
        "input_tensor_train, input_tensor_val, target_tensor_train, target_tensor_val = train_test_split(input_tensor, target_tensor, test_size=0.2)\n",
        "\n",
        "# Show length\n",
        "print(len(input_tensor_train), len(target_tensor_train), len(input_tensor_val), len(target_tensor_val))"
      ],
      "execution_count": 14,
      "outputs": [
        {
          "output_type": "stream",
          "name": "stdout",
          "text": [
            "80000 80000 20000 20000\n"
          ]
        }
      ]
    },
    {
      "cell_type": "code",
      "metadata": {
        "id": "lJPmLZGMeD5q"
      },
      "source": [
        "def convert(lang, tensor):\n",
        "  for t in tensor:\n",
        "    if t!=0:\n",
        "      print (\"%d ----> %s\" % (t, lang.index_word[t]))"
      ],
      "execution_count": 15,
      "outputs": []
    },
    {
      "cell_type": "code",
      "metadata": {
        "id": "VXukARTDd7MT",
        "colab": {
          "base_uri": "https://localhost:8080/"
        },
        "outputId": "45e2ff74-17bc-488a-fb9c-0d23657e7265"
      },
      "source": [
        "print (\"Input Language; index to word mapping\")\n",
        "convert(inp_lang, input_tensor_train[0])\n",
        "print ()\n",
        "print (\"Target Language; index to word mapping\")\n",
        "convert(targ_lang, target_tensor_train[0])"
      ],
      "execution_count": 16,
      "outputs": [
        {
          "output_type": "stream",
          "name": "stdout",
          "text": [
            "Input Language; index to word mapping\n",
            "1 ----> <start>\n",
            "17 ----> что\n",
            "806 ----> произошло\n",
            "5 ----> ?\n",
            "2 ----> <end>\n",
            "\n",
            "Target Language; index to word mapping\n",
            "1 ----> <start>\n",
            "35 ----> what\n",
            "60 ----> has\n",
            "468 ----> happened\n",
            "6 ----> ?\n",
            "2 ----> <end>\n"
          ]
        }
      ]
    },
    {
      "cell_type": "markdown",
      "metadata": {
        "id": "rgCLkfv5uO3d"
      },
      "source": [
        "### Create a tf.data dataset"
      ]
    },
    {
      "cell_type": "code",
      "metadata": {
        "id": "TqHsArVZ3jFS"
      },
      "source": [
        "BUFFER_SIZE = len(input_tensor_train)\n",
        "BATCH_SIZE = 64\n",
        "steps_per_epoch = len(input_tensor_train)//BATCH_SIZE\n",
        "embedding_dim = 256\n",
        "units = 1024\n",
        "vocab_inp_size = len(inp_lang.word_index)+1\n",
        "vocab_tar_size = len(targ_lang.word_index)+1\n",
        "\n",
        "dataset = tf.data.Dataset.from_tensor_slices((input_tensor_train, target_tensor_train)).shuffle(BUFFER_SIZE)\n",
        "dataset = dataset.batch(BATCH_SIZE, drop_remainder=True)"
      ],
      "execution_count": 17,
      "outputs": []
    },
    {
      "cell_type": "code",
      "metadata": {
        "id": "qc6-NK1GtWQt",
        "colab": {
          "base_uri": "https://localhost:8080/"
        },
        "outputId": "834bf021-2a2a-4ea7-887d-ebb6105286f8"
      },
      "source": [
        "example_input_batch, example_target_batch = next(iter(dataset))\n",
        "example_input_batch.shape, example_target_batch.shape"
      ],
      "execution_count": 18,
      "outputs": [
        {
          "output_type": "execute_result",
          "data": {
            "text/plain": [
              "(TensorShape([64, 15]), TensorShape([64, 11]))"
            ]
          },
          "metadata": {},
          "execution_count": 18
        }
      ]
    },
    {
      "cell_type": "code",
      "metadata": {
        "id": "nZ2rI24i3jFg"
      },
      "source": [
        "class Encoder(tf.keras.Model):\n",
        "  def __init__(self, vocab_size, embedding_dim, enc_units, batch_sz):\n",
        "    super(Encoder, self).__init__()\n",
        "    self.batch_sz = batch_sz\n",
        "    self.enc_units = enc_units\n",
        "    self.embedding = tf.keras.layers.Embedding(vocab_size, embedding_dim)\n",
        "    self.gru = tf.keras.layers.GRU(self.enc_units,\n",
        "                                   return_sequences=True,\n",
        "                                   return_state=True,\n",
        "                                   recurrent_initializer='glorot_uniform')\n",
        "\n",
        "  def call(self, x, hidden):\n",
        "    x = self.embedding(x)\n",
        "    output, state = self.gru(x, initial_state = hidden)\n",
        "    return output, state\n",
        "\n",
        "  def initialize_hidden_state(self):\n",
        "    return tf.zeros((self.batch_sz, self.enc_units))"
      ],
      "execution_count": 19,
      "outputs": []
    },
    {
      "cell_type": "code",
      "metadata": {
        "id": "60gSVh05Jl6l",
        "colab": {
          "base_uri": "https://localhost:8080/"
        },
        "outputId": "261b8a83-3f9a-43e1-a778-a1a5e35055ae"
      },
      "source": [
        "encoder = Encoder(vocab_inp_size, embedding_dim, units, BATCH_SIZE)\n",
        "\n",
        "# sample input\n",
        "sample_hidden = encoder.initialize_hidden_state()\n",
        "sample_output, sample_hidden = encoder(example_input_batch, sample_hidden)\n",
        "print ('Encoder output shape: (batch size, sequence length, units) {}'.format(sample_output.shape))\n",
        "print ('Encoder Hidden state shape: (batch size, units) {}'.format(sample_hidden.shape))"
      ],
      "execution_count": 20,
      "outputs": [
        {
          "output_type": "stream",
          "name": "stdout",
          "text": [
            "Encoder output shape: (batch size, sequence length, units) (64, 15, 1024)\n",
            "Encoder Hidden state shape: (batch size, units) (64, 1024)\n"
          ]
        }
      ]
    },
    {
      "cell_type": "code",
      "metadata": {
        "id": "YTyhL28Niqk1"
      },
      "source": [
        "class BahdanauAttention(tf.keras.layers.Layer):\n",
        "  def __init__(self, units):\n",
        "    super(BahdanauAttention, self).__init__()\n",
        "    self.W1 = tf.keras.layers.Dense(units)\n",
        "    self.W2 = tf.keras.layers.Dense(units)\n",
        "    self.V = tf.keras.layers.Dense(1)\n",
        "\n",
        "  def call(self, query, values):\n",
        "    # query hidden state shape == (batch_size, hidden size)\n",
        "    # query_with_time_axis shape == (batch_size, 1, hidden size)\n",
        "    # values shape == (batch_size, max_len, hidden size)\n",
        "    # we are doing this to broadcast addition along the time axis to calculate the score\n",
        "    query_with_time_axis = tf.expand_dims(query, 1)\n",
        "\n",
        "    # score shape == (batch_size, max_length, 1)\n",
        "    # we get 1 at the last axis because we are applying score to self.V\n",
        "    # the shape of the tensor before applying self.V is (batch_size, max_length, units)\n",
        "    score = self.V(tf.nn.tanh(\n",
        "        self.W1(query_with_time_axis) + self.W2(values)))\n",
        "\n",
        "    # attention_weights shape == (batch_size, max_length, 1)\n",
        "    attention_weights = tf.nn.softmax(score, axis=1)\n",
        "\n",
        "    # context_vector shape after sum == (batch_size, hidden_size)\n",
        "    context_vector = attention_weights * values\n",
        "    context_vector = tf.reduce_sum(context_vector, axis=1)\n",
        "\n",
        "    return context_vector, attention_weights"
      ],
      "execution_count": 21,
      "outputs": []
    },
    {
      "cell_type": "code",
      "metadata": {
        "colab": {
          "base_uri": "https://localhost:8080/"
        },
        "id": "XUqssWcci1XJ",
        "outputId": "93a56934-77de-416f-aa2a-3b8128d826fc"
      },
      "source": [
        "attention_layer = BahdanauAttention(10)\n",
        "attention_result, attention_weights = attention_layer(sample_hidden, sample_output)\n",
        "\n",
        "print(\"Attention result shape: (batch size, units) {}\".format(attention_result.shape))\n",
        "print(\"Attention weights shape: (batch_size, sequence_length, 1) {}\".format(attention_weights.shape))"
      ],
      "execution_count": 22,
      "outputs": [
        {
          "output_type": "stream",
          "name": "stdout",
          "text": [
            "Attention result shape: (batch size, units) (64, 1024)\n",
            "Attention weights shape: (batch_size, sequence_length, 1) (64, 15, 1)\n"
          ]
        }
      ]
    },
    {
      "cell_type": "code",
      "metadata": {
        "id": "yJ_B3mhW3jFk"
      },
      "source": [
        "class Decoder(tf.keras.Model):\n",
        "  def __init__(self, vocab_size, embedding_dim, dec_units, batch_sz):\n",
        "    super(Decoder, self).__init__()\n",
        "    self.batch_sz = batch_sz\n",
        "    self.dec_units = dec_units\n",
        "    self.embedding = tf.keras.layers.Embedding(vocab_size, embedding_dim)\n",
        "    self.gru = tf.keras.layers.GRU(self.dec_units,\n",
        "                                   return_sequences=True,\n",
        "                                   return_state=True,\n",
        "                                   recurrent_initializer='glorot_uniform')\n",
        "    self.fc = tf.keras.layers.Dense(vocab_size)\n",
        "\n",
        "    # used for attention\n",
        "    self.attention = BahdanauAttention(self.dec_units)\n",
        "\n",
        "  def call(self, x, hidden, enc_output):\n",
        "    # enc_output shape == (batch_size, max_length, hidden_size)\n",
        "    context_vector, attention_weights = self.attention(hidden, enc_output)\n",
        "\n",
        "    # x shape after passing through embedding == (batch_size, 1, embedding_dim)\n",
        "    x = self.embedding(x)\n",
        "\n",
        "    # x shape after concatenation == (batch_size, 1, embedding_dim + hidden_size)\n",
        "    x = tf.concat([tf.expand_dims(context_vector, 1), x], axis=-1)\n",
        "\n",
        "    # passing the concatenated vector to the GRU\n",
        "    output, state = self.gru(x)\n",
        "\n",
        "    # output shape == (batch_size * 1, hidden_size)\n",
        "    output = tf.reshape(output, (-1, output.shape[2]))\n",
        "\n",
        "    # output shape == (batch_size, vocab)\n",
        "    x = self.fc(output)\n",
        "\n",
        "    return x, state, attention_weights"
      ],
      "execution_count": 23,
      "outputs": []
    },
    {
      "cell_type": "code",
      "metadata": {
        "id": "P5UY8wko3jFp",
        "colab": {
          "base_uri": "https://localhost:8080/"
        },
        "outputId": "d9c3f408-dbc5-47d7-fcf5-cfd13e498f80"
      },
      "source": [
        "decoder = Decoder(vocab_tar_size, embedding_dim, units, BATCH_SIZE)\n",
        "\n",
        "sample_decoder_output, _, _ = decoder(tf.random.uniform((BATCH_SIZE, 1)),\n",
        "                                      sample_hidden, sample_output)\n",
        "\n",
        "print ('Decoder output shape: (batch_size, vocab size) {}'.format(sample_decoder_output.shape))"
      ],
      "execution_count": 24,
      "outputs": [
        {
          "output_type": "stream",
          "name": "stdout",
          "text": [
            "Decoder output shape: (batch_size, vocab size) (64, 7362)\n"
          ]
        }
      ]
    },
    {
      "cell_type": "markdown",
      "metadata": {
        "id": "_ch_71VbIRfK"
      },
      "source": [
        "## Define the optimizer and the loss function"
      ]
    },
    {
      "cell_type": "code",
      "metadata": {
        "id": "WmTHr5iV3jFr"
      },
      "source": [
        "optimizer = tf.keras.optimizers.Adam()\n",
        "loss_object = tf.keras.losses.SparseCategoricalCrossentropy(\n",
        "    from_logits=True, reduction='none')\n",
        "\n",
        "def loss_function(real, pred):\n",
        "  mask = tf.math.logical_not(tf.math.equal(real, 0))\n",
        "  loss_ = loss_object(real, pred)\n",
        "\n",
        "  mask = tf.cast(mask, dtype=loss_.dtype)\n",
        "  loss_ *= mask\n",
        "\n",
        "  return tf.reduce_mean(loss_)"
      ],
      "execution_count": 25,
      "outputs": []
    },
    {
      "cell_type": "markdown",
      "metadata": {
        "id": "DMVWzzsfNl4e"
      },
      "source": [
        "## Checkpoints (Object-based saving)"
      ]
    },
    {
      "cell_type": "code",
      "metadata": {
        "id": "Zj8bXQTgNwrF"
      },
      "source": [
        "checkpoint_dir = './training_attention_checkpoints'\n",
        "checkpoint_prefix = os.path.join(checkpoint_dir, \"ckpt\")\n",
        "checkpoint = tf.train.Checkpoint(optimizer=optimizer,\n",
        "                                 encoder=encoder,\n",
        "                                 decoder=decoder)"
      ],
      "execution_count": 26,
      "outputs": []
    },
    {
      "cell_type": "code",
      "metadata": {
        "id": "sC9ArXSsVfqn"
      },
      "source": [
        "@tf.function\n",
        "def train_step(inp, targ, enc_hidden):\n",
        "  loss = 0\n",
        "\n",
        "  with tf.GradientTape() as tape:\n",
        "    enc_output, enc_hidden = encoder(inp, enc_hidden)\n",
        "\n",
        "    dec_hidden = enc_hidden\n",
        "\n",
        "    dec_input = tf.expand_dims([targ_lang.word_index['<start>']] * BATCH_SIZE, 1)\n",
        "\n",
        "    # Teacher forcing - feeding the target as the next input\n",
        "    for t in range(1, targ.shape[1]):\n",
        "      # passing enc_output to the decoder\n",
        "      predictions, dec_hidden, _ = decoder(dec_input, dec_hidden, enc_output)\n",
        "\n",
        "      loss += loss_function(targ[:, t], predictions)\n",
        "\n",
        "      # using teacher forcing\n",
        "      dec_input = tf.expand_dims(targ[:, t], 1)\n",
        "\n",
        "  batch_loss = (loss / int(targ.shape[1]))\n",
        "\n",
        "  variables = encoder.trainable_variables + decoder.trainable_variables\n",
        "\n",
        "  gradients = tape.gradient(loss, variables)\n",
        "\n",
        "  optimizer.apply_gradients(zip(gradients, variables))\n",
        "\n",
        "  return batch_loss"
      ],
      "execution_count": 27,
      "outputs": []
    },
    {
      "cell_type": "code",
      "metadata": {
        "id": "ddefjBMa3jF0",
        "colab": {
          "base_uri": "https://localhost:8080/"
        },
        "outputId": "443fe232-1c17-4f7e-d8cb-9a145331606d"
      },
      "source": [
        "EPOCHS = 50\n",
        "\n",
        "for epoch in range(EPOCHS):\n",
        "  start = time.time()\n",
        "\n",
        "  enc_hidden = encoder.initialize_hidden_state()\n",
        "  total_loss = 0\n",
        "\n",
        "  for (batch, (inp, targ)) in enumerate(dataset.take(steps_per_epoch)):\n",
        "    batch_loss = train_step(inp, targ, enc_hidden)\n",
        "    total_loss += batch_loss\n",
        "\n",
        "    if batch % 100 == 0:\n",
        "      print('Epoch {} Batch {} Loss {:.4f}'.format(epoch + 1,\n",
        "                                                   batch,\n",
        "                                                   batch_loss.numpy()))\n",
        "  # saving (checkpoint) the model every 2 epochs\n",
        "  if (epoch + 1) % 2 == 0:\n",
        "    checkpoint.save(file_prefix = checkpoint_prefix)\n",
        "\n",
        "  print('Epoch {} Loss {:.4f}'.format(epoch + 1,\n",
        "                                      total_loss / steps_per_epoch))\n",
        "  print('Time taken for 1 epoch {} sec\\n'.format(time.time() - start))"
      ],
      "execution_count": 28,
      "outputs": [
        {
          "output_type": "stream",
          "name": "stdout",
          "text": [
            "Epoch 1 Batch 0 Loss 4.5917\n",
            "Epoch 1 Batch 100 Loss 2.0402\n",
            "Epoch 1 Batch 200 Loss 1.8423\n",
            "Epoch 1 Batch 300 Loss 1.6161\n",
            "Epoch 1 Batch 400 Loss 1.5884\n",
            "Epoch 1 Batch 500 Loss 1.3981\n",
            "Epoch 1 Batch 600 Loss 1.4962\n",
            "Epoch 1 Batch 700 Loss 1.2632\n",
            "Epoch 1 Batch 800 Loss 1.1809\n",
            "Epoch 1 Batch 900 Loss 1.2374\n",
            "Epoch 1 Batch 1000 Loss 1.1158\n",
            "Epoch 1 Batch 1100 Loss 1.1200\n",
            "Epoch 1 Batch 1200 Loss 1.0314\n",
            "Epoch 1 Loss 1.4579\n",
            "Time taken for 1 epoch 121.30357813835144 sec\n",
            "\n",
            "Epoch 2 Batch 0 Loss 0.8714\n",
            "Epoch 2 Batch 100 Loss 0.9296\n",
            "Epoch 2 Batch 200 Loss 0.8548\n",
            "Epoch 2 Batch 300 Loss 0.8448\n",
            "Epoch 2 Batch 400 Loss 0.8006\n",
            "Epoch 2 Batch 500 Loss 0.8087\n",
            "Epoch 2 Batch 600 Loss 0.7719\n",
            "Epoch 2 Batch 700 Loss 0.6497\n",
            "Epoch 2 Batch 800 Loss 0.5777\n",
            "Epoch 2 Batch 900 Loss 0.6111\n",
            "Epoch 2 Batch 1000 Loss 0.5786\n",
            "Epoch 2 Batch 1100 Loss 0.4868\n",
            "Epoch 2 Batch 1200 Loss 0.5245\n",
            "Epoch 2 Loss 0.7045\n",
            "Time taken for 1 epoch 99.13744783401489 sec\n",
            "\n",
            "Epoch 3 Batch 0 Loss 0.3658\n",
            "Epoch 3 Batch 100 Loss 0.3673\n",
            "Epoch 3 Batch 200 Loss 0.3985\n",
            "Epoch 3 Batch 300 Loss 0.3959\n",
            "Epoch 3 Batch 400 Loss 0.3509\n",
            "Epoch 3 Batch 500 Loss 0.3974\n",
            "Epoch 3 Batch 600 Loss 0.3593\n",
            "Epoch 3 Batch 700 Loss 0.4041\n",
            "Epoch 3 Batch 800 Loss 0.3846\n",
            "Epoch 3 Batch 900 Loss 0.3307\n",
            "Epoch 3 Batch 1000 Loss 0.4081\n",
            "Epoch 3 Batch 1100 Loss 0.2556\n",
            "Epoch 3 Batch 1200 Loss 0.3232\n",
            "Epoch 3 Loss 0.3721\n",
            "Time taken for 1 epoch 98.58852887153625 sec\n",
            "\n",
            "Epoch 4 Batch 0 Loss 0.1921\n",
            "Epoch 4 Batch 100 Loss 0.1950\n",
            "Epoch 4 Batch 200 Loss 0.2221\n",
            "Epoch 4 Batch 300 Loss 0.2357\n",
            "Epoch 4 Batch 400 Loss 0.1716\n",
            "Epoch 4 Batch 500 Loss 0.2071\n",
            "Epoch 4 Batch 600 Loss 0.2386\n",
            "Epoch 4 Batch 700 Loss 0.2235\n",
            "Epoch 4 Batch 800 Loss 0.2084\n",
            "Epoch 4 Batch 900 Loss 0.2140\n",
            "Epoch 4 Batch 1000 Loss 0.2196\n",
            "Epoch 4 Batch 1100 Loss 0.2287\n",
            "Epoch 4 Batch 1200 Loss 0.1999\n",
            "Epoch 4 Loss 0.2230\n",
            "Time taken for 1 epoch 103.70829677581787 sec\n",
            "\n",
            "Epoch 5 Batch 0 Loss 0.1825\n",
            "Epoch 5 Batch 100 Loss 0.1699\n",
            "Epoch 5 Batch 200 Loss 0.0919\n",
            "Epoch 5 Batch 300 Loss 0.1669\n",
            "Epoch 5 Batch 400 Loss 0.1102\n",
            "Epoch 5 Batch 500 Loss 0.1967\n",
            "Epoch 5 Batch 600 Loss 0.1316\n",
            "Epoch 5 Batch 700 Loss 0.1646\n",
            "Epoch 5 Batch 800 Loss 0.1668\n",
            "Epoch 5 Batch 900 Loss 0.1956\n",
            "Epoch 5 Batch 1000 Loss 0.1933\n",
            "Epoch 5 Batch 1100 Loss 0.1746\n",
            "Epoch 5 Batch 1200 Loss 0.1537\n",
            "Epoch 5 Loss 0.1530\n",
            "Time taken for 1 epoch 97.95121788978577 sec\n",
            "\n",
            "Epoch 6 Batch 0 Loss 0.0962\n",
            "Epoch 6 Batch 100 Loss 0.0962\n",
            "Epoch 6 Batch 200 Loss 0.0893\n",
            "Epoch 6 Batch 300 Loss 0.1069\n",
            "Epoch 6 Batch 400 Loss 0.1221\n",
            "Epoch 6 Batch 500 Loss 0.1512\n",
            "Epoch 6 Batch 600 Loss 0.1043\n",
            "Epoch 6 Batch 700 Loss 0.1420\n",
            "Epoch 6 Batch 800 Loss 0.0809\n",
            "Epoch 6 Batch 900 Loss 0.1100\n",
            "Epoch 6 Batch 1000 Loss 0.1577\n",
            "Epoch 6 Batch 1100 Loss 0.1885\n",
            "Epoch 6 Batch 1200 Loss 0.1235\n",
            "Epoch 6 Loss 0.1170\n",
            "Time taken for 1 epoch 102.98451972007751 sec\n",
            "\n",
            "Epoch 7 Batch 0 Loss 0.0836\n",
            "Epoch 7 Batch 100 Loss 0.0720\n",
            "Epoch 7 Batch 200 Loss 0.0985\n",
            "Epoch 7 Batch 300 Loss 0.0834\n",
            "Epoch 7 Batch 400 Loss 0.0748\n",
            "Epoch 7 Batch 500 Loss 0.0670\n",
            "Epoch 7 Batch 600 Loss 0.1163\n",
            "Epoch 7 Batch 700 Loss 0.1091\n",
            "Epoch 7 Batch 800 Loss 0.1133\n",
            "Epoch 7 Batch 900 Loss 0.0970\n",
            "Epoch 7 Batch 1000 Loss 0.0985\n",
            "Epoch 7 Batch 1100 Loss 0.1166\n",
            "Epoch 7 Batch 1200 Loss 0.0990\n",
            "Epoch 7 Loss 0.1004\n",
            "Time taken for 1 epoch 98.02656626701355 sec\n",
            "\n",
            "Epoch 8 Batch 0 Loss 0.0778\n",
            "Epoch 8 Batch 100 Loss 0.0620\n",
            "Epoch 8 Batch 200 Loss 0.0526\n",
            "Epoch 8 Batch 300 Loss 0.0585\n",
            "Epoch 8 Batch 400 Loss 0.0696\n",
            "Epoch 8 Batch 500 Loss 0.0421\n",
            "Epoch 8 Batch 600 Loss 0.0889\n",
            "Epoch 8 Batch 700 Loss 0.1016\n",
            "Epoch 8 Batch 800 Loss 0.1062\n",
            "Epoch 8 Batch 900 Loss 0.1258\n",
            "Epoch 8 Batch 1000 Loss 0.1204\n",
            "Epoch 8 Batch 1100 Loss 0.1228\n",
            "Epoch 8 Batch 1200 Loss 0.0922\n",
            "Epoch 8 Loss 0.0887\n",
            "Time taken for 1 epoch 103.96865844726562 sec\n",
            "\n",
            "Epoch 9 Batch 0 Loss 0.0784\n",
            "Epoch 9 Batch 100 Loss 0.0304\n",
            "Epoch 9 Batch 200 Loss 0.0474\n",
            "Epoch 9 Batch 300 Loss 0.0677\n",
            "Epoch 9 Batch 400 Loss 0.0985\n",
            "Epoch 9 Batch 500 Loss 0.0594\n",
            "Epoch 9 Batch 600 Loss 0.0755\n",
            "Epoch 9 Batch 700 Loss 0.0689\n",
            "Epoch 9 Batch 800 Loss 0.0781\n",
            "Epoch 9 Batch 900 Loss 0.0977\n",
            "Epoch 9 Batch 1000 Loss 0.0953\n",
            "Epoch 9 Batch 1100 Loss 0.0894\n",
            "Epoch 9 Batch 1200 Loss 0.0502\n",
            "Epoch 9 Loss 0.0812\n",
            "Time taken for 1 epoch 97.9649167060852 sec\n",
            "\n",
            "Epoch 10 Batch 0 Loss 0.0868\n",
            "Epoch 10 Batch 100 Loss 0.0771\n",
            "Epoch 10 Batch 200 Loss 0.0395\n",
            "Epoch 10 Batch 300 Loss 0.0668\n",
            "Epoch 10 Batch 400 Loss 0.0445\n",
            "Epoch 10 Batch 500 Loss 0.0754\n",
            "Epoch 10 Batch 600 Loss 0.0503\n",
            "Epoch 10 Batch 700 Loss 0.1105\n",
            "Epoch 10 Batch 800 Loss 0.1041\n",
            "Epoch 10 Batch 900 Loss 0.0815\n",
            "Epoch 10 Batch 1000 Loss 0.1240\n",
            "Epoch 10 Batch 1100 Loss 0.0850\n",
            "Epoch 10 Batch 1200 Loss 0.1097\n",
            "Epoch 10 Loss 0.0770\n",
            "Time taken for 1 epoch 102.96425247192383 sec\n",
            "\n",
            "Epoch 11 Batch 0 Loss 0.0620\n",
            "Epoch 11 Batch 100 Loss 0.0895\n",
            "Epoch 11 Batch 200 Loss 0.0441\n",
            "Epoch 11 Batch 300 Loss 0.0632\n",
            "Epoch 11 Batch 400 Loss 0.0912\n",
            "Epoch 11 Batch 500 Loss 0.0672\n",
            "Epoch 11 Batch 600 Loss 0.1007\n",
            "Epoch 11 Batch 700 Loss 0.0788\n",
            "Epoch 11 Batch 800 Loss 0.0672\n",
            "Epoch 11 Batch 900 Loss 0.0824\n",
            "Epoch 11 Batch 1000 Loss 0.1060\n",
            "Epoch 11 Batch 1100 Loss 0.0869\n",
            "Epoch 11 Batch 1200 Loss 0.0597\n",
            "Epoch 11 Loss 0.0744\n",
            "Time taken for 1 epoch 97.93583917617798 sec\n",
            "\n",
            "Epoch 12 Batch 0 Loss 0.0795\n",
            "Epoch 12 Batch 100 Loss 0.0478\n",
            "Epoch 12 Batch 200 Loss 0.0660\n",
            "Epoch 12 Batch 300 Loss 0.0526\n",
            "Epoch 12 Batch 400 Loss 0.0758\n",
            "Epoch 12 Batch 500 Loss 0.0371\n",
            "Epoch 12 Batch 600 Loss 0.0732\n",
            "Epoch 12 Batch 700 Loss 0.1022\n",
            "Epoch 12 Batch 800 Loss 0.0804\n",
            "Epoch 12 Batch 900 Loss 0.1175\n",
            "Epoch 12 Batch 1000 Loss 0.0642\n",
            "Epoch 12 Batch 1100 Loss 0.0770\n",
            "Epoch 12 Batch 1200 Loss 0.0737\n",
            "Epoch 12 Loss 0.0698\n",
            "Time taken for 1 epoch 103.81751823425293 sec\n",
            "\n",
            "Epoch 13 Batch 0 Loss 0.0745\n",
            "Epoch 13 Batch 100 Loss 0.0222\n",
            "Epoch 13 Batch 200 Loss 0.0573\n",
            "Epoch 13 Batch 300 Loss 0.0930\n",
            "Epoch 13 Batch 400 Loss 0.0633\n",
            "Epoch 13 Batch 500 Loss 0.0950\n",
            "Epoch 13 Batch 600 Loss 0.0794\n",
            "Epoch 13 Batch 700 Loss 0.0948\n",
            "Epoch 13 Batch 800 Loss 0.0803\n",
            "Epoch 13 Batch 900 Loss 0.0965\n",
            "Epoch 13 Batch 1000 Loss 0.0733\n",
            "Epoch 13 Batch 1100 Loss 0.0696\n",
            "Epoch 13 Batch 1200 Loss 0.0749\n",
            "Epoch 13 Loss 0.0668\n",
            "Time taken for 1 epoch 97.81905770301819 sec\n",
            "\n",
            "Epoch 14 Batch 0 Loss 0.0636\n",
            "Epoch 14 Batch 100 Loss 0.0552\n",
            "Epoch 14 Batch 200 Loss 0.0759\n",
            "Epoch 14 Batch 300 Loss 0.0546\n",
            "Epoch 14 Batch 400 Loss 0.0554\n",
            "Epoch 14 Batch 500 Loss 0.0731\n",
            "Epoch 14 Batch 600 Loss 0.0827\n",
            "Epoch 14 Batch 700 Loss 0.0869\n",
            "Epoch 14 Batch 800 Loss 0.0987\n",
            "Epoch 14 Batch 900 Loss 0.0534\n",
            "Epoch 14 Batch 1000 Loss 0.0793\n",
            "Epoch 14 Batch 1100 Loss 0.0685\n",
            "Epoch 14 Batch 1200 Loss 0.0745\n",
            "Epoch 14 Loss 0.0647\n",
            "Time taken for 1 epoch 99.82107734680176 sec\n",
            "\n",
            "Epoch 15 Batch 0 Loss 0.0660\n",
            "Epoch 15 Batch 100 Loss 0.0549\n",
            "Epoch 15 Batch 200 Loss 0.0395\n",
            "Epoch 15 Batch 300 Loss 0.0254\n",
            "Epoch 15 Batch 400 Loss 0.0308\n",
            "Epoch 15 Batch 500 Loss 0.0442\n",
            "Epoch 15 Batch 600 Loss 0.0541\n",
            "Epoch 15 Batch 700 Loss 0.0493\n",
            "Epoch 15 Batch 800 Loss 0.0646\n",
            "Epoch 15 Batch 900 Loss 0.0569\n",
            "Epoch 15 Batch 1000 Loss 0.0617\n",
            "Epoch 15 Batch 1100 Loss 0.0697\n",
            "Epoch 15 Batch 1200 Loss 0.0541\n",
            "Epoch 15 Loss 0.0631\n",
            "Time taken for 1 epoch 97.71585321426392 sec\n",
            "\n",
            "Epoch 16 Batch 0 Loss 0.0678\n",
            "Epoch 16 Batch 100 Loss 0.0850\n",
            "Epoch 16 Batch 200 Loss 0.0326\n",
            "Epoch 16 Batch 300 Loss 0.0382\n",
            "Epoch 16 Batch 400 Loss 0.1011\n",
            "Epoch 16 Batch 500 Loss 0.0394\n",
            "Epoch 16 Batch 600 Loss 0.0595\n",
            "Epoch 16 Batch 700 Loss 0.0660\n",
            "Epoch 16 Batch 800 Loss 0.0628\n",
            "Epoch 16 Batch 900 Loss 0.0801\n",
            "Epoch 16 Batch 1000 Loss 0.0520\n",
            "Epoch 16 Batch 1100 Loss 0.0688\n",
            "Epoch 16 Batch 1200 Loss 0.1137\n",
            "Epoch 16 Loss 0.0611\n",
            "Time taken for 1 epoch 103.19046998023987 sec\n",
            "\n",
            "Epoch 17 Batch 0 Loss 0.0383\n",
            "Epoch 17 Batch 100 Loss 0.0639\n",
            "Epoch 17 Batch 200 Loss 0.0827\n",
            "Epoch 17 Batch 300 Loss 0.0465\n",
            "Epoch 17 Batch 400 Loss 0.0338\n",
            "Epoch 17 Batch 500 Loss 0.0523\n",
            "Epoch 17 Batch 600 Loss 0.0462\n",
            "Epoch 17 Batch 700 Loss 0.0686\n",
            "Epoch 17 Batch 800 Loss 0.0427\n",
            "Epoch 17 Batch 900 Loss 0.0751\n",
            "Epoch 17 Batch 1000 Loss 0.0993\n",
            "Epoch 17 Batch 1100 Loss 0.0446\n",
            "Epoch 17 Batch 1200 Loss 0.0833\n",
            "Epoch 17 Loss 0.0591\n",
            "Time taken for 1 epoch 97.65901756286621 sec\n",
            "\n",
            "Epoch 18 Batch 0 Loss 0.0566\n",
            "Epoch 18 Batch 100 Loss 0.0592\n",
            "Epoch 18 Batch 200 Loss 0.0363\n",
            "Epoch 18 Batch 300 Loss 0.0372\n",
            "Epoch 18 Batch 400 Loss 0.0334\n",
            "Epoch 18 Batch 500 Loss 0.0449\n",
            "Epoch 18 Batch 600 Loss 0.0506\n",
            "Epoch 18 Batch 700 Loss 0.0198\n",
            "Epoch 18 Batch 800 Loss 0.0504\n",
            "Epoch 18 Batch 900 Loss 0.0647\n",
            "Epoch 18 Batch 1000 Loss 0.0549\n",
            "Epoch 18 Batch 1100 Loss 0.0632\n",
            "Epoch 18 Batch 1200 Loss 0.0853\n",
            "Epoch 18 Loss 0.0573\n",
            "Time taken for 1 epoch 103.76169466972351 sec\n",
            "\n",
            "Epoch 19 Batch 0 Loss 0.0313\n",
            "Epoch 19 Batch 100 Loss 0.0365\n",
            "Epoch 19 Batch 200 Loss 0.0708\n",
            "Epoch 19 Batch 300 Loss 0.0418\n",
            "Epoch 19 Batch 400 Loss 0.0558\n",
            "Epoch 19 Batch 500 Loss 0.0499\n",
            "Epoch 19 Batch 600 Loss 0.0389\n",
            "Epoch 19 Batch 700 Loss 0.0627\n",
            "Epoch 19 Batch 800 Loss 0.0949\n",
            "Epoch 19 Batch 900 Loss 0.0750\n",
            "Epoch 19 Batch 1000 Loss 0.0666\n",
            "Epoch 19 Batch 1100 Loss 0.0421\n",
            "Epoch 19 Batch 1200 Loss 0.0615\n",
            "Epoch 19 Loss 0.0560\n",
            "Time taken for 1 epoch 97.87563228607178 sec\n",
            "\n",
            "Epoch 20 Batch 0 Loss 0.0507\n",
            "Epoch 20 Batch 100 Loss 0.0625\n",
            "Epoch 20 Batch 200 Loss 0.0374\n",
            "Epoch 20 Batch 300 Loss 0.0597\n",
            "Epoch 20 Batch 400 Loss 0.0542\n",
            "Epoch 20 Batch 500 Loss 0.0592\n",
            "Epoch 20 Batch 600 Loss 0.0499\n",
            "Epoch 20 Batch 700 Loss 0.0272\n",
            "Epoch 20 Batch 800 Loss 0.0755\n",
            "Epoch 20 Batch 900 Loss 0.0503\n",
            "Epoch 20 Batch 1000 Loss 0.0446\n",
            "Epoch 20 Batch 1100 Loss 0.0597\n",
            "Epoch 20 Batch 1200 Loss 0.0687\n",
            "Epoch 20 Loss 0.0546\n",
            "Time taken for 1 epoch 103.58808016777039 sec\n",
            "\n",
            "Epoch 21 Batch 0 Loss 0.0312\n",
            "Epoch 21 Batch 100 Loss 0.0468\n",
            "Epoch 21 Batch 200 Loss 0.0558\n",
            "Epoch 21 Batch 300 Loss 0.0462\n",
            "Epoch 21 Batch 400 Loss 0.0416\n",
            "Epoch 21 Batch 500 Loss 0.0360\n",
            "Epoch 21 Batch 600 Loss 0.0361\n",
            "Epoch 21 Batch 700 Loss 0.0706\n",
            "Epoch 21 Batch 800 Loss 0.0722\n",
            "Epoch 21 Batch 900 Loss 0.0731\n",
            "Epoch 21 Batch 1000 Loss 0.0715\n",
            "Epoch 21 Batch 1100 Loss 0.0717\n",
            "Epoch 21 Batch 1200 Loss 0.0624\n",
            "Epoch 21 Loss 0.0534\n",
            "Time taken for 1 epoch 97.8375391960144 sec\n",
            "\n",
            "Epoch 22 Batch 0 Loss 0.0319\n",
            "Epoch 22 Batch 100 Loss 0.0277\n",
            "Epoch 22 Batch 200 Loss 0.0455\n",
            "Epoch 22 Batch 300 Loss 0.0491\n",
            "Epoch 22 Batch 400 Loss 0.0369\n",
            "Epoch 22 Batch 500 Loss 0.0621\n",
            "Epoch 22 Batch 600 Loss 0.0416\n",
            "Epoch 22 Batch 700 Loss 0.0522\n",
            "Epoch 22 Batch 800 Loss 0.0381\n",
            "Epoch 22 Batch 900 Loss 0.0561\n",
            "Epoch 22 Batch 1000 Loss 0.0647\n",
            "Epoch 22 Batch 1100 Loss 0.0988\n",
            "Epoch 22 Batch 1200 Loss 0.0674\n",
            "Epoch 22 Loss 0.0523\n",
            "Time taken for 1 epoch 103.91287565231323 sec\n",
            "\n",
            "Epoch 23 Batch 0 Loss 0.0519\n",
            "Epoch 23 Batch 100 Loss 0.0535\n",
            "Epoch 23 Batch 200 Loss 0.0189\n",
            "Epoch 23 Batch 300 Loss 0.0391\n",
            "Epoch 23 Batch 400 Loss 0.0456\n",
            "Epoch 23 Batch 500 Loss 0.0552\n",
            "Epoch 23 Batch 600 Loss 0.0499\n",
            "Epoch 23 Batch 700 Loss 0.0320\n",
            "Epoch 23 Batch 800 Loss 0.0462\n",
            "Epoch 23 Batch 900 Loss 0.0608\n",
            "Epoch 23 Batch 1000 Loss 0.0425\n",
            "Epoch 23 Batch 1100 Loss 0.0550\n",
            "Epoch 23 Batch 1200 Loss 0.0927\n",
            "Epoch 23 Loss 0.0513\n",
            "Time taken for 1 epoch 97.89587187767029 sec\n",
            "\n",
            "Epoch 24 Batch 0 Loss 0.0261\n",
            "Epoch 24 Batch 100 Loss 0.0227\n",
            "Epoch 24 Batch 200 Loss 0.0282\n",
            "Epoch 24 Batch 300 Loss 0.0512\n",
            "Epoch 24 Batch 400 Loss 0.0207\n",
            "Epoch 24 Batch 500 Loss 0.0465\n",
            "Epoch 24 Batch 600 Loss 0.0433\n",
            "Epoch 24 Batch 700 Loss 0.0471\n",
            "Epoch 24 Batch 800 Loss 0.0662\n",
            "Epoch 24 Batch 900 Loss 0.0506\n",
            "Epoch 24 Batch 1000 Loss 0.0573\n",
            "Epoch 24 Batch 1100 Loss 0.0809\n",
            "Epoch 24 Batch 1200 Loss 0.0732\n",
            "Epoch 24 Loss 0.0501\n",
            "Time taken for 1 epoch 98.79410099983215 sec\n",
            "\n",
            "Epoch 25 Batch 0 Loss 0.0363\n",
            "Epoch 25 Batch 100 Loss 0.0565\n",
            "Epoch 25 Batch 200 Loss 0.0304\n",
            "Epoch 25 Batch 300 Loss 0.0332\n",
            "Epoch 25 Batch 400 Loss 0.0567\n",
            "Epoch 25 Batch 500 Loss 0.0307\n",
            "Epoch 25 Batch 600 Loss 0.0509\n",
            "Epoch 25 Batch 700 Loss 0.0485\n",
            "Epoch 25 Batch 800 Loss 0.0373\n",
            "Epoch 25 Batch 900 Loss 0.0448\n",
            "Epoch 25 Batch 1000 Loss 0.0556\n",
            "Epoch 25 Batch 1100 Loss 0.0642\n",
            "Epoch 25 Batch 1200 Loss 0.0703\n",
            "Epoch 25 Loss 0.0503\n",
            "Time taken for 1 epoch 97.6991012096405 sec\n",
            "\n",
            "Epoch 26 Batch 0 Loss 0.0316\n",
            "Epoch 26 Batch 100 Loss 0.0539\n",
            "Epoch 26 Batch 200 Loss 0.0504\n",
            "Epoch 26 Batch 300 Loss 0.0714\n",
            "Epoch 26 Batch 400 Loss 0.0405\n",
            "Epoch 26 Batch 500 Loss 0.0425\n",
            "Epoch 26 Batch 600 Loss 0.0270\n",
            "Epoch 26 Batch 700 Loss 0.0480\n",
            "Epoch 26 Batch 800 Loss 0.0350\n",
            "Epoch 26 Batch 900 Loss 0.0397\n",
            "Epoch 26 Batch 1000 Loss 0.0569\n",
            "Epoch 26 Batch 1100 Loss 0.0774\n",
            "Epoch 26 Batch 1200 Loss 0.0332\n",
            "Epoch 26 Loss 0.0482\n",
            "Time taken for 1 epoch 98.97152805328369 sec\n",
            "\n",
            "Epoch 27 Batch 0 Loss 0.0482\n",
            "Epoch 27 Batch 100 Loss 0.0199\n",
            "Epoch 27 Batch 200 Loss 0.0258\n",
            "Epoch 27 Batch 300 Loss 0.0487\n",
            "Epoch 27 Batch 400 Loss 0.0519\n",
            "Epoch 27 Batch 500 Loss 0.0727\n",
            "Epoch 27 Batch 600 Loss 0.0419\n",
            "Epoch 27 Batch 700 Loss 0.0459\n",
            "Epoch 27 Batch 800 Loss 0.0510\n",
            "Epoch 27 Batch 900 Loss 0.0614\n",
            "Epoch 27 Batch 1000 Loss 0.0426\n",
            "Epoch 27 Batch 1100 Loss 0.0800\n",
            "Epoch 27 Batch 1200 Loss 0.0581\n",
            "Epoch 27 Loss 0.0470\n",
            "Time taken for 1 epoch 97.60345220565796 sec\n",
            "\n",
            "Epoch 28 Batch 0 Loss 0.0286\n",
            "Epoch 28 Batch 100 Loss 0.0337\n",
            "Epoch 28 Batch 200 Loss 0.0416\n",
            "Epoch 28 Batch 300 Loss 0.0540\n",
            "Epoch 28 Batch 400 Loss 0.0353\n",
            "Epoch 28 Batch 500 Loss 0.0204\n",
            "Epoch 28 Batch 600 Loss 0.0387\n",
            "Epoch 28 Batch 700 Loss 0.0348\n",
            "Epoch 28 Batch 800 Loss 0.0419\n",
            "Epoch 28 Batch 900 Loss 0.0395\n",
            "Epoch 28 Batch 1000 Loss 0.0453\n",
            "Epoch 28 Batch 1100 Loss 0.0565\n",
            "Epoch 28 Batch 1200 Loss 0.0556\n",
            "Epoch 28 Loss 0.0473\n",
            "Time taken for 1 epoch 98.97873616218567 sec\n",
            "\n",
            "Epoch 29 Batch 0 Loss 0.0409\n",
            "Epoch 29 Batch 100 Loss 0.0489\n",
            "Epoch 29 Batch 200 Loss 0.0456\n",
            "Epoch 29 Batch 300 Loss 0.0484\n",
            "Epoch 29 Batch 400 Loss 0.0452\n",
            "Epoch 29 Batch 500 Loss 0.0489\n",
            "Epoch 29 Batch 600 Loss 0.0314\n",
            "Epoch 29 Batch 700 Loss 0.0606\n",
            "Epoch 29 Batch 800 Loss 0.0444\n",
            "Epoch 29 Batch 900 Loss 0.0777\n",
            "Epoch 29 Batch 1000 Loss 0.0284\n",
            "Epoch 29 Batch 1100 Loss 0.0385\n",
            "Epoch 29 Batch 1200 Loss 0.0430\n",
            "Epoch 29 Loss 0.0458\n",
            "Time taken for 1 epoch 97.68028330802917 sec\n",
            "\n",
            "Epoch 30 Batch 0 Loss 0.0291\n",
            "Epoch 30 Batch 100 Loss 0.0419\n",
            "Epoch 30 Batch 200 Loss 0.0298\n",
            "Epoch 30 Batch 300 Loss 0.0487\n",
            "Epoch 30 Batch 400 Loss 0.0249\n",
            "Epoch 30 Batch 500 Loss 0.0515\n",
            "Epoch 30 Batch 600 Loss 0.0315\n",
            "Epoch 30 Batch 700 Loss 0.0380\n",
            "Epoch 30 Batch 800 Loss 0.0430\n",
            "Epoch 30 Batch 900 Loss 0.0802\n",
            "Epoch 30 Batch 1000 Loss 0.0422\n",
            "Epoch 30 Batch 1100 Loss 0.0683\n",
            "Epoch 30 Batch 1200 Loss 0.0237\n",
            "Epoch 30 Loss 0.0462\n",
            "Time taken for 1 epoch 99.04128527641296 sec\n",
            "\n",
            "Epoch 31 Batch 0 Loss 0.0236\n",
            "Epoch 31 Batch 100 Loss 0.0417\n",
            "Epoch 31 Batch 200 Loss 0.0574\n",
            "Epoch 31 Batch 300 Loss 0.0448\n",
            "Epoch 31 Batch 400 Loss 0.0426\n",
            "Epoch 31 Batch 500 Loss 0.0289\n",
            "Epoch 31 Batch 600 Loss 0.0467\n",
            "Epoch 31 Batch 700 Loss 0.0363\n",
            "Epoch 31 Batch 800 Loss 0.0484\n",
            "Epoch 31 Batch 900 Loss 0.0424\n",
            "Epoch 31 Batch 1000 Loss 0.0515\n",
            "Epoch 31 Batch 1100 Loss 0.0518\n",
            "Epoch 31 Batch 1200 Loss 0.0540\n",
            "Epoch 31 Loss 0.0457\n",
            "Time taken for 1 epoch 97.50815224647522 sec\n",
            "\n",
            "Epoch 32 Batch 0 Loss 0.0276\n",
            "Epoch 32 Batch 100 Loss 0.0262\n",
            "Epoch 32 Batch 200 Loss 0.0273\n",
            "Epoch 32 Batch 300 Loss 0.0435\n",
            "Epoch 32 Batch 400 Loss 0.0340\n",
            "Epoch 32 Batch 500 Loss 0.0372\n",
            "Epoch 32 Batch 600 Loss 0.0513\n",
            "Epoch 32 Batch 700 Loss 0.0243\n",
            "Epoch 32 Batch 800 Loss 0.0342\n",
            "Epoch 32 Batch 900 Loss 0.0518\n",
            "Epoch 32 Batch 1000 Loss 0.0636\n",
            "Epoch 32 Batch 1100 Loss 0.0361\n",
            "Epoch 32 Batch 1200 Loss 0.0680\n",
            "Epoch 32 Loss 0.0444\n",
            "Time taken for 1 epoch 103.53633236885071 sec\n",
            "\n",
            "Epoch 33 Batch 0 Loss 0.0296\n",
            "Epoch 33 Batch 100 Loss 0.0302\n",
            "Epoch 33 Batch 200 Loss 0.0407\n",
            "Epoch 33 Batch 300 Loss 0.0519\n",
            "Epoch 33 Batch 400 Loss 0.0361\n",
            "Epoch 33 Batch 500 Loss 0.0308\n",
            "Epoch 33 Batch 600 Loss 0.0502\n",
            "Epoch 33 Batch 700 Loss 0.0228\n",
            "Epoch 33 Batch 800 Loss 0.0408\n",
            "Epoch 33 Batch 900 Loss 0.0523\n",
            "Epoch 33 Batch 1000 Loss 0.0322\n",
            "Epoch 33 Batch 1100 Loss 0.0440\n",
            "Epoch 33 Batch 1200 Loss 0.0671\n",
            "Epoch 33 Loss 0.0437\n",
            "Time taken for 1 epoch 97.79539966583252 sec\n",
            "\n",
            "Epoch 34 Batch 0 Loss 0.0358\n",
            "Epoch 34 Batch 100 Loss 0.0346\n",
            "Epoch 34 Batch 200 Loss 0.0393\n",
            "Epoch 34 Batch 300 Loss 0.0428\n",
            "Epoch 34 Batch 400 Loss 0.0261\n",
            "Epoch 34 Batch 500 Loss 0.0424\n",
            "Epoch 34 Batch 600 Loss 0.0414\n",
            "Epoch 34 Batch 700 Loss 0.0674\n",
            "Epoch 34 Batch 800 Loss 0.0553\n",
            "Epoch 34 Batch 900 Loss 0.0418\n",
            "Epoch 34 Batch 1000 Loss 0.0678\n",
            "Epoch 34 Batch 1100 Loss 0.0678\n",
            "Epoch 34 Batch 1200 Loss 0.0572\n",
            "Epoch 34 Loss 0.0436\n",
            "Time taken for 1 epoch 103.86713027954102 sec\n",
            "\n",
            "Epoch 35 Batch 0 Loss 0.0384\n",
            "Epoch 35 Batch 100 Loss 0.0426\n",
            "Epoch 35 Batch 200 Loss 0.0411\n",
            "Epoch 35 Batch 300 Loss 0.0335\n",
            "Epoch 35 Batch 400 Loss 0.0235\n",
            "Epoch 35 Batch 500 Loss 0.0395\n",
            "Epoch 35 Batch 600 Loss 0.0577\n",
            "Epoch 35 Batch 700 Loss 0.0354\n",
            "Epoch 35 Batch 800 Loss 0.0338\n",
            "Epoch 35 Batch 900 Loss 0.0361\n",
            "Epoch 35 Batch 1000 Loss 0.0567\n",
            "Epoch 35 Batch 1100 Loss 0.0775\n",
            "Epoch 35 Batch 1200 Loss 0.0557\n",
            "Epoch 35 Loss 0.0423\n",
            "Time taken for 1 epoch 97.81473445892334 sec\n",
            "\n",
            "Epoch 36 Batch 0 Loss 0.0377\n",
            "Epoch 36 Batch 100 Loss 0.0245\n",
            "Epoch 36 Batch 200 Loss 0.0248\n",
            "Epoch 36 Batch 300 Loss 0.0371\n",
            "Epoch 36 Batch 400 Loss 0.0332\n",
            "Epoch 36 Batch 500 Loss 0.0332\n",
            "Epoch 36 Batch 600 Loss 0.0350\n",
            "Epoch 36 Batch 700 Loss 0.0416\n",
            "Epoch 36 Batch 800 Loss 0.0462\n",
            "Epoch 36 Batch 900 Loss 0.0593\n",
            "Epoch 36 Batch 1000 Loss 0.0906\n",
            "Epoch 36 Batch 1100 Loss 0.0877\n",
            "Epoch 36 Batch 1200 Loss 0.0672\n",
            "Epoch 36 Loss 0.0424\n",
            "Time taken for 1 epoch 103.91822838783264 sec\n",
            "\n",
            "Epoch 37 Batch 0 Loss 0.0258\n",
            "Epoch 37 Batch 100 Loss 0.0156\n",
            "Epoch 37 Batch 200 Loss 0.0105\n",
            "Epoch 37 Batch 300 Loss 0.0447\n",
            "Epoch 37 Batch 400 Loss 0.0421\n",
            "Epoch 37 Batch 500 Loss 0.0421\n",
            "Epoch 37 Batch 600 Loss 0.0520\n",
            "Epoch 37 Batch 700 Loss 0.0423\n",
            "Epoch 37 Batch 800 Loss 0.0452\n",
            "Epoch 37 Batch 900 Loss 0.0458\n",
            "Epoch 37 Batch 1000 Loss 0.0527\n",
            "Epoch 37 Batch 1100 Loss 0.0503\n",
            "Epoch 37 Batch 1200 Loss 0.0465\n",
            "Epoch 37 Loss 0.0415\n",
            "Time taken for 1 epoch 97.76732993125916 sec\n",
            "\n",
            "Epoch 38 Batch 0 Loss 0.0314\n",
            "Epoch 38 Batch 100 Loss 0.0200\n",
            "Epoch 38 Batch 200 Loss 0.0329\n",
            "Epoch 38 Batch 300 Loss 0.0429\n",
            "Epoch 38 Batch 400 Loss 0.0285\n",
            "Epoch 38 Batch 500 Loss 0.0312\n",
            "Epoch 38 Batch 600 Loss 0.0463\n",
            "Epoch 38 Batch 700 Loss 0.0265\n",
            "Epoch 38 Batch 800 Loss 0.0377\n",
            "Epoch 38 Batch 900 Loss 0.0333\n",
            "Epoch 38 Batch 1000 Loss 0.0501\n",
            "Epoch 38 Batch 1100 Loss 0.0490\n",
            "Epoch 38 Batch 1200 Loss 0.0337\n",
            "Epoch 38 Loss 0.0418\n",
            "Time taken for 1 epoch 103.97401809692383 sec\n",
            "\n",
            "Epoch 39 Batch 0 Loss 0.0293\n",
            "Epoch 39 Batch 100 Loss 0.0647\n",
            "Epoch 39 Batch 200 Loss 0.0392\n",
            "Epoch 39 Batch 300 Loss 0.0254\n",
            "Epoch 39 Batch 400 Loss 0.0270\n",
            "Epoch 39 Batch 500 Loss 0.0371\n",
            "Epoch 39 Batch 600 Loss 0.0589\n",
            "Epoch 39 Batch 700 Loss 0.0140\n",
            "Epoch 39 Batch 800 Loss 0.0467\n",
            "Epoch 39 Batch 900 Loss 0.0366\n",
            "Epoch 39 Batch 1000 Loss 0.0363\n",
            "Epoch 39 Batch 1100 Loss 0.0288\n",
            "Epoch 39 Batch 1200 Loss 0.0521\n",
            "Epoch 39 Loss 0.0408\n",
            "Time taken for 1 epoch 97.84683847427368 sec\n",
            "\n",
            "Epoch 40 Batch 0 Loss 0.0228\n",
            "Epoch 40 Batch 100 Loss 0.0419\n",
            "Epoch 40 Batch 200 Loss 0.0429\n",
            "Epoch 40 Batch 300 Loss 0.0195\n",
            "Epoch 40 Batch 400 Loss 0.0336\n",
            "Epoch 40 Batch 500 Loss 0.0287\n",
            "Epoch 40 Batch 600 Loss 0.0552\n",
            "Epoch 40 Batch 700 Loss 0.0426\n",
            "Epoch 40 Batch 800 Loss 0.0646\n",
            "Epoch 40 Batch 900 Loss 0.0439\n",
            "Epoch 40 Batch 1000 Loss 0.0626\n",
            "Epoch 40 Batch 1100 Loss 0.0493\n",
            "Epoch 40 Batch 1200 Loss 0.0689\n",
            "Epoch 40 Loss 0.0410\n",
            "Time taken for 1 epoch 103.67382669448853 sec\n",
            "\n",
            "Epoch 41 Batch 0 Loss 0.0241\n",
            "Epoch 41 Batch 100 Loss 0.0312\n",
            "Epoch 41 Batch 200 Loss 0.0289\n",
            "Epoch 41 Batch 300 Loss 0.0289\n",
            "Epoch 41 Batch 400 Loss 0.0491\n",
            "Epoch 41 Batch 500 Loss 0.0351\n",
            "Epoch 41 Batch 600 Loss 0.0257\n",
            "Epoch 41 Batch 700 Loss 0.0183\n",
            "Epoch 41 Batch 800 Loss 0.0295\n",
            "Epoch 41 Batch 900 Loss 0.0594\n",
            "Epoch 41 Batch 1000 Loss 0.0373\n",
            "Epoch 41 Batch 1100 Loss 0.0756\n",
            "Epoch 41 Batch 1200 Loss 0.0769\n",
            "Epoch 41 Loss 0.0396\n",
            "Time taken for 1 epoch 97.68438601493835 sec\n",
            "\n",
            "Epoch 42 Batch 0 Loss 0.0272\n",
            "Epoch 42 Batch 100 Loss 0.0302\n",
            "Epoch 42 Batch 200 Loss 0.0229\n",
            "Epoch 42 Batch 300 Loss 0.0367\n",
            "Epoch 42 Batch 400 Loss 0.0412\n",
            "Epoch 42 Batch 500 Loss 0.0364\n",
            "Epoch 42 Batch 600 Loss 0.0385\n",
            "Epoch 42 Batch 700 Loss 0.0318\n",
            "Epoch 42 Batch 800 Loss 0.0435\n",
            "Epoch 42 Batch 900 Loss 0.0528\n",
            "Epoch 42 Batch 1000 Loss 0.0429\n",
            "Epoch 42 Batch 1100 Loss 0.0526\n",
            "Epoch 42 Batch 1200 Loss 0.0530\n",
            "Epoch 42 Loss 0.0404\n",
            "Time taken for 1 epoch 103.52408266067505 sec\n",
            "\n",
            "Epoch 43 Batch 0 Loss 0.0345\n",
            "Epoch 43 Batch 100 Loss 0.0365\n",
            "Epoch 43 Batch 200 Loss 0.0361\n",
            "Epoch 43 Batch 300 Loss 0.0198\n",
            "Epoch 43 Batch 400 Loss 0.0465\n",
            "Epoch 43 Batch 500 Loss 0.0394\n",
            "Epoch 43 Batch 600 Loss 0.0189\n",
            "Epoch 43 Batch 700 Loss 0.0378\n",
            "Epoch 43 Batch 800 Loss 0.0419\n",
            "Epoch 43 Batch 900 Loss 0.0423\n",
            "Epoch 43 Batch 1000 Loss 0.0500\n",
            "Epoch 43 Batch 1100 Loss 0.0550\n",
            "Epoch 43 Batch 1200 Loss 0.0206\n",
            "Epoch 43 Loss 0.0398\n",
            "Time taken for 1 epoch 97.75076293945312 sec\n",
            "\n",
            "Epoch 44 Batch 0 Loss 0.0193\n",
            "Epoch 44 Batch 100 Loss 0.0338\n",
            "Epoch 44 Batch 200 Loss 0.0303\n",
            "Epoch 44 Batch 300 Loss 0.0157\n",
            "Epoch 44 Batch 400 Loss 0.0220\n",
            "Epoch 44 Batch 500 Loss 0.0582\n",
            "Epoch 44 Batch 600 Loss 0.0513\n",
            "Epoch 44 Batch 700 Loss 0.0356\n",
            "Epoch 44 Batch 800 Loss 0.0521\n",
            "Epoch 44 Batch 900 Loss 0.0656\n",
            "Epoch 44 Batch 1000 Loss 0.0564\n",
            "Epoch 44 Batch 1100 Loss 0.0610\n",
            "Epoch 44 Batch 1200 Loss 0.0337\n",
            "Epoch 44 Loss 0.0389\n",
            "Time taken for 1 epoch 103.47858095169067 sec\n",
            "\n",
            "Epoch 45 Batch 0 Loss 0.0504\n",
            "Epoch 45 Batch 100 Loss 0.0224\n",
            "Epoch 45 Batch 200 Loss 0.0414\n",
            "Epoch 45 Batch 300 Loss 0.0241\n",
            "Epoch 45 Batch 400 Loss 0.0422\n",
            "Epoch 45 Batch 500 Loss 0.0331\n",
            "Epoch 45 Batch 600 Loss 0.0316\n",
            "Epoch 45 Batch 700 Loss 0.0404\n",
            "Epoch 45 Batch 800 Loss 0.0385\n",
            "Epoch 45 Batch 900 Loss 0.0544\n",
            "Epoch 45 Batch 1000 Loss 0.0270\n",
            "Epoch 45 Batch 1100 Loss 0.0471\n",
            "Epoch 45 Batch 1200 Loss 0.0361\n",
            "Epoch 45 Loss 0.0389\n",
            "Time taken for 1 epoch 97.66825342178345 sec\n",
            "\n",
            "Epoch 46 Batch 0 Loss 0.0385\n",
            "Epoch 46 Batch 100 Loss 0.0283\n",
            "Epoch 46 Batch 200 Loss 0.0207\n",
            "Epoch 46 Batch 300 Loss 0.0214\n",
            "Epoch 46 Batch 400 Loss 0.0513\n",
            "Epoch 46 Batch 500 Loss 0.0408\n",
            "Epoch 46 Batch 600 Loss 0.0302\n",
            "Epoch 46 Batch 700 Loss 0.0455\n",
            "Epoch 46 Batch 800 Loss 0.0424\n",
            "Epoch 46 Batch 900 Loss 0.0418\n",
            "Epoch 46 Batch 1000 Loss 0.0535\n",
            "Epoch 46 Batch 1100 Loss 0.0664\n",
            "Epoch 46 Batch 1200 Loss 0.0398\n",
            "Epoch 46 Loss 0.0387\n",
            "Time taken for 1 epoch 103.39991998672485 sec\n",
            "\n",
            "Epoch 47 Batch 0 Loss 0.0363\n",
            "Epoch 47 Batch 100 Loss 0.0194\n",
            "Epoch 47 Batch 200 Loss 0.0555\n",
            "Epoch 47 Batch 300 Loss 0.0157\n",
            "Epoch 47 Batch 400 Loss 0.0509\n",
            "Epoch 47 Batch 500 Loss 0.0274\n",
            "Epoch 47 Batch 600 Loss 0.0260\n",
            "Epoch 47 Batch 700 Loss 0.0484\n",
            "Epoch 47 Batch 800 Loss 0.0281\n",
            "Epoch 47 Batch 900 Loss 0.0574\n",
            "Epoch 47 Batch 1000 Loss 0.0313\n",
            "Epoch 47 Batch 1100 Loss 0.0331\n",
            "Epoch 47 Batch 1200 Loss 0.0412\n",
            "Epoch 47 Loss 0.0383\n",
            "Time taken for 1 epoch 97.68280959129333 sec\n",
            "\n",
            "Epoch 48 Batch 0 Loss 0.0280\n",
            "Epoch 48 Batch 100 Loss 0.0246\n",
            "Epoch 48 Batch 200 Loss 0.0439\n",
            "Epoch 48 Batch 300 Loss 0.0485\n",
            "Epoch 48 Batch 400 Loss 0.0364\n",
            "Epoch 48 Batch 500 Loss 0.0348\n",
            "Epoch 48 Batch 600 Loss 0.0613\n",
            "Epoch 48 Batch 700 Loss 0.0450\n",
            "Epoch 48 Batch 800 Loss 0.0472\n",
            "Epoch 48 Batch 900 Loss 0.0528\n",
            "Epoch 48 Batch 1000 Loss 0.0439\n",
            "Epoch 48 Batch 1100 Loss 0.0424\n",
            "Epoch 48 Batch 1200 Loss 0.0487\n",
            "Epoch 48 Loss 0.0386\n",
            "Time taken for 1 epoch 103.89224982261658 sec\n",
            "\n",
            "Epoch 49 Batch 0 Loss 0.0229\n",
            "Epoch 49 Batch 100 Loss 0.0436\n",
            "Epoch 49 Batch 200 Loss 0.0274\n",
            "Epoch 49 Batch 300 Loss 0.0374\n",
            "Epoch 49 Batch 400 Loss 0.0476\n",
            "Epoch 49 Batch 500 Loss 0.0287\n",
            "Epoch 49 Batch 600 Loss 0.0516\n",
            "Epoch 49 Batch 700 Loss 0.0267\n",
            "Epoch 49 Batch 800 Loss 0.0483\n",
            "Epoch 49 Batch 900 Loss 0.0574\n",
            "Epoch 49 Batch 1000 Loss 0.0433\n",
            "Epoch 49 Batch 1100 Loss 0.0534\n",
            "Epoch 49 Batch 1200 Loss 0.0426\n",
            "Epoch 49 Loss 0.0386\n",
            "Time taken for 1 epoch 97.86756253242493 sec\n",
            "\n",
            "Epoch 50 Batch 0 Loss 0.0290\n",
            "Epoch 50 Batch 100 Loss 0.0255\n",
            "Epoch 50 Batch 200 Loss 0.0380\n",
            "Epoch 50 Batch 300 Loss 0.0323\n",
            "Epoch 50 Batch 400 Loss 0.0201\n",
            "Epoch 50 Batch 500 Loss 0.0580\n",
            "Epoch 50 Batch 600 Loss 0.0488\n",
            "Epoch 50 Batch 700 Loss 0.0358\n",
            "Epoch 50 Batch 800 Loss 0.0371\n",
            "Epoch 50 Batch 900 Loss 0.0210\n",
            "Epoch 50 Batch 1000 Loss 0.0253\n",
            "Epoch 50 Batch 1100 Loss 0.0509\n",
            "Epoch 50 Batch 1200 Loss 0.0540\n",
            "Epoch 50 Loss 0.0377\n",
            "Time taken for 1 epoch 98.97253608703613 sec\n",
            "\n"
          ]
        }
      ]
    },
    {
      "cell_type": "markdown",
      "metadata": {
        "id": "mU3Ce8M6I3rz"
      },
      "source": [
        "## Translate\n",
        "\n",
        "* The evaluate function is similar to the training loop, except we don't use *teacher forcing* here. The input to the decoder at each time step is its previous predictions along with the hidden state and the encoder output.\n",
        "* Stop predicting when the model predicts the *end token*.\n",
        "* And store the *attention weights for every time step*.\n",
        "\n",
        "Note: The encoder output is calculated only once for one input."
      ]
    },
    {
      "cell_type": "code",
      "metadata": {
        "id": "EbQpyYs13jF_"
      },
      "source": [
        "def evaluate(sentence):\n",
        "  attention_plot = np.zeros((max_length_targ, max_length_inp))\n",
        "\n",
        "  sentence = preprocess_sentence(sentence)\n",
        "\n",
        "  inputs = [inp_lang.word_index[i] for i in sentence.split(' ')]\n",
        "  inputs = tf.keras.preprocessing.sequence.pad_sequences([inputs],\n",
        "                                                         maxlen=max_length_inp,\n",
        "                                                         padding='post')\n",
        "  inputs = tf.convert_to_tensor(inputs)\n",
        "\n",
        "  result = ''\n",
        "\n",
        "  hidden = [tf.zeros((1, units))]\n",
        "  enc_out, enc_hidden = encoder(inputs, hidden)\n",
        "\n",
        "  dec_hidden = enc_hidden\n",
        "  dec_input = tf.expand_dims([targ_lang.word_index['<start>']], 0)\n",
        "\n",
        "  for t in range(max_length_targ):\n",
        "    predictions, dec_hidden, attention_weights = decoder(dec_input,\n",
        "                                                         dec_hidden,\n",
        "                                                         enc_out)\n",
        "\n",
        "    # storing the attention weights to plot later on\n",
        "    attention_weights = tf.reshape(attention_weights, (-1, ))\n",
        "    attention_plot[t] = attention_weights.numpy()\n",
        "\n",
        "    predicted_id = tf.argmax(predictions[0]).numpy()\n",
        "\n",
        "    result += targ_lang.index_word[predicted_id] + ' '\n",
        "\n",
        "    if targ_lang.index_word[predicted_id] == '<end>':\n",
        "      return result, sentence, attention_plot\n",
        "\n",
        "    # the predicted ID is fed back into the model\n",
        "    dec_input = tf.expand_dims([predicted_id], 0)\n",
        "\n",
        "  return result, sentence, attention_plot"
      ],
      "execution_count": 29,
      "outputs": []
    },
    {
      "cell_type": "code",
      "metadata": {
        "id": "Qjy26Fe8Bv5d"
      },
      "source": [
        "# function for plotting the attention weights\n",
        "def plot_attention(attention, sentence, predicted_sentence):\n",
        "  fig = plt.figure(figsize=(10,10))\n",
        "  ax = fig.add_subplot(1, 1, 1)\n",
        "  ax.matshow(attention, cmap='viridis')\n",
        "\n",
        "  fontdict = {'fontsize': 14}\n",
        "\n",
        "  ax.set_xticklabels([''] + sentence, fontdict=fontdict, rotation=90)\n",
        "  ax.set_yticklabels([''] + predicted_sentence, fontdict=fontdict)\n",
        "\n",
        "  ax.xaxis.set_major_locator(ticker.MultipleLocator(1))\n",
        "  ax.yaxis.set_major_locator(ticker.MultipleLocator(1))\n",
        "\n",
        "  plt.show()"
      ],
      "execution_count": 30,
      "outputs": []
    },
    {
      "cell_type": "code",
      "metadata": {
        "id": "sl9zUHzg3jGI"
      },
      "source": [
        "def translate(sentence):\n",
        "  result, sentence, attention_plot = evaluate(sentence)\n",
        "\n",
        "  print('Input: %s' % (sentence))\n",
        "  print('Predicted translation: {}'.format(result))\n",
        "\n",
        "  attention_plot = attention_plot[:len(result.split(' ')), :len(sentence.split(' '))]\n",
        "  plot_attention(attention_plot, sentence.split(' '), result.split(' '))"
      ],
      "execution_count": 31,
      "outputs": []
    },
    {
      "cell_type": "markdown",
      "metadata": {
        "id": "n250XbnjOaqP"
      },
      "source": [
        "## Restore the latest checkpoint and test"
      ]
    },
    {
      "cell_type": "code",
      "metadata": {
        "id": "UJpT9D5_OgP6",
        "colab": {
          "base_uri": "https://localhost:8080/"
        },
        "outputId": "179b389c-ddfb-4b46-b75f-e6d57f00d432"
      },
      "source": [
        "# restoring the latest checkpoint in checkpoint_dir\n",
        "checkpoint.restore(tf.train.latest_checkpoint(checkpoint_dir))"
      ],
      "execution_count": 32,
      "outputs": [
        {
          "output_type": "execute_result",
          "data": {
            "text/plain": [
              "<tensorflow.python.checkpoint.checkpoint.CheckpointLoadStatus at 0x7f0f504d3c70>"
            ]
          },
          "metadata": {},
          "execution_count": 32
        }
      ]
    },
    {
      "cell_type": "code",
      "metadata": {
        "id": "WrAM0FDomq3E",
        "colab": {
          "base_uri": "https://localhost:8080/",
          "height": 1000
        },
        "outputId": "b589fad6-d7f1-442c-cbfa-71efa75b3d95"
      },
      "source": [
        "translate('Здесь хорошо.')"
      ],
      "execution_count": 33,
      "outputs": [
        {
          "output_type": "stream",
          "name": "stdout",
          "text": [
            "Input: <start> здесь хорошо . <end>\n",
            "Predicted translation: it's good here . <end> \n"
          ]
        },
        {
          "output_type": "stream",
          "name": "stderr",
          "text": [
            "<ipython-input-30-ef64c003f9d5>:9: UserWarning: FixedFormatter should only be used together with FixedLocator\n",
            "  ax.set_xticklabels([''] + sentence, fontdict=fontdict, rotation=90)\n",
            "<ipython-input-30-ef64c003f9d5>:10: UserWarning: FixedFormatter should only be used together with FixedLocator\n",
            "  ax.set_yticklabels([''] + predicted_sentence, fontdict=fontdict)\n"
          ]
        },
        {
          "output_type": "display_data",
          "data": {
            "text/plain": [
              "<Figure size 1000x1000 with 1 Axes>"
            ],
            "image/png": "[encoded data removed]"
          },
          "metadata": {}
        }
      ]
    },
    {
      "cell_type": "code",
      "metadata": {
        "id": "5bhFfwcIMX5i",
        "colab": {
          "base_uri": "https://localhost:8080/",
          "height": 908
        },
        "outputId": "aee67f72-f7a9-4493-e7f2-442096169c1c"
      },
      "source": [
        "translate('Я не смогу поехать.')"
      ],
      "execution_count": 34,
      "outputs": [
        {
          "output_type": "stream",
          "name": "stdout",
          "text": [
            "Input: <start> я не смогу поехать . <end>\n",
            "Predicted translation: i can't go . <end> \n"
          ]
        },
        {
          "output_type": "stream",
          "name": "stderr",
          "text": [
            "<ipython-input-30-ef64c003f9d5>:9: UserWarning: FixedFormatter should only be used together with FixedLocator\n",
            "  ax.set_xticklabels([''] + sentence, fontdict=fontdict, rotation=90)\n",
            "<ipython-input-30-ef64c003f9d5>:10: UserWarning: FixedFormatter should only be used together with FixedLocator\n",
            "  ax.set_yticklabels([''] + predicted_sentence, fontdict=fontdict)\n"
          ]
        },
        {
          "output_type": "display_data",
          "data": {
            "text/plain": [
              "<Figure size 1000x1000 with 1 Axes>"
            ],
            "image/png": "[encoded data removed]"
          },
          "metadata": {}
        }
      ]
    },
    {
      "cell_type": "code",
      "metadata": {
        "id": "zSx2iM36EZQZ",
        "colab": {
          "base_uri": "https://localhost:8080/",
          "height": 1000
        },
        "outputId": "eff5716b-dd07-4fed-b17e-9563949da028"
      },
      "source": [
        "translate(u'Вы еще дома?')"
      ],
      "execution_count": 35,
      "outputs": [
        {
          "output_type": "stream",
          "name": "stdout",
          "text": [
            "Input: <start> вы еще дома ? <end>\n",
            "Predicted translation: are you still home ? <end> \n"
          ]
        },
        {
          "output_type": "stream",
          "name": "stderr",
          "text": [
            "<ipython-input-30-ef64c003f9d5>:9: UserWarning: FixedFormatter should only be used together with FixedLocator\n",
            "  ax.set_xticklabels([''] + sentence, fontdict=fontdict, rotation=90)\n",
            "<ipython-input-30-ef64c003f9d5>:10: UserWarning: FixedFormatter should only be used together with FixedLocator\n",
            "  ax.set_yticklabels([''] + predicted_sentence, fontdict=fontdict)\n"
          ]
        },
        {
          "output_type": "display_data",
          "data": {
            "text/plain": [
              "<Figure size 1000x1000 with 1 Axes>"
            ],
            "image/png": "[encoded data removed]"
          },
          "metadata": {}
        }
      ]
    },
    {
      "cell_type": "code",
      "metadata": {
        "id": "A3LLCx3ZE0Ls",
        "colab": {
          "base_uri": "https://localhost:8080/",
          "height": 1000
        },
        "outputId": "0fed1687-39c2-4e26-b78e-2a3a29c5441c"
      },
      "source": [
        "translate(u'Вы все еще дома?')"
      ],
      "execution_count": 36,
      "outputs": [
        {
          "output_type": "stream",
          "name": "stdout",
          "text": [
            "Input: <start> вы все еще дома ? <end>\n",
            "Predicted translation: are you still home ? <end> \n"
          ]
        },
        {
          "output_type": "stream",
          "name": "stderr",
          "text": [
            "<ipython-input-30-ef64c003f9d5>:9: UserWarning: FixedFormatter should only be used together with FixedLocator\n",
            "  ax.set_xticklabels([''] + sentence, fontdict=fontdict, rotation=90)\n",
            "<ipython-input-30-ef64c003f9d5>:10: UserWarning: FixedFormatter should only be used together with FixedLocator\n",
            "  ax.set_yticklabels([''] + predicted_sentence, fontdict=fontdict)\n"
          ]
        },
        {
          "output_type": "display_data",
          "data": {
            "text/plain": [
              "<Figure size 1000x1000 with 1 Axes>"
            ],
            "image/png": "[encoded data removed]"
          },
          "metadata": {}
        }
      ]
    },
    {
      "cell_type": "code",
      "metadata": {
        "id": "DUQVLVqUE1YW",
        "colab": {
          "base_uri": "https://localhost:8080/",
          "height": 1000
        },
        "outputId": "95ab5f46-be4c-49be-eab9-171690f645d6"
      },
      "source": [
        "translate(u'Попробуй сделать это.')"
      ],
      "execution_count": 37,
      "outputs": [
        {
          "output_type": "stream",
          "name": "stdout",
          "text": [
            "Input: <start> попробуй сделать это . <end>\n",
            "Predicted translation: try and do this . <end> \n"
          ]
        },
        {
          "output_type": "stream",
          "name": "stderr",
          "text": [
            "<ipython-input-30-ef64c003f9d5>:9: UserWarning: FixedFormatter should only be used together with FixedLocator\n",
            "  ax.set_xticklabels([''] + sentence, fontdict=fontdict, rotation=90)\n",
            "<ipython-input-30-ef64c003f9d5>:10: UserWarning: FixedFormatter should only be used together with FixedLocator\n",
            "  ax.set_yticklabels([''] + predicted_sentence, fontdict=fontdict)\n"
          ]
        },
        {
          "output_type": "display_data",
          "data": {
            "text/plain": [
              "<Figure size 1000x1000 with 1 Axes>"
            ],
            "image/png": "[encoded data removed]"
          },
          "metadata": {}
        }
      ]
    },
    {
      "cell_type": "code",
      "metadata": {
        "id": "f09_hUFx9EJh",
        "colab": {
          "base_uri": "https://localhost:8080/",
          "height": 782
        },
        "outputId": "8c6421c5-7be9-4899-f354-b0bb8401b042"
      },
      "source": [
        "translate(u'Я не люблю, когда идет снег.')"
      ],
      "execution_count": 38,
      "outputs": [
        {
          "output_type": "stream",
          "name": "stdout",
          "text": [
            "Input: <start> я не люблю , когда идет снег . <end>\n",
            "Predicted translation: i don't like snow . <end> \n"
          ]
        },
        {
          "output_type": "stream",
          "name": "stderr",
          "text": [
            "<ipython-input-30-ef64c003f9d5>:9: UserWarning: FixedFormatter should only be used together with FixedLocator\n",
            "  ax.set_xticklabels([''] + sentence, fontdict=fontdict, rotation=90)\n",
            "<ipython-input-30-ef64c003f9d5>:10: UserWarning: FixedFormatter should only be used together with FixedLocator\n",
            "  ax.set_yticklabels([''] + predicted_sentence, fontdict=fontdict)\n"
          ]
        },
        {
          "output_type": "display_data",
          "data": {
            "text/plain": [
              "<Figure size 1000x1000 with 1 Axes>"
            ],
            "image/png": "[encoded data removed]"
          },
          "metadata": {}
        }
      ]
    },
    {
      "cell_type": "code",
      "metadata": {
        "id": "e7c5p8rmkHQG",
        "colab": {
          "base_uri": "https://localhost:8080/",
          "height": 924
        },
        "outputId": "d857ae19-e299-4536-c3de-ec746752ba26"
      },
      "source": [
        "translate(u'Я никогда такого не делаю.')"
      ],
      "execution_count": 39,
      "outputs": [
        {
          "output_type": "stream",
          "name": "stdout",
          "text": [
            "Input: <start> я никогда такого не делаю . <end>\n",
            "Predicted translation: i never do that . <end> \n"
          ]
        },
        {
          "output_type": "stream",
          "name": "stderr",
          "text": [
            "<ipython-input-30-ef64c003f9d5>:9: UserWarning: FixedFormatter should only be used together with FixedLocator\n",
            "  ax.set_xticklabels([''] + sentence, fontdict=fontdict, rotation=90)\n",
            "<ipython-input-30-ef64c003f9d5>:10: UserWarning: FixedFormatter should only be used together with FixedLocator\n",
            "  ax.set_yticklabels([''] + predicted_sentence, fontdict=fontdict)\n"
          ]
        },
        {
          "output_type": "display_data",
          "data": {
            "text/plain": [
              "<Figure size 1000x1000 with 1 Axes>"
            ],
            "image/png": "[encoded data removed]"
          },
          "metadata": {}
        }
      ]
    },
    {
      "cell_type": "code",
      "metadata": {
        "id": "jdXES85KkTVS"
      },
      "source": [],
      "execution_count": null,
      "outputs": []
    }
  ]
}